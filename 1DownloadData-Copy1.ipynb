{
 "cells": [
  {
   "cell_type": "code",
   "execution_count": 2,
   "metadata": {},
   "outputs": [],
   "source": [
    "import numpy as np\n",
    "import matplotlib.pyplot as plt\n",
    "%matplotlib inline \n",
    "import requests"
   ]
  },
  {
   "cell_type": "code",
   "execution_count": 3,
   "metadata": {},
   "outputs": [],
   "source": [
    "base_url = 'https://api.binance.com' "
   ]
  },
  {
   "cell_type": "markdown",
   "metadata": {},
   "source": [
    "# saving the list of trading pairs"
   ]
  },
  {
   "cell_type": "code",
   "execution_count": 4,
   "metadata": {},
   "outputs": [],
   "source": [
    "import pickle\n",
    "#with open('trading_pairs.pkl', 'wb') as f:  # open a text file\n",
    "#    pickle.dump(trading_pairs, f)\n",
    "with open('trading_pairs.pkl', 'rb') as f:\n",
    "    trading_pairs = pickle.load(f)"
   ]
  },
  {
   "cell_type": "code",
   "execution_count": 5,
   "metadata": {},
   "outputs": [],
   "source": [
    "def mapinterval(interval):\n",
    "    if interval == \"1M\":\n",
    "        return \"1Month\"\n",
    "    else:\n",
    "        return interval"
   ]
  },
  {
   "cell_type": "code",
   "execution_count": 6,
   "metadata": {},
   "outputs": [],
   "source": [
    "import requests\n",
    "import csv\n",
    "from datetime import datetime\n",
    "from pathlib import Path\n",
    "from os.path import exists\n",
    "import time\n",
    "base_url = 'https://api.binance.com' \n",
    "def get_klines(symbol, interval='1h', start_time=None, end_time=None, limit=500):\n",
    "    endpoint = '/api/v3/klines'\n",
    "    url = base_url + endpoint\n",
    "    params = {'symbol': symbol,'interval': interval,'limit': limit}\n",
    "    if start_time:\n",
    "        params['startTime'] = start_time\n",
    "    if end_time:\n",
    "        params['endTime'] = end_time\n",
    "    response = requests.get(url, params=params)\n",
    "    if response.status_code == 200:\n",
    "        klines_data = response.json()\n",
    "        klines = []\n",
    "        for kline in klines_data:\n",
    "            klines.append({\n",
    "                'open_time': kline[0],\n",
    "                'open': float(kline[1]),\n",
    "                'high': float(kline[2]),\n",
    "                'low': float(kline[3]),\n",
    "                'close': float(kline[4]),\n",
    "                'volume': float(kline[5]),\n",
    "                'close_time': kline[6],\n",
    "                'quote_asset_volume': float(kline[7]),\n",
    "                'number_of_trades': kline[8],\n",
    "                'taker_buy_base_asset_volume': float(kline[9]),\n",
    "                'taker_buy_quote_asset_volume': float(kline[10]),\n",
    "                'ignore': kline[11]\n",
    "            })\n",
    "\n",
    "        return klines\n",
    "    else:\n",
    "        print(f'Error: {response.status_code}',end=\"\")\n",
    "        return None\n",
    "\n",
    "def save_klines_to_csv(klines, filename,data_folder):\n",
    "    Path(data_folder).mkdir(parents=True, exist_ok=True)\n",
    "    fieldnames = [\n",
    "        'open_time', 'open', 'high', 'low', 'close', 'volume',\n",
    "        'close_time', 'quote_asset_volume', 'number_of_trades',\n",
    "        'taker_buy_base_asset_volume', 'taker_buy_quote_asset_volume', 'ignore'\n",
    "    ]\n",
    "\n",
    "    with open(data_folder+filename, mode='w', newline='') as csvfile:\n",
    "        writer = csv.DictWriter(csvfile, fieldnames=fieldnames)\n",
    "        writer.writeheader()\n",
    "        for kline in klines:\n",
    "            writer.writerow(kline)\n",
    "def doesFileExist(filename,data_folder):\n",
    "    return exists(data_folder+filename)\n",
    "def download_klines_yearly(symbol, interval='1h', start_year=2018,data_folder=None):\n",
    "    current_year = datetime.now().year\n",
    "    ms_per_year = 31536000 * 1000\n",
    "    for year in range(start_year, current_year + 1):\n",
    "        filename = f'{symbol}_{year}_{mapinterval(interval)}.csv'\n",
    "        if doesFileExist(filename,data_folder) and current_year!=year:\n",
    "            continue\n",
    "        start_time = int(datetime(year, 1, 1).timestamp() * 1000)\n",
    "        end_time = int(start_time + ms_per_year)\n",
    "        klines = []\n",
    "        last_fetched_time = start_time\n",
    "        counts=0\n",
    "        while last_fetched_time < end_time:\n",
    "            fetched_klines = get_klines(symbol, interval, start_time=last_fetched_time, limit=1000)\n",
    "            if counts%50==0 and counts//50>0:\n",
    "                print(counts//50,end=\"\")\n",
    "            if counts%15==0 and counts//15>0:\n",
    "                time.sleep(2)\n",
    "            counts+=1\n",
    "            if (not fetched_klines) or len(fetched_klines)==0:\n",
    "                break\n",
    "            #print(fetched_klines) \n",
    "            new_fetched_time = fetched_klines[-1]['open_time']\n",
    "            if last_fetched_time==new_fetched_time:\n",
    "                break\n",
    "            last_fetched_time = new_fetched_time\n",
    "            klines.extend(fetched_klines)\n",
    "        if len(klines)>0:\n",
    "            save_klines_to_csv(klines, filename ,data_folder)\n",
    "            print(\"\",end=\" \")\n",
    "        time.sleep(5)\n",
    "    time.sleep(5)"
   ]
  },
  {
   "cell_type": "markdown",
   "metadata": {},
   "source": [
    "## sample run"
   ]
  },
  {
   "cell_type": "code",
   "execution_count": 60,
   "metadata": {},
   "outputs": [],
   "source": [
    "# symbol = 'BTCUSDT'\n",
    "# data_folder=f\"kline_data/{symbol}/\"\n",
    "# interval = '1h'\n",
    "# download_klines_yearly(symbol, interval,data_folder=data_folder)"
   ]
  },
  {
   "cell_type": "markdown",
   "metadata": {},
   "source": [
    "## large run, run for all intervals >= 2h"
   ]
  },
  {
   "cell_type": "code",
   "execution_count": 11,
   "metadata": {},
   "outputs": [],
   "source": [
    "intervals=['1m','3m','5m','15m','30m','1h','2h','4h','6h','8h','12h','1d','3d','1w','1M']\n",
    "#intervals=['12h','1d','3d','1w','1M']\n",
    "#intervals=['5m','15m','30m','1h','2h','4h','6h','8h','12h','1d','3d','1w','1M']\n",
    "#intervals=['5m']\n",
    "#intervals=['1m','3m']\n",
    "#intervals=['1m','3m','5m','15m','30m','1h','1M']#,'2h','4h','6h','8h','12h','1d']\n",
    "#intervals=['6h','8h','12h','1d']\n",
    "intervals=['5m','15m','30m']\n",
    "intervals=['15m','30m']"
   ]
  },
  {
   "cell_type": "code",
   "execution_count": 12,
   "metadata": {},
   "outputs": [
    {
     "name": "stdout",
     "output_type": "stream",
     "text": [
      "30m\n",
      ",250TRBUSDT   ,251TKOUSDT   ,252WINGUSDT   ,253ANTUSDT   ,254CVPUSDT   ,255JSTUSDT   ,256ALCXUSDT   ,257BADGERUSDT   ,258PERPUSDT   ,259FRONTUSDT   ,260FISUSDT   ,261ARDRUSDT   ,262NKNUSDT   ,263ELFUSDT   ,264HARDUSDT   ,265RLCUSDT   ,266IRISUSDT   ,267NEXOUSDT   ,268OOKIUSDT   ,269PSGUSDT   ,270ZRXUSDT   ,271MOVRUSDT   ,272STRAXUSDT   ,273CVXUSDT   ,274ATMUSDT   ,275ACMUSDT   ,276RAYUSDT   ,277MTLUSDT   ,278BARUSDT   ,279OXTUSDT   ,280DGBUSDT   ,281PERLUSDT   ,282FLMUSDT   ,283AUCTIONUSDT   ,284REQUSDT   ,285OMUSDT   ,286CTXCUSDT   ,287LTOUSDT   ,288STORJUSDT   ,289DEXEUSDT   ,290MBOXUSDT   ,291WBTCUSDT   ,292TFUELUSDT   ,293BALUSDT   ,294YFIIUSDT   ,295VITEUSDT   ,296REIUSDT   ,297FIROUSDT   ,298FORUSDT   ,299WTCUSDT   ,300HIVEUSDT   ,301DATAUSDT   ,302NMRUSDT   ,303TROYUSDT   ,304SUNUSDT   ,305GLMUSDT   ,306WRXUSDT   ,307AVAUSDT   ,308SCRTUSDT   ,309XNOUSDT   ,310COSUSDT   ,311DREPUSDT   ,312DOCKUSDT   ,313PNTUSDT   ,314PROMUSDT   ,315DIAUSDT   ,316ALPACAUSDT   ,317XVGUSDT   ,318FARMUSDT   ,319PROSUSDT   ,320STEEMUSDT   ,321EPXUSDT   ,322QKCUSDT   ,323DCRUSDT   ,324POWRUSDT   ,325FUNUSDT   ,326GASUSDT   ,327BNTUSDT   ,328FIOUSDT   ,329BTSUSDT   ,330FORTHUSDT   ,331MULTIUSDT   ,332WANUSDT   ,333PUNDIXUSDT   ,334LSKUSDT   ,335WNXMUSDT   ,336MLNUSDT   ,337BIFIUSDT   ,338ONGUSDT   ,339EDUBNB   ,340GNOUSDT   ,341ETHBTC   ,342BNBETH   ,343SOLBNB   ,344BETHETH   ,345ICPBNB   ,346WOOBNB   ,347IDBNB   ,348INJBNB   ,349XRPBNB   ,350CAKEBNB   ,351TRXBNB   ,352EDUBTC   ,353IDEXBNB   ,354RADBNB   ,355MATICBNB   ,356ENSBNB   ,357ADABNB   ,358CTSIBNB   ,359GALABNB   ,360AVAXBNB   ,361LTCBNB   ,362DOTBNB   ,363FTMBNB   ,364CHZBNB   ,365CTKBNB   ,366SOLETH   ,367MATICETH   ,368XRPETH   ,369COCOSBNB   ,370XRPBTC   ,371XMRETH   ,372SXPBNB   ,373LINKETH   ,374BNBBTC   ,375SOLBTC   ,376TRXETH   ,377FILBNB   ,378AAVEBNB   ,379POLSBNB   ,380ATOMBNB   ,381OPBNB   ,382LTCETH   ,383SANDBNB   ,384VETBNB   ,385BETABNB   ,386WBTCBTC   ,387BCHBNB   ,388XMRBNB   ,389ETCBNB   ,390ADAETH   ,391EGLDBNB   ,392JASMYBNB   ,393GMTBNB   ,394MBOXBNB   ,395AXSBNB   ,396LOKABNB   ,397MCBNB   ,398ARBBTC   ,399FETBNB   ,400THETABNB   ,401ALGOBNB   ,402OPETH   ,403WINBNB   ,404HOOKBNB   ,405ATOMETH   ,406LPTBNB   ,407HARDBNB   ,408SUSHIBNB   ,409AVAXETH   ,410ZILBNB   ,411XVSBNB   ,412UNIBNB   ,413STXBNB   ,414LTCBTC   ,415NEARBNB   ,416DYDXBNB   ,417MATICBTC   ,418BELBNB   ,419DOTETH   ,420LINKBNB   ,421EOSBNB   ,422APEBNB   ,423APTBTC   ,424CHRBNB   ,425RUNEBNB   ,426RNDRBTC   ,427XMRBTC   ,428HBARBNB   ,429DARBNB   ,430MINABNB   ,431GALAETH   ,432ADABTC   ,433ALPHABTC   ,434BSWBNB   ,435APEETH   ,436COSBNB   ,437BAKEBNB   ,438WAXPBNB   ,439NEOBNB   ,440FTMBTC   ,441IDBTC   ,442RADBTC   ,443ONEBNB   ,444LINKBTC   ,445VETETH   ,446GALBNB   ,447DOTBTC   ,448KP3RBNB   ,449XLMBNB   ,450ATOMBTC   ,451BURGERBNB   ,452DOGEBTC   ,453DYDXBTC   ,454INJBTC   ,455VOXELBNB "
     ]
    },
    {
     "ename": "ConnectionError",
     "evalue": "('Connection aborted.', ConnectionResetError(10054, 'An existing connection was forcibly closed by the remote host', None, 10054, None))",
     "output_type": "error",
     "traceback": [
      "\u001b[1;31m---------------------------------------------------------------------------\u001b[0m",
      "\u001b[1;31mConnectionResetError\u001b[0m                      Traceback (most recent call last)",
      "File \u001b[1;32m~\\anaconda3\\envs\\cryt310\\lib\\site-packages\\urllib3\\connectionpool.py:703\u001b[0m, in \u001b[0;36mHTTPConnectionPool.urlopen\u001b[1;34m(self, method, url, body, headers, retries, redirect, assert_same_host, timeout, pool_timeout, release_conn, chunked, body_pos, **response_kw)\u001b[0m\n\u001b[0;32m    702\u001b[0m \u001b[38;5;66;03m# Make the request on the httplib connection object.\u001b[39;00m\n\u001b[1;32m--> 703\u001b[0m httplib_response \u001b[38;5;241m=\u001b[39m \u001b[38;5;28;43mself\u001b[39;49m\u001b[38;5;241;43m.\u001b[39;49m\u001b[43m_make_request\u001b[49m\u001b[43m(\u001b[49m\n\u001b[0;32m    704\u001b[0m \u001b[43m    \u001b[49m\u001b[43mconn\u001b[49m\u001b[43m,\u001b[49m\n\u001b[0;32m    705\u001b[0m \u001b[43m    \u001b[49m\u001b[43mmethod\u001b[49m\u001b[43m,\u001b[49m\n\u001b[0;32m    706\u001b[0m \u001b[43m    \u001b[49m\u001b[43murl\u001b[49m\u001b[43m,\u001b[49m\n\u001b[0;32m    707\u001b[0m \u001b[43m    \u001b[49m\u001b[43mtimeout\u001b[49m\u001b[38;5;241;43m=\u001b[39;49m\u001b[43mtimeout_obj\u001b[49m\u001b[43m,\u001b[49m\n\u001b[0;32m    708\u001b[0m \u001b[43m    \u001b[49m\u001b[43mbody\u001b[49m\u001b[38;5;241;43m=\u001b[39;49m\u001b[43mbody\u001b[49m\u001b[43m,\u001b[49m\n\u001b[0;32m    709\u001b[0m \u001b[43m    \u001b[49m\u001b[43mheaders\u001b[49m\u001b[38;5;241;43m=\u001b[39;49m\u001b[43mheaders\u001b[49m\u001b[43m,\u001b[49m\n\u001b[0;32m    710\u001b[0m \u001b[43m    \u001b[49m\u001b[43mchunked\u001b[49m\u001b[38;5;241;43m=\u001b[39;49m\u001b[43mchunked\u001b[49m\u001b[43m,\u001b[49m\n\u001b[0;32m    711\u001b[0m \u001b[43m\u001b[49m\u001b[43m)\u001b[49m\n\u001b[0;32m    713\u001b[0m \u001b[38;5;66;03m# If we're going to release the connection in ``finally:``, then\u001b[39;00m\n\u001b[0;32m    714\u001b[0m \u001b[38;5;66;03m# the response doesn't need to know about the connection. Otherwise\u001b[39;00m\n\u001b[0;32m    715\u001b[0m \u001b[38;5;66;03m# it will also try to release it and we'll have a double-release\u001b[39;00m\n\u001b[0;32m    716\u001b[0m \u001b[38;5;66;03m# mess.\u001b[39;00m\n",
      "File \u001b[1;32m~\\anaconda3\\envs\\cryt310\\lib\\site-packages\\urllib3\\connectionpool.py:386\u001b[0m, in \u001b[0;36mHTTPConnectionPool._make_request\u001b[1;34m(self, conn, method, url, timeout, chunked, **httplib_request_kw)\u001b[0m\n\u001b[0;32m    385\u001b[0m \u001b[38;5;28;01mtry\u001b[39;00m:\n\u001b[1;32m--> 386\u001b[0m     \u001b[38;5;28;43mself\u001b[39;49m\u001b[38;5;241;43m.\u001b[39;49m\u001b[43m_validate_conn\u001b[49m\u001b[43m(\u001b[49m\u001b[43mconn\u001b[49m\u001b[43m)\u001b[49m\n\u001b[0;32m    387\u001b[0m \u001b[38;5;28;01mexcept\u001b[39;00m (SocketTimeout, BaseSSLError) \u001b[38;5;28;01mas\u001b[39;00m e:\n\u001b[0;32m    388\u001b[0m     \u001b[38;5;66;03m# Py2 raises this as a BaseSSLError, Py3 raises it as socket timeout.\u001b[39;00m\n",
      "File \u001b[1;32m~\\anaconda3\\envs\\cryt310\\lib\\site-packages\\urllib3\\connectionpool.py:1042\u001b[0m, in \u001b[0;36mHTTPSConnectionPool._validate_conn\u001b[1;34m(self, conn)\u001b[0m\n\u001b[0;32m   1041\u001b[0m \u001b[38;5;28;01mif\u001b[39;00m \u001b[38;5;129;01mnot\u001b[39;00m \u001b[38;5;28mgetattr\u001b[39m(conn, \u001b[38;5;124m\"\u001b[39m\u001b[38;5;124msock\u001b[39m\u001b[38;5;124m\"\u001b[39m, \u001b[38;5;28;01mNone\u001b[39;00m):  \u001b[38;5;66;03m# AppEngine might not have  `.sock`\u001b[39;00m\n\u001b[1;32m-> 1042\u001b[0m     \u001b[43mconn\u001b[49m\u001b[38;5;241;43m.\u001b[39;49m\u001b[43mconnect\u001b[49m\u001b[43m(\u001b[49m\u001b[43m)\u001b[49m\n\u001b[0;32m   1044\u001b[0m \u001b[38;5;28;01mif\u001b[39;00m \u001b[38;5;129;01mnot\u001b[39;00m conn\u001b[38;5;241m.\u001b[39mis_verified:\n",
      "File \u001b[1;32m~\\anaconda3\\envs\\cryt310\\lib\\site-packages\\urllib3\\connection.py:419\u001b[0m, in \u001b[0;36mHTTPSConnection.connect\u001b[1;34m(self)\u001b[0m\n\u001b[0;32m    417\u001b[0m     context\u001b[38;5;241m.\u001b[39mload_default_certs()\n\u001b[1;32m--> 419\u001b[0m \u001b[38;5;28mself\u001b[39m\u001b[38;5;241m.\u001b[39msock \u001b[38;5;241m=\u001b[39m \u001b[43mssl_wrap_socket\u001b[49m\u001b[43m(\u001b[49m\n\u001b[0;32m    420\u001b[0m \u001b[43m    \u001b[49m\u001b[43msock\u001b[49m\u001b[38;5;241;43m=\u001b[39;49m\u001b[43mconn\u001b[49m\u001b[43m,\u001b[49m\n\u001b[0;32m    421\u001b[0m \u001b[43m    \u001b[49m\u001b[43mkeyfile\u001b[49m\u001b[38;5;241;43m=\u001b[39;49m\u001b[38;5;28;43mself\u001b[39;49m\u001b[38;5;241;43m.\u001b[39;49m\u001b[43mkey_file\u001b[49m\u001b[43m,\u001b[49m\n\u001b[0;32m    422\u001b[0m \u001b[43m    \u001b[49m\u001b[43mcertfile\u001b[49m\u001b[38;5;241;43m=\u001b[39;49m\u001b[38;5;28;43mself\u001b[39;49m\u001b[38;5;241;43m.\u001b[39;49m\u001b[43mcert_file\u001b[49m\u001b[43m,\u001b[49m\n\u001b[0;32m    423\u001b[0m \u001b[43m    \u001b[49m\u001b[43mkey_password\u001b[49m\u001b[38;5;241;43m=\u001b[39;49m\u001b[38;5;28;43mself\u001b[39;49m\u001b[38;5;241;43m.\u001b[39;49m\u001b[43mkey_password\u001b[49m\u001b[43m,\u001b[49m\n\u001b[0;32m    424\u001b[0m \u001b[43m    \u001b[49m\u001b[43mca_certs\u001b[49m\u001b[38;5;241;43m=\u001b[39;49m\u001b[38;5;28;43mself\u001b[39;49m\u001b[38;5;241;43m.\u001b[39;49m\u001b[43mca_certs\u001b[49m\u001b[43m,\u001b[49m\n\u001b[0;32m    425\u001b[0m \u001b[43m    \u001b[49m\u001b[43mca_cert_dir\u001b[49m\u001b[38;5;241;43m=\u001b[39;49m\u001b[38;5;28;43mself\u001b[39;49m\u001b[38;5;241;43m.\u001b[39;49m\u001b[43mca_cert_dir\u001b[49m\u001b[43m,\u001b[49m\n\u001b[0;32m    426\u001b[0m \u001b[43m    \u001b[49m\u001b[43mca_cert_data\u001b[49m\u001b[38;5;241;43m=\u001b[39;49m\u001b[38;5;28;43mself\u001b[39;49m\u001b[38;5;241;43m.\u001b[39;49m\u001b[43mca_cert_data\u001b[49m\u001b[43m,\u001b[49m\n\u001b[0;32m    427\u001b[0m \u001b[43m    \u001b[49m\u001b[43mserver_hostname\u001b[49m\u001b[38;5;241;43m=\u001b[39;49m\u001b[43mserver_hostname\u001b[49m\u001b[43m,\u001b[49m\n\u001b[0;32m    428\u001b[0m \u001b[43m    \u001b[49m\u001b[43mssl_context\u001b[49m\u001b[38;5;241;43m=\u001b[39;49m\u001b[43mcontext\u001b[49m\u001b[43m,\u001b[49m\n\u001b[0;32m    429\u001b[0m \u001b[43m    \u001b[49m\u001b[43mtls_in_tls\u001b[49m\u001b[38;5;241;43m=\u001b[39;49m\u001b[43mtls_in_tls\u001b[49m\u001b[43m,\u001b[49m\n\u001b[0;32m    430\u001b[0m \u001b[43m\u001b[49m\u001b[43m)\u001b[49m\n\u001b[0;32m    432\u001b[0m \u001b[38;5;66;03m# If we're using all defaults and the connection\u001b[39;00m\n\u001b[0;32m    433\u001b[0m \u001b[38;5;66;03m# is TLSv1 or TLSv1.1 we throw a DeprecationWarning\u001b[39;00m\n\u001b[0;32m    434\u001b[0m \u001b[38;5;66;03m# for the host.\u001b[39;00m\n",
      "File \u001b[1;32m~\\anaconda3\\envs\\cryt310\\lib\\site-packages\\urllib3\\util\\ssl_.py:449\u001b[0m, in \u001b[0;36mssl_wrap_socket\u001b[1;34m(sock, keyfile, certfile, cert_reqs, ca_certs, server_hostname, ssl_version, ciphers, ssl_context, ca_cert_dir, key_password, ca_cert_data, tls_in_tls)\u001b[0m\n\u001b[0;32m    448\u001b[0m \u001b[38;5;28;01mif\u001b[39;00m send_sni:\n\u001b[1;32m--> 449\u001b[0m     ssl_sock \u001b[38;5;241m=\u001b[39m \u001b[43m_ssl_wrap_socket_impl\u001b[49m\u001b[43m(\u001b[49m\n\u001b[0;32m    450\u001b[0m \u001b[43m        \u001b[49m\u001b[43msock\u001b[49m\u001b[43m,\u001b[49m\u001b[43m \u001b[49m\u001b[43mcontext\u001b[49m\u001b[43m,\u001b[49m\u001b[43m \u001b[49m\u001b[43mtls_in_tls\u001b[49m\u001b[43m,\u001b[49m\u001b[43m \u001b[49m\u001b[43mserver_hostname\u001b[49m\u001b[38;5;241;43m=\u001b[39;49m\u001b[43mserver_hostname\u001b[49m\n\u001b[0;32m    451\u001b[0m \u001b[43m    \u001b[49m\u001b[43m)\u001b[49m\n\u001b[0;32m    452\u001b[0m \u001b[38;5;28;01melse\u001b[39;00m:\n",
      "File \u001b[1;32m~\\anaconda3\\envs\\cryt310\\lib\\site-packages\\urllib3\\util\\ssl_.py:493\u001b[0m, in \u001b[0;36m_ssl_wrap_socket_impl\u001b[1;34m(sock, ssl_context, tls_in_tls, server_hostname)\u001b[0m\n\u001b[0;32m    492\u001b[0m \u001b[38;5;28;01mif\u001b[39;00m server_hostname:\n\u001b[1;32m--> 493\u001b[0m     \u001b[38;5;28;01mreturn\u001b[39;00m \u001b[43mssl_context\u001b[49m\u001b[38;5;241;43m.\u001b[39;49m\u001b[43mwrap_socket\u001b[49m\u001b[43m(\u001b[49m\u001b[43msock\u001b[49m\u001b[43m,\u001b[49m\u001b[43m \u001b[49m\u001b[43mserver_hostname\u001b[49m\u001b[38;5;241;43m=\u001b[39;49m\u001b[43mserver_hostname\u001b[49m\u001b[43m)\u001b[49m\n\u001b[0;32m    494\u001b[0m \u001b[38;5;28;01melse\u001b[39;00m:\n",
      "File \u001b[1;32m~\\anaconda3\\envs\\cryt310\\lib\\ssl.py:513\u001b[0m, in \u001b[0;36mSSLContext.wrap_socket\u001b[1;34m(self, sock, server_side, do_handshake_on_connect, suppress_ragged_eofs, server_hostname, session)\u001b[0m\n\u001b[0;32m    507\u001b[0m \u001b[38;5;28;01mdef\u001b[39;00m \u001b[38;5;21mwrap_socket\u001b[39m(\u001b[38;5;28mself\u001b[39m, sock, server_side\u001b[38;5;241m=\u001b[39m\u001b[38;5;28;01mFalse\u001b[39;00m,\n\u001b[0;32m    508\u001b[0m                 do_handshake_on_connect\u001b[38;5;241m=\u001b[39m\u001b[38;5;28;01mTrue\u001b[39;00m,\n\u001b[0;32m    509\u001b[0m                 suppress_ragged_eofs\u001b[38;5;241m=\u001b[39m\u001b[38;5;28;01mTrue\u001b[39;00m,\n\u001b[0;32m    510\u001b[0m                 server_hostname\u001b[38;5;241m=\u001b[39m\u001b[38;5;28;01mNone\u001b[39;00m, session\u001b[38;5;241m=\u001b[39m\u001b[38;5;28;01mNone\u001b[39;00m):\n\u001b[0;32m    511\u001b[0m     \u001b[38;5;66;03m# SSLSocket class handles server_hostname encoding before it calls\u001b[39;00m\n\u001b[0;32m    512\u001b[0m     \u001b[38;5;66;03m# ctx._wrap_socket()\u001b[39;00m\n\u001b[1;32m--> 513\u001b[0m     \u001b[38;5;28;01mreturn\u001b[39;00m \u001b[38;5;28;43mself\u001b[39;49m\u001b[38;5;241;43m.\u001b[39;49m\u001b[43msslsocket_class\u001b[49m\u001b[38;5;241;43m.\u001b[39;49m\u001b[43m_create\u001b[49m\u001b[43m(\u001b[49m\n\u001b[0;32m    514\u001b[0m \u001b[43m        \u001b[49m\u001b[43msock\u001b[49m\u001b[38;5;241;43m=\u001b[39;49m\u001b[43msock\u001b[49m\u001b[43m,\u001b[49m\n\u001b[0;32m    515\u001b[0m \u001b[43m        \u001b[49m\u001b[43mserver_side\u001b[49m\u001b[38;5;241;43m=\u001b[39;49m\u001b[43mserver_side\u001b[49m\u001b[43m,\u001b[49m\n\u001b[0;32m    516\u001b[0m \u001b[43m        \u001b[49m\u001b[43mdo_handshake_on_connect\u001b[49m\u001b[38;5;241;43m=\u001b[39;49m\u001b[43mdo_handshake_on_connect\u001b[49m\u001b[43m,\u001b[49m\n\u001b[0;32m    517\u001b[0m \u001b[43m        \u001b[49m\u001b[43msuppress_ragged_eofs\u001b[49m\u001b[38;5;241;43m=\u001b[39;49m\u001b[43msuppress_ragged_eofs\u001b[49m\u001b[43m,\u001b[49m\n\u001b[0;32m    518\u001b[0m \u001b[43m        \u001b[49m\u001b[43mserver_hostname\u001b[49m\u001b[38;5;241;43m=\u001b[39;49m\u001b[43mserver_hostname\u001b[49m\u001b[43m,\u001b[49m\n\u001b[0;32m    519\u001b[0m \u001b[43m        \u001b[49m\u001b[43mcontext\u001b[49m\u001b[38;5;241;43m=\u001b[39;49m\u001b[38;5;28;43mself\u001b[39;49m\u001b[43m,\u001b[49m\n\u001b[0;32m    520\u001b[0m \u001b[43m        \u001b[49m\u001b[43msession\u001b[49m\u001b[38;5;241;43m=\u001b[39;49m\u001b[43msession\u001b[49m\n\u001b[0;32m    521\u001b[0m \u001b[43m    \u001b[49m\u001b[43m)\u001b[49m\n",
      "File \u001b[1;32m~\\anaconda3\\envs\\cryt310\\lib\\ssl.py:1071\u001b[0m, in \u001b[0;36mSSLSocket._create\u001b[1;34m(cls, sock, server_side, do_handshake_on_connect, suppress_ragged_eofs, server_hostname, context, session)\u001b[0m\n\u001b[0;32m   1070\u001b[0m             \u001b[38;5;28;01mraise\u001b[39;00m \u001b[38;5;167;01mValueError\u001b[39;00m(\u001b[38;5;124m\"\u001b[39m\u001b[38;5;124mdo_handshake_on_connect should not be specified for non-blocking sockets\u001b[39m\u001b[38;5;124m\"\u001b[39m)\n\u001b[1;32m-> 1071\u001b[0m         \u001b[38;5;28;43mself\u001b[39;49m\u001b[38;5;241;43m.\u001b[39;49m\u001b[43mdo_handshake\u001b[49m\u001b[43m(\u001b[49m\u001b[43m)\u001b[49m\n\u001b[0;32m   1072\u001b[0m \u001b[38;5;28;01mexcept\u001b[39;00m (\u001b[38;5;167;01mOSError\u001b[39;00m, \u001b[38;5;167;01mValueError\u001b[39;00m):\n",
      "File \u001b[1;32m~\\anaconda3\\envs\\cryt310\\lib\\ssl.py:1342\u001b[0m, in \u001b[0;36mSSLSocket.do_handshake\u001b[1;34m(self, block)\u001b[0m\n\u001b[0;32m   1341\u001b[0m         \u001b[38;5;28mself\u001b[39m\u001b[38;5;241m.\u001b[39msettimeout(\u001b[38;5;28;01mNone\u001b[39;00m)\n\u001b[1;32m-> 1342\u001b[0m     \u001b[38;5;28;43mself\u001b[39;49m\u001b[38;5;241;43m.\u001b[39;49m\u001b[43m_sslobj\u001b[49m\u001b[38;5;241;43m.\u001b[39;49m\u001b[43mdo_handshake\u001b[49m\u001b[43m(\u001b[49m\u001b[43m)\u001b[49m\n\u001b[0;32m   1343\u001b[0m \u001b[38;5;28;01mfinally\u001b[39;00m:\n",
      "\u001b[1;31mConnectionResetError\u001b[0m: [WinError 10054] An existing connection was forcibly closed by the remote host",
      "\nDuring handling of the above exception, another exception occurred:\n",
      "\u001b[1;31mProtocolError\u001b[0m                             Traceback (most recent call last)",
      "File \u001b[1;32m~\\anaconda3\\envs\\cryt310\\lib\\site-packages\\requests\\adapters.py:487\u001b[0m, in \u001b[0;36mHTTPAdapter.send\u001b[1;34m(self, request, stream, timeout, verify, cert, proxies)\u001b[0m\n\u001b[0;32m    486\u001b[0m \u001b[38;5;28;01mtry\u001b[39;00m:\n\u001b[1;32m--> 487\u001b[0m     resp \u001b[38;5;241m=\u001b[39m \u001b[43mconn\u001b[49m\u001b[38;5;241;43m.\u001b[39;49m\u001b[43murlopen\u001b[49m\u001b[43m(\u001b[49m\n\u001b[0;32m    488\u001b[0m \u001b[43m        \u001b[49m\u001b[43mmethod\u001b[49m\u001b[38;5;241;43m=\u001b[39;49m\u001b[43mrequest\u001b[49m\u001b[38;5;241;43m.\u001b[39;49m\u001b[43mmethod\u001b[49m\u001b[43m,\u001b[49m\n\u001b[0;32m    489\u001b[0m \u001b[43m        \u001b[49m\u001b[43murl\u001b[49m\u001b[38;5;241;43m=\u001b[39;49m\u001b[43murl\u001b[49m\u001b[43m,\u001b[49m\n\u001b[0;32m    490\u001b[0m \u001b[43m        \u001b[49m\u001b[43mbody\u001b[49m\u001b[38;5;241;43m=\u001b[39;49m\u001b[43mrequest\u001b[49m\u001b[38;5;241;43m.\u001b[39;49m\u001b[43mbody\u001b[49m\u001b[43m,\u001b[49m\n\u001b[0;32m    491\u001b[0m \u001b[43m        \u001b[49m\u001b[43mheaders\u001b[49m\u001b[38;5;241;43m=\u001b[39;49m\u001b[43mrequest\u001b[49m\u001b[38;5;241;43m.\u001b[39;49m\u001b[43mheaders\u001b[49m\u001b[43m,\u001b[49m\n\u001b[0;32m    492\u001b[0m \u001b[43m        \u001b[49m\u001b[43mredirect\u001b[49m\u001b[38;5;241;43m=\u001b[39;49m\u001b[38;5;28;43;01mFalse\u001b[39;49;00m\u001b[43m,\u001b[49m\n\u001b[0;32m    493\u001b[0m \u001b[43m        \u001b[49m\u001b[43massert_same_host\u001b[49m\u001b[38;5;241;43m=\u001b[39;49m\u001b[38;5;28;43;01mFalse\u001b[39;49;00m\u001b[43m,\u001b[49m\n\u001b[0;32m    494\u001b[0m \u001b[43m        \u001b[49m\u001b[43mpreload_content\u001b[49m\u001b[38;5;241;43m=\u001b[39;49m\u001b[38;5;28;43;01mFalse\u001b[39;49;00m\u001b[43m,\u001b[49m\n\u001b[0;32m    495\u001b[0m \u001b[43m        \u001b[49m\u001b[43mdecode_content\u001b[49m\u001b[38;5;241;43m=\u001b[39;49m\u001b[38;5;28;43;01mFalse\u001b[39;49;00m\u001b[43m,\u001b[49m\n\u001b[0;32m    496\u001b[0m \u001b[43m        \u001b[49m\u001b[43mretries\u001b[49m\u001b[38;5;241;43m=\u001b[39;49m\u001b[38;5;28;43mself\u001b[39;49m\u001b[38;5;241;43m.\u001b[39;49m\u001b[43mmax_retries\u001b[49m\u001b[43m,\u001b[49m\n\u001b[0;32m    497\u001b[0m \u001b[43m        \u001b[49m\u001b[43mtimeout\u001b[49m\u001b[38;5;241;43m=\u001b[39;49m\u001b[43mtimeout\u001b[49m\u001b[43m,\u001b[49m\n\u001b[0;32m    498\u001b[0m \u001b[43m        \u001b[49m\u001b[43mchunked\u001b[49m\u001b[38;5;241;43m=\u001b[39;49m\u001b[43mchunked\u001b[49m\u001b[43m,\u001b[49m\n\u001b[0;32m    499\u001b[0m \u001b[43m    \u001b[49m\u001b[43m)\u001b[49m\n\u001b[0;32m    501\u001b[0m \u001b[38;5;28;01mexcept\u001b[39;00m (ProtocolError, \u001b[38;5;167;01mOSError\u001b[39;00m) \u001b[38;5;28;01mas\u001b[39;00m err:\n",
      "File \u001b[1;32m~\\anaconda3\\envs\\cryt310\\lib\\site-packages\\urllib3\\connectionpool.py:787\u001b[0m, in \u001b[0;36mHTTPConnectionPool.urlopen\u001b[1;34m(self, method, url, body, headers, retries, redirect, assert_same_host, timeout, pool_timeout, release_conn, chunked, body_pos, **response_kw)\u001b[0m\n\u001b[0;32m    785\u001b[0m     e \u001b[38;5;241m=\u001b[39m ProtocolError(\u001b[38;5;124m\"\u001b[39m\u001b[38;5;124mConnection aborted.\u001b[39m\u001b[38;5;124m\"\u001b[39m, e)\n\u001b[1;32m--> 787\u001b[0m retries \u001b[38;5;241m=\u001b[39m \u001b[43mretries\u001b[49m\u001b[38;5;241;43m.\u001b[39;49m\u001b[43mincrement\u001b[49m\u001b[43m(\u001b[49m\n\u001b[0;32m    788\u001b[0m \u001b[43m    \u001b[49m\u001b[43mmethod\u001b[49m\u001b[43m,\u001b[49m\u001b[43m \u001b[49m\u001b[43murl\u001b[49m\u001b[43m,\u001b[49m\u001b[43m \u001b[49m\u001b[43merror\u001b[49m\u001b[38;5;241;43m=\u001b[39;49m\u001b[43me\u001b[49m\u001b[43m,\u001b[49m\u001b[43m \u001b[49m\u001b[43m_pool\u001b[49m\u001b[38;5;241;43m=\u001b[39;49m\u001b[38;5;28;43mself\u001b[39;49m\u001b[43m,\u001b[49m\u001b[43m \u001b[49m\u001b[43m_stacktrace\u001b[49m\u001b[38;5;241;43m=\u001b[39;49m\u001b[43msys\u001b[49m\u001b[38;5;241;43m.\u001b[39;49m\u001b[43mexc_info\u001b[49m\u001b[43m(\u001b[49m\u001b[43m)\u001b[49m\u001b[43m[\u001b[49m\u001b[38;5;241;43m2\u001b[39;49m\u001b[43m]\u001b[49m\n\u001b[0;32m    789\u001b[0m \u001b[43m\u001b[49m\u001b[43m)\u001b[49m\n\u001b[0;32m    790\u001b[0m retries\u001b[38;5;241m.\u001b[39msleep()\n",
      "File \u001b[1;32m~\\anaconda3\\envs\\cryt310\\lib\\site-packages\\urllib3\\util\\retry.py:550\u001b[0m, in \u001b[0;36mRetry.increment\u001b[1;34m(self, method, url, response, error, _pool, _stacktrace)\u001b[0m\n\u001b[0;32m    549\u001b[0m \u001b[38;5;28;01mif\u001b[39;00m read \u001b[38;5;129;01mis\u001b[39;00m \u001b[38;5;28;01mFalse\u001b[39;00m \u001b[38;5;129;01mor\u001b[39;00m \u001b[38;5;129;01mnot\u001b[39;00m \u001b[38;5;28mself\u001b[39m\u001b[38;5;241m.\u001b[39m_is_method_retryable(method):\n\u001b[1;32m--> 550\u001b[0m     \u001b[38;5;28;01mraise\u001b[39;00m \u001b[43msix\u001b[49m\u001b[38;5;241;43m.\u001b[39;49m\u001b[43mreraise\u001b[49m\u001b[43m(\u001b[49m\u001b[38;5;28;43mtype\u001b[39;49m\u001b[43m(\u001b[49m\u001b[43merror\u001b[49m\u001b[43m)\u001b[49m\u001b[43m,\u001b[49m\u001b[43m \u001b[49m\u001b[43merror\u001b[49m\u001b[43m,\u001b[49m\u001b[43m \u001b[49m\u001b[43m_stacktrace\u001b[49m\u001b[43m)\u001b[49m\n\u001b[0;32m    551\u001b[0m \u001b[38;5;28;01melif\u001b[39;00m read \u001b[38;5;129;01mis\u001b[39;00m \u001b[38;5;129;01mnot\u001b[39;00m \u001b[38;5;28;01mNone\u001b[39;00m:\n",
      "File \u001b[1;32m~\\anaconda3\\envs\\cryt310\\lib\\site-packages\\urllib3\\packages\\six.py:769\u001b[0m, in \u001b[0;36mreraise\u001b[1;34m(tp, value, tb)\u001b[0m\n\u001b[0;32m    768\u001b[0m \u001b[38;5;28;01mif\u001b[39;00m value\u001b[38;5;241m.\u001b[39m__traceback__ \u001b[38;5;129;01mis\u001b[39;00m \u001b[38;5;129;01mnot\u001b[39;00m tb:\n\u001b[1;32m--> 769\u001b[0m     \u001b[38;5;28;01mraise\u001b[39;00m value\u001b[38;5;241m.\u001b[39mwith_traceback(tb)\n\u001b[0;32m    770\u001b[0m \u001b[38;5;28;01mraise\u001b[39;00m value\n",
      "File \u001b[1;32m~\\anaconda3\\envs\\cryt310\\lib\\site-packages\\urllib3\\connectionpool.py:703\u001b[0m, in \u001b[0;36mHTTPConnectionPool.urlopen\u001b[1;34m(self, method, url, body, headers, retries, redirect, assert_same_host, timeout, pool_timeout, release_conn, chunked, body_pos, **response_kw)\u001b[0m\n\u001b[0;32m    702\u001b[0m \u001b[38;5;66;03m# Make the request on the httplib connection object.\u001b[39;00m\n\u001b[1;32m--> 703\u001b[0m httplib_response \u001b[38;5;241m=\u001b[39m \u001b[38;5;28;43mself\u001b[39;49m\u001b[38;5;241;43m.\u001b[39;49m\u001b[43m_make_request\u001b[49m\u001b[43m(\u001b[49m\n\u001b[0;32m    704\u001b[0m \u001b[43m    \u001b[49m\u001b[43mconn\u001b[49m\u001b[43m,\u001b[49m\n\u001b[0;32m    705\u001b[0m \u001b[43m    \u001b[49m\u001b[43mmethod\u001b[49m\u001b[43m,\u001b[49m\n\u001b[0;32m    706\u001b[0m \u001b[43m    \u001b[49m\u001b[43murl\u001b[49m\u001b[43m,\u001b[49m\n\u001b[0;32m    707\u001b[0m \u001b[43m    \u001b[49m\u001b[43mtimeout\u001b[49m\u001b[38;5;241;43m=\u001b[39;49m\u001b[43mtimeout_obj\u001b[49m\u001b[43m,\u001b[49m\n\u001b[0;32m    708\u001b[0m \u001b[43m    \u001b[49m\u001b[43mbody\u001b[49m\u001b[38;5;241;43m=\u001b[39;49m\u001b[43mbody\u001b[49m\u001b[43m,\u001b[49m\n\u001b[0;32m    709\u001b[0m \u001b[43m    \u001b[49m\u001b[43mheaders\u001b[49m\u001b[38;5;241;43m=\u001b[39;49m\u001b[43mheaders\u001b[49m\u001b[43m,\u001b[49m\n\u001b[0;32m    710\u001b[0m \u001b[43m    \u001b[49m\u001b[43mchunked\u001b[49m\u001b[38;5;241;43m=\u001b[39;49m\u001b[43mchunked\u001b[49m\u001b[43m,\u001b[49m\n\u001b[0;32m    711\u001b[0m \u001b[43m\u001b[49m\u001b[43m)\u001b[49m\n\u001b[0;32m    713\u001b[0m \u001b[38;5;66;03m# If we're going to release the connection in ``finally:``, then\u001b[39;00m\n\u001b[0;32m    714\u001b[0m \u001b[38;5;66;03m# the response doesn't need to know about the connection. Otherwise\u001b[39;00m\n\u001b[0;32m    715\u001b[0m \u001b[38;5;66;03m# it will also try to release it and we'll have a double-release\u001b[39;00m\n\u001b[0;32m    716\u001b[0m \u001b[38;5;66;03m# mess.\u001b[39;00m\n",
      "File \u001b[1;32m~\\anaconda3\\envs\\cryt310\\lib\\site-packages\\urllib3\\connectionpool.py:386\u001b[0m, in \u001b[0;36mHTTPConnectionPool._make_request\u001b[1;34m(self, conn, method, url, timeout, chunked, **httplib_request_kw)\u001b[0m\n\u001b[0;32m    385\u001b[0m \u001b[38;5;28;01mtry\u001b[39;00m:\n\u001b[1;32m--> 386\u001b[0m     \u001b[38;5;28;43mself\u001b[39;49m\u001b[38;5;241;43m.\u001b[39;49m\u001b[43m_validate_conn\u001b[49m\u001b[43m(\u001b[49m\u001b[43mconn\u001b[49m\u001b[43m)\u001b[49m\n\u001b[0;32m    387\u001b[0m \u001b[38;5;28;01mexcept\u001b[39;00m (SocketTimeout, BaseSSLError) \u001b[38;5;28;01mas\u001b[39;00m e:\n\u001b[0;32m    388\u001b[0m     \u001b[38;5;66;03m# Py2 raises this as a BaseSSLError, Py3 raises it as socket timeout.\u001b[39;00m\n",
      "File \u001b[1;32m~\\anaconda3\\envs\\cryt310\\lib\\site-packages\\urllib3\\connectionpool.py:1042\u001b[0m, in \u001b[0;36mHTTPSConnectionPool._validate_conn\u001b[1;34m(self, conn)\u001b[0m\n\u001b[0;32m   1041\u001b[0m \u001b[38;5;28;01mif\u001b[39;00m \u001b[38;5;129;01mnot\u001b[39;00m \u001b[38;5;28mgetattr\u001b[39m(conn, \u001b[38;5;124m\"\u001b[39m\u001b[38;5;124msock\u001b[39m\u001b[38;5;124m\"\u001b[39m, \u001b[38;5;28;01mNone\u001b[39;00m):  \u001b[38;5;66;03m# AppEngine might not have  `.sock`\u001b[39;00m\n\u001b[1;32m-> 1042\u001b[0m     \u001b[43mconn\u001b[49m\u001b[38;5;241;43m.\u001b[39;49m\u001b[43mconnect\u001b[49m\u001b[43m(\u001b[49m\u001b[43m)\u001b[49m\n\u001b[0;32m   1044\u001b[0m \u001b[38;5;28;01mif\u001b[39;00m \u001b[38;5;129;01mnot\u001b[39;00m conn\u001b[38;5;241m.\u001b[39mis_verified:\n",
      "File \u001b[1;32m~\\anaconda3\\envs\\cryt310\\lib\\site-packages\\urllib3\\connection.py:419\u001b[0m, in \u001b[0;36mHTTPSConnection.connect\u001b[1;34m(self)\u001b[0m\n\u001b[0;32m    417\u001b[0m     context\u001b[38;5;241m.\u001b[39mload_default_certs()\n\u001b[1;32m--> 419\u001b[0m \u001b[38;5;28mself\u001b[39m\u001b[38;5;241m.\u001b[39msock \u001b[38;5;241m=\u001b[39m \u001b[43mssl_wrap_socket\u001b[49m\u001b[43m(\u001b[49m\n\u001b[0;32m    420\u001b[0m \u001b[43m    \u001b[49m\u001b[43msock\u001b[49m\u001b[38;5;241;43m=\u001b[39;49m\u001b[43mconn\u001b[49m\u001b[43m,\u001b[49m\n\u001b[0;32m    421\u001b[0m \u001b[43m    \u001b[49m\u001b[43mkeyfile\u001b[49m\u001b[38;5;241;43m=\u001b[39;49m\u001b[38;5;28;43mself\u001b[39;49m\u001b[38;5;241;43m.\u001b[39;49m\u001b[43mkey_file\u001b[49m\u001b[43m,\u001b[49m\n\u001b[0;32m    422\u001b[0m \u001b[43m    \u001b[49m\u001b[43mcertfile\u001b[49m\u001b[38;5;241;43m=\u001b[39;49m\u001b[38;5;28;43mself\u001b[39;49m\u001b[38;5;241;43m.\u001b[39;49m\u001b[43mcert_file\u001b[49m\u001b[43m,\u001b[49m\n\u001b[0;32m    423\u001b[0m \u001b[43m    \u001b[49m\u001b[43mkey_password\u001b[49m\u001b[38;5;241;43m=\u001b[39;49m\u001b[38;5;28;43mself\u001b[39;49m\u001b[38;5;241;43m.\u001b[39;49m\u001b[43mkey_password\u001b[49m\u001b[43m,\u001b[49m\n\u001b[0;32m    424\u001b[0m \u001b[43m    \u001b[49m\u001b[43mca_certs\u001b[49m\u001b[38;5;241;43m=\u001b[39;49m\u001b[38;5;28;43mself\u001b[39;49m\u001b[38;5;241;43m.\u001b[39;49m\u001b[43mca_certs\u001b[49m\u001b[43m,\u001b[49m\n\u001b[0;32m    425\u001b[0m \u001b[43m    \u001b[49m\u001b[43mca_cert_dir\u001b[49m\u001b[38;5;241;43m=\u001b[39;49m\u001b[38;5;28;43mself\u001b[39;49m\u001b[38;5;241;43m.\u001b[39;49m\u001b[43mca_cert_dir\u001b[49m\u001b[43m,\u001b[49m\n\u001b[0;32m    426\u001b[0m \u001b[43m    \u001b[49m\u001b[43mca_cert_data\u001b[49m\u001b[38;5;241;43m=\u001b[39;49m\u001b[38;5;28;43mself\u001b[39;49m\u001b[38;5;241;43m.\u001b[39;49m\u001b[43mca_cert_data\u001b[49m\u001b[43m,\u001b[49m\n\u001b[0;32m    427\u001b[0m \u001b[43m    \u001b[49m\u001b[43mserver_hostname\u001b[49m\u001b[38;5;241;43m=\u001b[39;49m\u001b[43mserver_hostname\u001b[49m\u001b[43m,\u001b[49m\n\u001b[0;32m    428\u001b[0m \u001b[43m    \u001b[49m\u001b[43mssl_context\u001b[49m\u001b[38;5;241;43m=\u001b[39;49m\u001b[43mcontext\u001b[49m\u001b[43m,\u001b[49m\n\u001b[0;32m    429\u001b[0m \u001b[43m    \u001b[49m\u001b[43mtls_in_tls\u001b[49m\u001b[38;5;241;43m=\u001b[39;49m\u001b[43mtls_in_tls\u001b[49m\u001b[43m,\u001b[49m\n\u001b[0;32m    430\u001b[0m \u001b[43m\u001b[49m\u001b[43m)\u001b[49m\n\u001b[0;32m    432\u001b[0m \u001b[38;5;66;03m# If we're using all defaults and the connection\u001b[39;00m\n\u001b[0;32m    433\u001b[0m \u001b[38;5;66;03m# is TLSv1 or TLSv1.1 we throw a DeprecationWarning\u001b[39;00m\n\u001b[0;32m    434\u001b[0m \u001b[38;5;66;03m# for the host.\u001b[39;00m\n",
      "File \u001b[1;32m~\\anaconda3\\envs\\cryt310\\lib\\site-packages\\urllib3\\util\\ssl_.py:449\u001b[0m, in \u001b[0;36mssl_wrap_socket\u001b[1;34m(sock, keyfile, certfile, cert_reqs, ca_certs, server_hostname, ssl_version, ciphers, ssl_context, ca_cert_dir, key_password, ca_cert_data, tls_in_tls)\u001b[0m\n\u001b[0;32m    448\u001b[0m \u001b[38;5;28;01mif\u001b[39;00m send_sni:\n\u001b[1;32m--> 449\u001b[0m     ssl_sock \u001b[38;5;241m=\u001b[39m \u001b[43m_ssl_wrap_socket_impl\u001b[49m\u001b[43m(\u001b[49m\n\u001b[0;32m    450\u001b[0m \u001b[43m        \u001b[49m\u001b[43msock\u001b[49m\u001b[43m,\u001b[49m\u001b[43m \u001b[49m\u001b[43mcontext\u001b[49m\u001b[43m,\u001b[49m\u001b[43m \u001b[49m\u001b[43mtls_in_tls\u001b[49m\u001b[43m,\u001b[49m\u001b[43m \u001b[49m\u001b[43mserver_hostname\u001b[49m\u001b[38;5;241;43m=\u001b[39;49m\u001b[43mserver_hostname\u001b[49m\n\u001b[0;32m    451\u001b[0m \u001b[43m    \u001b[49m\u001b[43m)\u001b[49m\n\u001b[0;32m    452\u001b[0m \u001b[38;5;28;01melse\u001b[39;00m:\n",
      "File \u001b[1;32m~\\anaconda3\\envs\\cryt310\\lib\\site-packages\\urllib3\\util\\ssl_.py:493\u001b[0m, in \u001b[0;36m_ssl_wrap_socket_impl\u001b[1;34m(sock, ssl_context, tls_in_tls, server_hostname)\u001b[0m\n\u001b[0;32m    492\u001b[0m \u001b[38;5;28;01mif\u001b[39;00m server_hostname:\n\u001b[1;32m--> 493\u001b[0m     \u001b[38;5;28;01mreturn\u001b[39;00m \u001b[43mssl_context\u001b[49m\u001b[38;5;241;43m.\u001b[39;49m\u001b[43mwrap_socket\u001b[49m\u001b[43m(\u001b[49m\u001b[43msock\u001b[49m\u001b[43m,\u001b[49m\u001b[43m \u001b[49m\u001b[43mserver_hostname\u001b[49m\u001b[38;5;241;43m=\u001b[39;49m\u001b[43mserver_hostname\u001b[49m\u001b[43m)\u001b[49m\n\u001b[0;32m    494\u001b[0m \u001b[38;5;28;01melse\u001b[39;00m:\n",
      "File \u001b[1;32m~\\anaconda3\\envs\\cryt310\\lib\\ssl.py:513\u001b[0m, in \u001b[0;36mSSLContext.wrap_socket\u001b[1;34m(self, sock, server_side, do_handshake_on_connect, suppress_ragged_eofs, server_hostname, session)\u001b[0m\n\u001b[0;32m    507\u001b[0m \u001b[38;5;28;01mdef\u001b[39;00m \u001b[38;5;21mwrap_socket\u001b[39m(\u001b[38;5;28mself\u001b[39m, sock, server_side\u001b[38;5;241m=\u001b[39m\u001b[38;5;28;01mFalse\u001b[39;00m,\n\u001b[0;32m    508\u001b[0m                 do_handshake_on_connect\u001b[38;5;241m=\u001b[39m\u001b[38;5;28;01mTrue\u001b[39;00m,\n\u001b[0;32m    509\u001b[0m                 suppress_ragged_eofs\u001b[38;5;241m=\u001b[39m\u001b[38;5;28;01mTrue\u001b[39;00m,\n\u001b[0;32m    510\u001b[0m                 server_hostname\u001b[38;5;241m=\u001b[39m\u001b[38;5;28;01mNone\u001b[39;00m, session\u001b[38;5;241m=\u001b[39m\u001b[38;5;28;01mNone\u001b[39;00m):\n\u001b[0;32m    511\u001b[0m     \u001b[38;5;66;03m# SSLSocket class handles server_hostname encoding before it calls\u001b[39;00m\n\u001b[0;32m    512\u001b[0m     \u001b[38;5;66;03m# ctx._wrap_socket()\u001b[39;00m\n\u001b[1;32m--> 513\u001b[0m     \u001b[38;5;28;01mreturn\u001b[39;00m \u001b[38;5;28;43mself\u001b[39;49m\u001b[38;5;241;43m.\u001b[39;49m\u001b[43msslsocket_class\u001b[49m\u001b[38;5;241;43m.\u001b[39;49m\u001b[43m_create\u001b[49m\u001b[43m(\u001b[49m\n\u001b[0;32m    514\u001b[0m \u001b[43m        \u001b[49m\u001b[43msock\u001b[49m\u001b[38;5;241;43m=\u001b[39;49m\u001b[43msock\u001b[49m\u001b[43m,\u001b[49m\n\u001b[0;32m    515\u001b[0m \u001b[43m        \u001b[49m\u001b[43mserver_side\u001b[49m\u001b[38;5;241;43m=\u001b[39;49m\u001b[43mserver_side\u001b[49m\u001b[43m,\u001b[49m\n\u001b[0;32m    516\u001b[0m \u001b[43m        \u001b[49m\u001b[43mdo_handshake_on_connect\u001b[49m\u001b[38;5;241;43m=\u001b[39;49m\u001b[43mdo_handshake_on_connect\u001b[49m\u001b[43m,\u001b[49m\n\u001b[0;32m    517\u001b[0m \u001b[43m        \u001b[49m\u001b[43msuppress_ragged_eofs\u001b[49m\u001b[38;5;241;43m=\u001b[39;49m\u001b[43msuppress_ragged_eofs\u001b[49m\u001b[43m,\u001b[49m\n\u001b[0;32m    518\u001b[0m \u001b[43m        \u001b[49m\u001b[43mserver_hostname\u001b[49m\u001b[38;5;241;43m=\u001b[39;49m\u001b[43mserver_hostname\u001b[49m\u001b[43m,\u001b[49m\n\u001b[0;32m    519\u001b[0m \u001b[43m        \u001b[49m\u001b[43mcontext\u001b[49m\u001b[38;5;241;43m=\u001b[39;49m\u001b[38;5;28;43mself\u001b[39;49m\u001b[43m,\u001b[49m\n\u001b[0;32m    520\u001b[0m \u001b[43m        \u001b[49m\u001b[43msession\u001b[49m\u001b[38;5;241;43m=\u001b[39;49m\u001b[43msession\u001b[49m\n\u001b[0;32m    521\u001b[0m \u001b[43m    \u001b[49m\u001b[43m)\u001b[49m\n",
      "File \u001b[1;32m~\\anaconda3\\envs\\cryt310\\lib\\ssl.py:1071\u001b[0m, in \u001b[0;36mSSLSocket._create\u001b[1;34m(cls, sock, server_side, do_handshake_on_connect, suppress_ragged_eofs, server_hostname, context, session)\u001b[0m\n\u001b[0;32m   1070\u001b[0m             \u001b[38;5;28;01mraise\u001b[39;00m \u001b[38;5;167;01mValueError\u001b[39;00m(\u001b[38;5;124m\"\u001b[39m\u001b[38;5;124mdo_handshake_on_connect should not be specified for non-blocking sockets\u001b[39m\u001b[38;5;124m\"\u001b[39m)\n\u001b[1;32m-> 1071\u001b[0m         \u001b[38;5;28;43mself\u001b[39;49m\u001b[38;5;241;43m.\u001b[39;49m\u001b[43mdo_handshake\u001b[49m\u001b[43m(\u001b[49m\u001b[43m)\u001b[49m\n\u001b[0;32m   1072\u001b[0m \u001b[38;5;28;01mexcept\u001b[39;00m (\u001b[38;5;167;01mOSError\u001b[39;00m, \u001b[38;5;167;01mValueError\u001b[39;00m):\n",
      "File \u001b[1;32m~\\anaconda3\\envs\\cryt310\\lib\\ssl.py:1342\u001b[0m, in \u001b[0;36mSSLSocket.do_handshake\u001b[1;34m(self, block)\u001b[0m\n\u001b[0;32m   1341\u001b[0m         \u001b[38;5;28mself\u001b[39m\u001b[38;5;241m.\u001b[39msettimeout(\u001b[38;5;28;01mNone\u001b[39;00m)\n\u001b[1;32m-> 1342\u001b[0m     \u001b[38;5;28;43mself\u001b[39;49m\u001b[38;5;241;43m.\u001b[39;49m\u001b[43m_sslobj\u001b[49m\u001b[38;5;241;43m.\u001b[39;49m\u001b[43mdo_handshake\u001b[49m\u001b[43m(\u001b[49m\u001b[43m)\u001b[49m\n\u001b[0;32m   1343\u001b[0m \u001b[38;5;28;01mfinally\u001b[39;00m:\n",
      "\u001b[1;31mProtocolError\u001b[0m: ('Connection aborted.', ConnectionResetError(10054, 'An existing connection was forcibly closed by the remote host', None, 10054, None))",
      "\nDuring handling of the above exception, another exception occurred:\n",
      "\u001b[1;31mConnectionError\u001b[0m                           Traceback (most recent call last)",
      "File \u001b[1;32m<timed exec>:9\u001b[0m\n",
      "Cell \u001b[1;32mIn[6], line 69\u001b[0m, in \u001b[0;36mdownload_klines_yearly\u001b[1;34m(symbol, interval, start_year, data_folder)\u001b[0m\n\u001b[0;32m     67\u001b[0m counts\u001b[38;5;241m=\u001b[39m\u001b[38;5;241m0\u001b[39m\n\u001b[0;32m     68\u001b[0m \u001b[38;5;28;01mwhile\u001b[39;00m last_fetched_time \u001b[38;5;241m<\u001b[39m end_time:\n\u001b[1;32m---> 69\u001b[0m     fetched_klines \u001b[38;5;241m=\u001b[39m \u001b[43mget_klines\u001b[49m\u001b[43m(\u001b[49m\u001b[43msymbol\u001b[49m\u001b[43m,\u001b[49m\u001b[43m \u001b[49m\u001b[43minterval\u001b[49m\u001b[43m,\u001b[49m\u001b[43m \u001b[49m\u001b[43mstart_time\u001b[49m\u001b[38;5;241;43m=\u001b[39;49m\u001b[43mlast_fetched_time\u001b[49m\u001b[43m,\u001b[49m\u001b[43m \u001b[49m\u001b[43mlimit\u001b[49m\u001b[38;5;241;43m=\u001b[39;49m\u001b[38;5;241;43m1000\u001b[39;49m\u001b[43m)\u001b[49m\n\u001b[0;32m     70\u001b[0m     \u001b[38;5;28;01mif\u001b[39;00m counts\u001b[38;5;241m%\u001b[39m\u001b[38;5;241m50\u001b[39m\u001b[38;5;241m==\u001b[39m\u001b[38;5;241m0\u001b[39m \u001b[38;5;129;01mand\u001b[39;00m counts\u001b[38;5;241m/\u001b[39m\u001b[38;5;241m/\u001b[39m\u001b[38;5;241m50\u001b[39m\u001b[38;5;241m>\u001b[39m\u001b[38;5;241m0\u001b[39m:\n\u001b[0;32m     71\u001b[0m         \u001b[38;5;28mprint\u001b[39m(counts\u001b[38;5;241m/\u001b[39m\u001b[38;5;241m/\u001b[39m\u001b[38;5;241m50\u001b[39m,end\u001b[38;5;241m=\u001b[39m\u001b[38;5;124m\"\u001b[39m\u001b[38;5;124m\"\u001b[39m)\n",
      "Cell \u001b[1;32mIn[6], line 16\u001b[0m, in \u001b[0;36mget_klines\u001b[1;34m(symbol, interval, start_time, end_time, limit)\u001b[0m\n\u001b[0;32m     14\u001b[0m \u001b[38;5;28;01mif\u001b[39;00m end_time:\n\u001b[0;32m     15\u001b[0m     params[\u001b[38;5;124m'\u001b[39m\u001b[38;5;124mendTime\u001b[39m\u001b[38;5;124m'\u001b[39m] \u001b[38;5;241m=\u001b[39m end_time\n\u001b[1;32m---> 16\u001b[0m response \u001b[38;5;241m=\u001b[39m \u001b[43mrequests\u001b[49m\u001b[38;5;241;43m.\u001b[39;49m\u001b[43mget\u001b[49m\u001b[43m(\u001b[49m\u001b[43murl\u001b[49m\u001b[43m,\u001b[49m\u001b[43m \u001b[49m\u001b[43mparams\u001b[49m\u001b[38;5;241;43m=\u001b[39;49m\u001b[43mparams\u001b[49m\u001b[43m)\u001b[49m\n\u001b[0;32m     17\u001b[0m \u001b[38;5;28;01mif\u001b[39;00m response\u001b[38;5;241m.\u001b[39mstatus_code \u001b[38;5;241m==\u001b[39m \u001b[38;5;241m200\u001b[39m:\n\u001b[0;32m     18\u001b[0m     klines_data \u001b[38;5;241m=\u001b[39m response\u001b[38;5;241m.\u001b[39mjson()\n",
      "File \u001b[1;32m~\\anaconda3\\envs\\cryt310\\lib\\site-packages\\requests\\api.py:73\u001b[0m, in \u001b[0;36mget\u001b[1;34m(url, params, **kwargs)\u001b[0m\n\u001b[0;32m     62\u001b[0m \u001b[38;5;28;01mdef\u001b[39;00m \u001b[38;5;21mget\u001b[39m(url, params\u001b[38;5;241m=\u001b[39m\u001b[38;5;28;01mNone\u001b[39;00m, \u001b[38;5;241m*\u001b[39m\u001b[38;5;241m*\u001b[39mkwargs):\n\u001b[0;32m     63\u001b[0m \u001b[38;5;250m    \u001b[39m\u001b[38;5;124mr\u001b[39m\u001b[38;5;124;03m\"\"\"Sends a GET request.\u001b[39;00m\n\u001b[0;32m     64\u001b[0m \n\u001b[0;32m     65\u001b[0m \u001b[38;5;124;03m    :param url: URL for the new :class:`Request` object.\u001b[39;00m\n\u001b[1;32m   (...)\u001b[0m\n\u001b[0;32m     70\u001b[0m \u001b[38;5;124;03m    :rtype: requests.Response\u001b[39;00m\n\u001b[0;32m     71\u001b[0m \u001b[38;5;124;03m    \"\"\"\u001b[39;00m\n\u001b[1;32m---> 73\u001b[0m     \u001b[38;5;28;01mreturn\u001b[39;00m request(\u001b[38;5;124m\"\u001b[39m\u001b[38;5;124mget\u001b[39m\u001b[38;5;124m\"\u001b[39m, url, params\u001b[38;5;241m=\u001b[39mparams, \u001b[38;5;241m*\u001b[39m\u001b[38;5;241m*\u001b[39mkwargs)\n",
      "File \u001b[1;32m~\\anaconda3\\envs\\cryt310\\lib\\site-packages\\requests\\api.py:59\u001b[0m, in \u001b[0;36mrequest\u001b[1;34m(method, url, **kwargs)\u001b[0m\n\u001b[0;32m     55\u001b[0m \u001b[38;5;66;03m# By using the 'with' statement we are sure the session is closed, thus we\u001b[39;00m\n\u001b[0;32m     56\u001b[0m \u001b[38;5;66;03m# avoid leaving sockets open which can trigger a ResourceWarning in some\u001b[39;00m\n\u001b[0;32m     57\u001b[0m \u001b[38;5;66;03m# cases, and look like a memory leak in others.\u001b[39;00m\n\u001b[0;32m     58\u001b[0m \u001b[38;5;28;01mwith\u001b[39;00m sessions\u001b[38;5;241m.\u001b[39mSession() \u001b[38;5;28;01mas\u001b[39;00m session:\n\u001b[1;32m---> 59\u001b[0m     \u001b[38;5;28;01mreturn\u001b[39;00m session\u001b[38;5;241m.\u001b[39mrequest(method\u001b[38;5;241m=\u001b[39mmethod, url\u001b[38;5;241m=\u001b[39murl, \u001b[38;5;241m*\u001b[39m\u001b[38;5;241m*\u001b[39mkwargs)\n",
      "File \u001b[1;32m~\\anaconda3\\envs\\cryt310\\lib\\site-packages\\requests\\sessions.py:587\u001b[0m, in \u001b[0;36mSession.request\u001b[1;34m(self, method, url, params, data, headers, cookies, files, auth, timeout, allow_redirects, proxies, hooks, stream, verify, cert, json)\u001b[0m\n\u001b[0;32m    582\u001b[0m send_kwargs \u001b[38;5;241m=\u001b[39m {\n\u001b[0;32m    583\u001b[0m     \u001b[38;5;124m\"\u001b[39m\u001b[38;5;124mtimeout\u001b[39m\u001b[38;5;124m\"\u001b[39m: timeout,\n\u001b[0;32m    584\u001b[0m     \u001b[38;5;124m\"\u001b[39m\u001b[38;5;124mallow_redirects\u001b[39m\u001b[38;5;124m\"\u001b[39m: allow_redirects,\n\u001b[0;32m    585\u001b[0m }\n\u001b[0;32m    586\u001b[0m send_kwargs\u001b[38;5;241m.\u001b[39mupdate(settings)\n\u001b[1;32m--> 587\u001b[0m resp \u001b[38;5;241m=\u001b[39m \u001b[38;5;28mself\u001b[39m\u001b[38;5;241m.\u001b[39msend(prep, \u001b[38;5;241m*\u001b[39m\u001b[38;5;241m*\u001b[39msend_kwargs)\n\u001b[0;32m    589\u001b[0m \u001b[38;5;28;01mreturn\u001b[39;00m resp\n",
      "File \u001b[1;32m~\\anaconda3\\envs\\cryt310\\lib\\site-packages\\requests\\sessions.py:701\u001b[0m, in \u001b[0;36mSession.send\u001b[1;34m(self, request, **kwargs)\u001b[0m\n\u001b[0;32m    698\u001b[0m start \u001b[38;5;241m=\u001b[39m preferred_clock()\n\u001b[0;32m    700\u001b[0m \u001b[38;5;66;03m# Send the request\u001b[39;00m\n\u001b[1;32m--> 701\u001b[0m r \u001b[38;5;241m=\u001b[39m adapter\u001b[38;5;241m.\u001b[39msend(request, \u001b[38;5;241m*\u001b[39m\u001b[38;5;241m*\u001b[39mkwargs)\n\u001b[0;32m    703\u001b[0m \u001b[38;5;66;03m# Total elapsed time of the request (approximately)\u001b[39;00m\n\u001b[0;32m    704\u001b[0m elapsed \u001b[38;5;241m=\u001b[39m preferred_clock() \u001b[38;5;241m-\u001b[39m start\n",
      "File \u001b[1;32m~\\anaconda3\\envs\\cryt310\\lib\\site-packages\\requests\\adapters.py:502\u001b[0m, in \u001b[0;36mHTTPAdapter.send\u001b[1;34m(self, request, stream, timeout, verify, cert, proxies)\u001b[0m\n\u001b[0;32m    487\u001b[0m     resp \u001b[38;5;241m=\u001b[39m conn\u001b[38;5;241m.\u001b[39murlopen(\n\u001b[0;32m    488\u001b[0m         method\u001b[38;5;241m=\u001b[39mrequest\u001b[38;5;241m.\u001b[39mmethod,\n\u001b[0;32m    489\u001b[0m         url\u001b[38;5;241m=\u001b[39murl,\n\u001b[1;32m   (...)\u001b[0m\n\u001b[0;32m    498\u001b[0m         chunked\u001b[38;5;241m=\u001b[39mchunked,\n\u001b[0;32m    499\u001b[0m     )\n\u001b[0;32m    501\u001b[0m \u001b[38;5;28;01mexcept\u001b[39;00m (ProtocolError, \u001b[38;5;167;01mOSError\u001b[39;00m) \u001b[38;5;28;01mas\u001b[39;00m err:\n\u001b[1;32m--> 502\u001b[0m     \u001b[38;5;28;01mraise\u001b[39;00m \u001b[38;5;167;01mConnectionError\u001b[39;00m(err, request\u001b[38;5;241m=\u001b[39mrequest)\n\u001b[0;32m    504\u001b[0m \u001b[38;5;28;01mexcept\u001b[39;00m MaxRetryError \u001b[38;5;28;01mas\u001b[39;00m e:\n\u001b[0;32m    505\u001b[0m     \u001b[38;5;28;01mif\u001b[39;00m \u001b[38;5;28misinstance\u001b[39m(e\u001b[38;5;241m.\u001b[39mreason, ConnectTimeoutError):\n\u001b[0;32m    506\u001b[0m         \u001b[38;5;66;03m# TODO: Remove this in 3.0.0: see #2811\u001b[39;00m\n",
      "\u001b[1;31mConnectionError\u001b[0m: ('Connection aborted.', ConnectionResetError(10054, 'An existing connection was forcibly closed by the remote host', None, 10054, None))"
     ]
    }
   ],
   "source": [
    "%%time\n",
    "#intervals=['1m']#,'30m','1h','1M']\n",
    "for interval in intervals[::-1]:\n",
    "    print(interval)\n",
    "    for i,sp in list(enumerate(trading_pairs))[250:]:\n",
    "        symbol = sp[\"symbol\"]\n",
    "        data_folder=f\"kline_data/{symbol}/\"\n",
    "        print(f\",{i}{symbol}\",end=\" \")\n",
    "        try:\n",
    "            download_klines_yearly(symbol, interval,data_folder=data_folder,start_year=2022)\n",
    "        except ConnectionResetError or ConnectionAbortedError:\n",
    "            print(\"error, sleep 10mins\")\n",
    "            time.sleep(10*60)\n",
    "            download_klines_yearly(symbol, interval,data_folder=data_folder)\n",
    "    print(\"\")"
   ]
  },
  {
   "cell_type": "markdown",
   "metadata": {},
   "source": [
    "# end of file"
   ]
  },
  {
   "cell_type": "code",
   "execution_count": 1,
   "metadata": {},
   "outputs": [
    {
     "data": {
      "text/plain": [
       "6.36574074074074"
      ]
     },
     "execution_count": 1,
     "metadata": {},
     "output_type": "execute_result"
    }
   ],
   "source": [
    "55000*5/60/24/30"
   ]
  },
  {
   "cell_type": "code",
   "execution_count": 120,
   "metadata": {},
   "outputs": [
    {
     "name": "stdout",
     "output_type": "stream",
     "text": [
      "1M\n",
      ",18LTCUSDT  ,19RADUSDT  ,20ICPUSDT  ,21EURUSDT  ,22FILUSDT  ,23LINAUSDT  ,24LINKUSDT  ,25FTMUSDT  ,26DYDXUSDT  ,27ADAUSDT  ,28WOOUSDT  ,29TRXUSDT  ,30ATOMUSDT  ,31HOOKUSDT  ,32OGUSDT  ,33RDNTUSDT  ,34DOTUSDT  ,35GALAUSDT  ,36COCOSUSDT  ,37LUNAUSDT  ,38LUNCUSDT  ,39JASMYUSDT  ,40AVAXUSDT  ,41OPUSDT  ,42TOMOUSDT  ,43CAKEUSDT  ,44USTCUSDT  ,45EGLDUSDT  ,46IDEXUSDT  ,47FETUSDT  ,48SHIBUSDT  ,49GMTUSDT  \n",
      "1m\n",
      ",18LTCUSDT 123 ,19RADUSDT 123 ,20ICPUSDT    123456 12345678910 123 ,21EURUSDT   12345678910 12345678910 12345678910 123 ,22FILUSDT   12 12345678910 12345678910 123 ,23LINAUSDT    12345678 12345678910 123 ,24LINKUSDT  12345678910 12345678910 12345678910 12345678910 123 ,25FTMUSDT  12345 12345678910 12345678910 12345678910 123 ,26DYDXUSDT    123 12345678910 123 ,27ADAUSDT 1234567 12345678910 12345678910 12345678910 12345678910 123 ,28WOOUSDT     123456789 123 ,29TRXUSDT 12345 12345678910 12345678910 12345678910 12345678910 123 ,30ATOMUSDT  1234567 12345678910 12345678910 12345678910 123 ,31HOOKUSDT      123 ,32OGUSDT    12345678910 12345678910 123 ,33RDNTUSDT      1 ,34DOTUSDT   123 12345678910 12345678910 123 ,35GALAUSDT    123 12345678910 123 ,36COCOSUSDT  123 12345678910 12345678910 12345678910 123 ,37LUNAUSDT   123 12345678910 123456789 123 ,38LUNCUSDT     123 123 ,39JASMYUSDT    1 12345678910 123 ,40AVAXUSDT   12 12345678910 12345678910 123 ,41OPUSDT     123456 123 ,42TOMOUSDT  123 12345678910 12345678910 12345678910 123 ,43CAKEUSDT    123456789 12345678910 123 ,44USTCUSDT      1 ,45EGLDUSDT   123 12345678910 12345678910 123 ,46IDEXUSDT    123 12345678910 123 ,47FETUSDT  12345678 12345678910 12345678910 12345678910 123 ,48SHIBUSDT    123456 12345678910 123 ,49GMTUSDT     12345678 123 \n",
      "CPU times: total: 4h 1min 1s\n",
      "Wall time: 8h 25min 41s\n"
     ]
    }
   ],
   "source": [
    "%%time\n",
    "for interval in intervals[::-1]:\n",
    "    print(interval)\n",
    "    for i,sp in list(enumerate(trading_pairs))[18:50]:\n",
    "        symbol = sp[\"symbol\"]\n",
    "        data_folder=f\"kline_data/{symbol}/\"\n",
    "        print(f\",{i}{symbol}\",end=\" \")\n",
    "        download_klines_yearly(symbol, interval,data_folder=data_folder)\n",
    "    print(\"\")"
   ]
  },
  {
   "cell_type": "code",
   "execution_count": 106,
   "metadata": {},
   "outputs": [],
   "source": [
    "# import glob\n",
    "# import os\n",
    "# for file in glob.glob(\"kline_data/*/*1m*.csv\"):\n",
    "#     os.remove(file)"
   ]
  },
  {
   "cell_type": "code",
   "execution_count": 6,
   "metadata": {},
   "outputs": [
    {
     "name": "stdout",
     "output_type": "stream",
     "text": [
      "5m\n",
      ",212MCUSDT  ,213RENUSDT 12  ,214XEMUSDT    12 12  ,215KNCUSDT   1 12 12  ,216HIFIUSDT       ,217GLMRUSDT     12  ,218FLUXUSDT     12  ,219TLMUSDT    1 12  ,220KP3RUSDT     12  ,221MDXUSDT    1 12  ,222SUPERUSDT    1 12  ,223CTKUSDT    12 12  ,224PYRUSDT     12  ,225TUSDT     1  ,226ASRUSDT    12 12  ,227ILVUSDT     12  ,228ADXUSDT     12  ,229ZENUSDT   1 12 12  ,230BSWUSDT     1  ,231DFUSDT     12  ,232RPLUSDT       ,233JUVUSDT    12 12  ,234OGNUSDT   12 12 12  ,235YGGUSDT     12  ,236SFPUSDT    1 12  ,237SPELLUSDT     12  ,238IOSTUSDT  1 12 12 12  ,239PONDUSDT    1 12  ,240AMPUSDT     12  ,241BAKEUSDT    1 12  ,242YFIUSDT    12 12  ,243WAXPUSDT     12  ,244LPTUSDT    1 12  ,245TVKUSDT     12  ,246MOBUSDT     1  ,247BICOUSDT     12  ,248PLAUSDT     12  ,249SKLUSDT    12 12  \n",
      "CPU times: total: 35min 9s\n",
      "Wall time: 2h 13min 57s\n"
     ]
    }
   ],
   "source": [
    "%%time\n",
    "intervals=['5m']#,'30m','1h','1M']\n",
    "for interval in intervals[::-1]:\n",
    "    print(interval)\n",
    "    for i,sp in list(enumerate(trading_pairs))[212:250]:\n",
    "        symbol = sp[\"symbol\"]\n",
    "        data_folder=f\"kline_data/{symbol}/\"\n",
    "        print(f\",{i}{symbol}\",end=\" \")\n",
    "        try:\n",
    "            download_klines_yearly(symbol, interval,data_folder=data_folder)\n",
    "        except ConnectionResetError or ConnectionAbortedError:\n",
    "            print(\"error, sleep 10mins\")\n",
    "            time.sleep(10*60)\n",
    "            download_klines_yearly(symbol, interval,data_folder=data_folder)\n",
    "    print(\"\")"
   ]
  },
  {
   "cell_type": "code",
   "execution_count": 7,
   "metadata": {},
   "outputs": [
    {
     "name": "stdout",
     "output_type": "stream",
     "text": [
      "15m\n",
      ",232RPLUSDT  ,233JUVUSDT       ,234OGNUSDT       ,235YGGUSDT       ,236SFPUSDT       ,237SPELLUSDT       ,238IOSTUSDT       ,239PONDUSDT       ,240AMPUSDT       ,241BAKEUSDT       ,242YFIUSDT       ,243WAXPUSDT       ,244LPTUSDT       ,245TVKUSDT       ,246MOBUSDT       ,247BICOUSDT       ,248PLAUSDT       ,249SKLUSDT       \n",
      "CPU times: total: 5min 11s\n",
      "Wall time: 19min 17s\n"
     ]
    }
   ],
   "source": [
    "%%time\n",
    "intervals=['15m']#,'30m','1h','1M']\n",
    "for interval in intervals[::-1]:\n",
    "    print(interval)\n",
    "    for i,sp in list(enumerate(trading_pairs))[232:250]:\n",
    "        symbol = sp[\"symbol\"]\n",
    "        data_folder=f\"kline_data/{symbol}/\"\n",
    "        print(f\",{i}{symbol}\",end=\" \")\n",
    "        try:\n",
    "            download_klines_yearly(symbol, interval,data_folder=data_folder)\n",
    "        except ConnectionResetError or ConnectionAbortedError:\n",
    "            print(\"error, sleep 10mins\")\n",
    "            time.sleep(10*60)\n",
    "            download_klines_yearly(symbol, interval,data_folder=data_folder)\n",
    "    print(\"\")"
   ]
  },
  {
   "cell_type": "code",
   "execution_count": 9,
   "metadata": {},
   "outputs": [
    {
     "name": "stdout",
     "output_type": "stream",
     "text": [
      "3m\n",
      ",187QTUMUSDT 1 ,188RSRUSDT 1 ,189KMDUSDT 1 ,190LEVERUSDT     1 1 ,191KSMUSDT   1 123 123 1 ,192BLZUSDT   1 123 123 1 ,193LAZIOUSDT     123 1 ,194OSMOUSDT      1 ,195PORTOUSDT     123 1 ,196ERNUSDT    1 123 1 ,197CHESSUSDT     123 1 ,198CLVUSDT    1 123 1 ,199DUSKUSDT  1 123 123 123 1 ,200IOTXUSDT   123 123 123 1 ,201VOXELUSDT     123 1 ,202VIBUSDT       ,203BONDUSDT    1 123 1 ,204PHAUSDT    1 123 1 ,205VIDTUSDT    1 123 1 ,206AMBUSDT       ,207UTKUSDT    123 123 1 ,208AGLDUSDT     123 1 ,209BATUSDT  12 123 123 123 1 ,210WINUSDT  1 123 123 123 1 ,211DODOUSDT    123 123 1 ,212MCUSDT     123 1 ,213RENUSDT   123 123 123 1 ,214XEMUSDT    123 123 1 ,215KNCUSDT   1 123 123 1 ,216HIFIUSDT      1 ,217GLMRUSDT     123 1 ,218FLUXUSDT     123 1 ,219TLMUSDT    12 123 1 ,220KP3RUSDT     123 1 ,221MDXUSDT    12 123 1 ,222SUPERUSDT    12 123 1 ,223CTKUSDT    123 123 1 ,224PYRUSDT     123 1 ,225TUSDT     12 1 ,226ASRUSDT    123 123 1 ,227ILVUSDT     123 1 ,228ADXUSDT     123 1 ,229ZENUSDT   1 123 123 1 ,230BSWUSDT     12 1 ,231DFUSDT     123 1 ,232RPLUSDT      1 ,233JUVUSDT    123 123 1 ,234OGNUSDT   123 123 123 1 ,235YGGUSDT     123 1 ,236SFPUSDT    123 123 1 ,237SPELLUSDT     123 1 ,238IOSTUSDT  12 123 123 123 1 ,239PONDUSDT    12 123 1 ,240AMPUSDT     123 1 ,241BAKEUSDT    12 123 1 ,242YFIUSDT   1 123 123 1 ,243WAXPUSDT    1 123 1 ,244LPTUSDT    12 123 1 ,245TVKUSDT    1 123 1 ,246MOBUSDT     12 1 ,247BICOUSDT     123 1 ,248PLAUSDT     123 1 ,249SKLUSDT    123 123 1 \n",
      "CPU times: total: 2h 8min 9s\n",
      "Wall time: 4h 53min 56s\n"
     ]
    }
   ],
   "source": [
    "%%time\n",
    "intervals=['3m']#,'30m','1h','1M']\n",
    "for interval in intervals[::-1]:\n",
    "    print(interval)\n",
    "    for i,sp in list(enumerate(trading_pairs))[187:250]:\n",
    "        symbol = sp[\"symbol\"]\n",
    "        data_folder=f\"kline_data/{symbol}/\"\n",
    "        print(f\",{i}{symbol}\",end=\" \")\n",
    "        try:\n",
    "            download_klines_yearly(symbol, interval,data_folder=data_folder)\n",
    "        except ConnectionResetError or ConnectionAbortedError:\n",
    "            print(\"error, sleep 10mins\")\n",
    "            time.sleep(10*60)\n",
    "            download_klines_yearly(symbol, interval,data_folder=data_folder)\n",
    "    print(\"\")"
   ]
  },
  {
   "cell_type": "code",
   "execution_count": 17,
   "metadata": {},
   "outputs": [
    {
     "name": "stdout",
     "output_type": "stream",
     "text": [
      "1m\n",
      ",148QIUSDT 123 ,149ENJUSDT 12345678910 123 ,150XTZUSDT  12 12345678910 12345678910 12345678910 123 ,151ATAUSDT    12345 12345678910 123 ,152FLOWUSDT    1234 12345678910 123 ,153WAVESUSDT  123456789 12345678910 12345678910 12345678910 123 ,154LRCUSDT   12345 12345678910 12345678910 123 ,155USDPUSDT    123 1234567 1 ,156FIDAUSDT    12 12345678910 123 ,157ARPAUSDT  1 12345678910 12345678910 12345678910 123 ,158SANTOSUSDT     12345678910 123 ,159HOTUSDT  123456789 12345678910 12345678910 12345678910 123 ,160ALICEUSDT    12345678 12345678910 123 ,161ZECUSDT  12345678 12345678910 12345678910 12345678910 123 ,162ALPINEUSDT     123456789 123 ,163COTIUSDT   12345678 12345678910 12345678910 123 ,164GTCUSDT    12345 12345678910 123 ,165IOTAUSDT 123456 12345678910 12345678910 12345678910 12345678910 123 ,166NULSUSDT 1234 12345678910 12345678910 12345678910 12345678910 123 ,167RVNUSDT  12 12345678910 12345678910 12345678910 123 ,168BURGERUSDT    1234567 12345678910 123 ,169LOKAUSDT     123456789 123 ,170GNSUSDT      12 ,171KDAUSDT     12345678 123 ,172CELOUSDT    12345678910 12345678910 123 ,173SCUSDT   12345 12345678910 12345678910 123 ,174COMPUSDT   12345 12345678910 12345678910 123 ,175SLPUSDT    1234567 12345678910 123 ,176API3USDT     123456789 123 ,177LITUSDT    123456789 12345678910 123 ,178QUICKUSDT    1234 12345678910 123 ,179BETHUSDT      1 ,180DENTUSDT  123 12345678910 12345678910 12345678910 123 ,181CHRUSDT   123456 12345678910 12345678910 123 ,182MBLUSDT   123456789 12345678910 12345678910 123 ,183PAXGUSDT   123 12345678910 12345678910 123 ,184BTTCUSDT     123456789 123 ,185RAREUSDT    12 12345678910 123 ,186ONTUSDT 12345 12345678910 12345678910 12345678910 12345678910 123 ,187QTUMUSDT 12345678 12345678910 12345678910 12345678910 12345678910 123 ,188RSRUSDT   123 12345678910 12345678910 123 ,189KMDUSDT   1234 12345678910 12345678910 123 ,190LEVERUSDT     1234 123 ,191KSMUSDT   123 12345678910 12345678910 123 ,192BLZUSDT   1234 12345678910 12345678910 123 ,193LAZIOUSDT    12 12345678910 123 ,194OSMOUSDT     1 123 ,195PORTOUSDT    1 12345678910 123 ,196ERNUSDT    12345 12345678910 123 ,197CHESSUSDT    12 12345678910 123 ,198CLVUSDT    1234 12345678910 123 ,199DUSKUSDT  1234 12345678910 12345678910 12345678910 123 ,200IOTXUSDT  1 12345678910 12345678910 12345678910 123 ,201VOXELUSDT     12345678910 123 ,202VIBUSDT      12 ,203BONDUSDT    12345 12345678910 123 ,204PHAUSDT    12345 12345678910 123 ,205VIDTUSDT    123 12345678910 123 ,206AMBUSDT      1 ,207UTKUSDT   12 12345678910 12345678910 123 ,208AGLDUSDT    12 12345678910 123 ,209BATUSDT  12345678 12345678910 12345678910 12345678910 123 ,210WINUSDT  1234 12345678910 12345678910 12345678910 123 ,211DODOUSDT    123456789 12345678910 123 ,212MCUSDT     12345678910 123 ,213RENUSDT  12 12345678910 12345678910 12345678910 123 ,214XEMUSDT   1 12345678910 12345678910 123 ,215KNCUSDT   12345 12345678910 12345678910 123 ,216HIFIUSDT      123 ,217GLMRUSDT     12345678910 123 ,218FLUXUSDT     12345678910 123 ,219TLMUSDT    1234567 12345678910 123 ,220KP3RUSDT    1 12345678910 123 ,221MDXUSDT    123456 12345678910 123 ,222SUPERUSDT    12345678 12345678910 123 ,223CTKUSDT   1 12345678910 12345678910 123 ,224PYRUSDT    1 12345678910 123 ,225TUSDT     12345678 123 ,226ASRUSDT    12345678910 12345678910 123 ,227ILVUSDT    12 12345678910 123 ,228ADXUSDT    1 12345678910 123 ,229ZENUSDT   12345 12345678910 12345678910 123 ,230BSWUSDT     12345678 123 ,231DFUSDT    12 12345678910 123 ,232RPLUSDT      123 ,233JUVUSDT    12345678910 12345678910 123 ,234OGNUSDT   12345678910 12345678910 12345678910 123 ,235YGGUSDT    12 12345678910 123 ,236SFPUSDT    123456789 12345678910 123 ,237SPELLUSDT     12345678910 123 ,238IOSTUSDT  12345678 12345678910 12345678910 12345678910 123 ,239PONDUSDT    12345678 12345678910 123 ,240AMPUSDT    1 12345678910 123 ,241BAKEUSDT    1234567 12345678910 123 ,242YFIUSDT   1234 12345678910 12345678910 123 ,243WAXPUSDT    123 12345678910 123 ,244LPTUSDT    123456 12345678910 123 ,245TVKUSDT    1234 12345678910 123 ,246MOBUSDT     1234567 123 ,247BICOUSDT     12345678910 123 ,248PLAUSDT    1 12345678910 123 ,249SKLUSDT    12345678910 12345678910 123 \n",
      "CPU times: total: 11h 56min 1s\n",
      "Wall time: 1d 2h 23min 38s\n"
     ]
    }
   ],
   "source": [
    "%%time\n",
    "intervals=['1m']#,'30m','1h','1M']\n",
    "for interval in intervals[::-1]:\n",
    "    print(interval)\n",
    "    for i,sp in list(enumerate(trading_pairs))[148:250]:\n",
    "        symbol = sp[\"symbol\"]\n",
    "        data_folder=f\"kline_data/{symbol}/\"\n",
    "        print(f\",{i}{symbol}\",end=\" \")\n",
    "        try:\n",
    "            download_klines_yearly(symbol, interval,data_folder=data_folder)\n",
    "        except ConnectionResetError or ConnectionAbortedError:\n",
    "            print(\"error, sleep 10mins\")\n",
    "            time.sleep(10*60)\n",
    "            download_klines_yearly(symbol, interval,data_folder=data_folder)\n",
    "    print(\"\")"
   ]
  },
  {
   "cell_type": "code",
   "execution_count": null,
   "metadata": {},
   "outputs": [],
   "source": []
  },
  {
   "cell_type": "code",
   "execution_count": null,
   "metadata": {},
   "outputs": [],
   "source": []
  },
  {
   "cell_type": "code",
   "execution_count": null,
   "metadata": {},
   "outputs": [],
   "source": []
  },
  {
   "cell_type": "code",
   "execution_count": null,
   "metadata": {},
   "outputs": [],
   "source": []
  },
  {
   "cell_type": "code",
   "execution_count": null,
   "metadata": {},
   "outputs": [],
   "source": []
  },
  {
   "cell_type": "code",
   "execution_count": null,
   "metadata": {},
   "outputs": [],
   "source": []
  }
 ],
 "metadata": {
  "kernelspec": {
   "display_name": "Python 3 (ipykernel)",
   "language": "python",
   "name": "python3"
  },
  "language_info": {
   "codemirror_mode": {
    "name": "ipython",
    "version": 3
   },
   "file_extension": ".py",
   "mimetype": "text/x-python",
   "name": "python",
   "nbconvert_exporter": "python",
   "pygments_lexer": "ipython3",
   "version": "3.10.11"
  }
 },
 "nbformat": 4,
 "nbformat_minor": 2
}
