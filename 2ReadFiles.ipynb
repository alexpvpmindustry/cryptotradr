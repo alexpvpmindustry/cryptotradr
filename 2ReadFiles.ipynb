{
 "cells": [
  {
   "cell_type": "markdown",
   "id": "28efd93e",
   "metadata": {},
   "source": [
    "# read the files and plot them"
   ]
  },
  {
   "cell_type": "code",
   "execution_count": 1,
   "id": "b79b3f40",
   "metadata": {},
   "outputs": [],
   "source": [
    "import numpy as np\n",
    "import pandas as pd\n",
    "import mplfinance as mpf\n",
    "import os\n",
    "from glob import glob\n",
    "import matplotlib.pyplot as plt\n",
    "%matplotlib inline\n",
    "from collections import Counter\n",
    "import mplfinance as mpf"
   ]
  },
  {
   "cell_type": "markdown",
   "id": "830f286e",
   "metadata": {},
   "source": [
    "# read data with the same ticker with the same interval into 1 dataframe"
   ]
  },
  {
   "cell_type": "code",
   "execution_count": 2,
   "id": "f339e5af",
   "metadata": {},
   "outputs": [],
   "source": [
    "tickerpair=\"BTCUSDT\"\n",
    "interval=\"30m\""
   ]
  },
  {
   "cell_type": "code",
   "execution_count": 3,
   "id": "28efb39e",
   "metadata": {},
   "outputs": [],
   "source": [
    "intervals=['1m','3m','5m','15m','30m','1h','2h','3h','4h','6h','8h','12h','1d','3d','1w','1Month']\n",
    "years=sorted(set([g.split(\"_\")[2] for g in glob(f\"kline_data\\\\{tickerpair}/*\")]))"
   ]
  },
  {
   "cell_type": "code",
   "execution_count": 4,
   "id": "b6e7ee59",
   "metadata": {},
   "outputs": [
    {
     "name": "stdout",
     "output_type": "stream",
     "text": [
      "CPU times: total: 78.1 ms\n",
      "Wall time: 523 ms\n"
     ]
    }
   ],
   "source": [
    "%%time\n",
    "df = [pd.read_csv(g) for g in sorted(glob(f\"kline_data\\\\{tickerpair}/*\")) if f\"_{interval}.csv\" in g]\n",
    "df = pd.concat(df, ignore_index=True).drop_duplicates().reset_index(drop=True)"
   ]
  },
  {
   "cell_type": "code",
   "execution_count": 5,
   "id": "44602728",
   "metadata": {},
   "outputs": [
    {
     "name": "stdout",
     "output_type": "stream",
     "text": [
      "93105\n"
     ]
    }
   ],
   "source": [
    "## formating for mplfinance\n",
    "dfmpl=df[[\"open_time\",\"open\",\"high\",\"low\",\"close\",\"volume\"]]\n",
    "dfmpl = dfmpl.rename(columns={\"open_time\":\"Date\",\"open\":\"Open\",\"high\":\"High\",\"low\":\"Low\",\"close\":\"Close\",\"volume\":\"Volume\"})\n",
    "dfmpl=dfmpl.set_index(\"Date\")\n",
    "dfmpl.index = pd.to_datetime(dfmpl.index,unit=\"ms\")\n",
    "print(len(dfmpl))\n",
    "dfmpl=dfmpl.iloc[-500:]"
   ]
  },
  {
   "cell_type": "code",
   "execution_count": 6,
   "id": "9d050b8a",
   "metadata": {},
   "outputs": [],
   "source": [
    "#mpf.plot(dfmpl,type=\"ohlc\")"
   ]
  },
  {
   "cell_type": "code",
   "execution_count": 7,
   "id": "6298f821",
   "metadata": {},
   "outputs": [
    {
     "data": {
      "text/plain": [
       "(True, 1, 0, 'NVIDIA GeForce 940M')"
      ]
     },
     "execution_count": 7,
     "metadata": {},
     "output_type": "execute_result"
    }
   ],
   "source": [
    "import torch\n",
    "torch.cuda.is_available(),torch.cuda.device_count(),torch.cuda.current_device(),torch.cuda.get_device_name(0)"
   ]
  },
  {
   "cell_type": "code",
   "execution_count": 8,
   "id": "95fad489",
   "metadata": {},
   "outputs": [],
   "source": [
    "def split_data(stock, lookback):\n",
    "    close_index = 3\n",
    "    data_raw = stock.to_numpy() # convert to numpy array\n",
    "    data = []\n",
    "    \n",
    "    # create all possible sequences of length seq_len\n",
    "    for index in range(len(data_raw) - lookback): \n",
    "        data.append(data_raw[index: index + lookback])\n",
    "    \n",
    "    data = np.array(data);\n",
    "    test_set_size = int(np.round(0.2*data.shape[0]));\n",
    "    train_set_size = data.shape[0] - (test_set_size);\n",
    "    \n",
    "    x_train = data[:train_set_size,:-1]\n",
    "    y_train = data[:train_set_size,-1]\n",
    "    y_train = (y_train/x_train[:,0])[:,[close_index]]\n",
    "    x_train = x_train/x_train[:,0][:,None,:]\n",
    "    \n",
    "    x_test = data[train_set_size:,:-1]\n",
    "    y_test = data[train_set_size:,-1]\n",
    "    y_test = (y_test/x_test[:,0])[:,[close_index]]\n",
    "    x_test = x_test/x_test[:,0][:,None,:]\n",
    "    \n",
    "    return [x_train, y_train, x_test, y_test]\n",
    "lookback = 20 # choose sequence length\n",
    "x_train, y_train, x_test, y_test = split_data(dfmpl, lookback)"
   ]
  },
  {
   "cell_type": "code",
   "execution_count": 9,
   "id": "3d334ba0",
   "metadata": {},
   "outputs": [],
   "source": [
    "import torch\n",
    "import torch.nn as nn\n",
    "x_train = torch.from_numpy(x_train).type(torch.Tensor)\n",
    "x_test = torch.from_numpy(x_test).type(torch.Tensor)\n",
    "y_train_lstm = torch.from_numpy(y_train).type(torch.Tensor)\n",
    "y_test_lstm = torch.from_numpy(y_test).type(torch.Tensor)\n",
    "y_train_gru = torch.from_numpy(y_train).type(torch.Tensor)\n",
    "y_test_gru = torch.from_numpy(y_test).type(torch.Tensor)"
   ]
  },
  {
   "cell_type": "code",
   "execution_count": 10,
   "id": "70933a0e",
   "metadata": {},
   "outputs": [],
   "source": [
    "input_dim = 5\n",
    "hidden_dim = 32\n",
    "num_layers = 4\n",
    "output_dim = 1\n",
    "num_epochs = 20"
   ]
  },
  {
   "cell_type": "code",
   "execution_count": 11,
   "id": "c8c61ad2",
   "metadata": {},
   "outputs": [],
   "source": [
    "class LSTM(nn.Module):\n",
    "    def __init__(self, input_dim, hidden_dim, num_layers, output_dim):\n",
    "        super(LSTM, self).__init__()\n",
    "        self.hidden_dim = hidden_dim\n",
    "        self.num_layers = num_layers\n",
    "        \n",
    "        self.lstm = nn.LSTM(input_dim, hidden_dim, num_layers, batch_first=True)\n",
    "        self.fc = nn.Linear(hidden_dim, output_dim)\n",
    "    def forward(self, x):\n",
    "        h0 = torch.zeros(self.num_layers, x.size(0), self.hidden_dim).requires_grad_()\n",
    "        c0 = torch.zeros(self.num_layers, x.size(0), self.hidden_dim).requires_grad_()\n",
    "        out, (hn, cn) = self.lstm(x, (h0.detach(), c0.detach()))\n",
    "        out = self.fc(out[:, -1, :]) \n",
    "        return out"
   ]
  },
  {
   "cell_type": "code",
   "execution_count": 12,
   "id": "19bc2707",
   "metadata": {},
   "outputs": [],
   "source": [
    "modellstm = LSTM(input_dim=input_dim, hidden_dim=hidden_dim, output_dim=output_dim, num_layers=num_layers)\n",
    "criterion = torch.nn.MSELoss(reduction='mean')\n",
    "optimiser = torch.optim.Adam(modellstm.parameters(), lr=0.01)"
   ]
  },
  {
   "cell_type": "code",
   "execution_count": 13,
   "id": "40ef76cc",
   "metadata": {
    "scrolled": true
   },
   "outputs": [
    {
     "name": "stdout",
     "output_type": "stream",
     "text": [
      "Training time: 1.279052734375\n"
     ]
    }
   ],
   "source": [
    "import time\n",
    "hist = np.zeros(num_epochs)\n",
    "start_time = time.time()\n",
    "lstm = []\n",
    "for t in range(num_epochs):\n",
    "    y_train_pred = modellstm(x_train)\n",
    "    loss = criterion(y_train_pred, y_train_lstm)\n",
    "    #print(\"Epoch \", t, \"MSE: \", loss.item())\n",
    "    hist[t] = loss.item()\n",
    "    optimiser.zero_grad()\n",
    "    loss.backward()\n",
    "    optimiser.step()\n",
    "    \n",
    "training_time = time.time()-start_time\n",
    "print(\"Training time: {}\".format(training_time))"
   ]
  },
  {
   "cell_type": "code",
   "execution_count": 14,
   "id": "55a4625d",
   "metadata": {},
   "outputs": [],
   "source": [
    "class GRU(nn.Module):\n",
    "    def __init__(self, input_dim, hidden_dim, num_layers, output_dim):\n",
    "        super(GRU, self).__init__()\n",
    "        self.hidden_dim = hidden_dim\n",
    "        self.num_layers = num_layers\n",
    "        \n",
    "        self.gru = nn.GRU(input_dim, hidden_dim, num_layers, batch_first=True)\n",
    "        self.fc = nn.Linear(hidden_dim, output_dim)\n",
    "\n",
    "    def forward(self, x):\n",
    "        h0 = torch.zeros(self.num_layers, x.size(0), self.hidden_dim).requires_grad_()\n",
    "        out, (hn) = self.gru(x, (h0.detach()))\n",
    "        out = self.fc(out[:, -1, :]) \n",
    "        return out"
   ]
  },
  {
   "cell_type": "code",
   "execution_count": 15,
   "id": "2761d5ef",
   "metadata": {},
   "outputs": [],
   "source": [
    "modelgru = GRU(input_dim=input_dim, hidden_dim=hidden_dim, output_dim=output_dim, num_layers=num_layers)\n",
    "criterion = torch.nn.MSELoss(reduction='mean')\n",
    "optimiser = torch.optim.Adam(modelgru.parameters(), lr=0.01)"
   ]
  },
  {
   "cell_type": "code",
   "execution_count": 16,
   "id": "a910244a",
   "metadata": {
    "scrolled": false
   },
   "outputs": [
    {
     "name": "stdout",
     "output_type": "stream",
     "text": [
      "Training time: 2.6542739868164062\n"
     ]
    }
   ],
   "source": [
    "import time\n",
    "hist = np.zeros(num_epochs)\n",
    "start_time = time.time()\n",
    "lstm = []\n",
    "for t in range(num_epochs):\n",
    "    y_train_pred = modelgru(x_train)\n",
    "    loss = criterion(y_train_pred, y_train_lstm)\n",
    "    #print(\"Epoch \", t, \"MSE: \", loss.item())\n",
    "    hist[t] = loss.item()\n",
    "    optimiser.zero_grad()\n",
    "    loss.backward()\n",
    "    optimiser.step()\n",
    "    \n",
    "training_time = time.time()-start_time\n",
    "print(\"Training time: {}\".format(training_time))"
   ]
  },
  {
   "cell_type": "code",
   "execution_count": 17,
   "id": "2eff9f8b",
   "metadata": {},
   "outputs": [
    {
     "data": {
      "text/plain": [
       "Text(0.5, 1.0, 'lstm')"
      ]
     },
     "execution_count": 17,
     "metadata": {},
     "output_type": "execute_result"
    },
    {
     "data": {
      "image/png": "[encoded data removed]",
      "text/plain": [
       "<Figure size 640x480 with 1 Axes>"
      ]
     },
     "metadata": {},
     "output_type": "display_data"
    }
   ],
   "source": [
    "pred = modellstm(x_test).detach().numpy().T[0]\n",
    "actu = y_test_lstm.detach().numpy().T[0]\n",
    "plt.scatter(pred,actu)\n",
    "plt.ylabel(\"actual\")\n",
    "plt.xlabel(\"predicted\")\n",
    "plt.title(\"lstm\")"
   ]
  },
  {
   "cell_type": "code",
   "execution_count": 18,
   "id": "a3fac1c3",
   "metadata": {},
   "outputs": [
    {
     "data": {
      "text/plain": [
       "Text(0.5, 1.0, 'gru')"
      ]
     },
     "execution_count": 18,
     "metadata": {},
     "output_type": "execute_result"
    },
    {
     "data": {
      "image/png": "[encoded data removed]",
      "text/plain": [
       "<Figure size 640x480 with 1 Axes>"
      ]
     },
     "metadata": {},
     "output_type": "display_data"
    }
   ],
   "source": [
    "pred = modelgru(x_test).detach().numpy().T[0]\n",
    "actu = y_test_gru.detach().numpy().T[0]\n",
    "plt.scatter(pred,actu)\n",
    "plt.ylabel(\"actual\")\n",
    "plt.xlabel(\"predicted\")\n",
    "plt.title(\"gru\")"
   ]
  },
  {
   "cell_type": "code",
   "execution_count": null,
   "id": "3d7e7c22",
   "metadata": {},
   "outputs": [],
   "source": []
  }
 ],
 "metadata": {
  "kernelspec": {
   "display_name": "Python 3 (ipykernel)",
   "language": "python",
   "name": "python3"
  },
  "language_info": {
   "codemirror_mode": {
    "name": "ipython",
    "version": 3
   },
   "file_extension": ".py",
   "mimetype": "text/x-python",
   "name": "python",
   "nbconvert_exporter": "python",
   "pygments_lexer": "ipython3",
   "version": "3.11.3"
  }
 },
 "nbformat": 4,
 "nbformat_minor": 5
}
