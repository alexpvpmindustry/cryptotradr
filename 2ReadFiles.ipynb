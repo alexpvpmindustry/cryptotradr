{
 "cells": [
  {
   "cell_type": "markdown",
   "id": "28efd93e",
   "metadata": {},
   "source": [
    "# read the files and plot them"
   ]
  },
  {
   "cell_type": "code",
   "execution_count": null,
   "id": "b79b3f40",
   "metadata": {},
   "outputs": [],
   "source": []
  }
 ],
 "metadata": {
  "kernelspec": {
   "display_name": "Python 3 (ipykernel)",
   "language": "python",
   "name": "python3"
  },
  "language_info": {
   "codemirror_mode": {
    "name": "ipython",
    "version": 3
   },
   "file_extension": ".py",
   "mimetype": "text/x-python",
   "name": "python",
   "nbconvert_exporter": "python",
   "pygments_lexer": "ipython3",
   "version": "3.11.3"
  }
 },
 "nbformat": 4,
 "nbformat_minor": 5
}
