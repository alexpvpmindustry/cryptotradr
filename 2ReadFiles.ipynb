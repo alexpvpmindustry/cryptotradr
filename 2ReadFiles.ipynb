{
 "cells": [
  {
   "cell_type": "markdown",
   "id": "28efd93e",
   "metadata": {},
   "source": [
    "# read the files and plot them"
   ]
  },
  {
   "cell_type": "code",
   "execution_count": 1,
   "id": "b79b3f40",
   "metadata": {},
   "outputs": [],
   "source": [
    "import numpy as np\n",
    "import pandas as pd\n",
    "import mplfinance as mpf\n",
    "import os\n",
    "from glob import glob\n",
    "import matplotlib.pyplot as plt\n",
    "%matplotlib inline\n",
    "from collections import Counter\n",
    "import mplfinance as mpf"
   ]
  },
  {
   "cell_type": "markdown",
   "id": "f5414e27",
   "metadata": {},
   "source": [
    "# read data with the same ticker with the same interval into 1 dataframe"
   ]
  },
  {
   "cell_type": "code",
   "execution_count": 2,
   "id": "44a5aa13",
   "metadata": {},
   "outputs": [],
   "source": [
    "tickerpair=\"BTCUSDT\"\n",
    "interval=\"30m\""
   ]
  },
  {
   "cell_type": "code",
   "execution_count": 3,
   "id": "650d757a",
   "metadata": {},
   "outputs": [],
   "source": [
    "intervals=['1m','3m','5m','15m','30m','1h','2h','3h','4h','6h','8h','12h','1d','3d','1w','1Month']\n",
    "years=sorted(set([g.split(\"_\")[2] for g in glob(f\"kline_data\\\\{tickerpair}/*\")]))"
   ]
  },
  {
   "cell_type": "code",
   "execution_count": 4,
   "id": "0bf9dfc1",
   "metadata": {},
   "outputs": [],
   "source": [
    "%%time\n",
    "df = [pd.read_csv(g) for g in sorted(glob(f\"kline_data\\\\{tickerpair}/*\")) if f\"_{interval}.csv\" in g]\n",
    "df = pd.concat(df, ignore_index=True).drop_duplicates().reset_index(drop=True)"
   ]
  },
  {
   "cell_type": "code",
   "execution_count": 5,
   "id": "ddd35784",
   "metadata": {},
   "outputs": [],
   "source": [
    "## formating for mplfinance\n",
    "dfmpl=df[[\"open_time\",\"open\",\"high\",\"low\",\"close\",\"volume\"]]\n",
    "dfmpl = dfmpl.rename(columns={\"open_time\":\"Date\",\"open\":\"Open\",\"high\":\"High\",\"low\":\"Low\",\"close\":\"Close\",\"volume\":\"Volume\"})\n",
    "dfmpl=dfmpl.set_index(\"Date\")\n",
    "dfmpl.index = pd.to_datetime(dfmpl.index,unit=\"ms\")\n",
    "print(len(dfmpl))\n",
    "dfmpl=dfmpl.iloc[-500:]"
   ]
  },
  {
   "cell_type": "code",
   "execution_count": 6,
   "id": "9c3015f4",
   "metadata": {},
   "outputs": [],
   "source": [
    "mpf.plot(dfmpl)"
   ]
  },
  {
   "cell_type": "code",
   "execution_count": null,
   "id": "eb11627c",
   "metadata": {},
   "outputs": [],
   "source": []
  }
 ],
 "metadata": {
  "kernelspec": {
   "display_name": "Python 3 (ipykernel)",
   "language": "python",
   "name": "python3"
  },
  "language_info": {
   "codemirror_mode": {
    "name": "ipython",
    "version": 3
   },
   "file_extension": ".py",
   "mimetype": "text/x-python",
   "name": "python",
   "nbconvert_exporter": "python",
   "pygments_lexer": "ipython3",
   "version": "3.11.3"
  }
 },
 "nbformat": 4,
 "nbformat_minor": 5
}
