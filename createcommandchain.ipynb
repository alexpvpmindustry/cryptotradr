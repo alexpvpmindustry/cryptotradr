{
 "cells": [
  {
   "cell_type": "code",
   "execution_count": 3,
   "id": "f06c97c4",
   "metadata": {},
   "outputs": [
    {
     "data": {
      "text/plain": [
       "'python run_signals_0_0_0.py 0 & python run_signals_0_0_0.py 1 & python run_signals_0_0_0.py 2 & python run_signals_0_0_0.py 3 & python run_signals_0_0_0.py 4 & python run_signals_0_0_0.py 5 & python run_signals_0_0_0.py 6 & python run_signals_0_0_0.py 7 & python run_signals_0_0_0.py 8 & python run_signals_0_0_0.py 9 & python run_signals_0_0_0.py 10 & python run_signals_0_0_0.py 11 & python run_signals_0_0_0.py 12 & python run_signals_0_0_0.py 13 & python run_signals_0_0_0.py 14 & '"
      ]
     },
     "execution_count": 3,
     "metadata": {},
     "output_type": "execute_result"
    }
   ],
   "source": [
    "\"\".join([f\"python run_signals_0_0_0.py {i} & \" for i in range(15)])"
   ]
  },
  {
   "cell_type": "code",
   "execution_count": null,
   "id": "9ed58c6b",
   "metadata": {},
   "outputs": [],
   "source": []
  }
 ],
 "metadata": {
  "kernelspec": {
   "display_name": "Python 3 (ipykernel)",
   "language": "python",
   "name": "python3"
  },
  "language_info": {
   "codemirror_mode": {
    "name": "ipython",
    "version": 3
   },
   "file_extension": ".py",
   "mimetype": "text/x-python",
   "name": "python",
   "nbconvert_exporter": "python",
   "pygments_lexer": "ipython3",
   "version": "3.10.11"
  }
 },
 "nbformat": 4,
 "nbformat_minor": 5
}
