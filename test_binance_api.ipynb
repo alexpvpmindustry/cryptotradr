{
 "cells": [
  {
   "cell_type": "code",
   "execution_count": 2,
   "id": "b7a478f0",
   "metadata": {},
   "outputs": [],
   "source": [
    "import json\n",
    "from binance.client import Client"
   ]
  },
  {
   "cell_type": "code",
   "execution_count": 3,
   "id": "06a860ac",
   "metadata": {},
   "outputs": [],
   "source": [
    "config = json.load(open(\"secrets.config\",\"r\"))\n",
    "bin_api_key=config[\"bin_api_key\"]\n",
    "bin_api_secr=config[\"bin_api_secr\"]"
   ]
  },
  {
   "cell_type": "code",
   "execution_count": 7,
   "id": "a57388c9",
   "metadata": {},
   "outputs": [],
   "source": [
    "client = Client(bin_api_key, bin_api_secr)"
   ]
  },
  {
   "cell_type": "code",
   "execution_count": 8,
   "id": "f7976f9b",
   "metadata": {},
   "outputs": [
    {
     "data": {
      "text/plain": [
       "{'asset': 'LTC', 'free': '2.03347887', 'locked': '0.00000000'}"
      ]
     },
     "execution_count": 8,
     "metadata": {},
     "output_type": "execute_result"
    }
   ],
   "source": [
    "client.get_asset_balance(\"LTC\")"
   ]
  },
  {
   "cell_type": "code",
   "execution_count": 9,
   "id": "1900424c",
   "metadata": {},
   "outputs": [
    {
     "name": "stdout",
     "output_type": "stream",
     "text": [
      "Wall time: 195 ms\n"
     ]
    }
   ],
   "source": [
    "%%time\n",
    "order = client.order_market_sell(\n",
    "    symbol='LTCTUSD',\n",
    "    quantity=0.15)"
   ]
  },
  {
   "cell_type": "code",
   "execution_count": 10,
   "id": "6370320c",
   "metadata": {},
   "outputs": [
    {
     "data": {
      "text/plain": [
       "{'symbol': 'LTCTUSD',\n",
       " 'orderId': 100947847,\n",
       " 'orderListId': -1,\n",
       " 'clientOrderId': '3xSLeIjKnw7J9J8aIqz30M',\n",
       " 'transactTime': 1688837245338,\n",
       " 'price': '0.00000000',\n",
       " 'origQty': '0.15000000',\n",
       " 'executedQty': '0.15000000',\n",
       " 'cummulativeQuoteQty': '14.65950000',\n",
       " 'status': 'FILLED',\n",
       " 'timeInForce': 'GTC',\n",
       " 'type': 'MARKET',\n",
       " 'side': 'SELL',\n",
       " 'workingTime': 1688837245338,\n",
       " 'fills': [{'price': '97.73000000',\n",
       "   'qty': '0.15000000',\n",
       "   'commission': '0.01465950',\n",
       "   'commissionAsset': 'TUSD',\n",
       "   'tradeId': 1141038}],\n",
       " 'selfTradePreventionMode': 'NONE'}"
      ]
     },
     "execution_count": 10,
     "metadata": {},
     "output_type": "execute_result"
    }
   ],
   "source": [
    "order"
   ]
  },
  {
   "cell_type": "code",
   "execution_count": null,
   "id": "b74cc8bf",
   "metadata": {},
   "outputs": [],
   "source": []
  }
 ],
 "metadata": {
  "kernelspec": {
   "display_name": "Python 3 (ipykernel)",
   "language": "python",
   "name": "python3"
  },
  "language_info": {
   "codemirror_mode": {
    "name": "ipython",
    "version": 3
   },
   "file_extension": ".py",
   "mimetype": "text/x-python",
   "name": "python",
   "nbconvert_exporter": "python",
   "pygments_lexer": "ipython3",
   "version": "3.7.16"
  }
 },
 "nbformat": 4,
 "nbformat_minor": 5
}
