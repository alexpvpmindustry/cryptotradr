{
 "cells": [
  {
   "cell_type": "code",
   "execution_count": 1,
   "id": "b7a478f0",
   "metadata": {},
   "outputs": [],
   "source": [
    "import json\n",
    "from binance.client import Client"
   ]
  },
  {
   "cell_type": "code",
   "execution_count": 2,
   "id": "06a860ac",
   "metadata": {},
   "outputs": [],
   "source": [
    "config = json.load(open(\"secrets.config\",\"r\"))\n",
    "bin_api_key=config[\"bin_api_key\"]\n",
    "bin_api_secr=config[\"bin_api_secr\"]"
   ]
  },
  {
   "cell_type": "code",
   "execution_count": 3,
   "id": "a57388c9",
   "metadata": {},
   "outputs": [],
   "source": [
    "client = Client(bin_api_key, bin_api_secr)"
   ]
  },
  {
   "cell_type": "code",
   "execution_count": 12,
   "id": "0d7e3731",
   "metadata": {},
   "outputs": [
    {
     "data": {
      "text/plain": [
       "{'lastUpdateId': 5996712854,\n",
       " 'bids': [['18.51000000', '298.50000000']],\n",
       " 'asks': [['18.52000000', '618.39000000']]}"
      ]
     },
     "execution_count": 12,
     "metadata": {},
     "output_type": "execute_result"
    }
   ],
   "source": [
    "client.get_order_book(symbol=\"ETCUSDT\",limit=1)"
   ]
  },
  {
   "cell_type": "code",
   "execution_count": 4,
   "id": "f7976f9b",
   "metadata": {},
   "outputs": [
    {
     "data": {
      "text/plain": [
       "{'asset': 'LTC', 'free': '0.00002887', 'locked': '0.38300000'}"
      ]
     },
     "execution_count": 4,
     "metadata": {},
     "output_type": "execute_result"
    }
   ],
   "source": [
    "client.get_asset_balance(\"LTC\")"
   ]
  },
  {
   "cell_type": "code",
   "execution_count": 13,
   "id": "1900424c",
   "metadata": {},
   "outputs": [
    {
     "name": "stdout",
     "output_type": "stream",
     "text": [
      "APIError(code=-2010): Account has insufficient balance for requested action.\n",
      "APIError(code=-2010): Account has insufficient balance for requested action.\n",
      "True\n"
     ]
    }
   ],
   "source": [
    "from binance.exceptions import BinanceAPIException\n",
    "try:\n",
    "    order = client.order_market_sell(\n",
    "        symbol='LTCTUSD',\n",
    "        quantity=0.15)\n",
    "except BinanceAPIException as e:\n",
    "    print(e)\n",
    "    print(str(e))\n",
    "    if \"Account has insufficient balance for requested action.\" in str(e):\n",
    "        print(True)"
   ]
  },
  {
   "cell_type": "code",
   "execution_count": 10,
   "id": "6370320c",
   "metadata": {},
   "outputs": [
    {
     "data": {
      "text/plain": [
       "{'symbol': 'LTCTUSD',\n",
       " 'orderId': 100947847,\n",
       " 'orderListId': -1,\n",
       " 'clientOrderId': '3xSLeIjKnw7J9J8aIqz30M',\n",
       " 'transactTime': 1688837245338,\n",
       " 'price': '0.00000000',\n",
       " 'origQty': '0.15000000',\n",
       " 'executedQty': '0.15000000',\n",
       " 'cummulativeQuoteQty': '14.65950000',\n",
       " 'status': 'FILLED',\n",
       " 'timeInForce': 'GTC',\n",
       " 'type': 'MARKET',\n",
       " 'side': 'SELL',\n",
       " 'workingTime': 1688837245338,\n",
       " 'fills': [{'price': '97.73000000',\n",
       "   'qty': '0.15000000',\n",
       "   'commission': '0.01465950',\n",
       "   'commissionAsset': 'TUSD',\n",
       "   'tradeId': 1141038}],\n",
       " 'selfTradePreventionMode': 'NONE'}"
      ]
     },
     "execution_count": 10,
     "metadata": {},
     "output_type": "execute_result"
    }
   ],
   "source": [
    "order"
   ]
  },
  {
   "cell_type": "code",
   "execution_count": 8,
   "id": "5b2b313a",
   "metadata": {},
   "outputs": [
    {
     "name": "stdout",
     "output_type": "stream",
     "text": [
      "CPU times: total: 0 ns\n",
      "Wall time: 104 ms\n"
     ]
    }
   ],
   "source": [
    "%%time\n",
    "order = client.order_market_sell(\n",
    "    symbol='LTCTUSD',\n",
    "    quantity=0.15)"
   ]
  },
  {
   "cell_type": "code",
   "execution_count": 9,
   "id": "b74cc8bf",
   "metadata": {
    "collapsed": true
   },
   "outputs": [
    {
     "data": {
      "text/plain": [
       "{'symbol': 'LTCTUSD',\n",
       " 'orderId': 100964593,\n",
       " 'orderListId': -1,\n",
       " 'clientOrderId': 'QEl3Dupy7CLGH6smaeDM3T',\n",
       " 'transactTime': 1688863506078,\n",
       " 'price': '0.00000000',\n",
       " 'origQty': '0.15000000',\n",
       " 'executedQty': '0.15000000',\n",
       " 'cummulativeQuoteQty': '14.68350000',\n",
       " 'status': 'FILLED',\n",
       " 'timeInForce': 'GTC',\n",
       " 'type': 'MARKET',\n",
       " 'side': 'SELL',\n",
       " 'workingTime': 1688863506078,\n",
       " 'fills': [{'price': '97.89000000',\n",
       "   'qty': '0.15000000',\n",
       "   'commission': '0.01468350',\n",
       "   'commissionAsset': 'TUSD',\n",
       "   'tradeId': 1141128}],\n",
       " 'selfTradePreventionMode': 'NONE'}"
      ]
     },
     "execution_count": 9,
     "metadata": {},
     "output_type": "execute_result"
    }
   ],
   "source": [
    "order"
   ]
  },
  {
   "cell_type": "code",
   "execution_count": 10,
   "id": "8c9e7db6",
   "metadata": {},
   "outputs": [
    {
     "data": {
      "text/plain": [
       "{'asset': 'LTC', 'free': '1.73347887', 'locked': '0.00000000'}"
      ]
     },
     "execution_count": 10,
     "metadata": {},
     "output_type": "execute_result"
    }
   ],
   "source": [
    "client.get_asset_balance(\"LTC\")"
   ]
  },
  {
   "cell_type": "code",
   "execution_count": 11,
   "id": "0a08e9c0",
   "metadata": {},
   "outputs": [],
   "source": [
    "order = client.order_market_buy(\n",
    "    symbol='LTCTUSD',\n",
    "    quantity=0.15)"
   ]
  },
  {
   "cell_type": "code",
   "execution_count": 12,
   "id": "31fa6a61",
   "metadata": {},
   "outputs": [
    {
     "data": {
      "text/plain": [
       "{'asset': 'LTC', 'free': '1.88332887', 'locked': '0.00000000'}"
      ]
     },
     "execution_count": 12,
     "metadata": {},
     "output_type": "execute_result"
    }
   ],
   "source": [
    "client.get_asset_balance(\"LTC\")"
   ]
  },
  {
   "cell_type": "code",
   "execution_count": 51,
   "id": "ef5f625e",
   "metadata": {},
   "outputs": [
    {
     "data": {
      "text/plain": [
       "828"
      ]
     },
     "execution_count": 51,
     "metadata": {},
     "output_type": "execute_result"
    }
   ],
   "source": [
    "#tickers= [c for c in client.get_all_tickers() if (\"TUSD\" in c[\"symbol\"])or(\"BUSD\" in c[\"symbol\"])and(\"USDT\" not in c[\"symbol\"])]\n",
    "tickers= [c for c in client.get_all_tickers() if c[\"symbol\"][-4:] in [\"USDT\",\"BUSD\"]]\n",
    "len(tickers)"
   ]
  },
  {
   "cell_type": "code",
   "execution_count": 48,
   "id": "3b49bb8b",
   "metadata": {},
   "outputs": [
    {
     "data": {
      "text/plain": [
       "[{'symbol': 'ETCUSDT', 'makerCommission': '0.001', 'takerCommission': '0.001'}]"
      ]
     },
     "execution_count": 48,
     "metadata": {},
     "output_type": "execute_result"
    }
   ],
   "source": [
    "client.get_trade_fee(symbol=\"ETCUSDT\")"
   ]
  },
  {
   "cell_type": "code",
   "execution_count": 81,
   "id": "b0abe261",
   "metadata": {},
   "outputs": [],
   "source": [
    "def get_current_price(symbol):\n",
    "    data = client.get_order_book(symbol=symbol,limit=1)\n",
    "    current_price=float(data[\"bids\"][0][0])*0.5+float(data[\"asks\"][0][0])*0.5\n",
    "    return current_price"
   ]
  },
  {
   "cell_type": "code",
   "execution_count": 82,
   "id": "cca344c6",
   "metadata": {},
   "outputs": [
    {
     "data": {
      "text/plain": [
       "18.875"
      ]
     },
     "execution_count": 82,
     "metadata": {},
     "output_type": "execute_result"
    }
   ],
   "source": [
    "get_current_price(\"ETCUSDT\")"
   ]
  },
  {
   "cell_type": "code",
   "execution_count": 38,
   "id": "a613ed7a",
   "metadata": {},
   "outputs": [
    {
     "data": {
      "text/plain": [
       "({'asset': 'ETC', 'free': '0.00000000', 'locked': '0.00000000'},\n",
       " {'asset': 'USDT', 'free': '5.96592810', 'locked': '0.00000000'},\n",
       " {'asset': 'LTC', 'free': '1.88332887', 'locked': '0.00000000'})"
      ]
     },
     "execution_count": 38,
     "metadata": {},
     "output_type": "execute_result"
    }
   ],
   "source": [
    "client.get_asset_balance(\"ETC\"),client.get_asset_balance(\"USDT\"),client.get_asset_balance(\"LTC\")"
   ]
  },
  {
   "cell_type": "code",
   "execution_count": 39,
   "id": "4aa5c276",
   "metadata": {},
   "outputs": [],
   "source": [
    "order = client.order_market_sell(\n",
    "    symbol='LTCUSDT',\n",
    "    quantity=1.5)"
   ]
  },
  {
   "cell_type": "code",
   "execution_count": 40,
   "id": "5623b03b",
   "metadata": {},
   "outputs": [
    {
     "data": {
      "text/plain": [
       "{'symbol': 'LTCUSDT',\n",
       " 'orderId': 3626361032,\n",
       " 'orderListId': -1,\n",
       " 'clientOrderId': 'r0TOQYKANJal6oHfGVvojL',\n",
       " 'transactTime': 1688913722611,\n",
       " 'price': '0.00000000',\n",
       " 'origQty': '1.50000000',\n",
       " 'executedQty': '1.50000000',\n",
       " 'cummulativeQuoteQty': '144.67500000',\n",
       " 'status': 'FILLED',\n",
       " 'timeInForce': 'GTC',\n",
       " 'type': 'MARKET',\n",
       " 'side': 'SELL',\n",
       " 'workingTime': 1688913722611,\n",
       " 'fills': [{'price': '96.45000000',\n",
       "   'qty': '0.50000000',\n",
       "   'commission': '0.04822500',\n",
       "   'commissionAsset': 'USDT',\n",
       "   'tradeId': 299083909},\n",
       "  {'price': '96.45000000',\n",
       "   'qty': '1.00000000',\n",
       "   'commission': '0.09645000',\n",
       "   'commissionAsset': 'USDT',\n",
       "   'tradeId': 299083910}],\n",
       " 'selfTradePreventionMode': 'NONE'}"
      ]
     },
     "execution_count": 40,
     "metadata": {},
     "output_type": "execute_result"
    }
   ],
   "source": [
    "order"
   ]
  },
  {
   "cell_type": "code",
   "execution_count": 41,
   "id": "6b6dead4",
   "metadata": {},
   "outputs": [
    {
     "data": {
      "text/plain": [
       "({'asset': 'ETC', 'free': '0.00000000', 'locked': '0.00000000'},\n",
       " {'asset': 'USDT', 'free': '150.49625310', 'locked': '0.00000000'},\n",
       " {'asset': 'LTC', 'free': '0.38332887', 'locked': '0.00000000'})"
      ]
     },
     "execution_count": 41,
     "metadata": {},
     "output_type": "execute_result"
    }
   ],
   "source": [
    "client.get_asset_balance(\"ETC\"),client.get_asset_balance(\"USDT\"),client.get_asset_balance(\"LTC\")"
   ]
  },
  {
   "cell_type": "code",
   "execution_count": 42,
   "id": "e9d95add",
   "metadata": {},
   "outputs": [
    {
     "name": "stdout",
     "output_type": "stream",
     "text": [
      "CPU times: total: 0 ns\n",
      "Wall time: 89.7 ms\n"
     ]
    },
    {
     "data": {
      "text/plain": [
       "'FILLED'"
      ]
     },
     "execution_count": 42,
     "metadata": {},
     "output_type": "execute_result"
    }
   ],
   "source": [
    "order = client.order_market_buy(\n",
    "    symbol='ETCUSDT',\n",
    "    quantity=0.7)\n",
    "order[\"status\"]"
   ]
  },
  {
   "cell_type": "code",
   "execution_count": 44,
   "id": "580cd00a",
   "metadata": {},
   "outputs": [
    {
     "data": {
      "text/plain": [
       "{'symbol': 'ETCUSDT',\n",
       " 'orderId': 3141661434,\n",
       " 'orderListId': -1,\n",
       " 'clientOrderId': '0zxfOCMXXvQFlHKeG4vhYX',\n",
       " 'transactTime': 1688913794259,\n",
       " 'price': '0.00000000',\n",
       " 'origQty': '0.70000000',\n",
       " 'executedQty': '0.70000000',\n",
       " 'cummulativeQuoteQty': '13.18100000',\n",
       " 'status': 'FILLED',\n",
       " 'timeInForce': 'GTC',\n",
       " 'type': 'MARKET',\n",
       " 'side': 'BUY',\n",
       " 'workingTime': 1688913794259,\n",
       " 'fills': [{'price': '18.83000000',\n",
       "   'qty': '0.70000000',\n",
       "   'commission': '0.00070000',\n",
       "   'commissionAsset': 'ETC',\n",
       "   'tradeId': 181354158}],\n",
       " 'selfTradePreventionMode': 'NONE'}"
      ]
     },
     "execution_count": 44,
     "metadata": {},
     "output_type": "execute_result"
    }
   ],
   "source": [
    "order"
   ]
  },
  {
   "cell_type": "code",
   "execution_count": 43,
   "id": "fb1d3cec",
   "metadata": {},
   "outputs": [
    {
     "data": {
      "text/plain": [
       "({'asset': 'ETC', 'free': '0.69930000', 'locked': '0.00000000'},\n",
       " {'asset': 'USDT', 'free': '137.31525310', 'locked': '0.00000000'},\n",
       " {'asset': 'LTC', 'free': '0.38332887', 'locked': '0.00000000'})"
      ]
     },
     "execution_count": 43,
     "metadata": {},
     "output_type": "execute_result"
    }
   ],
   "source": [
    "client.get_asset_balance(\"ETC\"),client.get_asset_balance(\"USDT\"),client.get_asset_balance(\"LTC\")"
   ]
  },
  {
   "cell_type": "code",
   "execution_count": null,
   "id": "08e58718",
   "metadata": {},
   "outputs": [],
   "source": []
  },
  {
   "cell_type": "code",
   "execution_count": null,
   "id": "694c2b29",
   "metadata": {},
   "outputs": [],
   "source": []
  },
  {
   "cell_type": "code",
   "execution_count": null,
   "id": "76cd4756",
   "metadata": {},
   "outputs": [],
   "source": []
  },
  {
   "cell_type": "code",
   "execution_count": null,
   "id": "7a16a398",
   "metadata": {},
   "outputs": [],
   "source": []
  },
  {
   "cell_type": "code",
   "execution_count": 88,
   "id": "d771e2ab",
   "metadata": {},
   "outputs": [
    {
     "data": {
      "text/plain": [
       "1369"
      ]
     },
     "execution_count": 88,
     "metadata": {},
     "output_type": "execute_result"
    }
   ],
   "source": [
    "import requests \n",
    "base_url = 'https://api.binance.com' \n",
    "def get_base_currencies():\n",
    "    endpoint = '/api/v3/exchangeInfo'\n",
    "    url = base_url + endpoint\n",
    "    response = requests.get(url)\n",
    "\n",
    "    if response.status_code == 200:\n",
    "        exchange_info = response.json()\n",
    "        symbols = exchange_info['symbols']\n",
    "        tradeable = list()\n",
    "        base_currencies = set()\n",
    "        for symbol in symbols:\n",
    "            if symbol[\"status\"]=='TRADING' and symbol[\"isSpotTradingAllowed\"]:\n",
    "                base_currencies.add(symbol['baseAsset'])\n",
    "                tradeable.append(symbol)\n",
    "\n",
    "        return sorted(list(base_currencies)),symbols,tradeable\n",
    "    else:\n",
    "        print(f'Error: {response.status_code}')\n",
    "        return None,symbols,tradeable\n",
    "\n",
    "base_currencies,symbols,tradeable = get_base_currencies()\n",
    "#print(base_currencies)\n",
    "tradeable_tickers = [tt[\"symbol\"] for tt in tradeable]\n",
    "len(tradeable_tickers)"
   ]
  },
  {
   "cell_type": "code",
   "execution_count": 98,
   "id": "7e40ae6f",
   "metadata": {},
   "outputs": [
    {
     "name": "stdout",
     "output_type": "stream",
     "text": [
      "all pairs 2242\n",
      "spot tradeable pairs 1369\n",
      "with base pairs 794\n",
      "CPU times: total: 78.1 ms\n",
      "Wall time: 529 ms\n"
     ]
    }
   ],
   "source": [
    "%%time\n",
    "\n",
    "basetickers = [\"USDT\",\"ETH\",\"BTC\",\"BNB\",\"LTC\"]\n",
    "def get_high_volume_trading_pairs():\n",
    "    endpoint = '/api/v3/ticker/24hr'\n",
    "    url = base_url + endpoint\n",
    "    response = requests.get(url)\n",
    "\n",
    "    if response.status_code == 200:\n",
    "        trading_pairs_data = response.json()\n",
    "        trading_pairs = sorted(trading_pairs_data, key=lambda x: float(x['quoteVolume']), reverse=True)\n",
    "        print(\"all pairs\",len(trading_pairs))\n",
    "        trading_pairs = [sp for sp in trading_pairs if sp[\"symbol\"] in tradeable_tickers]\n",
    "        print(\"spot tradeable pairs\",len(trading_pairs))\n",
    "        trading_pairs = [sp for sp in trading_pairs if any(sp[\"symbol\"].endswith(bt) for bt in basetickers)]\n",
    "        print(\"with base pairs\",len(trading_pairs))\n",
    "        high_volume_pairs = []\n",
    "        for pair in trading_pairs[0:100]:\n",
    "            high_volume_pairs.append({\n",
    "                'symbol': pair['symbol'],\n",
    "                'quote_volume': float(pair['quoteVolume'])\n",
    "            })\n",
    "\n",
    "        return high_volume_pairs,trading_pairs\n",
    "    else:\n",
    "        print(f'Error: {response.status_code}')\n",
    "        return None,trading_pairs\n",
    "\n",
    "high_volume_trading_pairs,trading_pairs = get_high_volume_trading_pairs() "
   ]
  },
  {
   "cell_type": "code",
   "execution_count": 99,
   "id": "36c9bb45",
   "metadata": {
    "collapsed": true
   },
   "outputs": [
    {
     "data": {
      "text/plain": [
       "[{'symbol': 'BTCUSDT', 'quote_volume': 463556621.9385574},\n",
       " {'symbol': 'ETHUSDT', 'quote_volume': 266402153.005987},\n",
       " {'symbol': 'USDCUSDT', 'quote_volume': 117754068.2239},\n",
       " {'symbol': 'TUSDUSDT', 'quote_volume': 114305468.2289},\n",
       " {'symbol': 'BUSDUSDT', 'quote_volume': 106250168.8985},\n",
       " {'symbol': 'SOLUSDT', 'quote_volume': 100244536.7231},\n",
       " {'symbol': 'BNBUSDT', 'quote_volume': 58027661.4551},\n",
       " {'symbol': 'BCHUSDT', 'quote_volume': 57469281.0636},\n",
       " {'symbol': 'XRPUSDT', 'quote_volume': 49487833.5641},\n",
       " {'symbol': 'XVGUSDT', 'quote_volume': 47394244.903097},\n",
       " {'symbol': 'PONDUSDT', 'quote_volume': 44663035.9098415},\n",
       " {'symbol': 'AVAXUSDT', 'quote_volume': 42006839.2952},\n",
       " {'symbol': 'LTCUSDT', 'quote_volume': 39177388.19573},\n",
       " {'symbol': 'TROYUSDT', 'quote_volume': 36799399.853087},\n",
       " {'symbol': 'ARBUSDT', 'quote_volume': 35920807.58148},\n",
       " {'symbol': 'MATICUSDT', 'quote_volume': 34852583.22388},\n",
       " {'symbol': 'SHIBUSDT', 'quote_volume': 33113081.60839319},\n",
       " {'symbol': 'PNTUSDT', 'quote_volume': 32877910.579},\n",
       " {'symbol': 'ADAUSDT', 'quote_volume': 31893548.71673},\n",
       " {'symbol': 'WAVESUSDT', 'quote_volume': 31700299.11839},\n",
       " {'symbol': 'COMPUSDT', 'quote_volume': 22989718.44515},\n",
       " {'symbol': 'EURUSDT', 'quote_volume': 22781067.34925},\n",
       " {'symbol': 'DOGEUSDT', 'quote_volume': 21644899.43222},\n",
       " {'symbol': 'TRXUSDT', 'quote_volume': 20300629.698869},\n",
       " {'symbol': 'FTMUSDT', 'quote_volume': 19018437.2062},\n",
       " {'symbol': 'PEPEUSDT', 'quote_volume': 16738092.12680571},\n",
       " {'symbol': 'APTUSDT', 'quote_volume': 15465471.581129},\n",
       " {'symbol': 'BELUSDT', 'quote_volume': 15384061.18422},\n",
       " {'symbol': 'MKRUSDT', 'quote_volume': 14383659.8396},\n",
       " {'symbol': 'FILUSDT', 'quote_volume': 14027523.76783},\n",
       " {'symbol': 'INJUSDT', 'quote_volume': 13362652.2037},\n",
       " {'symbol': 'APEUSDT', 'quote_volume': 12878390.20441},\n",
       " {'symbol': 'OCEANUSDT', 'quote_volume': 12507142.7378},\n",
       " {'symbol': 'FIOUSDT', 'quote_volume': 11296553.59686},\n",
       " {'symbol': 'MAVUSDT', 'quote_volume': 10907680.3975},\n",
       " {'symbol': 'CFXUSDT', 'quote_volume': 10405288.4419},\n",
       " {'symbol': 'XMRUSDT', 'quote_volume': 10334610.2139},\n",
       " {'symbol': 'AAVEUSDT', 'quote_volume': 10149399.76523},\n",
       " {'symbol': 'EOSUSDT', 'quote_volume': 9950139.6654},\n",
       " {'symbol': 'ARPAUSDT', 'quote_volume': 9519987.02302},\n",
       " {'symbol': 'OPUSDT', 'quote_volume': 9487117.64768},\n",
       " {'symbol': 'LINAUSDT', 'quote_volume': 9401896.35183013},\n",
       " {'symbol': 'NEARUSDT', 'quote_volume': 9276916.9615},\n",
       " {'symbol': 'STORJUSDT', 'quote_volume': 8898825.6448},\n",
       " {'symbol': 'TOMOUSDT', 'quote_volume': 8837851.9809},\n",
       " {'symbol': 'OMUSDT', 'quote_volume': 8733204.7709},\n",
       " {'symbol': 'VIBUSDT', 'quote_volume': 8296524.45316},\n",
       " {'symbol': 'GALAUSDT', 'quote_volume': 8146812.81164},\n",
       " {'symbol': 'HIFIUSDT', 'quote_volume': 8120116.91474},\n",
       " {'symbol': 'LINKUSDT', 'quote_volume': 7962919.17046},\n",
       " {'symbol': 'SUIUSDT', 'quote_volume': 7678939.54869},\n",
       " {'symbol': 'ATOMUSDT', 'quote_volume': 7064885.91974},\n",
       " {'symbol': 'EDUUSDT', 'quote_volume': 6808788.78171},\n",
       " {'symbol': 'LTOUSDT', 'quote_volume': 6611140.9546},\n",
       " {'symbol': 'FUNUSDT', 'quote_volume': 6447263.819585},\n",
       " {'symbol': 'ACAUSDT', 'quote_volume': 6390963.230603},\n",
       " {'symbol': 'MASKUSDT', 'quote_volume': 6264046.464},\n",
       " {'symbol': 'DOTUSDT', 'quote_volume': 6256066.82699},\n",
       " {'symbol': 'MTLUSDT', 'quote_volume': 6146666.0469},\n",
       " {'symbol': 'FIDAUSDT', 'quote_volume': 5892004.16586},\n",
       " {'symbol': 'ETCUSDT', 'quote_volume': 5849645.3763},\n",
       " {'symbol': 'NKNUSDT', 'quote_volume': 5790296.7578},\n",
       " {'symbol': 'OOKIUSDT', 'quote_volume': 5704348.839137},\n",
       " {'symbol': 'FLOWUSDT', 'quote_volume': 5483950.31591},\n",
       " {'symbol': 'UNIUSDT', 'quote_volume': 5316606.8736},\n",
       " {'symbol': 'RNDRUSDT', 'quote_volume': 5014737.34754},\n",
       " {'symbol': 'XECUSDT', 'quote_volume': 4943897.40395227},\n",
       " {'symbol': 'XLMUSDT', 'quote_volume': 4542769.701},\n",
       " {'symbol': 'GRTUSDT', 'quote_volume': 4536014.0483},\n",
       " {'symbol': 'LUNCUSDT', 'quote_volume': 4493778.26048473},\n",
       " {'symbol': 'STXUSDT', 'quote_volume': 4467342.25647},\n",
       " {'symbol': 'SANDUSDT', 'quote_volume': 4455450.1682},\n",
       " {'symbol': 'UFTUSDT', 'quote_volume': 4296587.9823},\n",
       " {'symbol': 'KAVAUSDT', 'quote_volume': 4262770.0019},\n",
       " {'symbol': 'MAGICUSDT', 'quote_volume': 4195856.90851},\n",
       " {'symbol': 'AGIXUSDT', 'quote_volume': 4163808.43251},\n",
       " {'symbol': 'CRVUSDT', 'quote_volume': 4093974.522},\n",
       " {'symbol': 'FETUSDT', 'quote_volume': 3983921.0503},\n",
       " {'symbol': 'DYDXUSDT', 'quote_volume': 3976838.214},\n",
       " {'symbol': 'IDUSDT', 'quote_volume': 3881714.16621},\n",
       " {'symbol': 'ALGOUSDT', 'quote_volume': 3675410.8442},\n",
       " {'symbol': 'WANUSDT', 'quote_volume': 3558563.4665},\n",
       " {'symbol': 'MANAUSDT', 'quote_volume': 3530298.9417},\n",
       " {'symbol': 'ERNUSDT', 'quote_volume': 3502863.8138},\n",
       " {'symbol': 'SNXUSDT', 'quote_volume': 3484099.4119},\n",
       " {'symbol': 'YFIUSDT', 'quote_volume': 3362060.98803},\n",
       " {'symbol': 'VETUSDT', 'quote_volume': 3252887.025765},\n",
       " {'symbol': 'RDNTUSDT', 'quote_volume': 3241424.519},\n",
       " {'symbol': 'PERLUSDT', 'quote_volume': 3117973.515455},\n",
       " {'symbol': 'OAXUSDT', 'quote_volume': 3021162.0932},\n",
       " {'symbol': 'NEOUSDT', 'quote_volume': 3013558.2017},\n",
       " {'symbol': 'AXSUSDT', 'quote_volume': 2982002.2924},\n",
       " {'symbol': 'SXPUSDT', 'quote_volume': 2934364.52172},\n",
       " {'symbol': 'ACHUSDT', 'quote_volume': 2924438.06655},\n",
       " {'symbol': 'STGUSDT', 'quote_volume': 2886300.07439},\n",
       " {'symbol': 'GMTUSDT', 'quote_volume': 2818764.88398},\n",
       " {'symbol': 'ZECUSDT', 'quote_volume': 2782800.46065},\n",
       " {'symbol': 'QNTUSDT', 'quote_volume': 2757850.068},\n",
       " {'symbol': 'EPXUSDT', 'quote_volume': 2638430.4713859},\n",
       " {'symbol': 'AMBUSDT', 'quote_volume': 2620767.50885}]"
      ]
     },
     "execution_count": 99,
     "metadata": {},
     "output_type": "execute_result"
    }
   ],
   "source": [
    "high_volume_trading_pairs"
   ]
  },
  {
   "cell_type": "code",
   "execution_count": 100,
   "id": "e0007ac4",
   "metadata": {},
   "outputs": [
    {
     "ename": "NameError",
     "evalue": "name 'SOLUSDT' is not defined",
     "output_type": "error",
     "traceback": [
      "\u001b[1;31m---------------------------------------------------------------------------\u001b[0m",
      "\u001b[1;31mNameError\u001b[0m                                 Traceback (most recent call last)",
      "Cell \u001b[1;32mIn[100], line 1\u001b[0m\n\u001b[1;32m----> 1\u001b[0m \u001b[43mSOLUSDT\u001b[49m,BCHUSDT,XRPUSDT,XVGUSDT,PONDUSDT,AVAXUSDT,TROYUSDT,ARBUSDT,MATICUSDT,PNTUSDT,SHIBUSDT,WAVESUSDT,\n",
      "\u001b[1;31mNameError\u001b[0m: name 'SOLUSDT' is not defined"
     ]
    }
   ],
   "source": [
    "SOLUSDT,BCHUSDT,XRPUSDT,XVGUSDT,PONDUSDT,AVAXUSDT,TROYUSDT,ARBUSDT,MATICUSDT,PNTUSDT,SHIBUSDT,WAVESUSDT,"
   ]
  },
  {
   "cell_type": "code",
   "execution_count": 101,
   "id": "1376b0d1",
   "metadata": {},
   "outputs": [],
   "source": [
    "from glob import glob"
   ]
  },
  {
   "cell_type": "code",
   "execution_count": 102,
   "id": "66bb0661",
   "metadata": {},
   "outputs": [
    {
     "name": "stdout",
     "output_type": "stream",
     "text": [
      "ETHUSDT\n",
      "XVGUSDT\n",
      "TROYUSDT\n",
      "PNTUSDT\n",
      "PEPEUSDT\n",
      "FIOUSDT\n",
      "MAVUSDT\n",
      "STORJUSDT\n",
      "OMUSDT\n",
      "SUIUSDT\n",
      "LTOUSDT\n",
      "FUNUSDT\n",
      "MTLUSDT\n",
      "NKNUSDT\n",
      "OOKIUSDT\n",
      "WANUSDT\n",
      "PERLUSDT\n",
      "EPXUSDT\n"
     ]
    }
   ],
   "source": [
    "for s in high_volume_trading_pairs:\n",
    "    symbol=s[\"symbol\"]\n",
    "    if len([ g for g in glob(\"kline_data/*\") if symbol in g])!=1:\n",
    "        print(symbol)"
   ]
  },
  {
   "cell_type": "code",
   "execution_count": 97,
   "id": "358c9eed",
   "metadata": {},
   "outputs": [
    {
     "data": {
      "text/plain": [
       "'PEPEUSDT'"
      ]
     },
     "execution_count": 97,
     "metadata": {},
     "output_type": "execute_result"
    }
   ],
   "source": [
    "symbol"
   ]
  },
  {
   "cell_type": "code",
   "execution_count": null,
   "id": "ab9df3c0",
   "metadata": {},
   "outputs": [],
   "source": []
  }
 ],
 "metadata": {
  "kernelspec": {
   "display_name": "Python 3 (ipykernel)",
   "language": "python",
   "name": "python3"
  },
  "language_info": {
   "codemirror_mode": {
    "name": "ipython",
    "version": 3
   },
   "file_extension": ".py",
   "mimetype": "text/x-python",
   "name": "python",
   "nbconvert_exporter": "python",
   "pygments_lexer": "ipython3",
   "version": "3.10.11"
  }
 },
 "nbformat": 4,
 "nbformat_minor": 5
}
