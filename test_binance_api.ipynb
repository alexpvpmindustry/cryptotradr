{
 "cells": [
  {
   "cell_type": "code",
   "execution_count": 13,
   "id": "b7a478f0",
   "metadata": {},
   "outputs": [],
   "source": [
    "import json\n",
    "from binance.client import Client"
   ]
  },
  {
   "cell_type": "code",
   "execution_count": 14,
   "id": "06a860ac",
   "metadata": {},
   "outputs": [],
   "source": [
    "config = json.load(open(\"secrets.config\",\"r\"))\n",
    "bin_api_key=config[\"bin_api_key\"]\n",
    "bin_api_secr=config[\"bin_api_secr\"]"
   ]
  },
  {
   "cell_type": "code",
   "execution_count": 69,
   "id": "a57388c9",
   "metadata": {},
   "outputs": [],
   "source": [
    "client = Client(bin_api_key, bin_api_secr)"
   ]
  },
  {
   "cell_type": "code",
   "execution_count": 70,
   "id": "f7976f9b",
   "metadata": {},
   "outputs": [
    {
     "data": {
      "text/plain": [
       "{'asset': 'LTC', 'free': '0.38332887', 'locked': '0.00000000'}"
      ]
     },
     "execution_count": 70,
     "metadata": {},
     "output_type": "execute_result"
    }
   ],
   "source": [
    "client.get_asset_balance(\"LTC\")"
   ]
  },
  {
   "cell_type": "code",
   "execution_count": 9,
   "id": "1900424c",
   "metadata": {},
   "outputs": [
    {
     "name": "stdout",
     "output_type": "stream",
     "text": [
      "Wall time: 195 ms\n"
     ]
    }
   ],
   "source": [
    "%%time\n",
    "order = client.order_market_sell(\n",
    "    symbol='LTCTUSD',\n",
    "    quantity=0.15)"
   ]
  },
  {
   "cell_type": "code",
   "execution_count": 10,
   "id": "6370320c",
   "metadata": {},
   "outputs": [
    {
     "data": {
      "text/plain": [
       "{'symbol': 'LTCTUSD',\n",
       " 'orderId': 100947847,\n",
       " 'orderListId': -1,\n",
       " 'clientOrderId': '3xSLeIjKnw7J9J8aIqz30M',\n",
       " 'transactTime': 1688837245338,\n",
       " 'price': '0.00000000',\n",
       " 'origQty': '0.15000000',\n",
       " 'executedQty': '0.15000000',\n",
       " 'cummulativeQuoteQty': '14.65950000',\n",
       " 'status': 'FILLED',\n",
       " 'timeInForce': 'GTC',\n",
       " 'type': 'MARKET',\n",
       " 'side': 'SELL',\n",
       " 'workingTime': 1688837245338,\n",
       " 'fills': [{'price': '97.73000000',\n",
       "   'qty': '0.15000000',\n",
       "   'commission': '0.01465950',\n",
       "   'commissionAsset': 'TUSD',\n",
       "   'tradeId': 1141038}],\n",
       " 'selfTradePreventionMode': 'NONE'}"
      ]
     },
     "execution_count": 10,
     "metadata": {},
     "output_type": "execute_result"
    }
   ],
   "source": [
    "order"
   ]
  },
  {
   "cell_type": "code",
   "execution_count": 8,
   "id": "d4af3093",
   "metadata": {},
   "outputs": [
    {
     "name": "stdout",
     "output_type": "stream",
     "text": [
      "CPU times: total: 0 ns\n",
      "Wall time: 104 ms\n"
     ]
    }
   ],
   "source": [
    "%%time\n",
    "order = client.order_market_sell(\n",
    "    symbol='LTCTUSD',\n",
    "    quantity=0.15)"
   ]
  },
  {
   "cell_type": "code",
   "execution_count": 9,
   "id": "b74cc8bf",
   "metadata": {
    "collapsed": true
   },
   "outputs": [
    {
     "data": {
      "text/plain": [
       "{'symbol': 'LTCTUSD',\n",
       " 'orderId': 100964593,\n",
       " 'orderListId': -1,\n",
       " 'clientOrderId': 'QEl3Dupy7CLGH6smaeDM3T',\n",
       " 'transactTime': 1688863506078,\n",
       " 'price': '0.00000000',\n",
       " 'origQty': '0.15000000',\n",
       " 'executedQty': '0.15000000',\n",
       " 'cummulativeQuoteQty': '14.68350000',\n",
       " 'status': 'FILLED',\n",
       " 'timeInForce': 'GTC',\n",
       " 'type': 'MARKET',\n",
       " 'side': 'SELL',\n",
       " 'workingTime': 1688863506078,\n",
       " 'fills': [{'price': '97.89000000',\n",
       "   'qty': '0.15000000',\n",
       "   'commission': '0.01468350',\n",
       "   'commissionAsset': 'TUSD',\n",
       "   'tradeId': 1141128}],\n",
       " 'selfTradePreventionMode': 'NONE'}"
      ]
     },
     "execution_count": 9,
     "metadata": {},
     "output_type": "execute_result"
    }
   ],
   "source": [
    "order"
   ]
  },
  {
   "cell_type": "code",
   "execution_count": 10,
   "id": "14e29ab5",
   "metadata": {},
   "outputs": [
    {
     "data": {
      "text/plain": [
       "{'asset': 'LTC', 'free': '1.73347887', 'locked': '0.00000000'}"
      ]
     },
     "execution_count": 10,
     "metadata": {},
     "output_type": "execute_result"
    }
   ],
   "source": [
    "client.get_asset_balance(\"LTC\")"
   ]
  },
  {
   "cell_type": "code",
   "execution_count": 11,
   "id": "40950e6f",
   "metadata": {},
   "outputs": [],
   "source": [
    "order = client.order_market_buy(\n",
    "    symbol='LTCTUSD',\n",
    "    quantity=0.15)"
   ]
  },
  {
   "cell_type": "code",
   "execution_count": 12,
   "id": "4995941e",
   "metadata": {},
   "outputs": [
    {
     "data": {
      "text/plain": [
       "{'asset': 'LTC', 'free': '1.88332887', 'locked': '0.00000000'}"
      ]
     },
     "execution_count": 12,
     "metadata": {},
     "output_type": "execute_result"
    }
   ],
   "source": [
    "client.get_asset_balance(\"LTC\")"
   ]
  },
  {
   "cell_type": "code",
   "execution_count": 51,
   "id": "f3207618",
   "metadata": {},
   "outputs": [
    {
     "data": {
      "text/plain": [
       "828"
      ]
     },
     "execution_count": 51,
     "metadata": {},
     "output_type": "execute_result"
    }
   ],
   "source": [
    "#tickers= [c for c in client.get_all_tickers() if (\"TUSD\" in c[\"symbol\"])or(\"BUSD\" in c[\"symbol\"])and(\"USDT\" not in c[\"symbol\"])]\n",
    "tickers= [c for c in client.get_all_tickers() if c[\"symbol\"][-4:] in [\"USDT\",\"BUSD\"]]\n",
    "len(tickers)"
   ]
  },
  {
   "cell_type": "code",
   "execution_count": 48,
   "id": "65a952d1",
   "metadata": {},
   "outputs": [
    {
     "data": {
      "text/plain": [
       "[{'symbol': 'ETCUSDT', 'makerCommission': '0.001', 'takerCommission': '0.001'}]"
      ]
     },
     "execution_count": 48,
     "metadata": {},
     "output_type": "execute_result"
    }
   ],
   "source": [
    "client.get_trade_fee(symbol=\"ETCUSDT\")"
   ]
  },
  {
   "cell_type": "code",
   "execution_count": 50,
   "id": "d98e24a7",
   "metadata": {},
   "outputs": [
    {
     "name": "stdout",
     "output_type": "stream",
     "text": [
      "CPU times: total: 15.6 ms\n",
      "Wall time: 83.1 ms\n"
     ]
    },
    {
     "data": {
      "text/plain": [
       "{'lastUpdateId': 1364873023,\n",
       " 'bids': [['18.83000000', '297.20000000'],\n",
       "  ['18.82000000', '1256.26000000'],\n",
       "  ['18.81000000', '637.48000000'],\n",
       "  ['18.80000000', '1551.20000000'],\n",
       "  ['18.79000000', '357.30000000'],\n",
       "  ['18.78000000', '1.68000000'],\n",
       "  ['18.77000000', '3.63000000'],\n",
       "  ['18.76000000', '78.14000000'],\n",
       "  ['18.75000000', '1021.26000000'],\n",
       "  ['18.74000000', '71.22000000']],\n",
       " 'asks': [['18.85000000', '174.84000000'],\n",
       "  ['18.86000000', '487.35000000'],\n",
       "  ['18.87000000', '857.75000000'],\n",
       "  ['18.88000000', '162.89000000'],\n",
       "  ['18.89000000', '1139.92000000'],\n",
       "  ['18.90000000', '0.58000000'],\n",
       "  ['18.91000000', '1028.86000000'],\n",
       "  ['18.92000000', '6.60000000'],\n",
       "  ['18.93000000', '112.89000000'],\n",
       "  ['18.94000000', '167.70000000']]}"
      ]
     },
     "execution_count": 50,
     "metadata": {},
     "output_type": "execute_result"
    }
   ],
   "source": [
    "%%time\n",
    "client.get_order_book(symbol=\"ETCBUSD\",limit=10)"
   ]
  },
  {
   "cell_type": "code",
   "execution_count": 38,
   "id": "b8e3e478",
   "metadata": {},
   "outputs": [
    {
     "data": {
      "text/plain": [
       "({'asset': 'ETC', 'free': '0.00000000', 'locked': '0.00000000'},\n",
       " {'asset': 'USDT', 'free': '5.96592810', 'locked': '0.00000000'},\n",
       " {'asset': 'LTC', 'free': '1.88332887', 'locked': '0.00000000'})"
      ]
     },
     "execution_count": 38,
     "metadata": {},
     "output_type": "execute_result"
    }
   ],
   "source": [
    "client.get_asset_balance(\"ETC\"),client.get_asset_balance(\"USDT\"),client.get_asset_balance(\"LTC\")"
   ]
  },
  {
   "cell_type": "code",
   "execution_count": 39,
   "id": "ec1975ea",
   "metadata": {},
   "outputs": [],
   "source": [
    "order = client.order_market_sell(\n",
    "    symbol='LTCUSDT',\n",
    "    quantity=1.5)"
   ]
  },
  {
   "cell_type": "code",
   "execution_count": 40,
   "id": "f2efb9e6",
   "metadata": {},
   "outputs": [
    {
     "data": {
      "text/plain": [
       "{'symbol': 'LTCUSDT',\n",
       " 'orderId': 3626361032,\n",
       " 'orderListId': -1,\n",
       " 'clientOrderId': 'r0TOQYKANJal6oHfGVvojL',\n",
       " 'transactTime': 1688913722611,\n",
       " 'price': '0.00000000',\n",
       " 'origQty': '1.50000000',\n",
       " 'executedQty': '1.50000000',\n",
       " 'cummulativeQuoteQty': '144.67500000',\n",
       " 'status': 'FILLED',\n",
       " 'timeInForce': 'GTC',\n",
       " 'type': 'MARKET',\n",
       " 'side': 'SELL',\n",
       " 'workingTime': 1688913722611,\n",
       " 'fills': [{'price': '96.45000000',\n",
       "   'qty': '0.50000000',\n",
       "   'commission': '0.04822500',\n",
       "   'commissionAsset': 'USDT',\n",
       "   'tradeId': 299083909},\n",
       "  {'price': '96.45000000',\n",
       "   'qty': '1.00000000',\n",
       "   'commission': '0.09645000',\n",
       "   'commissionAsset': 'USDT',\n",
       "   'tradeId': 299083910}],\n",
       " 'selfTradePreventionMode': 'NONE'}"
      ]
     },
     "execution_count": 40,
     "metadata": {},
     "output_type": "execute_result"
    }
   ],
   "source": [
    "order"
   ]
  },
  {
   "cell_type": "code",
   "execution_count": 41,
   "id": "b25150af",
   "metadata": {},
   "outputs": [
    {
     "data": {
      "text/plain": [
       "({'asset': 'ETC', 'free': '0.00000000', 'locked': '0.00000000'},\n",
       " {'asset': 'USDT', 'free': '150.49625310', 'locked': '0.00000000'},\n",
       " {'asset': 'LTC', 'free': '0.38332887', 'locked': '0.00000000'})"
      ]
     },
     "execution_count": 41,
     "metadata": {},
     "output_type": "execute_result"
    }
   ],
   "source": [
    "client.get_asset_balance(\"ETC\"),client.get_asset_balance(\"USDT\"),client.get_asset_balance(\"LTC\")"
   ]
  },
  {
   "cell_type": "code",
   "execution_count": 42,
   "id": "b3d43664",
   "metadata": {},
   "outputs": [
    {
     "name": "stdout",
     "output_type": "stream",
     "text": [
      "CPU times: total: 0 ns\n",
      "Wall time: 89.7 ms\n"
     ]
    },
    {
     "data": {
      "text/plain": [
       "'FILLED'"
      ]
     },
     "execution_count": 42,
     "metadata": {},
     "output_type": "execute_result"
    }
   ],
   "source": [
    "order = client.order_market_buy(\n",
    "    symbol='ETCUSDT',\n",
    "    quantity=0.7)\n",
    "order[\"status\"]"
   ]
  },
  {
   "cell_type": "code",
   "execution_count": 44,
   "id": "21c03875",
   "metadata": {},
   "outputs": [
    {
     "data": {
      "text/plain": [
       "{'symbol': 'ETCUSDT',\n",
       " 'orderId': 3141661434,\n",
       " 'orderListId': -1,\n",
       " 'clientOrderId': '0zxfOCMXXvQFlHKeG4vhYX',\n",
       " 'transactTime': 1688913794259,\n",
       " 'price': '0.00000000',\n",
       " 'origQty': '0.70000000',\n",
       " 'executedQty': '0.70000000',\n",
       " 'cummulativeQuoteQty': '13.18100000',\n",
       " 'status': 'FILLED',\n",
       " 'timeInForce': 'GTC',\n",
       " 'type': 'MARKET',\n",
       " 'side': 'BUY',\n",
       " 'workingTime': 1688913794259,\n",
       " 'fills': [{'price': '18.83000000',\n",
       "   'qty': '0.70000000',\n",
       "   'commission': '0.00070000',\n",
       "   'commissionAsset': 'ETC',\n",
       "   'tradeId': 181354158}],\n",
       " 'selfTradePreventionMode': 'NONE'}"
      ]
     },
     "execution_count": 44,
     "metadata": {},
     "output_type": "execute_result"
    }
   ],
   "source": [
    "order"
   ]
  },
  {
   "cell_type": "code",
   "execution_count": 43,
   "id": "bd113569",
   "metadata": {},
   "outputs": [
    {
     "data": {
      "text/plain": [
       "({'asset': 'ETC', 'free': '0.69930000', 'locked': '0.00000000'},\n",
       " {'asset': 'USDT', 'free': '137.31525310', 'locked': '0.00000000'},\n",
       " {'asset': 'LTC', 'free': '0.38332887', 'locked': '0.00000000'})"
      ]
     },
     "execution_count": 43,
     "metadata": {},
     "output_type": "execute_result"
    }
   ],
   "source": [
    "client.get_asset_balance(\"ETC\"),client.get_asset_balance(\"USDT\"),client.get_asset_balance(\"LTC\")"
   ]
  }
 ],
 "metadata": {
  "kernelspec": {
   "display_name": "Python 3 (ipykernel)",
   "language": "python",
   "name": "python3"
  },
  "language_info": {
   "codemirror_mode": {
    "name": "ipython",
    "version": 3
   },
   "file_extension": ".py",
   "mimetype": "text/x-python",
   "name": "python",
   "nbconvert_exporter": "python",
   "pygments_lexer": "ipython3",
   "version": "3.10.11"
  }
 },
 "nbformat": 4,
 "nbformat_minor": 5
}
