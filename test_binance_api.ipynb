{
 "cells": [
  {
   "cell_type": "code",
   "execution_count": 1,
   "id": "b7a478f0",
   "metadata": {},
   "outputs": [
    {
     "name": "stdout",
     "output_type": "stream",
     "text": [
      "CPU times: total: 234 ms\n",
      "Wall time: 1.22 s\n"
     ]
    }
   ],
   "source": [
    "%%time\n",
    "import json\n",
    "from binance.client import Client"
   ]
  },
  {
   "cell_type": "code",
   "execution_count": 2,
   "id": "06a860ac",
   "metadata": {},
   "outputs": [],
   "source": [
    "config = json.load(open(\"secrets.config\",\"r\"))\n",
    "bin_api_key=config[\"bin_api_key\"]\n",
    "bin_api_secr=config[\"bin_api_secr\"]"
   ]
  },
  {
   "cell_type": "code",
   "execution_count": 3,
   "id": "a57388c9",
   "metadata": {},
   "outputs": [],
   "source": [
    "client = Client(bin_api_key, bin_api_secr)"
   ]
  },
  {
   "cell_type": "code",
   "execution_count": 4,
   "id": "0d7e3731",
   "metadata": {},
   "outputs": [
    {
     "data": {
      "text/plain": [
       "{'lastUpdateId': 6058530618,\n",
       " 'bids': [['15.58000000', '1771.66000000'], ['15.57000000', '3012.29000000']],\n",
       " 'asks': [['15.59000000', '206.49000000'], ['15.60000000', '2340.47000000']]}"
      ]
     },
     "execution_count": 4,
     "metadata": {},
     "output_type": "execute_result"
    }
   ],
   "source": [
    "client.get_order_book(symbol=\"ETCUSDT\",limit=2)"
   ]
  },
  {
   "cell_type": "code",
   "execution_count": 5,
   "id": "f7976f9b",
   "metadata": {},
   "outputs": [
    {
     "ename": "BinanceAPIException",
     "evalue": "APIError(code=-1021): Timestamp for this request was 1000ms ahead of the server's time.",
     "output_type": "error",
     "traceback": [
      "\u001b[1;31m---------------------------------------------------------------------------\u001b[0m",
      "\u001b[1;31mBinanceAPIException\u001b[0m                       Traceback (most recent call last)",
      "Cell \u001b[1;32mIn[5], line 1\u001b[0m\n\u001b[1;32m----> 1\u001b[0m \u001b[43mclient\u001b[49m\u001b[38;5;241;43m.\u001b[39;49m\u001b[43mget_asset_balance\u001b[49m\u001b[43m(\u001b[49m\u001b[38;5;124;43m\"\u001b[39;49m\u001b[38;5;124;43mLTC\u001b[39;49m\u001b[38;5;124;43m\"\u001b[39;49m\u001b[43m)\u001b[49m\n",
      "File \u001b[1;32m~\\miniconda3\\envs\\cryt310\\lib\\site-packages\\binance\\client.py:2075\u001b[0m, in \u001b[0;36mClient.get_asset_balance\u001b[1;34m(self, asset, **params)\u001b[0m\n\u001b[0;32m   2054\u001b[0m \u001b[38;5;28;01mdef\u001b[39;00m \u001b[38;5;21mget_asset_balance\u001b[39m(\u001b[38;5;28mself\u001b[39m, asset, \u001b[38;5;241m*\u001b[39m\u001b[38;5;241m*\u001b[39mparams):\n\u001b[0;32m   2055\u001b[0m \u001b[38;5;250m    \u001b[39m\u001b[38;5;124;03m\"\"\"Get current asset balance.\u001b[39;00m\n\u001b[0;32m   2056\u001b[0m \n\u001b[0;32m   2057\u001b[0m \u001b[38;5;124;03m    :param asset: required\u001b[39;00m\n\u001b[1;32m   (...)\u001b[0m\n\u001b[0;32m   2073\u001b[0m \n\u001b[0;32m   2074\u001b[0m \u001b[38;5;124;03m    \"\"\"\u001b[39;00m\n\u001b[1;32m-> 2075\u001b[0m     res \u001b[38;5;241m=\u001b[39m \u001b[38;5;28mself\u001b[39m\u001b[38;5;241m.\u001b[39mget_account(\u001b[38;5;241m*\u001b[39m\u001b[38;5;241m*\u001b[39mparams)\n\u001b[0;32m   2076\u001b[0m     \u001b[38;5;66;03m# find asset balance in list of balances\u001b[39;00m\n\u001b[0;32m   2077\u001b[0m     \u001b[38;5;28;01mif\u001b[39;00m \u001b[38;5;124m\"\u001b[39m\u001b[38;5;124mbalances\u001b[39m\u001b[38;5;124m\"\u001b[39m \u001b[38;5;129;01min\u001b[39;00m res:\n",
      "File \u001b[1;32m~\\miniconda3\\envs\\cryt310\\lib\\site-packages\\binance\\client.py:2052\u001b[0m, in \u001b[0;36mClient.get_account\u001b[1;34m(self, **params)\u001b[0m\n\u001b[0;32m   2015\u001b[0m \u001b[38;5;28;01mdef\u001b[39;00m \u001b[38;5;21mget_account\u001b[39m(\u001b[38;5;28mself\u001b[39m, \u001b[38;5;241m*\u001b[39m\u001b[38;5;241m*\u001b[39mparams):\n\u001b[0;32m   2016\u001b[0m \u001b[38;5;250m    \u001b[39m\u001b[38;5;124;03m\"\"\"Get current account information.\u001b[39;00m\n\u001b[0;32m   2017\u001b[0m \n\u001b[0;32m   2018\u001b[0m \u001b[38;5;124;03m    https://binance-docs.github.io/apidocs/spot/en/#account-information-user_data\u001b[39;00m\n\u001b[1;32m   (...)\u001b[0m\n\u001b[0;32m   2050\u001b[0m \n\u001b[0;32m   2051\u001b[0m \u001b[38;5;124;03m    \"\"\"\u001b[39;00m\n\u001b[1;32m-> 2052\u001b[0m     \u001b[38;5;28;01mreturn\u001b[39;00m \u001b[38;5;28;43mself\u001b[39;49m\u001b[38;5;241;43m.\u001b[39;49m\u001b[43m_get\u001b[49m\u001b[43m(\u001b[49m\u001b[38;5;124;43m'\u001b[39;49m\u001b[38;5;124;43maccount\u001b[39;49m\u001b[38;5;124;43m'\u001b[39;49m\u001b[43m,\u001b[49m\u001b[43m \u001b[49m\u001b[38;5;28;43;01mTrue\u001b[39;49;00m\u001b[43m,\u001b[49m\u001b[43m \u001b[49m\u001b[43mdata\u001b[49m\u001b[38;5;241;43m=\u001b[39;49m\u001b[43mparams\u001b[49m\u001b[43m)\u001b[49m\n",
      "File \u001b[1;32m~\\miniconda3\\envs\\cryt310\\lib\\site-packages\\binance\\client.py:414\u001b[0m, in \u001b[0;36mClient._get\u001b[1;34m(self, path, signed, version, **kwargs)\u001b[0m\n\u001b[0;32m    413\u001b[0m \u001b[38;5;28;01mdef\u001b[39;00m \u001b[38;5;21m_get\u001b[39m(\u001b[38;5;28mself\u001b[39m, path, signed\u001b[38;5;241m=\u001b[39m\u001b[38;5;28;01mFalse\u001b[39;00m, version\u001b[38;5;241m=\u001b[39mBaseClient\u001b[38;5;241m.\u001b[39mPUBLIC_API_VERSION, \u001b[38;5;241m*\u001b[39m\u001b[38;5;241m*\u001b[39mkwargs):\n\u001b[1;32m--> 414\u001b[0m     \u001b[38;5;28;01mreturn\u001b[39;00m \u001b[38;5;28mself\u001b[39m\u001b[38;5;241m.\u001b[39m_request_api(\u001b[38;5;124m'\u001b[39m\u001b[38;5;124mget\u001b[39m\u001b[38;5;124m'\u001b[39m, path, signed, version, \u001b[38;5;241m*\u001b[39m\u001b[38;5;241m*\u001b[39mkwargs)\n",
      "File \u001b[1;32m~\\miniconda3\\envs\\cryt310\\lib\\site-packages\\binance\\client.py:377\u001b[0m, in \u001b[0;36mClient._request_api\u001b[1;34m(self, method, path, signed, version, **kwargs)\u001b[0m\n\u001b[0;32m    373\u001b[0m \u001b[38;5;28;01mdef\u001b[39;00m \u001b[38;5;21m_request_api\u001b[39m(\n\u001b[0;32m    374\u001b[0m     \u001b[38;5;28mself\u001b[39m, method, path: \u001b[38;5;28mstr\u001b[39m, signed: \u001b[38;5;28mbool\u001b[39m \u001b[38;5;241m=\u001b[39m \u001b[38;5;28;01mFalse\u001b[39;00m, version\u001b[38;5;241m=\u001b[39mBaseClient\u001b[38;5;241m.\u001b[39mPUBLIC_API_VERSION, \u001b[38;5;241m*\u001b[39m\u001b[38;5;241m*\u001b[39mkwargs\n\u001b[0;32m    375\u001b[0m ):\n\u001b[0;32m    376\u001b[0m     uri \u001b[38;5;241m=\u001b[39m \u001b[38;5;28mself\u001b[39m\u001b[38;5;241m.\u001b[39m_create_api_uri(path, signed, version)\n\u001b[1;32m--> 377\u001b[0m     \u001b[38;5;28;01mreturn\u001b[39;00m \u001b[38;5;28mself\u001b[39m\u001b[38;5;241m.\u001b[39m_request(method, uri, signed, \u001b[38;5;241m*\u001b[39m\u001b[38;5;241m*\u001b[39mkwargs)\n",
      "File \u001b[1;32m~\\miniconda3\\envs\\cryt310\\lib\\site-packages\\binance\\client.py:358\u001b[0m, in \u001b[0;36mClient._request\u001b[1;34m(self, method, uri, signed, force_params, **kwargs)\u001b[0m\n\u001b[0;32m    355\u001b[0m kwargs \u001b[38;5;241m=\u001b[39m \u001b[38;5;28mself\u001b[39m\u001b[38;5;241m.\u001b[39m_get_request_kwargs(method, signed, force_params, \u001b[38;5;241m*\u001b[39m\u001b[38;5;241m*\u001b[39mkwargs)\n\u001b[0;32m    357\u001b[0m \u001b[38;5;28mself\u001b[39m\u001b[38;5;241m.\u001b[39mresponse \u001b[38;5;241m=\u001b[39m \u001b[38;5;28mgetattr\u001b[39m(\u001b[38;5;28mself\u001b[39m\u001b[38;5;241m.\u001b[39msession, method)(uri, \u001b[38;5;241m*\u001b[39m\u001b[38;5;241m*\u001b[39mkwargs)\n\u001b[1;32m--> 358\u001b[0m \u001b[38;5;28;01mreturn\u001b[39;00m \u001b[38;5;28;43mself\u001b[39;49m\u001b[38;5;241;43m.\u001b[39;49m\u001b[43m_handle_response\u001b[49m\u001b[43m(\u001b[49m\u001b[38;5;28;43mself\u001b[39;49m\u001b[38;5;241;43m.\u001b[39;49m\u001b[43mresponse\u001b[49m\u001b[43m)\u001b[49m\n",
      "File \u001b[1;32m~\\miniconda3\\envs\\cryt310\\lib\\site-packages\\binance\\client.py:367\u001b[0m, in \u001b[0;36mClient._handle_response\u001b[1;34m(response)\u001b[0m\n\u001b[0;32m    362\u001b[0m \u001b[38;5;250m\u001b[39m\u001b[38;5;124;03m\"\"\"Internal helper for handling API responses from the Binance server.\u001b[39;00m\n\u001b[0;32m    363\u001b[0m \u001b[38;5;124;03mRaises the appropriate exceptions when necessary; otherwise, returns the\u001b[39;00m\n\u001b[0;32m    364\u001b[0m \u001b[38;5;124;03mresponse.\u001b[39;00m\n\u001b[0;32m    365\u001b[0m \u001b[38;5;124;03m\"\"\"\u001b[39;00m\n\u001b[0;32m    366\u001b[0m \u001b[38;5;28;01mif\u001b[39;00m \u001b[38;5;129;01mnot\u001b[39;00m (\u001b[38;5;241m200\u001b[39m \u001b[38;5;241m<\u001b[39m\u001b[38;5;241m=\u001b[39m response\u001b[38;5;241m.\u001b[39mstatus_code \u001b[38;5;241m<\u001b[39m \u001b[38;5;241m300\u001b[39m):\n\u001b[1;32m--> 367\u001b[0m     \u001b[38;5;28;01mraise\u001b[39;00m BinanceAPIException(response, response\u001b[38;5;241m.\u001b[39mstatus_code, response\u001b[38;5;241m.\u001b[39mtext)\n\u001b[0;32m    368\u001b[0m \u001b[38;5;28;01mtry\u001b[39;00m:\n\u001b[0;32m    369\u001b[0m     \u001b[38;5;28;01mreturn\u001b[39;00m response\u001b[38;5;241m.\u001b[39mjson()\n",
      "\u001b[1;31mBinanceAPIException\u001b[0m: APIError(code=-1021): Timestamp for this request was 1000ms ahead of the server's time."
     ]
    }
   ],
   "source": [
    "client.get_asset_balance(\"LTC\")"
   ]
  },
  {
   "cell_type": "code",
   "execution_count": 13,
   "id": "1900424c",
   "metadata": {},
   "outputs": [
    {
     "name": "stdout",
     "output_type": "stream",
     "text": [
      "APIError(code=-2010): Account has insufficient balance for requested action.\n",
      "APIError(code=-2010): Account has insufficient balance for requested action.\n",
      "True\n"
     ]
    }
   ],
   "source": [
    "from binance.exceptions import BinanceAPIException\n",
    "try:\n",
    "    order = client.order_market_sell(\n",
    "        symbol='LTCTUSD',\n",
    "        quantity=0.15)\n",
    "except BinanceAPIException as e:\n",
    "    print(e)\n",
    "    print(str(e))\n",
    "    if \"Account has insufficient balance for requested action.\" in str(e):\n",
    "        print(True)"
   ]
  },
  {
   "cell_type": "code",
   "execution_count": 10,
   "id": "6370320c",
   "metadata": {},
   "outputs": [
    {
     "data": {
      "text/plain": [
       "{'symbol': 'LTCTUSD',\n",
       " 'orderId': 100947847,\n",
       " 'orderListId': -1,\n",
       " 'clientOrderId': '3xSLeIjKnw7J9J8aIqz30M',\n",
       " 'transactTime': 1688837245338,\n",
       " 'price': '0.00000000',\n",
       " 'origQty': '0.15000000',\n",
       " 'executedQty': '0.15000000',\n",
       " 'cummulativeQuoteQty': '14.65950000',\n",
       " 'status': 'FILLED',\n",
       " 'timeInForce': 'GTC',\n",
       " 'type': 'MARKET',\n",
       " 'side': 'SELL',\n",
       " 'workingTime': 1688837245338,\n",
       " 'fills': [{'price': '97.73000000',\n",
       "   'qty': '0.15000000',\n",
       "   'commission': '0.01465950',\n",
       "   'commissionAsset': 'TUSD',\n",
       "   'tradeId': 1141038}],\n",
       " 'selfTradePreventionMode': 'NONE'}"
      ]
     },
     "execution_count": 10,
     "metadata": {},
     "output_type": "execute_result"
    }
   ],
   "source": [
    "order"
   ]
  },
  {
   "cell_type": "code",
   "execution_count": 8,
   "id": "5b2b313a",
   "metadata": {},
   "outputs": [
    {
     "name": "stdout",
     "output_type": "stream",
     "text": [
      "CPU times: total: 0 ns\n",
      "Wall time: 104 ms\n"
     ]
    }
   ],
   "source": [
    "%%time\n",
    "order = client.order_market_sell(\n",
    "    symbol='LTCTUSD',\n",
    "    quantity=0.15)"
   ]
  },
  {
   "cell_type": "code",
   "execution_count": 9,
   "id": "b74cc8bf",
   "metadata": {
    "collapsed": true
   },
   "outputs": [
    {
     "data": {
      "text/plain": [
       "{'symbol': 'LTCTUSD',\n",
       " 'orderId': 100964593,\n",
       " 'orderListId': -1,\n",
       " 'clientOrderId': 'QEl3Dupy7CLGH6smaeDM3T',\n",
       " 'transactTime': 1688863506078,\n",
       " 'price': '0.00000000',\n",
       " 'origQty': '0.15000000',\n",
       " 'executedQty': '0.15000000',\n",
       " 'cummulativeQuoteQty': '14.68350000',\n",
       " 'status': 'FILLED',\n",
       " 'timeInForce': 'GTC',\n",
       " 'type': 'MARKET',\n",
       " 'side': 'SELL',\n",
       " 'workingTime': 1688863506078,\n",
       " 'fills': [{'price': '97.89000000',\n",
       "   'qty': '0.15000000',\n",
       "   'commission': '0.01468350',\n",
       "   'commissionAsset': 'TUSD',\n",
       "   'tradeId': 1141128}],\n",
       " 'selfTradePreventionMode': 'NONE'}"
      ]
     },
     "execution_count": 9,
     "metadata": {},
     "output_type": "execute_result"
    }
   ],
   "source": [
    "order"
   ]
  },
  {
   "cell_type": "code",
   "execution_count": 10,
   "id": "8c9e7db6",
   "metadata": {},
   "outputs": [
    {
     "data": {
      "text/plain": [
       "{'asset': 'LTC', 'free': '1.73347887', 'locked': '0.00000000'}"
      ]
     },
     "execution_count": 10,
     "metadata": {},
     "output_type": "execute_result"
    }
   ],
   "source": [
    "client.get_asset_balance(\"LTC\")"
   ]
  },
  {
   "cell_type": "code",
   "execution_count": 11,
   "id": "0a08e9c0",
   "metadata": {},
   "outputs": [],
   "source": [
    "order = client.order_market_buy(\n",
    "    symbol='LTCTUSD',\n",
    "    quantity=0.15)"
   ]
  },
  {
   "cell_type": "code",
   "execution_count": 12,
   "id": "31fa6a61",
   "metadata": {},
   "outputs": [
    {
     "data": {
      "text/plain": [
       "{'asset': 'LTC', 'free': '1.88332887', 'locked': '0.00000000'}"
      ]
     },
     "execution_count": 12,
     "metadata": {},
     "output_type": "execute_result"
    }
   ],
   "source": [
    "client.get_asset_balance(\"LTC\")"
   ]
  },
  {
   "cell_type": "code",
   "execution_count": 51,
   "id": "ef5f625e",
   "metadata": {},
   "outputs": [
    {
     "data": {
      "text/plain": [
       "828"
      ]
     },
     "execution_count": 51,
     "metadata": {},
     "output_type": "execute_result"
    }
   ],
   "source": [
    "#tickers= [c for c in client.get_all_tickers() if (\"TUSD\" in c[\"symbol\"])or(\"BUSD\" in c[\"symbol\"])and(\"USDT\" not in c[\"symbol\"])]\n",
    "tickers= [c for c in client.get_all_tickers() if c[\"symbol\"][-4:] in [\"USDT\",\"BUSD\"]]\n",
    "len(tickers)"
   ]
  },
  {
   "cell_type": "code",
   "execution_count": 48,
   "id": "3b49bb8b",
   "metadata": {},
   "outputs": [
    {
     "data": {
      "text/plain": [
       "[{'symbol': 'ETCUSDT', 'makerCommission': '0.001', 'takerCommission': '0.001'}]"
      ]
     },
     "execution_count": 48,
     "metadata": {},
     "output_type": "execute_result"
    }
   ],
   "source": [
    "client.get_trade_fee(symbol=\"ETCUSDT\")"
   ]
  },
  {
   "cell_type": "code",
   "execution_count": 81,
   "id": "b0abe261",
   "metadata": {},
   "outputs": [],
   "source": [
    "def get_current_price(symbol):\n",
    "    data = client.get_order_book(symbol=symbol,limit=1)\n",
    "    current_price=float(data[\"bids\"][0][0])*0.5+float(data[\"asks\"][0][0])*0.5\n",
    "    return current_price"
   ]
  },
  {
   "cell_type": "code",
   "execution_count": 82,
   "id": "cca344c6",
   "metadata": {},
   "outputs": [
    {
     "data": {
      "text/plain": [
       "18.875"
      ]
     },
     "execution_count": 82,
     "metadata": {},
     "output_type": "execute_result"
    }
   ],
   "source": [
    "get_current_price(\"ETCUSDT\")"
   ]
  },
  {
   "cell_type": "code",
   "execution_count": 38,
   "id": "a613ed7a",
   "metadata": {},
   "outputs": [
    {
     "data": {
      "text/plain": [
       "({'asset': 'ETC', 'free': '0.00000000', 'locked': '0.00000000'},\n",
       " {'asset': 'USDT', 'free': '5.96592810', 'locked': '0.00000000'},\n",
       " {'asset': 'LTC', 'free': '1.88332887', 'locked': '0.00000000'})"
      ]
     },
     "execution_count": 38,
     "metadata": {},
     "output_type": "execute_result"
    }
   ],
   "source": [
    "client.get_asset_balance(\"ETC\"),client.get_asset_balance(\"USDT\"),client.get_asset_balance(\"LTC\")"
   ]
  },
  {
   "cell_type": "code",
   "execution_count": 39,
   "id": "4aa5c276",
   "metadata": {},
   "outputs": [],
   "source": [
    "order = client.order_market_sell(\n",
    "    symbol='LTCUSDT',\n",
    "    quantity=1.5)"
   ]
  },
  {
   "cell_type": "code",
   "execution_count": 40,
   "id": "5623b03b",
   "metadata": {},
   "outputs": [
    {
     "data": {
      "text/plain": [
       "{'symbol': 'LTCUSDT',\n",
       " 'orderId': 3626361032,\n",
       " 'orderListId': -1,\n",
       " 'clientOrderId': 'r0TOQYKANJal6oHfGVvojL',\n",
       " 'transactTime': 1688913722611,\n",
       " 'price': '0.00000000',\n",
       " 'origQty': '1.50000000',\n",
       " 'executedQty': '1.50000000',\n",
       " 'cummulativeQuoteQty': '144.67500000',\n",
       " 'status': 'FILLED',\n",
       " 'timeInForce': 'GTC',\n",
       " 'type': 'MARKET',\n",
       " 'side': 'SELL',\n",
       " 'workingTime': 1688913722611,\n",
       " 'fills': [{'price': '96.45000000',\n",
       "   'qty': '0.50000000',\n",
       "   'commission': '0.04822500',\n",
       "   'commissionAsset': 'USDT',\n",
       "   'tradeId': 299083909},\n",
       "  {'price': '96.45000000',\n",
       "   'qty': '1.00000000',\n",
       "   'commission': '0.09645000',\n",
       "   'commissionAsset': 'USDT',\n",
       "   'tradeId': 299083910}],\n",
       " 'selfTradePreventionMode': 'NONE'}"
      ]
     },
     "execution_count": 40,
     "metadata": {},
     "output_type": "execute_result"
    }
   ],
   "source": [
    "order"
   ]
  },
  {
   "cell_type": "code",
   "execution_count": 41,
   "id": "6b6dead4",
   "metadata": {},
   "outputs": [
    {
     "data": {
      "text/plain": [
       "({'asset': 'ETC', 'free': '0.00000000', 'locked': '0.00000000'},\n",
       " {'asset': 'USDT', 'free': '150.49625310', 'locked': '0.00000000'},\n",
       " {'asset': 'LTC', 'free': '0.38332887', 'locked': '0.00000000'})"
      ]
     },
     "execution_count": 41,
     "metadata": {},
     "output_type": "execute_result"
    }
   ],
   "source": [
    "client.get_asset_balance(\"ETC\"),client.get_asset_balance(\"USDT\"),client.get_asset_balance(\"LTC\")"
   ]
  },
  {
   "cell_type": "code",
   "execution_count": 42,
   "id": "e9d95add",
   "metadata": {},
   "outputs": [
    {
     "name": "stdout",
     "output_type": "stream",
     "text": [
      "CPU times: total: 0 ns\n",
      "Wall time: 89.7 ms\n"
     ]
    },
    {
     "data": {
      "text/plain": [
       "'FILLED'"
      ]
     },
     "execution_count": 42,
     "metadata": {},
     "output_type": "execute_result"
    }
   ],
   "source": [
    "order = client.order_market_buy(\n",
    "    symbol='ETCUSDT',\n",
    "    quantity=0.7)\n",
    "order[\"status\"]"
   ]
  },
  {
   "cell_type": "code",
   "execution_count": 44,
   "id": "580cd00a",
   "metadata": {},
   "outputs": [
    {
     "data": {
      "text/plain": [
       "{'symbol': 'ETCUSDT',\n",
       " 'orderId': 3141661434,\n",
       " 'orderListId': -1,\n",
       " 'clientOrderId': '0zxfOCMXXvQFlHKeG4vhYX',\n",
       " 'transactTime': 1688913794259,\n",
       " 'price': '0.00000000',\n",
       " 'origQty': '0.70000000',\n",
       " 'executedQty': '0.70000000',\n",
       " 'cummulativeQuoteQty': '13.18100000',\n",
       " 'status': 'FILLED',\n",
       " 'timeInForce': 'GTC',\n",
       " 'type': 'MARKET',\n",
       " 'side': 'BUY',\n",
       " 'workingTime': 1688913794259,\n",
       " 'fills': [{'price': '18.83000000',\n",
       "   'qty': '0.70000000',\n",
       "   'commission': '0.00070000',\n",
       "   'commissionAsset': 'ETC',\n",
       "   'tradeId': 181354158}],\n",
       " 'selfTradePreventionMode': 'NONE'}"
      ]
     },
     "execution_count": 44,
     "metadata": {},
     "output_type": "execute_result"
    }
   ],
   "source": [
    "order"
   ]
  },
  {
   "cell_type": "code",
   "execution_count": 43,
   "id": "fb1d3cec",
   "metadata": {},
   "outputs": [
    {
     "data": {
      "text/plain": [
       "({'asset': 'ETC', 'free': '0.69930000', 'locked': '0.00000000'},\n",
       " {'asset': 'USDT', 'free': '137.31525310', 'locked': '0.00000000'},\n",
       " {'asset': 'LTC', 'free': '0.38332887', 'locked': '0.00000000'})"
      ]
     },
     "execution_count": 43,
     "metadata": {},
     "output_type": "execute_result"
    }
   ],
   "source": [
    "client.get_asset_balance(\"ETC\"),client.get_asset_balance(\"USDT\"),client.get_asset_balance(\"LTC\")"
   ]
  },
  {
   "cell_type": "code",
   "execution_count": null,
   "id": "08e58718",
   "metadata": {},
   "outputs": [],
   "source": []
  },
  {
   "cell_type": "code",
   "execution_count": null,
   "id": "76cd4756",
   "metadata": {},
   "outputs": [],
   "source": []
  },
  {
   "cell_type": "code",
   "execution_count": null,
   "id": "7a16a398",
   "metadata": {},
   "outputs": [],
   "source": []
  },
  {
   "cell_type": "code",
   "execution_count": 88,
   "id": "d771e2ab",
   "metadata": {},
   "outputs": [
    {
     "data": {
      "text/plain": [
       "1369"
      ]
     },
     "execution_count": 88,
     "metadata": {},
     "output_type": "execute_result"
    }
   ],
   "source": [
    "import requests \n",
    "base_url = 'https://api.binance.com' \n",
    "def get_base_currencies():\n",
    "    endpoint = '/api/v3/exchangeInfo'\n",
    "    url = base_url + endpoint\n",
    "    response = requests.get(url)\n",
    "\n",
    "    if response.status_code == 200:\n",
    "        exchange_info = response.json()\n",
    "        symbols = exchange_info['symbols']\n",
    "        tradeable = list()\n",
    "        base_currencies = set()\n",
    "        for symbol in symbols:\n",
    "            if symbol[\"status\"]=='TRADING' and symbol[\"isSpotTradingAllowed\"]:\n",
    "                base_currencies.add(symbol['baseAsset'])\n",
    "                tradeable.append(symbol)\n",
    "\n",
    "        return sorted(list(base_currencies)),symbols,tradeable\n",
    "    else:\n",
    "        print(f'Error: {response.status_code}')\n",
    "        return None,symbols,tradeable\n",
    "\n",
    "base_currencies,symbols,tradeable = get_base_currencies()\n",
    "#print(base_currencies)\n",
    "tradeable_tickers = [tt[\"symbol\"] for tt in tradeable]\n",
    "len(tradeable_tickers)"
   ]
  },
  {
   "cell_type": "code",
   "execution_count": 98,
   "id": "7e40ae6f",
   "metadata": {},
   "outputs": [
    {
     "name": "stdout",
     "output_type": "stream",
     "text": [
      "all pairs 2242\n",
      "spot tradeable pairs 1369\n",
      "with base pairs 794\n",
      "CPU times: total: 78.1 ms\n",
      "Wall time: 529 ms\n"
     ]
    }
   ],
   "source": [
    "%%time\n",
    "\n",
    "basetickers = [\"USDT\",\"ETH\",\"BTC\",\"BNB\",\"LTC\"]\n",
    "def get_high_volume_trading_pairs():\n",
    "    endpoint = '/api/v3/ticker/24hr'\n",
    "    url = base_url + endpoint\n",
    "    response = requests.get(url)\n",
    "\n",
    "    if response.status_code == 200:\n",
    "        trading_pairs_data = response.json()\n",
    "        trading_pairs = sorted(trading_pairs_data, key=lambda x: float(x['quoteVolume']), reverse=True)\n",
    "        print(\"all pairs\",len(trading_pairs))\n",
    "        trading_pairs = [sp for sp in trading_pairs if sp[\"symbol\"] in tradeable_tickers]\n",
    "        print(\"spot tradeable pairs\",len(trading_pairs))\n",
    "        trading_pairs = [sp for sp in trading_pairs if any(sp[\"symbol\"].endswith(bt) for bt in basetickers)]\n",
    "        print(\"with base pairs\",len(trading_pairs))\n",
    "        high_volume_pairs = []\n",
    "        for pair in trading_pairs[0:100]:\n",
    "            high_volume_pairs.append({\n",
    "                'symbol': pair['symbol'],\n",
    "                'quote_volume': float(pair['quoteVolume'])\n",
    "            })\n",
    "\n",
    "        return high_volume_pairs,trading_pairs\n",
    "    else:\n",
    "        print(f'Error: {response.status_code}')\n",
    "        return None,trading_pairs\n",
    "\n",
    "high_volume_trading_pairs,trading_pairs = get_high_volume_trading_pairs() "
   ]
  },
  {
   "cell_type": "code",
   "execution_count": 99,
   "id": "36c9bb45",
   "metadata": {
    "collapsed": true
   },
   "outputs": [
    {
     "data": {
      "text/plain": [
       "[{'symbol': 'BTCUSDT', 'quote_volume': 463556621.9385574},\n",
       " {'symbol': 'ETHUSDT', 'quote_volume': 266402153.005987},\n",
       " {'symbol': 'USDCUSDT', 'quote_volume': 117754068.2239},\n",
       " {'symbol': 'TUSDUSDT', 'quote_volume': 114305468.2289},\n",
       " {'symbol': 'BUSDUSDT', 'quote_volume': 106250168.8985},\n",
       " {'symbol': 'SOLUSDT', 'quote_volume': 100244536.7231},\n",
       " {'symbol': 'BNBUSDT', 'quote_volume': 58027661.4551},\n",
       " {'symbol': 'BCHUSDT', 'quote_volume': 57469281.0636},\n",
       " {'symbol': 'XRPUSDT', 'quote_volume': 49487833.5641},\n",
       " {'symbol': 'XVGUSDT', 'quote_volume': 47394244.903097},\n",
       " {'symbol': 'PONDUSDT', 'quote_volume': 44663035.9098415},\n",
       " {'symbol': 'AVAXUSDT', 'quote_volume': 42006839.2952},\n",
       " {'symbol': 'LTCUSDT', 'quote_volume': 39177388.19573},\n",
       " {'symbol': 'TROYUSDT', 'quote_volume': 36799399.853087},\n",
       " {'symbol': 'ARBUSDT', 'quote_volume': 35920807.58148},\n",
       " {'symbol': 'MATICUSDT', 'quote_volume': 34852583.22388},\n",
       " {'symbol': 'SHIBUSDT', 'quote_volume': 33113081.60839319},\n",
       " {'symbol': 'PNTUSDT', 'quote_volume': 32877910.579},\n",
       " {'symbol': 'ADAUSDT', 'quote_volume': 31893548.71673},\n",
       " {'symbol': 'WAVESUSDT', 'quote_volume': 31700299.11839},\n",
       " {'symbol': 'COMPUSDT', 'quote_volume': 22989718.44515},\n",
       " {'symbol': 'EURUSDT', 'quote_volume': 22781067.34925},\n",
       " {'symbol': 'DOGEUSDT', 'quote_volume': 21644899.43222},\n",
       " {'symbol': 'TRXUSDT', 'quote_volume': 20300629.698869},\n",
       " {'symbol': 'FTMUSDT', 'quote_volume': 19018437.2062},\n",
       " {'symbol': 'PEPEUSDT', 'quote_volume': 16738092.12680571},\n",
       " {'symbol': 'APTUSDT', 'quote_volume': 15465471.581129},\n",
       " {'symbol': 'BELUSDT', 'quote_volume': 15384061.18422},\n",
       " {'symbol': 'MKRUSDT', 'quote_volume': 14383659.8396},\n",
       " {'symbol': 'FILUSDT', 'quote_volume': 14027523.76783},\n",
       " {'symbol': 'INJUSDT', 'quote_volume': 13362652.2037},\n",
       " {'symbol': 'APEUSDT', 'quote_volume': 12878390.20441},\n",
       " {'symbol': 'OCEANUSDT', 'quote_volume': 12507142.7378},\n",
       " {'symbol': 'FIOUSDT', 'quote_volume': 11296553.59686},\n",
       " {'symbol': 'MAVUSDT', 'quote_volume': 10907680.3975},\n",
       " {'symbol': 'CFXUSDT', 'quote_volume': 10405288.4419},\n",
       " {'symbol': 'XMRUSDT', 'quote_volume': 10334610.2139},\n",
       " {'symbol': 'AAVEUSDT', 'quote_volume': 10149399.76523},\n",
       " {'symbol': 'EOSUSDT', 'quote_volume': 9950139.6654},\n",
       " {'symbol': 'ARPAUSDT', 'quote_volume': 9519987.02302},\n",
       " {'symbol': 'OPUSDT', 'quote_volume': 9487117.64768},\n",
       " {'symbol': 'LINAUSDT', 'quote_volume': 9401896.35183013},\n",
       " {'symbol': 'NEARUSDT', 'quote_volume': 9276916.9615},\n",
       " {'symbol': 'STORJUSDT', 'quote_volume': 8898825.6448},\n",
       " {'symbol': 'TOMOUSDT', 'quote_volume': 8837851.9809},\n",
       " {'symbol': 'OMUSDT', 'quote_volume': 8733204.7709},\n",
       " {'symbol': 'VIBUSDT', 'quote_volume': 8296524.45316},\n",
       " {'symbol': 'GALAUSDT', 'quote_volume': 8146812.81164},\n",
       " {'symbol': 'HIFIUSDT', 'quote_volume': 8120116.91474},\n",
       " {'symbol': 'LINKUSDT', 'quote_volume': 7962919.17046},\n",
       " {'symbol': 'SUIUSDT', 'quote_volume': 7678939.54869},\n",
       " {'symbol': 'ATOMUSDT', 'quote_volume': 7064885.91974},\n",
       " {'symbol': 'EDUUSDT', 'quote_volume': 6808788.78171},\n",
       " {'symbol': 'LTOUSDT', 'quote_volume': 6611140.9546},\n",
       " {'symbol': 'FUNUSDT', 'quote_volume': 6447263.819585},\n",
       " {'symbol': 'ACAUSDT', 'quote_volume': 6390963.230603},\n",
       " {'symbol': 'MASKUSDT', 'quote_volume': 6264046.464},\n",
       " {'symbol': 'DOTUSDT', 'quote_volume': 6256066.82699},\n",
       " {'symbol': 'MTLUSDT', 'quote_volume': 6146666.0469},\n",
       " {'symbol': 'FIDAUSDT', 'quote_volume': 5892004.16586},\n",
       " {'symbol': 'ETCUSDT', 'quote_volume': 5849645.3763},\n",
       " {'symbol': 'NKNUSDT', 'quote_volume': 5790296.7578},\n",
       " {'symbol': 'OOKIUSDT', 'quote_volume': 5704348.839137},\n",
       " {'symbol': 'FLOWUSDT', 'quote_volume': 5483950.31591},\n",
       " {'symbol': 'UNIUSDT', 'quote_volume': 5316606.8736},\n",
       " {'symbol': 'RNDRUSDT', 'quote_volume': 5014737.34754},\n",
       " {'symbol': 'XECUSDT', 'quote_volume': 4943897.40395227},\n",
       " {'symbol': 'XLMUSDT', 'quote_volume': 4542769.701},\n",
       " {'symbol': 'GRTUSDT', 'quote_volume': 4536014.0483},\n",
       " {'symbol': 'LUNCUSDT', 'quote_volume': 4493778.26048473},\n",
       " {'symbol': 'STXUSDT', 'quote_volume': 4467342.25647},\n",
       " {'symbol': 'SANDUSDT', 'quote_volume': 4455450.1682},\n",
       " {'symbol': 'UFTUSDT', 'quote_volume': 4296587.9823},\n",
       " {'symbol': 'KAVAUSDT', 'quote_volume': 4262770.0019},\n",
       " {'symbol': 'MAGICUSDT', 'quote_volume': 4195856.90851},\n",
       " {'symbol': 'AGIXUSDT', 'quote_volume': 4163808.43251},\n",
       " {'symbol': 'CRVUSDT', 'quote_volume': 4093974.522},\n",
       " {'symbol': 'FETUSDT', 'quote_volume': 3983921.0503},\n",
       " {'symbol': 'DYDXUSDT', 'quote_volume': 3976838.214},\n",
       " {'symbol': 'IDUSDT', 'quote_volume': 3881714.16621},\n",
       " {'symbol': 'ALGOUSDT', 'quote_volume': 3675410.8442},\n",
       " {'symbol': 'WANUSDT', 'quote_volume': 3558563.4665},\n",
       " {'symbol': 'MANAUSDT', 'quote_volume': 3530298.9417},\n",
       " {'symbol': 'ERNUSDT', 'quote_volume': 3502863.8138},\n",
       " {'symbol': 'SNXUSDT', 'quote_volume': 3484099.4119},\n",
       " {'symbol': 'YFIUSDT', 'quote_volume': 3362060.98803},\n",
       " {'symbol': 'VETUSDT', 'quote_volume': 3252887.025765},\n",
       " {'symbol': 'RDNTUSDT', 'quote_volume': 3241424.519},\n",
       " {'symbol': 'PERLUSDT', 'quote_volume': 3117973.515455},\n",
       " {'symbol': 'OAXUSDT', 'quote_volume': 3021162.0932},\n",
       " {'symbol': 'NEOUSDT', 'quote_volume': 3013558.2017},\n",
       " {'symbol': 'AXSUSDT', 'quote_volume': 2982002.2924},\n",
       " {'symbol': 'SXPUSDT', 'quote_volume': 2934364.52172},\n",
       " {'symbol': 'ACHUSDT', 'quote_volume': 2924438.06655},\n",
       " {'symbol': 'STGUSDT', 'quote_volume': 2886300.07439},\n",
       " {'symbol': 'GMTUSDT', 'quote_volume': 2818764.88398},\n",
       " {'symbol': 'ZECUSDT', 'quote_volume': 2782800.46065},\n",
       " {'symbol': 'QNTUSDT', 'quote_volume': 2757850.068},\n",
       " {'symbol': 'EPXUSDT', 'quote_volume': 2638430.4713859},\n",
       " {'symbol': 'AMBUSDT', 'quote_volume': 2620767.50885}]"
      ]
     },
     "execution_count": 99,
     "metadata": {},
     "output_type": "execute_result"
    }
   ],
   "source": [
    "high_volume_trading_pairs"
   ]
  },
  {
   "cell_type": "code",
   "execution_count": 100,
   "id": "e0007ac4",
   "metadata": {},
   "outputs": [
    {
     "ename": "NameError",
     "evalue": "name 'SOLUSDT' is not defined",
     "output_type": "error",
     "traceback": [
      "\u001b[1;31m---------------------------------------------------------------------------\u001b[0m",
      "\u001b[1;31mNameError\u001b[0m                                 Traceback (most recent call last)",
      "Cell \u001b[1;32mIn[100], line 1\u001b[0m\n\u001b[1;32m----> 1\u001b[0m \u001b[43mSOLUSDT\u001b[49m,BCHUSDT,XRPUSDT,XVGUSDT,PONDUSDT,AVAXUSDT,TROYUSDT,ARBUSDT,MATICUSDT,PNTUSDT,SHIBUSDT,WAVESUSDT,\n",
      "\u001b[1;31mNameError\u001b[0m: name 'SOLUSDT' is not defined"
     ]
    }
   ],
   "source": [
    "SOLUSDT,BCHUSDT,XRPUSDT,XVGUSDT,PONDUSDT,AVAXUSDT,TROYUSDT,ARBUSDT,MATICUSDT,PNTUSDT,SHIBUSDT,WAVESUSDT,"
   ]
  },
  {
   "cell_type": "code",
   "execution_count": 101,
   "id": "1376b0d1",
   "metadata": {},
   "outputs": [],
   "source": [
    "from glob import glob"
   ]
  },
  {
   "cell_type": "code",
   "execution_count": 102,
   "id": "66bb0661",
   "metadata": {},
   "outputs": [
    {
     "name": "stdout",
     "output_type": "stream",
     "text": [
      "ETHUSDT\n",
      "XVGUSDT\n",
      "TROYUSDT\n",
      "PNTUSDT\n",
      "PEPEUSDT\n",
      "FIOUSDT\n",
      "MAVUSDT\n",
      "STORJUSDT\n",
      "OMUSDT\n",
      "SUIUSDT\n",
      "LTOUSDT\n",
      "FUNUSDT\n",
      "MTLUSDT\n",
      "NKNUSDT\n",
      "OOKIUSDT\n",
      "WANUSDT\n",
      "PERLUSDT\n",
      "EPXUSDT\n"
     ]
    }
   ],
   "source": [
    "for s in high_volume_trading_pairs:\n",
    "    symbol=s[\"symbol\"]\n",
    "    if len([ g for g in glob(\"kline_data/*\") if symbol in g])!=1:\n",
    "        print(symbol)"
   ]
  },
  {
   "cell_type": "code",
   "execution_count": 97,
   "id": "358c9eed",
   "metadata": {},
   "outputs": [
    {
     "data": {
      "text/plain": [
       "'PEPEUSDT'"
      ]
     },
     "execution_count": 97,
     "metadata": {},
     "output_type": "execute_result"
    }
   ],
   "source": [
    "symbol"
   ]
  },
  {
   "cell_type": "markdown",
   "id": "a260574c",
   "metadata": {},
   "source": [
    "# getting ticker precision"
   ]
  },
  {
   "cell_type": "code",
   "execution_count": 6,
   "id": "9dda82b2",
   "metadata": {},
   "outputs": [
    {
     "name": "stdout",
     "output_type": "stream",
     "text": [
      "CPU times: total: 109 ms\n",
      "Wall time: 213 ms\n"
     ]
    }
   ],
   "source": [
    "%%time\n",
    "info = client.get_exchange_info()"
   ]
  },
  {
   "cell_type": "code",
   "execution_count": 7,
   "id": "e6c87c94",
   "metadata": {},
   "outputs": [
    {
     "name": "stdout",
     "output_type": "stream",
     "text": [
      "11\n"
     ]
    }
   ],
   "source": [
    "for idxx,symbol in enumerate(info[\"symbols\"]):\n",
    "    if \"BTCUSDT\"==symbol[\"symbol\"]:\n",
    "        print(idxx)"
   ]
  },
  {
   "cell_type": "code",
   "execution_count": 8,
   "id": "3ae394aa",
   "metadata": {},
   "outputs": [],
   "source": [
    "ss = [\"baseAssetPrecision\",\"quotePrecision\",\"quoteAssetPrecision\",\"baseCommissionPrecision\",\"quoteCommissionPrecision\"]"
   ]
  },
  {
   "cell_type": "code",
   "execution_count": 9,
   "id": "00413b17",
   "metadata": {},
   "outputs": [
    {
     "name": "stdout",
     "output_type": "stream",
     "text": [
      "1419 SHIBUSDT\n",
      "1605 XECUSDT\n",
      "1907 BTTCUSDT\n",
      "2210 PEPEUSDT\n",
      "2212 FLOKIUSDT\n"
     ]
    }
   ],
   "source": [
    "for idxx in range(len(info[\"symbols\"])):\n",
    "    if len(set([info[\"symbols\"][idxx][ss_] for ss_ in ss])) !=1:\n",
    "        if info[\"symbols\"][idxx][\"symbol\"][-4:] !=\"USDT\": continue\n",
    "        print(idxx,info[\"symbols\"][idxx][\"symbol\"])"
   ]
  },
  {
   "cell_type": "code",
   "execution_count": 10,
   "id": "24dd8049",
   "metadata": {},
   "outputs": [],
   "source": [
    "from aver6_trader import client as cc"
   ]
  },
  {
   "cell_type": "code",
   "execution_count": 11,
   "id": "51eb9486",
   "metadata": {},
   "outputs": [],
   "source": [
    "ii = cc.get_exchange_info()"
   ]
  },
  {
   "cell_type": "code",
   "execution_count": 26,
   "id": "b5ed027d",
   "metadata": {},
   "outputs": [
    {
     "data": {
      "text/plain": [
       "'0.00001211'"
      ]
     },
     "execution_count": 26,
     "metadata": {},
     "output_type": "execute_result"
    }
   ],
   "source": [
    "pricePrecision = info['symbols'][0]['quotePrecision']\n",
    "quantityS = 0.00001211231456789\n",
    "quantityB = \"{:0.0{}f}\".format(quantityS, pricePrecision)\n",
    "quantityB"
   ]
  },
  {
   "cell_type": "code",
   "execution_count": 42,
   "id": "b07ad1c9",
   "metadata": {},
   "outputs": [
    {
     "data": {
      "text/plain": [
       "{'filterType': 'MARKET_LOT_SIZE',\n",
       " 'minQty': '0.00000000',\n",
       " 'maxQty': '13257.88368200',\n",
       " 'stepSize': '0.00000000'}"
      ]
     },
     "execution_count": 42,
     "metadata": {},
     "output_type": "execute_result"
    }
   ],
   "source": [
    "info['symbols'][5][\"filters\"][3]"
   ]
  },
  {
   "cell_type": "code",
   "execution_count": 43,
   "id": "f4de2b14",
   "metadata": {
    "collapsed": true
   },
   "outputs": [
    {
     "data": {
      "text/plain": [
       "{'symbol': 'BCCBTC',\n",
       " 'status': 'BREAK',\n",
       " 'baseAsset': 'BCC',\n",
       " 'baseAssetPrecision': 8,\n",
       " 'quoteAsset': 'BTC',\n",
       " 'quotePrecision': 8,\n",
       " 'quoteAssetPrecision': 8,\n",
       " 'baseCommissionPrecision': 8,\n",
       " 'quoteCommissionPrecision': 8,\n",
       " 'orderTypes': ['LIMIT',\n",
       "  'LIMIT_MAKER',\n",
       "  'MARKET',\n",
       "  'STOP_LOSS_LIMIT',\n",
       "  'TAKE_PROFIT_LIMIT'],\n",
       " 'icebergAllowed': True,\n",
       " 'ocoAllowed': True,\n",
       " 'quoteOrderQtyMarketAllowed': True,\n",
       " 'allowTrailingStop': True,\n",
       " 'cancelReplaceAllowed': True,\n",
       " 'isSpotTradingAllowed': True,\n",
       " 'isMarginTradingAllowed': False,\n",
       " 'filters': [{'filterType': 'PRICE_FILTER',\n",
       "   'minPrice': '0.00000100',\n",
       "   'maxPrice': '1000.00000000',\n",
       "   'tickSize': '0.00000100'},\n",
       "  {'filterType': 'LOT_SIZE',\n",
       "   'minQty': '0.00100000',\n",
       "   'maxQty': '92141578.00000000',\n",
       "   'stepSize': '0.00100000'},\n",
       "  {'filterType': 'ICEBERG_PARTS', 'limit': 10},\n",
       "  {'filterType': 'TRAILING_DELTA',\n",
       "   'minTrailingAboveDelta': 10,\n",
       "   'maxTrailingAboveDelta': 2000,\n",
       "   'minTrailingBelowDelta': 10,\n",
       "   'maxTrailingBelowDelta': 2000},\n",
       "  {'filterType': 'PERCENT_PRICE_BY_SIDE',\n",
       "   'bidMultiplierUp': '5',\n",
       "   'bidMultiplierDown': '0.2',\n",
       "   'askMultiplierUp': '5',\n",
       "   'askMultiplierDown': '0.2',\n",
       "   'avgPriceMins': 5},\n",
       "  {'filterType': 'NOTIONAL',\n",
       "   'minNotional': '0.00010000',\n",
       "   'applyMinToMarket': True,\n",
       "   'maxNotional': '9000000.00000000',\n",
       "   'applyMaxToMarket': False,\n",
       "   'avgPriceMins': 5},\n",
       "  {'filterType': 'MAX_NUM_ORDERS', 'maxNumOrders': 200},\n",
       "  {'filterType': 'MAX_NUM_ALGO_ORDERS', 'maxNumAlgoOrders': 5}],\n",
       " 'permissions': ['SPOT',\n",
       "  'TRD_GRP_009',\n",
       "  'TRD_GRP_010',\n",
       "  'TRD_GRP_011',\n",
       "  'TRD_GRP_012',\n",
       "  'TRD_GRP_013',\n",
       "  'TRD_GRP_014'],\n",
       " 'defaultSelfTradePreventionMode': 'NONE',\n",
       " 'allowedSelfTradePreventionModes': ['NONE',\n",
       "  'EXPIRE_TAKER',\n",
       "  'EXPIRE_MAKER',\n",
       "  'EXPIRE_BOTH']}"
      ]
     },
     "execution_count": 43,
     "metadata": {},
     "output_type": "execute_result"
    }
   ],
   "source": [
    "sym"
   ]
  },
  {
   "cell_type": "code",
   "execution_count": 10,
   "id": "34840904",
   "metadata": {},
   "outputs": [
    {
     "name": "stdout",
     "output_type": "stream",
     "text": [
      "CPU times: total: 0 ns\n",
      "Wall time: 4 ms\n"
     ]
    }
   ],
   "source": [
    "%%time\n",
    "for sym in info['symbols']: \n",
    "    if \"stepSize\" in sym['filters'][3]: \n",
    "        if float(sym[\"filters\"][3][\"stepSize\"])!=0:\n",
    "            print(sym) # this filter is always zero\n",
    "    if \"tickSize\" in sym['filters'][0] and \"stepSize\" in sym['filters'][1]:\n",
    "        if float(sym['filters'][0][\"tickSize\"]) >= float(sym['filters'][1][\"stepSize\"]):\n",
    "            pass\n",
    "            #print(\"h1\",sym['filters'][0][\"tickSize\"]) \n",
    "            #print(\"h2\",sym['filters'][1][\"stepSize\"])"
   ]
  },
  {
   "cell_type": "code",
   "execution_count": 12,
   "id": "5791ed35",
   "metadata": {},
   "outputs": [
    {
     "name": "stdout",
     "output_type": "stream",
     "text": [
      "LTCUSDT LOT_SIZE\n",
      "h1 0.01000000\n",
      "h2 0.00100000\n",
      "final stepsize 0.001\n",
      "CPU times: total: 0 ns\n",
      "Wall time: 1.01 ms\n"
     ]
    }
   ],
   "source": [
    "%%time\n",
    "symbol=\"LTCUSDT\"\n",
    "for sym in info['symbols']:\n",
    "    if sym[\"symbol\"]==symbol:\n",
    "        print(sym[\"symbol\"],sym['filters'][1][\"filterType\"])\n",
    "        if \"tickSize\" in sym['filters'][0]:\n",
    "            print(\"h1\",sym['filters'][0][\"tickSize\"])\n",
    "        if \"stepSize\" in sym['filters'][1]:\n",
    "            print(\"h2\",sym['filters'][1][\"stepSize\"])\n",
    "            step_size=float(sym['filters'][1]['stepSize'])\n",
    "        print(\"final stepsize\",f\"{step_size}\")"
   ]
  },
  {
   "cell_type": "code",
   "execution_count": 13,
   "id": "4c53505d",
   "metadata": {},
   "outputs": [],
   "source": [
    "from binance.helpers import round_step_size"
   ]
  },
  {
   "cell_type": "code",
   "execution_count": 14,
   "id": "dc51e66b",
   "metadata": {},
   "outputs": [
    {
     "data": {
      "text/plain": [
       "0.123"
      ]
     },
     "execution_count": 14,
     "metadata": {},
     "output_type": "execute_result"
    }
   ],
   "source": [
    "round_step_size(0.1239956,step_size)"
   ]
  },
  {
   "cell_type": "code",
   "execution_count": null,
   "id": "465a8965",
   "metadata": {},
   "outputs": [],
   "source": []
  }
 ],
 "metadata": {
  "kernelspec": {
   "display_name": "Python 3 (ipykernel)",
   "language": "python",
   "name": "python3"
  },
  "language_info": {
   "codemirror_mode": {
    "name": "ipython",
    "version": 3
   },
   "file_extension": ".py",
   "mimetype": "text/x-python",
   "name": "python",
   "nbconvert_exporter": "python",
   "pygments_lexer": "ipython3",
   "version": "3.10.12"
  }
 },
 "nbformat": 4,
 "nbformat_minor": 5
}
