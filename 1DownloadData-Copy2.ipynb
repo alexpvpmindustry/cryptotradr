{
 "cells": [
  {
   "cell_type": "code",
   "execution_count": 1,
   "metadata": {},
   "outputs": [],
   "source": [
    "import numpy as np\n",
    "import matplotlib.pyplot as plt\n",
    "%matplotlib inline \n",
    "import requests"
   ]
  },
  {
   "cell_type": "code",
   "execution_count": 2,
   "metadata": {},
   "outputs": [],
   "source": [
    "base_url = 'https://api.binance.com' "
   ]
  },
  {
   "cell_type": "markdown",
   "metadata": {},
   "source": [
    "# saving the list of trading pairs"
   ]
  },
  {
   "cell_type": "code",
   "execution_count": 3,
   "metadata": {},
   "outputs": [],
   "source": [
    "import pickle\n",
    "#with open('trading_pairs.pkl', 'wb') as f:  # open a text file\n",
    "#    pickle.dump(trading_pairs, f)\n",
    "with open('trading_pairs.pkl', 'rb') as f:\n",
    "    trading_pairs = pickle.load(f)"
   ]
  },
  {
   "cell_type": "code",
   "execution_count": 4,
   "metadata": {},
   "outputs": [],
   "source": [
    "def mapinterval(interval):\n",
    "    if interval == \"1M\":\n",
    "        return \"1Month\"\n",
    "    else:\n",
    "        return interval"
   ]
  },
  {
   "cell_type": "code",
   "execution_count": 5,
   "metadata": {},
   "outputs": [],
   "source": [
    "import requests\n",
    "import csv\n",
    "from datetime import datetime\n",
    "from pathlib import Path\n",
    "from os.path import exists\n",
    "import time\n",
    "base_url = 'https://api.binance.com' \n",
    "def get_klines(symbol, interval='1h', start_time=None, end_time=None, limit=500):\n",
    "    endpoint = '/api/v3/klines'\n",
    "    url = base_url + endpoint\n",
    "    params = {'symbol': symbol,'interval': interval,'limit': limit}\n",
    "    if start_time:\n",
    "        params['startTime'] = start_time\n",
    "    if end_time:\n",
    "        params['endTime'] = end_time\n",
    "    response = requests.get(url, params=params)\n",
    "    if response.status_code == 200:\n",
    "        klines_data = response.json()\n",
    "        klines = []\n",
    "        for kline in klines_data:\n",
    "            klines.append({\n",
    "                'open_time': kline[0],\n",
    "                'open': float(kline[1]),\n",
    "                'high': float(kline[2]),\n",
    "                'low': float(kline[3]),\n",
    "                'close': float(kline[4]),\n",
    "                'volume': float(kline[5]),\n",
    "                'close_time': kline[6],\n",
    "                'quote_asset_volume': float(kline[7]),\n",
    "                'number_of_trades': kline[8],\n",
    "                'taker_buy_base_asset_volume': float(kline[9]),\n",
    "                'taker_buy_quote_asset_volume': float(kline[10]),\n",
    "                'ignore': kline[11]\n",
    "            })\n",
    "\n",
    "        return klines\n",
    "    else:\n",
    "        print(f'Error: {response.status_code}',end=\"\")\n",
    "        return None\n",
    "\n",
    "def save_klines_to_csv(klines, filename,data_folder):\n",
    "    Path(data_folder).mkdir(parents=True, exist_ok=True)\n",
    "    fieldnames = [\n",
    "        'open_time', 'open', 'high', 'low', 'close', 'volume',\n",
    "        'close_time', 'quote_asset_volume', 'number_of_trades',\n",
    "        'taker_buy_base_asset_volume', 'taker_buy_quote_asset_volume', 'ignore'\n",
    "    ]\n",
    "\n",
    "    with open(data_folder+filename, mode='w', newline='') as csvfile:\n",
    "        writer = csv.DictWriter(csvfile, fieldnames=fieldnames)\n",
    "        writer.writeheader()\n",
    "        for kline in klines:\n",
    "            writer.writerow(kline)\n",
    "def doesFileExist(filename,data_folder):\n",
    "    return exists(data_folder+filename)\n",
    "def download_klines_yearly(symbol, interval='1h', start_year=2018,data_folder=None):\n",
    "    current_year = datetime.now().year\n",
    "    ms_per_year = 31536000 * 1000\n",
    "    for year in range(start_year, current_year + 1):\n",
    "        filename = f'{symbol}_{year}_{mapinterval(interval)}.csv'\n",
    "        if doesFileExist(filename,data_folder) and current_year!=year:\n",
    "            continue\n",
    "        start_time = int(datetime(year, 1, 1).timestamp() * 1000)\n",
    "        end_time = int(start_time + ms_per_year)\n",
    "        klines = []\n",
    "        last_fetched_time = start_time\n",
    "        counts=0\n",
    "        while last_fetched_time < end_time:\n",
    "            fetched_klines = get_klines(symbol, interval, start_time=last_fetched_time, limit=1000)\n",
    "            if counts%50==0 and counts//50>0:\n",
    "                print(counts//50,end=\"\")\n",
    "            if counts%15==0 and counts//15>0:\n",
    "                time.sleep(2)\n",
    "            counts+=1\n",
    "            if (not fetched_klines) or len(fetched_klines)==0:\n",
    "                break\n",
    "            #print(fetched_klines) \n",
    "            new_fetched_time = fetched_klines[-1]['open_time']\n",
    "            if last_fetched_time==new_fetched_time:\n",
    "                break\n",
    "            last_fetched_time = new_fetched_time\n",
    "            klines.extend(fetched_klines)\n",
    "        if len(klines)>0:\n",
    "            save_klines_to_csv(klines, filename ,data_folder)\n",
    "            print(\"\",end=\" \")\n",
    "        time.sleep(5)\n",
    "    time.sleep(5)"
   ]
  },
  {
   "cell_type": "markdown",
   "metadata": {},
   "source": [
    "## sample run"
   ]
  },
  {
   "cell_type": "code",
   "execution_count": 60,
   "metadata": {},
   "outputs": [],
   "source": [
    "# symbol = 'BTCUSDT'\n",
    "# data_folder=f\"kline_data/{symbol}/\"\n",
    "# interval = '1h'\n",
    "# download_klines_yearly(symbol, interval,data_folder=data_folder)"
   ]
  },
  {
   "cell_type": "markdown",
   "metadata": {},
   "source": [
    "## large run, run for all intervals >= 2h"
   ]
  },
  {
   "cell_type": "code",
   "execution_count": 6,
   "metadata": {},
   "outputs": [],
   "source": [
    "intervals=['1m','3m','5m','15m','30m','1h','2h','4h','6h','8h','12h','1d','3d','1w','1M']\n",
    "#intervals=['12h','1d','3d','1w','1M']\n",
    "#intervals=['5m','15m','30m','1h','2h','4h','6h','8h','12h','1d','3d','1w','1M']\n",
    "#intervals=['5m']\n",
    "#intervals=['1m','3m']\n",
    "#intervals=['1m','3m','5m','15m','30m','1h','1M']#,'2h','4h','6h','8h','12h','1d']\n",
    "#intervals=['6h','8h','12h','1d']\n",
    "intervals=['5m']"
   ]
  },
  {
   "cell_type": "code",
   "execution_count": null,
   "metadata": {},
   "outputs": [
    {
     "name": "stdout",
     "output_type": "stream",
     "text": [
      "5m\n",
      ",0BTCUSDT 1 ,1EDUUSDT  ,2ETHUSDT 1 ,3USDCUSDT  ,4BUSDUSDT 1 ,5XRPUSDT 1 ,6SOLUSDT 1 ,7BNBUSDT 1 ,8ARBUSDT  ,9ALPHAUSDT 1 ,10IDUSDT  ,11CFXUSDT 1 ,12TUSDUSDT  ,13RNDRUSDT 1 ,14APTUSDT 1 ,15INJUSDT 1 ,16DOGEUSDT 1 ,17MATICUSDT 1 ,18LTCUSDT 1 ,19RADUSDT 1 ,20ICPUSDT 1 ,21EURUSDT 1 ,22FILUSDT 1 ,23LINAUSDT 1 ,24LINKUSDT 1 ,25FTMUSDT 1 ,26DYDXUSDT 1 ,27ADAUSDT 1 ,28WOOUSDT 1 ,29TRXUSDT 1 ,30ATOMUSDT 1 ,31HOOKUSDT 1 ,32OGUSDT 1 ,33RDNTUSDT  ,34DOTUSDT 1 ,35GALAUSDT 1 ,36COCOSUSDT  ,37LUNAUSDT 1 ,38LUNCUSDT 1 ,39JASMYUSDT 1 ,40AVAXUSDT 1 ,41OPUSDT 1 ,42TOMOUSDT 1 ,43CAKEUSDT 1 ,44USTCUSDT  ,45EGLDUSDT 1 ,46IDEXUSDT 1 ,47FETUSDT 1 ,48SHIBUSDT 1 ,49GMTUSDT 1 ,50STMXUSDT 1 ,51AGIXUSDT  ,52ORNUSDT 1 ,53XMRUSDT 1 ,54BETAUSDT 1 ,55LQTYUSDT  ,56SANDUSDT 1 ,57STGUSDT 1 ,58VGXUSDT 1 ,59SXPUSDT 1 ,60BELUSDT 1 ,61MDTUSDT 1 ,62CTSIUSDT 1 ,63STXUSDT 1 ,64ROSEUSDT 1 ,65AUDUSDT  ,66ACHUSDT 1 ,67MAGICUSDT 1 ,68VTHOUSDT 1 ,69MASKUSDT 1 ,70EOSUSDT 1 ,71HIGHUSDT 1 ,72IMXUSDT 1 ,73NEARUSDT 1 ,74UMAUSDT 1 ,75GRTUSDT 1 ,76AKROUSDT 1 ,77ETCUSDT 1 ,78APEUSDT 1 ,79BCHUSDT 1 ,80CHZUSDT 1 ,81REEFUSDT 1 ,82PHBUSDT 1 ,83ICXUSDT 1 ,84LDOUSDT 1 ,85ZILUSDT 1 ,86SNXUSDT 1 ,87POLYXUSDT 1 ,88ACAUSDT 1 ,89GALUSDT 1 ,90CELRUSDT 1 ,91KAVAUSDT 1 ,92SSVUSDT  ,93RUNEUSDT 1 ,94BNXUSDT 1 ,95MANAUSDT 1 ,96UNIUSDT 1 ,97ALGOUSDT 1 ,98GBPUSDT 1 ,99DEGOUSDT 1 ,100FXSUSDT 1 ,101OMGUSDT 1 ,102GMXUSDT 1 ,103KEYUSDT  ,104HFTUSDT 1 ,105UFTUSDT  ,106CRVUSDT 1 ,107OAXUSDT  ,108VETUSDT 1 ,109SYNUSDT  ,1101INCHUSDT 1 ,111BANDUSDT 1 ,112JOEUSDT 1 ,113XLMUSDT 1 ,114XVSUSDT 1 ,115QNTUSDT 1 ,116MINAUSDT 1 ,117OCEANUSDT 1 ,118AAVEUSDT 1 ,119SUSHIUSDT 1 ,120TWTUSDT 1 ,121ENSUSDT 1 ,122POLSUSDT 1 ,123AXSUSDT 1 ,124AUDIOUSDT 1 ,125HBARUSDT 1 ,126STPTUSDT 1 ,127KLAYUSDT 1 ,128PEOPLEUSDT 1 ,129UNFIUSDT 1 ,130SYSUSDT 1 ,131THETAUSDT 1 ,132ONEUSDT 1 ,133DARUSDT 1 ,134RIFUSDT 1 ,135ASTRUSDT 1 ,136GHSTUSDT 1 ,137NEOUSDT 1 ,138ANKRUSDT 1 ,139ARUSDT 1 ,140MKRUSDT 1 ,141CITYUSDT 1 ,142TRUUSDT 1 ,143DASHUSDT 1 ,144C98USDT 1 ,145LOOMUSDT  ,146CKBUSDT 1 ,147XECUSDT 1 ,148QIUSDT 1 ,149ENJUSDT 1 ,150XTZUSDT 1 ,151ATAUSDT 1 ,152FLOWUSDT 1 ,153WAVESUSDT 1 ,154LRCUSDT 1 ,155USDPUSDT  ,156FIDAUSDT 1 ,157ARPAUSDT 1 ,158SANTOSUSDT 1 ,159HOTUSDT 1 ,160ALICEUSDT 1 ,161ZECUSDT 1 ,162ALPINEUSDT 1 ,163COTIUSDT 1 ,164GTCUSDT 1 ,165IOTAUSDT 1 ,166NULSUSDT 1 ,167RVNUSDT 1 ,168BURGERUSDT 1 ,169LOKAUSDT 1 ,170GNSUSDT  ,171KDAUSDT 1 ,172CELOUSDT 1 ,173SCUSDT 1 ,174COMPUSDT 1 ,175SLPUSDT 1 ,176API3USDT 1 ,177LITUSDT 1 ,178QUICKUSDT 1 ,179BETHUSDT  ,180DENTUSDT 1 ,181CHRUSDT 1 ,182MBLUSDT 1 ,183PAXGUSDT 1 ,184BTTCUSDT 1 ,185RAREUSDT 1 ,186ONTUSDT 1 ,187QTUMUSDT 1 ,188RSRUSDT 1 ,189KMDUSDT 1 ,190LEVERUSDT 1 ,191KSMUSDT 1 ,192BLZUSDT 1 ,193LAZIOUSDT 1 ,194OSMOUSDT 1 ,195PORTOUSDT 1 ,196ERNUSDT 1 ,197CHESSUSDT 1 ,198CLVUSDT 1 ,199DUSKUSDT 1 ,200IOTXUSDT 1 ,201VOXELUSDT 1 ,202VIBUSDT  ,203BONDUSDT 1 ,204PHAUSDT 1 ,205VIDTUSDT 1 ,206AMBUSDT  ,207UTKUSDT 1 ,208AGLDUSDT "
     ]
    }
   ],
   "source": [
    "%%time\n",
    "#intervals=['1m']#,'30m','1h','1M']\n",
    "for interval in intervals[::-1]:\n",
    "    print(interval)\n",
    "    for i,sp in list(enumerate(trading_pairs))[:250]:\n",
    "        symbol = sp[\"symbol\"]\n",
    "        data_folder=f\"kline_data/{symbol}/\"\n",
    "        print(f\",{i}{symbol}\",end=\" \")\n",
    "        try:\n",
    "            download_klines_yearly(symbol, interval,data_folder=data_folder,start_year=2023)\n",
    "        except ConnectionResetError or ConnectionAbortedError:\n",
    "            print(\"error, sleep 10mins\")\n",
    "            time.sleep(10*60)\n",
    "            download_klines_yearly(symbol, interval,data_folder=data_folder)\n",
    "    print(\"\")"
   ]
  },
  {
   "cell_type": "markdown",
   "metadata": {},
   "source": [
    "# end of file"
   ]
  },
  {
   "cell_type": "code",
   "execution_count": 1,
   "metadata": {},
   "outputs": [
    {
     "data": {
      "text/plain": [
       "6.36574074074074"
      ]
     },
     "execution_count": 1,
     "metadata": {},
     "output_type": "execute_result"
    }
   ],
   "source": [
    "55000*5/60/24/30"
   ]
  },
  {
   "cell_type": "code",
   "execution_count": 120,
   "metadata": {},
   "outputs": [
    {
     "name": "stdout",
     "output_type": "stream",
     "text": [
      "1M\n",
      ",18LTCUSDT  ,19RADUSDT  ,20ICPUSDT  ,21EURUSDT  ,22FILUSDT  ,23LINAUSDT  ,24LINKUSDT  ,25FTMUSDT  ,26DYDXUSDT  ,27ADAUSDT  ,28WOOUSDT  ,29TRXUSDT  ,30ATOMUSDT  ,31HOOKUSDT  ,32OGUSDT  ,33RDNTUSDT  ,34DOTUSDT  ,35GALAUSDT  ,36COCOSUSDT  ,37LUNAUSDT  ,38LUNCUSDT  ,39JASMYUSDT  ,40AVAXUSDT  ,41OPUSDT  ,42TOMOUSDT  ,43CAKEUSDT  ,44USTCUSDT  ,45EGLDUSDT  ,46IDEXUSDT  ,47FETUSDT  ,48SHIBUSDT  ,49GMTUSDT  \n",
      "1m\n",
      ",18LTCUSDT 123 ,19RADUSDT 123 ,20ICPUSDT    123456 12345678910 123 ,21EURUSDT   12345678910 12345678910 12345678910 123 ,22FILUSDT   12 12345678910 12345678910 123 ,23LINAUSDT    12345678 12345678910 123 ,24LINKUSDT  12345678910 12345678910 12345678910 12345678910 123 ,25FTMUSDT  12345 12345678910 12345678910 12345678910 123 ,26DYDXUSDT    123 12345678910 123 ,27ADAUSDT 1234567 12345678910 12345678910 12345678910 12345678910 123 ,28WOOUSDT     123456789 123 ,29TRXUSDT 12345 12345678910 12345678910 12345678910 12345678910 123 ,30ATOMUSDT  1234567 12345678910 12345678910 12345678910 123 ,31HOOKUSDT      123 ,32OGUSDT    12345678910 12345678910 123 ,33RDNTUSDT      1 ,34DOTUSDT   123 12345678910 12345678910 123 ,35GALAUSDT    123 12345678910 123 ,36COCOSUSDT  123 12345678910 12345678910 12345678910 123 ,37LUNAUSDT   123 12345678910 123456789 123 ,38LUNCUSDT     123 123 ,39JASMYUSDT    1 12345678910 123 ,40AVAXUSDT   12 12345678910 12345678910 123 ,41OPUSDT     123456 123 ,42TOMOUSDT  123 12345678910 12345678910 12345678910 123 ,43CAKEUSDT    123456789 12345678910 123 ,44USTCUSDT      1 ,45EGLDUSDT   123 12345678910 12345678910 123 ,46IDEXUSDT    123 12345678910 123 ,47FETUSDT  12345678 12345678910 12345678910 12345678910 123 ,48SHIBUSDT    123456 12345678910 123 ,49GMTUSDT     12345678 123 \n",
      "CPU times: total: 4h 1min 1s\n",
      "Wall time: 8h 25min 41s\n"
     ]
    }
   ],
   "source": [
    "%%time\n",
    "for interval in intervals[::-1]:\n",
    "    print(interval)\n",
    "    for i,sp in list(enumerate(trading_pairs))[18:50]:\n",
    "        symbol = sp[\"symbol\"]\n",
    "        data_folder=f\"kline_data/{symbol}/\"\n",
    "        print(f\",{i}{symbol}\",end=\" \")\n",
    "        download_klines_yearly(symbol, interval,data_folder=data_folder)\n",
    "    print(\"\")"
   ]
  },
  {
   "cell_type": "code",
   "execution_count": 106,
   "metadata": {},
   "outputs": [],
   "source": [
    "# import glob\n",
    "# import os\n",
    "# for file in glob.glob(\"kline_data/*/*1m*.csv\"):\n",
    "#     os.remove(file)"
   ]
  },
  {
   "cell_type": "code",
   "execution_count": 6,
   "metadata": {},
   "outputs": [
    {
     "name": "stdout",
     "output_type": "stream",
     "text": [
      "5m\n",
      ",212MCUSDT  ,213RENUSDT 12  ,214XEMUSDT    12 12  ,215KNCUSDT   1 12 12  ,216HIFIUSDT       ,217GLMRUSDT     12  ,218FLUXUSDT     12  ,219TLMUSDT    1 12  ,220KP3RUSDT     12  ,221MDXUSDT    1 12  ,222SUPERUSDT    1 12  ,223CTKUSDT    12 12  ,224PYRUSDT     12  ,225TUSDT     1  ,226ASRUSDT    12 12  ,227ILVUSDT     12  ,228ADXUSDT     12  ,229ZENUSDT   1 12 12  ,230BSWUSDT     1  ,231DFUSDT     12  ,232RPLUSDT       ,233JUVUSDT    12 12  ,234OGNUSDT   12 12 12  ,235YGGUSDT     12  ,236SFPUSDT    1 12  ,237SPELLUSDT     12  ,238IOSTUSDT  1 12 12 12  ,239PONDUSDT    1 12  ,240AMPUSDT     12  ,241BAKEUSDT    1 12  ,242YFIUSDT    12 12  ,243WAXPUSDT     12  ,244LPTUSDT    1 12  ,245TVKUSDT     12  ,246MOBUSDT     1  ,247BICOUSDT     12  ,248PLAUSDT     12  ,249SKLUSDT    12 12  \n",
      "CPU times: total: 35min 9s\n",
      "Wall time: 2h 13min 57s\n"
     ]
    }
   ],
   "source": [
    "%%time\n",
    "intervals=['5m']#,'30m','1h','1M']\n",
    "for interval in intervals[::-1]:\n",
    "    print(interval)\n",
    "    for i,sp in list(enumerate(trading_pairs))[212:250]:\n",
    "        symbol = sp[\"symbol\"]\n",
    "        data_folder=f\"kline_data/{symbol}/\"\n",
    "        print(f\",{i}{symbol}\",end=\" \")\n",
    "        try:\n",
    "            download_klines_yearly(symbol, interval,data_folder=data_folder)\n",
    "        except ConnectionResetError or ConnectionAbortedError:\n",
    "            print(\"error, sleep 10mins\")\n",
    "            time.sleep(10*60)\n",
    "            download_klines_yearly(symbol, interval,data_folder=data_folder)\n",
    "    print(\"\")"
   ]
  },
  {
   "cell_type": "code",
   "execution_count": 7,
   "metadata": {},
   "outputs": [
    {
     "name": "stdout",
     "output_type": "stream",
     "text": [
      "15m\n",
      ",232RPLUSDT  ,233JUVUSDT       ,234OGNUSDT       ,235YGGUSDT       ,236SFPUSDT       ,237SPELLUSDT       ,238IOSTUSDT       ,239PONDUSDT       ,240AMPUSDT       ,241BAKEUSDT       ,242YFIUSDT       ,243WAXPUSDT       ,244LPTUSDT       ,245TVKUSDT       ,246MOBUSDT       ,247BICOUSDT       ,248PLAUSDT       ,249SKLUSDT       \n",
      "CPU times: total: 5min 11s\n",
      "Wall time: 19min 17s\n"
     ]
    }
   ],
   "source": [
    "%%time\n",
    "intervals=['15m']#,'30m','1h','1M']\n",
    "for interval in intervals[::-1]:\n",
    "    print(interval)\n",
    "    for i,sp in list(enumerate(trading_pairs))[232:250]:\n",
    "        symbol = sp[\"symbol\"]\n",
    "        data_folder=f\"kline_data/{symbol}/\"\n",
    "        print(f\",{i}{symbol}\",end=\" \")\n",
    "        try:\n",
    "            download_klines_yearly(symbol, interval,data_folder=data_folder)\n",
    "        except ConnectionResetError or ConnectionAbortedError:\n",
    "            print(\"error, sleep 10mins\")\n",
    "            time.sleep(10*60)\n",
    "            download_klines_yearly(symbol, interval,data_folder=data_folder)\n",
    "    print(\"\")"
   ]
  },
  {
   "cell_type": "code",
   "execution_count": 9,
   "metadata": {},
   "outputs": [
    {
     "name": "stdout",
     "output_type": "stream",
     "text": [
      "3m\n",
      ",187QTUMUSDT 1 ,188RSRUSDT 1 ,189KMDUSDT 1 ,190LEVERUSDT     1 1 ,191KSMUSDT   1 123 123 1 ,192BLZUSDT   1 123 123 1 ,193LAZIOUSDT     123 1 ,194OSMOUSDT      1 ,195PORTOUSDT     123 1 ,196ERNUSDT    1 123 1 ,197CHESSUSDT     123 1 ,198CLVUSDT    1 123 1 ,199DUSKUSDT  1 123 123 123 1 ,200IOTXUSDT   123 123 123 1 ,201VOXELUSDT     123 1 ,202VIBUSDT       ,203BONDUSDT    1 123 1 ,204PHAUSDT    1 123 1 ,205VIDTUSDT    1 123 1 ,206AMBUSDT       ,207UTKUSDT    123 123 1 ,208AGLDUSDT     123 1 ,209BATUSDT  12 123 123 123 1 ,210WINUSDT  1 123 123 123 1 ,211DODOUSDT    123 123 1 ,212MCUSDT     123 1 ,213RENUSDT   123 123 123 1 ,214XEMUSDT    123 123 1 ,215KNCUSDT   1 123 123 1 ,216HIFIUSDT      1 ,217GLMRUSDT     123 1 ,218FLUXUSDT     123 1 ,219TLMUSDT    12 123 1 ,220KP3RUSDT     123 1 ,221MDXUSDT    12 123 1 ,222SUPERUSDT    12 123 1 ,223CTKUSDT    123 123 1 ,224PYRUSDT     123 1 ,225TUSDT     12 1 ,226ASRUSDT    123 123 1 ,227ILVUSDT     123 1 ,228ADXUSDT     123 1 ,229ZENUSDT   1 123 123 1 ,230BSWUSDT     12 1 ,231DFUSDT     123 1 ,232RPLUSDT      1 ,233JUVUSDT    123 123 1 ,234OGNUSDT   123 123 123 1 ,235YGGUSDT     123 1 ,236SFPUSDT    123 123 1 ,237SPELLUSDT     123 1 ,238IOSTUSDT  12 123 123 123 1 ,239PONDUSDT    12 123 1 ,240AMPUSDT     123 1 ,241BAKEUSDT    12 123 1 ,242YFIUSDT   1 123 123 1 ,243WAXPUSDT    1 123 1 ,244LPTUSDT    12 123 1 ,245TVKUSDT    1 123 1 ,246MOBUSDT     12 1 ,247BICOUSDT     123 1 ,248PLAUSDT     123 1 ,249SKLUSDT    123 123 1 \n",
      "CPU times: total: 2h 8min 9s\n",
      "Wall time: 4h 53min 56s\n"
     ]
    }
   ],
   "source": [
    "%%time\n",
    "intervals=['3m']#,'30m','1h','1M']\n",
    "for interval in intervals[::-1]:\n",
    "    print(interval)\n",
    "    for i,sp in list(enumerate(trading_pairs))[187:250]:\n",
    "        symbol = sp[\"symbol\"]\n",
    "        data_folder=f\"kline_data/{symbol}/\"\n",
    "        print(f\",{i}{symbol}\",end=\" \")\n",
    "        try:\n",
    "            download_klines_yearly(symbol, interval,data_folder=data_folder)\n",
    "        except ConnectionResetError or ConnectionAbortedError:\n",
    "            print(\"error, sleep 10mins\")\n",
    "            time.sleep(10*60)\n",
    "            download_klines_yearly(symbol, interval,data_folder=data_folder)\n",
    "    print(\"\")"
   ]
  },
  {
   "cell_type": "code",
   "execution_count": 17,
   "metadata": {},
   "outputs": [
    {
     "name": "stdout",
     "output_type": "stream",
     "text": [
      "1m\n",
      ",148QIUSDT 123 ,149ENJUSDT 12345678910 123 ,150XTZUSDT  12 12345678910 12345678910 12345678910 123 ,151ATAUSDT    12345 12345678910 123 ,152FLOWUSDT    1234 12345678910 123 ,153WAVESUSDT  123456789 12345678910 12345678910 12345678910 123 ,154LRCUSDT   12345 12345678910 12345678910 123 ,155USDPUSDT    123 1234567 1 ,156FIDAUSDT    12 12345678910 123 ,157ARPAUSDT  1 12345678910 12345678910 12345678910 123 ,158SANTOSUSDT     12345678910 123 ,159HOTUSDT  123456789 12345678910 12345678910 12345678910 123 ,160ALICEUSDT    12345678 12345678910 123 ,161ZECUSDT  12345678 12345678910 12345678910 12345678910 123 ,162ALPINEUSDT     123456789 123 ,163COTIUSDT   12345678 12345678910 12345678910 123 ,164GTCUSDT    12345 12345678910 123 ,165IOTAUSDT 123456 12345678910 12345678910 12345678910 12345678910 123 ,166NULSUSDT 1234 12345678910 12345678910 12345678910 12345678910 123 ,167RVNUSDT  12 12345678910 12345678910 12345678910 123 ,168BURGERUSDT    1234567 12345678910 123 ,169LOKAUSDT     123456789 123 ,170GNSUSDT      12 ,171KDAUSDT     12345678 123 ,172CELOUSDT    12345678910 12345678910 123 ,173SCUSDT   12345 12345678910 12345678910 123 ,174COMPUSDT   12345 12345678910 12345678910 123 ,175SLPUSDT    1234567 12345678910 123 ,176API3USDT     123456789 123 ,177LITUSDT    123456789 12345678910 123 ,178QUICKUSDT    1234 12345678910 123 ,179BETHUSDT      1 ,180DENTUSDT  123 12345678910 12345678910 12345678910 123 ,181CHRUSDT   123456 12345678910 12345678910 123 ,182MBLUSDT   123456789 12345678910 12345678910 123 ,183PAXGUSDT   123 12345678910 12345678910 123 ,184BTTCUSDT     123456789 123 ,185RAREUSDT    12 12345678910 123 ,186ONTUSDT 12345 12345678910 12345678910 12345678910 12345678910 123 ,187QTUMUSDT 12345678 12345678910 12345678910 12345678910 12345678910 123 ,188RSRUSDT   123 12345678910 12345678910 123 ,189KMDUSDT   1234 12345678910 12345678910 123 ,190LEVERUSDT     1234 123 ,191KSMUSDT   123 12345678910 12345678910 123 ,192BLZUSDT   1234 12345678910 12345678910 123 ,193LAZIOUSDT    12 12345678910 123 ,194OSMOUSDT     1 123 ,195PORTOUSDT    1 12345678910 123 ,196ERNUSDT    12345 12345678910 123 ,197CHESSUSDT    12 12345678910 123 ,198CLVUSDT    1234 12345678910 123 ,199DUSKUSDT  1234 12345678910 12345678910 12345678910 123 ,200IOTXUSDT  1 12345678910 12345678910 12345678910 123 ,201VOXELUSDT     12345678910 123 ,202VIBUSDT      12 ,203BONDUSDT    12345 12345678910 123 ,204PHAUSDT    12345 12345678910 123 ,205VIDTUSDT    123 12345678910 123 ,206AMBUSDT      1 ,207UTKUSDT   12 12345678910 12345678910 123 ,208AGLDUSDT    12 12345678910 123 ,209BATUSDT  12345678 12345678910 12345678910 12345678910 123 ,210WINUSDT  1234 12345678910 12345678910 12345678910 123 ,211DODOUSDT    123456789 12345678910 123 ,212MCUSDT     12345678910 123 ,213RENUSDT  12 12345678910 12345678910 12345678910 123 ,214XEMUSDT   1 12345678910 12345678910 123 ,215KNCUSDT   12345 12345678910 12345678910 123 ,216HIFIUSDT      123 ,217GLMRUSDT     12345678910 123 ,218FLUXUSDT     12345678910 123 ,219TLMUSDT    1234567 12345678910 123 ,220KP3RUSDT    1 12345678910 123 ,221MDXUSDT    123456 12345678910 123 ,222SUPERUSDT    12345678 12345678910 123 ,223CTKUSDT   1 12345678910 12345678910 123 ,224PYRUSDT    1 12345678910 123 ,225TUSDT     12345678 123 ,226ASRUSDT    12345678910 12345678910 123 ,227ILVUSDT    12 12345678910 123 ,228ADXUSDT    1 12345678910 123 ,229ZENUSDT   12345 12345678910 12345678910 123 ,230BSWUSDT     12345678 123 ,231DFUSDT    12 12345678910 123 ,232RPLUSDT      123 ,233JUVUSDT    12345678910 12345678910 123 ,234OGNUSDT   12345678910 12345678910 12345678910 123 ,235YGGUSDT    12 12345678910 123 ,236SFPUSDT    123456789 12345678910 123 ,237SPELLUSDT     12345678910 123 ,238IOSTUSDT  12345678 12345678910 12345678910 12345678910 123 ,239PONDUSDT    12345678 12345678910 123 ,240AMPUSDT    1 12345678910 123 ,241BAKEUSDT    1234567 12345678910 123 ,242YFIUSDT   1234 12345678910 12345678910 123 ,243WAXPUSDT    123 12345678910 123 ,244LPTUSDT    123456 12345678910 123 ,245TVKUSDT    1234 12345678910 123 ,246MOBUSDT     1234567 123 ,247BICOUSDT     12345678910 123 ,248PLAUSDT    1 12345678910 123 ,249SKLUSDT    12345678910 12345678910 123 \n",
      "CPU times: total: 11h 56min 1s\n",
      "Wall time: 1d 2h 23min 38s\n"
     ]
    }
   ],
   "source": [
    "%%time\n",
    "intervals=['1m']#,'30m','1h','1M']\n",
    "for interval in intervals[::-1]:\n",
    "    print(interval)\n",
    "    for i,sp in list(enumerate(trading_pairs))[148:250]:\n",
    "        symbol = sp[\"symbol\"]\n",
    "        data_folder=f\"kline_data/{symbol}/\"\n",
    "        print(f\",{i}{symbol}\",end=\" \")\n",
    "        try:\n",
    "            download_klines_yearly(symbol, interval,data_folder=data_folder)\n",
    "        except ConnectionResetError or ConnectionAbortedError:\n",
    "            print(\"error, sleep 10mins\")\n",
    "            time.sleep(10*60)\n",
    "            download_klines_yearly(symbol, interval,data_folder=data_folder)\n",
    "    print(\"\")"
   ]
  },
  {
   "cell_type": "code",
   "execution_count": null,
   "metadata": {},
   "outputs": [],
   "source": []
  },
  {
   "cell_type": "code",
   "execution_count": null,
   "metadata": {},
   "outputs": [],
   "source": []
  },
  {
   "cell_type": "code",
   "execution_count": null,
   "metadata": {},
   "outputs": [],
   "source": []
  },
  {
   "cell_type": "code",
   "execution_count": null,
   "metadata": {},
   "outputs": [],
   "source": []
  },
  {
   "cell_type": "code",
   "execution_count": null,
   "metadata": {},
   "outputs": [],
   "source": []
  },
  {
   "cell_type": "code",
   "execution_count": null,
   "metadata": {},
   "outputs": [],
   "source": []
  }
 ],
 "metadata": {
  "kernelspec": {
   "display_name": "Python 3 (ipykernel)",
   "language": "python",
   "name": "python3"
  },
  "language_info": {
   "codemirror_mode": {
    "name": "ipython",
    "version": 3
   },
   "file_extension": ".py",
   "mimetype": "text/x-python",
   "name": "python",
   "nbconvert_exporter": "python",
   "pygments_lexer": "ipython3",
   "version": "3.10.11"
  }
 },
 "nbformat": 4,
 "nbformat_minor": 2
}
