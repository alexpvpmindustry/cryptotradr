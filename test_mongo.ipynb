{
 "cells": [
  {
   "cell_type": "code",
   "execution_count": 1,
   "id": "a7ba3970",
   "metadata": {},
   "outputs": [
    {
     "name": "stdout",
     "output_type": "stream",
     "text": [
      "Collecting pymongo\n",
      "  Downloading pymongo-4.6.0-cp310-cp310-win_amd64.whl (472 kB)\n",
      "     ---------------------------------------- 0.0/472.7 kB ? eta -:--:--\n",
      "     ------------------------------------- 472.7/472.7 kB 14.9 MB/s eta 0:00:00\n",
      "Collecting dnspython<3.0.0,>=1.16.0\n",
      "  Using cached dnspython-2.4.2-py3-none-any.whl (300 kB)\n",
      "Installing collected packages: dnspython, pymongo\n",
      "Successfully installed dnspython-2.4.2 pymongo-4.6.0\n",
      "Note: you may need to restart the kernel to use updated packages.\n"
     ]
    }
   ],
   "source": [
    "pip install pymongo"
   ]
  },
  {
   "cell_type": "code",
   "execution_count": 1,
   "id": "3b23a58c",
   "metadata": {},
   "outputs": [
    {
     "name": "stdout",
     "output_type": "stream",
     "text": [
      "Sample data has been inserted into 'collection1' and 'collection2'\n"
     ]
    }
   ],
   "source": [
    "from pymongo import MongoClient\n",
    "import random\n",
    "\n",
    "client = MongoClient('mongodb://localhost:27017/')\n",
    "db = client['sample_db']\n",
    "collection1_data = [\n",
    "    {\"_id\": i, \"name\": f\"Item{i}\"} for i in range(10)\n",
    "]\n",
    "# Insert data into collection1\n",
    "collection1 = db['collection1']\n",
    "collection1.insert_many(collection1_data)\n",
    "# Sample data for collection2\n",
    "collection2_data = [\n",
    "    {\"id\": random.choice(range(10)), \"value2\": random.randint(1, 100)} for _ in range(50)\n",
    "]\n",
    "# Insert data into collection2\n",
    "collection2 = db['collection2']\n",
    "collection2.insert_many(collection2_data)\n",
    "print(\"Sample data has been inserted into 'collection1' and 'collection2'\")"
   ]
  },
  {
   "cell_type": "code",
   "execution_count": 4,
   "id": "9d4b500f",
   "metadata": {},
   "outputs": [
    {
     "name": "stdout",
     "output_type": "stream",
     "text": [
      "{'5': 448, '4': 394, '6': 379, '2': 372, '8': 364, '0': 193, '3': 165, '1': 148, '7': 140, '9': 60}\n"
     ]
    }
   ],
   "source": [
    "# Select the database\n",
    "db = client['sample_db']\n",
    "\n",
    "# Assuming 'id' is the name of the field you're matching on in both collections\n",
    "# and 'value2' is the field you want to tally in 'collection2'\n",
    "# Aggregation pipeline to match and sum\n",
    "pipeline = [\n",
    "    {\n",
    "        '$lookup': {\n",
    "            'from': 'collection2',  # Join with collection2\n",
    "            'localField': '_id',  # Field from collection1\n",
    "            'foreignField': 'id',  # Field from collection2 to match on\n",
    "            'as': 'matched_docs'  # Output array with matched documents\n",
    "        }\n",
    "    },\n",
    "    {\n",
    "        '$unwind': '$matched_docs'  # Unwind the array of matched documents\n",
    "    },\n",
    "    {\n",
    "        '$group': {\n",
    "            '_id': '$_id',  # Group by the original document id\n",
    "            'total_value2': {'$sum': '$matched_docs.value2'}  # Sum up the value2 from collection2\n",
    "        }\n",
    "    },\n",
    "    {\n",
    "        '$sort': {'total_value2': -1}  # Sort by total_value2 in descending order\n",
    "    },\n",
    "    {\n",
    "        '$limit': 10  # Limit to top 10 results\n",
    "    }\n",
    "]\n",
    "# Execute the aggregation pipeline\n",
    "result = db['collection1'].aggregate(pipeline)\n",
    "# Convert the aggregation result to a dictionary mapping id to value2\n",
    "result_dict = {str(doc['_id']): doc['total_value2'] for doc in result}\n",
    "print(result_dict)"
   ]
  },
  {
   "cell_type": "code",
   "execution_count": null,
   "id": "c0d8a3c1",
   "metadata": {},
   "outputs": [],
   "source": []
  }
 ],
 "metadata": {
  "kernelspec": {
   "display_name": "Python 3 (ipykernel)",
   "language": "python",
   "name": "python3"
  },
  "language_info": {
   "codemirror_mode": {
    "name": "ipython",
    "version": 3
   },
   "file_extension": ".py",
   "mimetype": "text/x-python",
   "name": "python",
   "nbconvert_exporter": "python",
   "pygments_lexer": "ipython3",
   "version": "3.10.11"
  }
 },
 "nbformat": 4,
 "nbformat_minor": 5
}
