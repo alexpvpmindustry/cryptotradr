{
 "cells": [
  {
   "cell_type": "markdown",
   "id": "2742ed43",
   "metadata": {},
   "source": [
    "# get signal"
   ]
  },
  {
   "cell_type": "code",
   "execution_count": 11,
   "id": "5047c8d6",
   "metadata": {},
   "outputs": [
    {
     "name": "stdout",
     "output_type": "stream",
     "text": [
      "The autoreload extension is already loaded. To reload it, use:\n",
      "  %reload_ext autoreload\n"
     ]
    }
   ],
   "source": [
    "import numpy as np\n",
    "import pandas as pd\n",
    "import mplfinance as mpf\n",
    "import os\n",
    "from glob import glob\n",
    "import matplotlib.pyplot as plt\n",
    "\n",
    "%matplotlib inline\n",
    "\n",
    "#import talib as ta # conda activate cryt310\n",
    "from matplotlib.ticker import AutoMinorLocator\n",
    "import time\n",
    "from itertools import zip_longest\n",
    "from IPython.display import Javascript\n",
    "import datetime\n",
    "import schedule\n",
    "import json,requests\n",
    "from funcs import *\n",
    "\n",
    "import warnings\n",
    "\n",
    "warnings.simplefilter(\"error\")\n",
    "\n",
    "%load_ext autoreload\n",
    "%autoreload 2\n",
    "\n",
    "tickerpair=\"ETCUSDT\" #GBPUSDT #LTCUSDT #ETHUSDT #BTCUSDT\n",
    "#tickerpair=\"BNBUSDT\" #BNBUSDT #AUDUSDT #XMRUSDT\n",
    "tickerpairs=[\"ETCUSDT\",\"GBPUSDT\",\"LTCUSDT\",\"ETHUSDT\",\"BTCUSDT\",\"BNBUSDT\",\"AUDUSDT\",\"XMRUSDT\"] \n",
    "\n",
    "intervals=['1m','3m','5m','15m','30m','1h','2h','3h','4h','6h','8h','12h','1d','3d','1w','1Month']\n",
    "\n",
    "\n",
    "\n",
    "# define constants\n",
    "tickerpair=\"ETCUSDT\"\n",
    "interval=\"5m\"\n",
    "percentile=98\n",
    "thres_diff=None\n",
    "#thres_diff = 0.003489\n",
    "#thres_diff=0.004225 #ETCUSDT 30m 98%\n",
    "#thres_diff=0.002227 #ETCUSDT 15m 98%\n",
    "#thres_diff=0.0009295 *0.95 #ETCUSDT 5m 98%\n",
    "entered=False\n",
    "\n",
    "#percentiles = np.arange(55,100,20)\n",
    "percentiles = [99]#[90,93,95,98,99]#[:1]\n",
    "intervals=['5m','15m','30m']#[-1:]\n",
    "tickerpairs=[#'ARBUSDT', 'AVAXUSDT', 'BCHUSDT', 'BNBUSDT', 'BTCUSDT',\n",
    "             #'ETCUSDT', 'ETHUSDT', 'LTCUSDT', 'MATICUSDT', #'PNTUSDT',\n",
    "    #         'PONDUSDT', 'SHIBUSDT', 'SOLUSDT', 'TROYUSDT',\n",
    "    'WAVESUSDT',\n",
    "             'XRPUSDT', 'XVGUSDT']\n",
    "#tickerpairs=[\"ARBUSDT\",\"ETCUSDT\",\"LTCUSDT\",\"ETHUSDT\",\"BTCUSDT\",\"BNBUSDT\",\"XVGUSDT\"]#[:1]"
   ]
  },
  {
   "cell_type": "code",
   "execution_count": 12,
   "id": "81ab6256",
   "metadata": {
    "scrolled": true
   },
   "outputs": [
    {
     "name": "stdout",
     "output_type": "stream",
     "text": [
      "CPU times: total: 281 ms\n",
      "Wall time: 319 ms\n"
     ]
    },
    {
     "data": {
      "text/plain": [
       "55000"
      ]
     },
     "execution_count": 12,
     "metadata": {},
     "output_type": "execute_result"
    }
   ],
   "source": [
    "%%time\n",
    "dfmpl = get_data(tickerpair,\"30m\",limit=55000,type=\"data\")\n",
    "len(dfmpl)"
   ]
  },
  {
   "cell_type": "code",
   "execution_count": 13,
   "id": "1c0aa96b",
   "metadata": {},
   "outputs": [
    {
     "name": "stdout",
     "output_type": "stream",
     "text": [
      "total 9\n"
     ]
    }
   ],
   "source": [
    "print(\"total\",len(tickerpairs)*len(intervals)*len(percentiles))"
   ]
  },
  {
   "cell_type": "code",
   "execution_count": 14,
   "id": "5e905c4c",
   "metadata": {
    "collapsed": true
   },
   "outputs": [
    {
     "name": "stdout",
     "output_type": "stream",
     "text": [
      "total 9\n",
      "0 5 "
     ]
    },
    {
     "ename": "ValueError",
     "evalue": "No objects to concatenate",
     "output_type": "error",
     "traceback": [
      "\u001b[1;31m---------------------------------------------------------------------------\u001b[0m",
      "\u001b[1;31mValueError\u001b[0m                                Traceback (most recent call last)",
      "File \u001b[1;32m<timed exec>:5\u001b[0m\n",
      "File \u001b[1;32m~\\Documents\\Github\\cryptotradr\\funcs.py:38\u001b[0m, in \u001b[0;36mget_data\u001b[1;34m(tickerpair, interval, limit, type)\u001b[0m\n\u001b[0;32m     36\u001b[0m     dfmpl = df_to_dfmpl(df)\n\u001b[0;32m     37\u001b[0m elif type==\"data\":\n\u001b[1;32m---> 38\u001b[0m     df = get_historical_df(tickerpair,interval,folder=\"kline_data\").iloc[-limit:]\n\u001b[0;32m     39\u001b[0m     dfmpl = df_to_dfmpl(df)\n\u001b[0;32m     40\u001b[0m else:\n",
      "File \u001b[1;32m~\\Documents\\Github\\cryptotradr\\trader.py:54\u001b[0m, in \u001b[0;36mget_historical_df\u001b[1;34m(tickerpair, interval, folder)\u001b[0m\n\u001b[0;32m     52\u001b[0m \u001b[38;5;28;01mdef\u001b[39;00m \u001b[38;5;21mget_historical_df\u001b[39m(tickerpair,interval,folder\u001b[38;5;241m=\u001b[39m\u001b[38;5;124m\"\u001b[39m\u001b[38;5;124mkline_data_sample\u001b[39m\u001b[38;5;124m\"\u001b[39m):\n\u001b[0;32m     53\u001b[0m     df \u001b[38;5;241m=\u001b[39m [pd\u001b[38;5;241m.\u001b[39mread_csv(g) \u001b[38;5;28;01mfor\u001b[39;00m g \u001b[38;5;129;01min\u001b[39;00m \u001b[38;5;28msorted\u001b[39m(glob(\u001b[38;5;124mf\u001b[39m\u001b[38;5;124m\"\u001b[39m\u001b[38;5;132;01m{\u001b[39;00mfolder\u001b[38;5;132;01m}\u001b[39;00m\u001b[38;5;130;01m\\\\\u001b[39;00m\u001b[38;5;132;01m{\u001b[39;00mtickerpair\u001b[38;5;132;01m}\u001b[39;00m\u001b[38;5;124m/*\u001b[39m\u001b[38;5;124m\"\u001b[39m)) \u001b[38;5;28;01mif\u001b[39;00m \u001b[38;5;124mf\u001b[39m\u001b[38;5;124m\"\u001b[39m\u001b[38;5;124m_\u001b[39m\u001b[38;5;132;01m{\u001b[39;00minterval\u001b[38;5;132;01m}\u001b[39;00m\u001b[38;5;124m.csv\u001b[39m\u001b[38;5;124m\"\u001b[39m \u001b[38;5;129;01min\u001b[39;00m g]\n\u001b[1;32m---> 54\u001b[0m     df \u001b[38;5;241m=\u001b[39m \u001b[43mpd\u001b[49m\u001b[38;5;241;43m.\u001b[39;49m\u001b[43mconcat\u001b[49m\u001b[43m(\u001b[49m\u001b[43mdf\u001b[49m\u001b[43m,\u001b[49m\u001b[43m \u001b[49m\u001b[43mignore_index\u001b[49m\u001b[38;5;241;43m=\u001b[39;49m\u001b[38;5;28;43;01mTrue\u001b[39;49;00m\u001b[43m)\u001b[49m\u001b[38;5;241m.\u001b[39mdrop_duplicates()\u001b[38;5;241m.\u001b[39mreset_index(drop\u001b[38;5;241m=\u001b[39m\u001b[38;5;28;01mTrue\u001b[39;00m)\n\u001b[0;32m     55\u001b[0m     \u001b[38;5;28;01mreturn\u001b[39;00m df\n",
      "File \u001b[1;32m~\\anaconda3\\envs\\cryt310\\lib\\site-packages\\pandas\\util\\_decorators.py:331\u001b[0m, in \u001b[0;36mdeprecate_nonkeyword_arguments.<locals>.decorate.<locals>.wrapper\u001b[1;34m(*args, **kwargs)\u001b[0m\n\u001b[0;32m    325\u001b[0m \u001b[38;5;28;01mif\u001b[39;00m \u001b[38;5;28mlen\u001b[39m(args) \u001b[38;5;241m>\u001b[39m num_allow_args:\n\u001b[0;32m    326\u001b[0m     warnings\u001b[38;5;241m.\u001b[39mwarn(\n\u001b[0;32m    327\u001b[0m         msg\u001b[38;5;241m.\u001b[39mformat(arguments\u001b[38;5;241m=\u001b[39m_format_argument_list(allow_args)),\n\u001b[0;32m    328\u001b[0m         \u001b[38;5;167;01mFutureWarning\u001b[39;00m,\n\u001b[0;32m    329\u001b[0m         stacklevel\u001b[38;5;241m=\u001b[39mfind_stack_level(),\n\u001b[0;32m    330\u001b[0m     )\n\u001b[1;32m--> 331\u001b[0m \u001b[38;5;28;01mreturn\u001b[39;00m func(\u001b[38;5;241m*\u001b[39margs, \u001b[38;5;241m*\u001b[39m\u001b[38;5;241m*\u001b[39mkwargs)\n",
      "File \u001b[1;32m~\\anaconda3\\envs\\cryt310\\lib\\site-packages\\pandas\\core\\reshape\\concat.py:368\u001b[0m, in \u001b[0;36mconcat\u001b[1;34m(objs, axis, join, ignore_index, keys, levels, names, verify_integrity, sort, copy)\u001b[0m\n\u001b[0;32m    146\u001b[0m \u001b[38;5;129m@deprecate_nonkeyword_arguments\u001b[39m(version\u001b[38;5;241m=\u001b[39m\u001b[38;5;28;01mNone\u001b[39;00m, allowed_args\u001b[38;5;241m=\u001b[39m[\u001b[38;5;124m\"\u001b[39m\u001b[38;5;124mobjs\u001b[39m\u001b[38;5;124m\"\u001b[39m])\n\u001b[0;32m    147\u001b[0m \u001b[38;5;28;01mdef\u001b[39;00m \u001b[38;5;21mconcat\u001b[39m(\n\u001b[0;32m    148\u001b[0m     objs: Iterable[NDFrame] \u001b[38;5;241m|\u001b[39m Mapping[HashableT, NDFrame],\n\u001b[1;32m   (...)\u001b[0m\n\u001b[0;32m    157\u001b[0m     copy: \u001b[38;5;28mbool\u001b[39m \u001b[38;5;241m=\u001b[39m \u001b[38;5;28;01mTrue\u001b[39;00m,\n\u001b[0;32m    158\u001b[0m ) \u001b[38;5;241m-\u001b[39m\u001b[38;5;241m>\u001b[39m DataFrame \u001b[38;5;241m|\u001b[39m Series:\n\u001b[0;32m    159\u001b[0m \u001b[38;5;250m    \u001b[39m\u001b[38;5;124;03m\"\"\"\u001b[39;00m\n\u001b[0;32m    160\u001b[0m \u001b[38;5;124;03m    Concatenate pandas objects along a particular axis.\u001b[39;00m\n\u001b[0;32m    161\u001b[0m \n\u001b[1;32m   (...)\u001b[0m\n\u001b[0;32m    366\u001b[0m \u001b[38;5;124;03m    1   3   4\u001b[39;00m\n\u001b[0;32m    367\u001b[0m \u001b[38;5;124;03m    \"\"\"\u001b[39;00m\n\u001b[1;32m--> 368\u001b[0m     op \u001b[38;5;241m=\u001b[39m \u001b[43m_Concatenator\u001b[49m\u001b[43m(\u001b[49m\n\u001b[0;32m    369\u001b[0m \u001b[43m        \u001b[49m\u001b[43mobjs\u001b[49m\u001b[43m,\u001b[49m\n\u001b[0;32m    370\u001b[0m \u001b[43m        \u001b[49m\u001b[43maxis\u001b[49m\u001b[38;5;241;43m=\u001b[39;49m\u001b[43maxis\u001b[49m\u001b[43m,\u001b[49m\n\u001b[0;32m    371\u001b[0m \u001b[43m        \u001b[49m\u001b[43mignore_index\u001b[49m\u001b[38;5;241;43m=\u001b[39;49m\u001b[43mignore_index\u001b[49m\u001b[43m,\u001b[49m\n\u001b[0;32m    372\u001b[0m \u001b[43m        \u001b[49m\u001b[43mjoin\u001b[49m\u001b[38;5;241;43m=\u001b[39;49m\u001b[43mjoin\u001b[49m\u001b[43m,\u001b[49m\n\u001b[0;32m    373\u001b[0m \u001b[43m        \u001b[49m\u001b[43mkeys\u001b[49m\u001b[38;5;241;43m=\u001b[39;49m\u001b[43mkeys\u001b[49m\u001b[43m,\u001b[49m\n\u001b[0;32m    374\u001b[0m \u001b[43m        \u001b[49m\u001b[43mlevels\u001b[49m\u001b[38;5;241;43m=\u001b[39;49m\u001b[43mlevels\u001b[49m\u001b[43m,\u001b[49m\n\u001b[0;32m    375\u001b[0m \u001b[43m        \u001b[49m\u001b[43mnames\u001b[49m\u001b[38;5;241;43m=\u001b[39;49m\u001b[43mnames\u001b[49m\u001b[43m,\u001b[49m\n\u001b[0;32m    376\u001b[0m \u001b[43m        \u001b[49m\u001b[43mverify_integrity\u001b[49m\u001b[38;5;241;43m=\u001b[39;49m\u001b[43mverify_integrity\u001b[49m\u001b[43m,\u001b[49m\n\u001b[0;32m    377\u001b[0m \u001b[43m        \u001b[49m\u001b[43mcopy\u001b[49m\u001b[38;5;241;43m=\u001b[39;49m\u001b[43mcopy\u001b[49m\u001b[43m,\u001b[49m\n\u001b[0;32m    378\u001b[0m \u001b[43m        \u001b[49m\u001b[43msort\u001b[49m\u001b[38;5;241;43m=\u001b[39;49m\u001b[43msort\u001b[49m\u001b[43m,\u001b[49m\n\u001b[0;32m    379\u001b[0m \u001b[43m    \u001b[49m\u001b[43m)\u001b[49m\n\u001b[0;32m    381\u001b[0m     \u001b[38;5;28;01mreturn\u001b[39;00m op\u001b[38;5;241m.\u001b[39mget_result()\n",
      "File \u001b[1;32m~\\anaconda3\\envs\\cryt310\\lib\\site-packages\\pandas\\core\\reshape\\concat.py:425\u001b[0m, in \u001b[0;36m_Concatenator.__init__\u001b[1;34m(self, objs, axis, join, keys, levels, names, ignore_index, verify_integrity, copy, sort)\u001b[0m\n\u001b[0;32m    422\u001b[0m     objs \u001b[38;5;241m=\u001b[39m \u001b[38;5;28mlist\u001b[39m(objs)\n\u001b[0;32m    424\u001b[0m \u001b[38;5;28;01mif\u001b[39;00m \u001b[38;5;28mlen\u001b[39m(objs) \u001b[38;5;241m==\u001b[39m \u001b[38;5;241m0\u001b[39m:\n\u001b[1;32m--> 425\u001b[0m     \u001b[38;5;28;01mraise\u001b[39;00m \u001b[38;5;167;01mValueError\u001b[39;00m(\u001b[38;5;124m\"\u001b[39m\u001b[38;5;124mNo objects to concatenate\u001b[39m\u001b[38;5;124m\"\u001b[39m)\n\u001b[0;32m    427\u001b[0m \u001b[38;5;28;01mif\u001b[39;00m keys \u001b[38;5;129;01mis\u001b[39;00m \u001b[38;5;28;01mNone\u001b[39;00m:\n\u001b[0;32m    428\u001b[0m     objs \u001b[38;5;241m=\u001b[39m \u001b[38;5;28mlist\u001b[39m(com\u001b[38;5;241m.\u001b[39mnot_none(\u001b[38;5;241m*\u001b[39mobjs))\n",
      "\u001b[1;31mValueError\u001b[0m: No objects to concatenate"
     ]
    }
   ],
   "source": [
    "%%time\n",
    "count=0;fee=0.001\n",
    "print(\"total\",len(tickerpairs)*len(intervals)*len(percentiles))\n",
    "for tickerpair in tickerpairs:#[:1]:\n",
    "    for interval in intervals:#[:1]:\n",
    "        dfmpl = get_data(tickerpair,interval,limit=55000,type=\"data\")\n",
    "        #if count>1:\n",
    "        #    break\n",
    "        for percentile in percentiles:\n",
    "            if count%5==0:print(count,end=\" \")#,tickerpair,interval,percentile)\n",
    "            count+=1\n",
    "            #print(count,tickerpair,interval,percentile)\n",
    "            #if count>1:\n",
    "            #    break\n",
    "            thres_diff=None\n",
    "            entered=False\n",
    "            entrys,exits,sc_up,sc_dn,r_high_sm,r_low_sm,r_sm,r_sm_diff,thres_diff = get_entrys_exits(dfmpl,percentile,thres_diff)\n",
    "            #entry_signals = get_entry_signals(entrys,dfmpl)\n",
    "\n",
    "            predict,result,predict_seq,predicted_result = get_predictions(entrys,exits,dfmpl)\n",
    "            lastNsamples = int(len(result)*0.1)\n",
    "            #print(\"total results=\",len(result) ,\"lastN\",lastNsamples) \n",
    "            profit,trade_dur, df0, df0_signal,hl_pair = get_profit_highlows_of_predictions(entrys,exits,predicted_result,dfmpl,True)\n",
    "            #profit = [ () if p>0 else () for p in profit]\n",
    "            profit = [p-fee for p in profit]\n",
    "            if len(profit)==0:\n",
    "                print(\"\\nzero profit\",tickerpair,interval,percentile)\n",
    "                continue\n",
    "            final_profit,equity = get_all_equity(profit,fee=0)\n",
    "\n",
    "            fig,(ax1,ax2)=plt.subplots(2,1,figsize=(8,5),sharex=True,dpi=100)\n",
    "            ax1.plot(equity,\"-x\")\n",
    "            ax1.set_ylabel(\"equity (start with $1)\")\n",
    "            ax1.set_title(f\"{tickerpair} {interval} {percentile}% fee{fee} buy only\")\n",
    "            str1,gains_,trading_days,gains_per_day,gains_per_trade,avg_prof= get_stats(dfmpl,sc_up,profit,trade_dur,0,fee=0)\n",
    "            gs = get_stats(dfmpl,sc_up,profit,trade_dur,lastNsamples,fee=0)[0]\n",
    "            ax1.text(0.02,0.99, \"overall\\n\"+str1,transform=ax1.transAxes,va=\"top\",ha=\"left\")\n",
    "            ax1.text(0.02,0.56, f\"last {lastNsamples} trades\\n\"+gs,transform=ax1.transAxes,va=\"top\",ha=\"left\")\n",
    "            ax1.text(0.87,0.0, \"seq,n\\n\"+\"\\n\".join([p[0]+\",\"+str(p[1]) for p in predict_seq]),transform=ax1.transAxes,va=\"bottom\",ha=\"left\")\n",
    "            ax1.axvline(len(profit)-lastNsamples,c=\"r\",ls=\"--\")\n",
    "            ax2.plot(profit,\"x\")\n",
    "            ax2.axhline(0,c=\"r\",alpha=0.3)\n",
    "            ax2.set_ylabel(\"profit per trade\")\n",
    "            ax2.text(0.02,0.99,f\"full len={len(dfmpl)}, thres_diff={thres_diff:.4g}\",transform=ax2.transAxes,va=\"top\",ha=\"left\")\n",
    "            #ax2.text(0.02,0.99,f\"thres_diff={thres_diff:.4g}\",transform=ax2.transAxes,va=\"top\",ha=\"left\")\n",
    "            for ax in (ax1,ax2):\n",
    "                ax.set_xlabel(\"trades\")\n",
    "                ax.tick_params(\"both\",direction=\"in\")\n",
    "            ax2.yaxis.set_minor_locator(AutoMinorLocator())\n",
    "            ax2.tick_params(\"y\",which='minor',color=\"r\")\n",
    "            ax2.grid(which='minor',axis=\"y\",alpha=0.5)\n",
    "            ax2.grid(which='major',axis=\"y\",color=\"r\",alpha=0.5)\n",
    "            #lt.tight_layout(h_pad=-1.08)\n",
    "\n",
    "            ax3 = ax2.inset_axes((1.05,0.1,0.3,0.3)) \n",
    "            ax3.text(0,1,\"pfHist,g/trd\",transform=ax3.transAxes,va=\"top\",ha=\"left\")\n",
    "            ax3.hist(profit,bins=100)\n",
    "            ax3.axvline(0,c=\"r\",alpha=0.3)\n",
    "            ax3.tick_params(\"both\",direction=\"in\",rotation=25,color=\"r\") \n",
    "            ax3.set_yticks([])\n",
    "            ax3.set_facecolor(f'#00{intpl(gains_per_trade*10,0,20):02X}0f60')\n",
    "            ax4 = ax2.inset_axes((1.05,0.65,0.3,0.3))\n",
    "            ax4.hist(r_sm_diff,bins=100)\n",
    "            ax4.text(0,1,\"thresDiff,g/day\",transform=ax4.transAxes,va=\"top\",ha=\"left\") \n",
    "            ax4.axvline(thres_diff,c=\"r\")\n",
    "            ax4.tick_params(\"both\",direction=\"in\",rotation=25,color=\"r\")\n",
    "            ax4.set_yticks([])\n",
    "            ax4.set_facecolor(f'#00{intpl(gains_per_day*10,0,20):02X}0f60')\n",
    "\n",
    "            ax5 = ax1.inset_axes((1.05,0.0,0.4,0.99))\n",
    "            hl_data = get_hl_data(hl_pair,buyonly=True) \n",
    "            plot_hl_ax(ax5,hl_pair,hl_data,bres=0.1,buyonly=True) \n",
    "            plt.tight_layout(h_pad=-1.08)\n",
    "            #plt.savefig(f\"5_8figures_percentile_ticker/{tickerpair}_{interval}_pcent{int(percentile):05d}.png\") \n",
    "            plt.savefig(f\"5_9figures_percentile_ticker_buynfee/FeeBO_{tickerpair}_{interval}_pcent{int(percentile):05d}.png\")\n",
    "            tp=(hl_data[0][0]+hl_data[0][1]*0.5)/100;\n",
    "            sl=(hl_data[0][2]-hl_data[0][3]*3)/100\n",
    "            strr =f'\"tickerpair\":\"{tickerpair}\",\"interval\":\"{interval}\",'\n",
    "            strr+=f'\"sl\":{sl:.4f},\"tp\":{tp:.4f},\"percentile\":{percentile},\"thres_diff\":{thres_diff:.7f}'\n",
    "            with open(f\"5_9figures_percentile_ticker_buynfee/collected_data5_9.data\",\"a\") as f:\n",
    "                f.writelines(strr+\"\\n\")\n",
    "            strr =f'{tickerpair},{interval},'\n",
    "            strr+=\"TPSL \"+\",\".join([f\"{h:.4f}\" for h in [tp,sl]])\n",
    "            strr+=f\"PTILE{percentile}thres_d{thres_diff:.7f}\"\n",
    "            strr+=\"HLPSTDMEAN,\"+\",\".join([f\"{h:.4f}\" for h in hl_data[0]])\n",
    "            with open(f\"5_9figures_percentile_ticker_buynfee/collected_data5_9_others.data\",\"a\") as f:\n",
    "                f.writelines(strr+\"\\n\")\n",
    "            plt.close(\"all\")\n"
   ]
  },
  {
   "cell_type": "markdown",
   "id": "1215c0b1",
   "metadata": {},
   "source": [
    "## sort by win percent"
   ]
  },
  {
   "cell_type": "code",
   "execution_count": 16,
   "id": "4a1d74b3",
   "metadata": {},
   "outputs": [],
   "source": [
    "with open(f\"5_9figures_percentile_ticker_buynfee/collected_data5_9_others.data\",\"r\") as f:\n",
    "    data =f.readlines()"
   ]
  },
  {
   "cell_type": "code",
   "execution_count": 20,
   "id": "34caba58",
   "metadata": {},
   "outputs": [],
   "source": [
    "arr = [d[:-1].split(\",\") for d in data]"
   ]
  },
  {
   "cell_type": "code",
   "execution_count": 28,
   "id": "bd104ce6",
   "metadata": {},
   "outputs": [
    {
     "data": {
      "text/plain": [
       "[['ARBUSDT',\n",
       "  '30m',\n",
       "  'TPSL 0.0797',\n",
       "  '-0.0656PTILE99thres_d0.0064588HLPSTDMEAN',\n",
       "  '6.6634',\n",
       "  '2.6165',\n",
       "  '-2.9277',\n",
       "  '1.2123',\n",
       "  '3.8101',\n",
       "  '2.0432'],\n",
       " ['ARBUSDT',\n",
       "  '5m',\n",
       "  'TPSL 0.0261',\n",
       "  '-0.0225PTILE99thres_d0.0023910HLPSTDMEAN',\n",
       "  '2.1058',\n",
       "  '0.9990',\n",
       "  '-0.9781',\n",
       "  '0.4253',\n",
       "  '1.4932',\n",
       "  '0.6937'],\n",
       " ['ARBUSDT',\n",
       "  '15m',\n",
       "  'TPSL 0.0819',\n",
       "  '-0.0584PTILE99thres_d0.0041245HLPSTDMEAN',\n",
       "  '6.0455',\n",
       "  '4.2897',\n",
       "  '-2.1924',\n",
       "  '1.2165',\n",
       "  '4.1656',\n",
       "  '3.5136'],\n",
       " ['AVAXUSDT',\n",
       "  '15m',\n",
       "  'TPSL 0.0431',\n",
       "  '-0.0495PTILE99thres_d0.0034536HLPSTDMEAN',\n",
       "  '3.1179',\n",
       "  '2.3882',\n",
       "  '-1.8428',\n",
       "  '1.0347',\n",
       "  '1.8859',\n",
       "  '1.8410'],\n",
       " ['XRPUSDT',\n",
       "  '5m',\n",
       "  'TPSL 0.0245',\n",
       "  '-0.0165PTILE99thres_d0.0013421HLPSTDMEAN',\n",
       "  '1.7823',\n",
       "  '1.3440',\n",
       "  '-0.6864',\n",
       "  '0.3218',\n",
       "  '1.1045',\n",
       "  '1.1287'],\n",
       " ['BTCUSDT',\n",
       "  '5m',\n",
       "  'TPSL 0.0205',\n",
       "  '-0.0150PTILE99thres_d0.0010251HLPSTDMEAN',\n",
       "  '1.4584',\n",
       "  '1.1775',\n",
       "  '-0.4979',\n",
       "  '0.3356',\n",
       "  '0.9778',\n",
       "  '1.0628'],\n",
       " ['MATICUSDT',\n",
       "  '5m',\n",
       "  'TPSL 0.0247',\n",
       "  '-0.0245PTILE99thres_d0.0015761HLPSTDMEAN',\n",
       "  '1.7669',\n",
       "  '1.4064',\n",
       "  '-0.9026',\n",
       "  '0.5161',\n",
       "  '1.0306',\n",
       "  '1.2531'],\n",
       " ['AVAXUSDT',\n",
       "  '5m',\n",
       "  'TPSL 0.0238',\n",
       "  '-0.0314PTILE99thres_d0.0015527HLPSTDMEAN',\n",
       "  '1.7321',\n",
       "  '1.2926',\n",
       "  '-0.9148',\n",
       "  '0.7433',\n",
       "  '1.0386',\n",
       "  '1.2746'],\n",
       " ['LTCUSDT',\n",
       "  '15m',\n",
       "  'TPSL 0.0363',\n",
       "  '-0.0494PTILE99thres_d0.0029289HLPSTDMEAN',\n",
       "  '2.6883',\n",
       "  '1.8910',\n",
       "  '-1.7352',\n",
       "  '1.0684',\n",
       "  '1.4872',\n",
       "  '1.7434'],\n",
       " ['BCHUSDT',\n",
       "  '5m',\n",
       "  'TPSL 0.0250',\n",
       "  '-0.0299PTILE99thres_d0.0012432HLPSTDMEAN',\n",
       "  '1.7212',\n",
       "  '1.5570',\n",
       "  '-0.7736',\n",
       "  '0.7401',\n",
       "  '1.0707',\n",
       "  '1.3487'],\n",
       " ['SHIBUSDT',\n",
       "  '5m',\n",
       "  'TPSL 0.0282',\n",
       "  '-0.0250PTILE99thres_d0.0017263HLPSTDMEAN',\n",
       "  '1.9447',\n",
       "  '1.7522',\n",
       "  '-0.9604',\n",
       "  '0.5127',\n",
       "  '1.1471',\n",
       "  '1.4825'],\n",
       " ['ETHUSDT',\n",
       "  '5m',\n",
       "  'TPSL 0.0238',\n",
       "  '-0.0250PTILE99thres_d0.0013099HLPSTDMEAN',\n",
       "  '1.6362',\n",
       "  '1.4831',\n",
       "  '-0.6817',\n",
       "  '0.6067',\n",
       "  '0.9372',\n",
       "  '1.2911'],\n",
       " ['ETCUSDT',\n",
       "  '5m',\n",
       "  'TPSL 0.0255',\n",
       "  '-0.0428PTILE99thres_d0.0016644HLPSTDMEAN',\n",
       "  '1.8464',\n",
       "  '1.4025',\n",
       "  '-1.0102',\n",
       "  '1.0912',\n",
       "  '1.0488',\n",
       "  '1.4627'],\n",
       " ['LTCUSDT',\n",
       "  '5m',\n",
       "  'TPSL 0.0279',\n",
       "  '-0.0201PTILE99thres_d0.0014997HLPSTDMEAN',\n",
       "  '1.8450',\n",
       "  '1.8869',\n",
       "  '-0.7735',\n",
       "  '0.4137',\n",
       "  '1.1926',\n",
       "  '1.6901'],\n",
       " ['WAVESUSDT',\n",
       "  '5m',\n",
       "  'TPSL 0.0484',\n",
       "  '-0.0501PTILE99thres_d0.0020764HLPSTDMEAN',\n",
       "  '3.4607',\n",
       "  '2.7647',\n",
       "  '-1.2339',\n",
       "  '1.2571',\n",
       "  '1.8801',\n",
       "  '2.4345']]"
      ]
     },
     "execution_count": 28,
     "metadata": {},
     "output_type": "execute_result"
    }
   ],
   "source": [
    "[arr[i] for i in np.argsort([-1*(float(a[-2])-float(a[-1])) for a in arr])][:15]"
   ]
  },
  {
   "cell_type": "code",
   "execution_count": 29,
   "id": "9abe443f",
   "metadata": {},
   "outputs": [
    {
     "data": {
      "text/plain": [
       "array([ 2,  0,  1,  4, 39, 12, 24,  3, 22,  6, 30, 18, 15, 21, 36],\n",
       "      dtype=int64)"
      ]
     },
     "execution_count": 29,
     "metadata": {},
     "output_type": "execute_result"
    }
   ],
   "source": []
  },
  {
   "cell_type": "code",
   "execution_count": 30,
   "id": "5d692b20",
   "metadata": {},
   "outputs": [],
   "source": [
    "with open(f\"5_9figures_percentile_ticker_buynfee/collected_data5_9.data\",\"r\") as f:\n",
    "    data =f.readlines()"
   ]
  },
  {
   "cell_type": "code",
   "execution_count": 36,
   "id": "782dfd40",
   "metadata": {},
   "outputs": [],
   "source": [
    "strr = \"\".join([data[i] for i in np.argsort([-1*(float(a[-2])-float(a[-1])) for a in arr])])"
   ]
  },
  {
   "cell_type": "code",
   "execution_count": 37,
   "id": "84480227",
   "metadata": {},
   "outputs": [],
   "source": [
    "with open(f\"5_9figures_percentile_ticker_buynfee/collected_data5_9_others_sorted.data\",\"w\") as f:\n",
    "    f.writelines(strr)"
   ]
  },
  {
   "cell_type": "code",
   "execution_count": null,
   "id": "0a933875",
   "metadata": {},
   "outputs": [],
   "source": []
  },
  {
   "cell_type": "code",
   "execution_count": null,
   "id": "4aa60646",
   "metadata": {},
   "outputs": [],
   "source": []
  },
  {
   "cell_type": "code",
   "execution_count": 5,
   "id": "5916cfb4",
   "metadata": {},
   "outputs": [
    {
     "name": "stdout",
     "output_type": "stream",
     "text": [
      "CPU times: total: 0 ns\n",
      "Wall time: 0 ns\n"
     ]
    }
   ],
   "source": [
    "%%time\n",
    "if False:\n",
    "    fig,(ax1,ax2,ax3)=plt.subplots(1,3,figsize=(12,4))\n",
    "    ax1.plot(r_high_sm,alpha=0.6)\n",
    "    ax1.plot(r_low_sm,alpha=0.6)\n",
    "    ax1.plot(r_sm,alpha=0.6)\n",
    "    ax1.set_xticks(ax1.get_xticks())\n",
    "    ax1.set_xticklabels(ax1.get_xticks(), rotation = 45)\n",
    "    n,bins,_ = ax2.hist(r_sm,bins=100)\n",
    "    thres = np.percentile(r_sm.values[np.where(~np.isnan(r_sm.values))],25)\n",
    "    ax2.axvline(thres,c=\"r\",label=f\"threshold={thres:.4g}\")\n",
    "    ax2.legend()\n",
    "    ax3.hist(r_sm_diff,bins=100)\n",
    "    ax3.axvline(thres_diff,c=\"r\",label=f\"thres_diff={thres_diff:.4g}\")\n",
    "    ax3.legend()\n",
    "    plt.show()  \n",
    "if False:\n",
    "    upto=20\n",
    "    concated_df = pd.concat([(i-i.iloc[0].Open)/i.iloc[0].Open for i in df0[:upto]])\n",
    "    l_ = 0\n",
    "    scatter_=[]\n",
    "    scatter_color_up=[]\n",
    "    scatter_color_dn=[]\n",
    "    my_vlines = [ ]\n",
    "    for i,buy in zip( df0[:upto], df0_signal):\n",
    "        my_vlines.append(l_)\n",
    "        for ii in range(len(i)):\n",
    "            l_ +=1\n",
    "            scatter_.append(np.nan)\n",
    "            scatter_color_up.append(np.nan)\n",
    "            scatter_color_dn.append(np.nan)\n",
    "        scatter_.pop()\n",
    "        scatter_.append(concated_df.iloc[l_-1].Close)\n",
    "        if buy>0:\n",
    "            scatter_color_up.pop()\n",
    "            scatter_color_up.append(concated_df.iloc[l_-1].Close)\n",
    "        else:\n",
    "            scatter_color_dn.pop()\n",
    "            scatter_color_dn.append(concated_df.iloc[l_-1].Close)\n",
    "    apds = [\n",
    "        mpf.make_addplot(scatter_color_up,color='g',type='scatter',marker=\"x\",secondary_y=False),\n",
    "        mpf.make_addplot(scatter_color_dn,color='r',type='scatter',marker=\"x\",secondary_y=False),\n",
    "           ]\n",
    "    fig, axlist =mpf.plot(concated_df,addplot=apds, returnfig=True,ylabel=\"fraction change\")\n",
    "    for ax in axlist[:]:\n",
    "        for vline in my_vlines:\n",
    "            ax.axvline(x=vline, linestyle='--',linewidth=1,alpha=0.3)\n",
    "    plt.show()\n",
    "    import matplotlib\n",
    "    matplotlib.rcParams.update(matplotlib.rcParamsDefault)"
   ]
  },
  {
   "cell_type": "code",
   "execution_count": null,
   "id": "ec5506cb",
   "metadata": {},
   "outputs": [],
   "source": []
  },
  {
   "cell_type": "code",
   "execution_count": null,
   "id": "c82a82e7",
   "metadata": {},
   "outputs": [],
   "source": []
  }
 ],
 "metadata": {
  "kernelspec": {
   "display_name": "Python 3 (ipykernel)",
   "language": "python",
   "name": "python3"
  },
  "language_info": {
   "codemirror_mode": {
    "name": "ipython",
    "version": 3
   },
   "file_extension": ".py",
   "mimetype": "text/x-python",
   "name": "python",
   "nbconvert_exporter": "python",
   "pygments_lexer": "ipython3",
   "version": "3.10.11"
  }
 },
 "nbformat": 4,
 "nbformat_minor": 5
}
