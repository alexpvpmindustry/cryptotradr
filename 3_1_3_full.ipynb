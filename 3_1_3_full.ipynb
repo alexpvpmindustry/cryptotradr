{
 "cells": [
  {
   "cell_type": "code",
   "execution_count": 19,
   "id": "c3a341ee-ba05-41a7-834d-715e0d15b7bb",
   "metadata": {},
   "outputs": [
    {
     "name": "stdout",
     "output_type": "stream",
     "text": [
      "Saved: 3_1_3_acm_1days_match_20250405_1845_allmatches.png\n",
      "Saved: 3_1_3_acm_1days_match_20250402_1900_allmatches.png\n",
      "Saved: 3_1_3_acm_1days_match_20250330_1845_allmatches.png\n",
      "Saved: 3_1_3_acm_1days_match_20250315_1700_allmatches.png\n",
      "Saved: 3_1_3_acm_1days_match_20250308_1700_allmatches.png\n",
      "Saved: 3_1_3_acm_1days_match_20250302_1945_allmatches.png\n",
      "Saved: 3_1_3_acm_1days_match_20250227_1945_allmatches.png\n",
      "Saved: 3_1_3_acm_1days_match_20250222_1700_allmatches.png\n",
      "Saved: 3_1_3_acm_1days_match_20250218_1745_allmatches.png\n",
      "Saved: 3_1_3_acm_1days_match_20250215_1945_allmatches.png\n"
     ]
    },
    {
     "name": "stderr",
     "output_type": "stream",
     "text": [
      "/var/folders/wn/4k27w4bd5yz_qc4239ww31m00000gq/T/ipykernel_65712/3940099379.py:86: UserWarning: Creating legend with loc=\"best\" can be slow with large amounts of data.\n",
      "  plt.tight_layout()\n"
     ]
    },
    {
     "name": "stdout",
     "output_type": "stream",
     "text": [
      "Saved: 3_1_3_acm_1days_match_20250212_2000_allmatches.png\n",
      "Saved: 3_1_3_acm_1days_match_20250208_1700_allmatches.png\n",
      "Saved: 3_1_3_acm_1days_match_20250205_2000_allmatches.png\n",
      "Saved: 3_1_3_acm_1days_match_20250202_1700_allmatches.png\n",
      "Saved: 3_1_3_acm_1days_match_20250129_2000_allmatches.png\n",
      "Saved: 3_1_3_acm_1days_match_20250126_1130_allmatches.png\n",
      "Saved: 3_1_3_acm_1days_match_20250122_2000_allmatches.png\n",
      "Saved: 3_1_3_acm_1days_match_20250118_1700_allmatches.png\n",
      "Saved: 3_1_3_acm_1days_match_20250114_1730_allmatches.png\n",
      "Saved: 3_1_3_acm_1days_match_20250111_1945_allmatches.png\n"
     ]
    }
   ],
   "source": [
    "import pandas as pd\n",
    "import matplotlib.pyplot as plt\n",
    "import matplotlib.dates as mdates\n",
    "from datetime import timedelta\n",
    "\n",
    "# Load match data and convert from GMT+8 to UTC\n",
    "df_match = pd.read_csv(\"all_acm_matches_full.csv\", parse_dates=[\"Datetime\"])\n",
    "df_match[\"Datetime\"] = df_match[\"Datetime\"].dt.tz_localize(\"Asia/Singapore\").dt.tz_convert(\"UTC\")\n",
    "df_match[\"Datetime\"] = df_match[\"Datetime\"].dt.tz_localize(None)\n",
    "\n",
    "# Load candle data\n",
    "df_candle = pd.read_csv(\"acm_usdt_15m.csv\", parse_dates=[\"Open Time\"])\n",
    "df_candle.set_index(\"Open Time\", inplace=True)\n",
    "df_candle = df_candle[[\"Open\", \"High\", \"Low\", \"Close\", \"Volume\"]].astype(float)\n",
    "\n",
    "# Get the latest 5 matches\n",
    "latest_matches = df_match.sort_values(by=\"Datetime\", ascending=False).head(20)\n",
    "day_window = 1\n",
    "\n",
    "# Generate one plot per match\n",
    "for idx, main_row in latest_matches.iterrows():\n",
    "    match_time = main_row[\"Datetime\"]\n",
    "    window_start = match_time - timedelta(days=day_window)\n",
    "    window_end = match_time + timedelta(days=day_window)\n",
    "\n",
    "    df_window = df_candle[(df_candle.index >= window_start) & (df_candle.index <= window_end)]\n",
    "    if df_window.empty:\n",
    "        continue\n",
    "\n",
    "    # Filter all matches within this window\n",
    "    matches_in_window = df_match[df_match[\"Datetime\"].between(window_start, window_end)]\n",
    "\n",
    "    fig, (ax1, ax2) = plt.subplots(2, 1, figsize=(16, 10), sharex=True, gridspec_kw={'height_ratios': [3, 1]})\n",
    "\n",
    "    # OHLC lines\n",
    "    ax1.plot(df_window.index, df_window[\"Open\"], label=\"Open\", linewidth=0.5)\n",
    "    ax1.plot(df_window.index, df_window[\"Close\"], label=\"Close\", linewidth=0.5)\n",
    "    ax1.plot(df_window.index, df_window[\"High\"], label=\"High\", linewidth=0.5)\n",
    "    ax1.plot(df_window.index, df_window[\"Low\"], label=\"Low\", linewidth=0.5)\n",
    "\n",
    "    # Annotate and draw ±5% lines for each match in the window\n",
    "    for _, row in matches_in_window.iterrows():\n",
    "        if row[\"Datetime\"] not in df_window.index:\n",
    "            continue\n",
    "\n",
    "        open_price = df_window.loc[row[\"Datetime\"], \"Open\"]\n",
    "        y = df_window.loc[row[\"Datetime\"], \"Close\"]\n",
    "        color = \"green\" if row[\"Result\"] == \"Win\" else \"red\" if row[\"Result\"] == \"Loss\" else \"blue\"\n",
    "        marker = \"^\" if row[\"Result\"] == \"Win\" else \"v\"\n",
    "        label = f\"{row['League']} MD{row['Matchday']} ({row['Home/Away']})\"\n",
    "\n",
    "        # Annotation\n",
    "        ax1.plot(row[\"Datetime\"], y, marker=marker, color=color, markersize=10)\n",
    "        ax1.text(row[\"Datetime\"], y, label, fontsize=8, rotation=90, va='bottom', ha='center')\n",
    "        if row[\"Datetime\"] != match_time:\n",
    "            continue\n",
    "        # Horizontal ±5% lines\n",
    "        plus_5 = open_price * 1.03\n",
    "        minus_5 = open_price * 0.97\n",
    "        ax1.axhline(y=plus_5, color=color, linestyle='-', linewidth=2.5)\n",
    "        ax1.axhline(y=minus_5, color=color, linestyle='-', linewidth=2.5)\n",
    "\n",
    "    # Vertical lines every hour\n",
    "    hour_ticks = pd.date_range(start=window_start, end=window_end, freq='1h')\n",
    "    for tick in hour_ticks:\n",
    "        ax1.axvline(x=tick, color='gray', linewidth=0.3, linestyle='--')\n",
    "        ax2.axvline(x=tick, color='gray', linewidth=0.3, linestyle='--')\n",
    "\n",
    "    ax1.set_title(f\"ACM/USDT with All Matches in ±{day_window} Days of {match_time.strftime('%Y-%m-%d %H:%M')}\")\n",
    "    ax1.set_ylabel(\"Price (USDT)\")\n",
    "    ax1.legend()\n",
    "    ax1.grid(True)\n",
    "\n",
    "    # Volume plot\n",
    "    ax2.plot(df_window.index, df_window[\"Volume\"], label=\"Volume\", color=\"gray\", linewidth=2.5)\n",
    "    ax2.set_yscale(\"log\")\n",
    "    ax2.axhline(y=40000)\n",
    "    ax2.axhline(y=200000)\n",
    "    ax2.set_ylabel(\"Volume\")\n",
    "    ax2.set_xlabel(\"Time (UTC)\")\n",
    "    ax2.grid(True)\n",
    "    ax2.legend()\n",
    "\n",
    "    ax2.xaxis.set_major_formatter(mdates.DateFormatter('%Y-%m-%d\\n%H:%M'))\n",
    "    plt.xticks(rotation=45)\n",
    "    plt.tight_layout()\n",
    "\n",
    "    plot_file = f\"3_1_3_acm_{day_window}days_match_{match_time.strftime('%Y%m%d_%H%M')}_allmatches.png\"\n",
    "    plt.savefig(plot_file)\n",
    "    plt.close()\n",
    "    print(f\"Saved: {plot_file}\")\n"
   ]
  },
  {
   "cell_type": "code",
   "execution_count": 16,
   "id": "311cc99c-291c-468c-af1e-bf210cefbf63",
   "metadata": {},
   "outputs": [
    {
     "data": {
      "text/plain": [
       "2"
      ]
     },
     "execution_count": 16,
     "metadata": {},
     "output_type": "execute_result"
    }
   ],
   "source": [
    "1+1"
   ]
  },
  {
   "cell_type": "code",
   "execution_count": null,
   "id": "fb9fcf6e-bc58-4ed3-8367-65220c69e7a3",
   "metadata": {},
   "outputs": [],
   "source": []
  }
 ],
 "metadata": {
  "kernelspec": {
   "display_name": "Python 3 (ipykernel)",
   "language": "python",
   "name": "python3"
  },
  "language_info": {
   "codemirror_mode": {
    "name": "ipython",
    "version": 3
   },
   "file_extension": ".py",
   "mimetype": "text/x-python",
   "name": "python",
   "nbconvert_exporter": "python",
   "pygments_lexer": "ipython3",
   "version": "3.10.13"
  }
 },
 "nbformat": 4,
 "nbformat_minor": 5
}
