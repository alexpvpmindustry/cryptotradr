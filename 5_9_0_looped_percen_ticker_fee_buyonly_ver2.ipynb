{
 "cells": [
  {
   "cell_type": "markdown",
   "id": "2742ed43",
   "metadata": {},
   "source": [
    "# get signal"
   ]
  },
  {
   "cell_type": "code",
   "execution_count": 1,
   "id": "5047c8d6",
   "metadata": {},
   "outputs": [],
   "source": [
    "import numpy as np\n",
    "import pandas as pd\n",
    "import mplfinance as mpf\n",
    "import os\n",
    "from glob import glob\n",
    "import matplotlib.pyplot as plt\n",
    "\n",
    "%matplotlib inline\n",
    "\n",
    "#import talib as ta # conda activate cryt310\n",
    "from matplotlib.ticker import AutoMinorLocator\n",
    "import time\n",
    "from itertools import zip_longest\n",
    "from IPython.display import Javascript\n",
    "import datetime\n",
    "import schedule\n",
    "import json,requests\n",
    "from funcs import *\n",
    "\n",
    "import warnings\n",
    "\n",
    "warnings.simplefilter(\"error\")\n",
    "\n",
    "%load_ext autoreload\n",
    "%autoreload 2\n",
    "\n",
    "tickerpair=\"ETCUSDT\" #GBPUSDT #LTCUSDT #ETHUSDT #BTCUSDT\n",
    "#tickerpair=\"BNBUSDT\" #BNBUSDT #AUDUSDT #XMRUSDT\n",
    "tickerpairs=[\"ETCUSDT\",\"GBPUSDT\",\"LTCUSDT\",\"ETHUSDT\",\"BTCUSDT\",\"BNBUSDT\",\"AUDUSDT\",\"XMRUSDT\"] \n",
    "\n",
    "intervals=['1m','3m','5m','15m','30m','1h','2h','3h','4h','6h','8h','12h','1d','3d','1w','1Month']\n",
    "\n",
    "\n",
    "\n",
    "# define constants\n",
    "tickerpair=\"ETCUSDT\"\n",
    "interval=\"5m\"\n",
    "percentile=98\n",
    "thres_diff=None\n",
    "#thres_diff = 0.003489\n",
    "#thres_diff=0.004225 #ETCUSDT 30m 98%\n",
    "#thres_diff=0.002227 #ETCUSDT 15m 98%\n",
    "#thres_diff=0.0009295 *0.95 #ETCUSDT 5m 98%\n",
    "entered=False\n",
    "\n",
    "#percentiles = np.arange(55,100,20)\n",
    "percentiles = [85]#[90,93,95,98,99]#[:1]\n",
    "intervals=['5m','15m','30m']#[-1:]\n",
    "tickerpairs=['ARBUSDT', 'AVAXUSDT', 'BCHUSDT', 'BNBUSDT', 'BTCUSDT',\n",
    "             'ETCUSDT', 'ETHUSDT', 'LTCUSDT', 'MATICUSDT','SHIBUSDT', \n",
    "             'SOLUSDT','WAVESUSDT','XRPUSDT']\n",
    "#tickerpairs=[\"ARBUSDT\",\"ETCUSDT\",\"LTCUSDT\",\"ETHUSDT\",\"BTCUSDT\",\"BNBUSDT\",\"XVGUSDT\"]#[:1]"
   ]
  },
  {
   "cell_type": "code",
   "execution_count": 2,
   "id": "81ab6256",
   "metadata": {
    "scrolled": true
   },
   "outputs": [
    {
     "name": "stdout",
     "output_type": "stream",
     "text": [
      "CPU times: total: 266 ms\n",
      "Wall time: 341 ms\n"
     ]
    },
    {
     "data": {
      "text/plain": [
       "55000"
      ]
     },
     "execution_count": 2,
     "metadata": {},
     "output_type": "execute_result"
    }
   ],
   "source": [
    "%%time\n",
    "dfmpl = get_data(tickerpair,\"30m\",limit=55000,type=\"data\")\n",
    "len(dfmpl)"
   ]
  },
  {
   "cell_type": "code",
   "execution_count": 3,
   "id": "1c0aa96b",
   "metadata": {},
   "outputs": [
    {
     "name": "stdout",
     "output_type": "stream",
     "text": [
      "total 39\n"
     ]
    }
   ],
   "source": [
    "print(\"total\",len(tickerpairs)*len(intervals)*len(percentiles))"
   ]
  },
  {
   "cell_type": "code",
   "execution_count": 4,
   "id": "5e905c4c",
   "metadata": {},
   "outputs": [
    {
     "name": "stdout",
     "output_type": "stream",
     "text": [
      "total 39\n",
      "0 5 10 15 20 25 30 35 CPU times: total: 4min 37s\n",
      "Wall time: 5min 53s\n"
     ]
    }
   ],
   "source": [
    "%%time\n",
    "count=0;fee=0.001\n",
    "print(\"total\",len(tickerpairs)*len(intervals)*len(percentiles))\n",
    "for tickerpair in tickerpairs:#[:1]:\n",
    "    for interval in intervals:#[:1]:\n",
    "        dfmpl = get_data(tickerpair,interval,limit=55000,type=\"data\")\n",
    "        #if count>1:\n",
    "        #    break\n",
    "        for percentile in percentiles:\n",
    "            if count%5==0:print(count,end=\" \")#,tickerpair,interval,percentile)\n",
    "            count+=1\n",
    "            #print(count,tickerpair,interval,percentile)\n",
    "            #if count>1:\n",
    "            #    break\n",
    "            thres_diff=None\n",
    "            entered=False\n",
    "            entrys,exits,sc_up,sc_dn,r_high_sm,r_low_sm,r_sm,r_sm_diff,thres_diff = get_entrys_exits(dfmpl,percentile,thres_diff)\n",
    "            #entry_signals = get_entry_signals(entrys,dfmpl)\n",
    "\n",
    "            predict,result,predict_seq,predicted_result = get_predictions(entrys,exits,dfmpl)\n",
    "            lastNsamples = int(len(result)*0.1)\n",
    "            #print(\"total results=\",len(result) ,\"lastN\",lastNsamples) \n",
    "            profit,trade_dur, df0, df0_signal,hl_pair = get_profit_highlows_of_predictions(entrys,exits,predicted_result,dfmpl,True)\n",
    "            #profit = [ () if p>0 else () for p in profit]\n",
    "            profit = [p-fee for p in profit]\n",
    "            if len(profit)==0:\n",
    "                print(\"\\nzero profit\",tickerpair,interval,percentile)\n",
    "                continue\n",
    "            final_profit,equity = get_all_equity(profit,fee=0)\n",
    "\n",
    "            fig,(ax1,ax2)=plt.subplots(2,1,figsize=(8,5),sharex=True,dpi=100)\n",
    "            ax1.plot(equity,\"-x\")\n",
    "            ax1.set_ylabel(\"equity (start with $1)\")\n",
    "            ax1.set_title(f\"{tickerpair} {interval} {percentile}% fee{fee} buy only\")\n",
    "            str1,gains_,trading_days,gains_per_day,gains_per_trade,avg_prof= get_stats(dfmpl,sc_up,profit,trade_dur,0,fee=0)\n",
    "            gs = get_stats(dfmpl,sc_up,profit,trade_dur,lastNsamples,fee=0)[0]\n",
    "            ax1.text(0.02,0.99, \"overall\\n\"+str1,transform=ax1.transAxes,va=\"top\",ha=\"left\")\n",
    "            ax1.text(0.02,0.56, f\"last {lastNsamples} trades\\n\"+gs,transform=ax1.transAxes,va=\"top\",ha=\"left\")\n",
    "            ax1.text(0.87,0.0, \"seq,n\\n\"+\"\\n\".join([p[0]+\",\"+str(p[1]) for p in predict_seq]),transform=ax1.transAxes,va=\"bottom\",ha=\"left\")\n",
    "            ax1.axvline(len(profit)-lastNsamples,c=\"r\",ls=\"--\")\n",
    "            ax2.plot(profit,\"x\")\n",
    "            ax2.axhline(0,c=\"r\",alpha=0.3)\n",
    "            ax2.set_ylabel(\"profit per trade\")\n",
    "            ax2.text(0.02,0.99,f\"full len={len(dfmpl)}, thres_diff={thres_diff:.4g}\",transform=ax2.transAxes,va=\"top\",ha=\"left\")\n",
    "            #ax2.text(0.02,0.99,f\"thres_diff={thres_diff:.4g}\",transform=ax2.transAxes,va=\"top\",ha=\"left\")\n",
    "            for ax in (ax1,ax2):\n",
    "                ax.set_xlabel(\"trades\")\n",
    "                ax.tick_params(\"both\",direction=\"in\")\n",
    "            ax2.yaxis.set_minor_locator(AutoMinorLocator())\n",
    "            ax2.tick_params(\"y\",which='minor',color=\"r\")\n",
    "            ax2.grid(which='minor',axis=\"y\",alpha=0.5)\n",
    "            ax2.grid(which='major',axis=\"y\",color=\"r\",alpha=0.5)\n",
    "            #lt.tight_layout(h_pad=-1.08)\n",
    "\n",
    "            ax3 = ax2.inset_axes((1.05,0.1,0.3,0.3)) \n",
    "            ax3.text(0,1,\"pfHist,g/trd\",transform=ax3.transAxes,va=\"top\",ha=\"left\")\n",
    "            ax3.hist(profit,bins=100)\n",
    "            ax3.axvline(0,c=\"r\",alpha=0.3)\n",
    "            ax3.tick_params(\"both\",direction=\"in\",rotation=25,color=\"r\") \n",
    "            ax3.set_yticks([])\n",
    "            ax3.set_facecolor(f'#00{intpl(gains_per_trade*10,0,20):02X}0f60')\n",
    "            ax4 = ax2.inset_axes((1.05,0.65,0.3,0.3))\n",
    "            ax4.hist(r_sm_diff,bins=100)\n",
    "            ax4.text(0,1,\"thresDiff,g/day\",transform=ax4.transAxes,va=\"top\",ha=\"left\") \n",
    "            ax4.axvline(thres_diff,c=\"r\")\n",
    "            ax4.tick_params(\"both\",direction=\"in\",rotation=25,color=\"r\")\n",
    "            ax4.set_yticks([])\n",
    "            ax4.set_facecolor(f'#00{intpl(gains_per_day*10,0,20):02X}0f60')\n",
    "\n",
    "            ax5 = ax1.inset_axes((1.05,0.0,0.4,0.99))\n",
    "            hl_data = get_hl_data(hl_pair,buyonly=True) \n",
    "            plot_hl_ax(ax5,hl_pair,hl_data,bres=0.1,buyonly=True) \n",
    "            plt.tight_layout(h_pad=-1.08)\n",
    "            #plt.savefig(f\"5_8figures_percentile_ticker/{tickerpair}_{interval}_pcent{int(percentile):05d}.png\") \n",
    "            plt.savefig(f\"5_9_0figures_percentile_ticker_buynfee/FeeBO_{tickerpair}_{interval}_pcent{int(percentile):05d}.png\")\n",
    "            tp=(hl_data[0][0]+hl_data[0][1]*0.5)/100;\n",
    "            sl=(hl_data[0][2]-hl_data[0][3]*3)/100\n",
    "            strr =f'\"tickerpair\":\"{tickerpair}\",\"interval\":\"{interval}\",'\n",
    "            strr+=f'\"sl\":{sl:.4f},\"tp\":{tp:.4f},\"percentile\":{percentile},\"thres_diff\":{thres_diff:.7f}'\n",
    "            with open(f\"5_9_0figures_percentile_ticker_buynfee/collected_data5_9.data\",\"a\") as f:\n",
    "                f.writelines(strr+\"\\n\")\n",
    "            strr =f'{tickerpair},{interval},'\n",
    "            strr+=\"TPSL \"+\",\".join([f\"{h:.4f}\" for h in [tp,sl]])\n",
    "            strr+=f\"PTILE{percentile}thres_d{thres_diff:.7f}\"\n",
    "            strr+=\"HLPSTDMEAN,\"+\",\".join([f\"{h:.4f}\" for h in hl_data[0]])\n",
    "            with open(f\"5_9_0figures_percentile_ticker_buynfee/collected_data5_9_others.data\",\"a\") as f:\n",
    "                f.writelines(strr+\"\\n\")\n",
    "            plt.close(\"all\")\n"
   ]
  },
  {
   "cell_type": "markdown",
   "id": "1215c0b1",
   "metadata": {},
   "source": [
    "## sort by avg profit"
   ]
  },
  {
   "cell_type": "code",
   "execution_count": 5,
   "id": "4a1d74b3",
   "metadata": {},
   "outputs": [],
   "source": [
    "with open(f\"5_9_0figures_percentile_ticker_buynfee/collected_data5_9_others.data\",\"r\") as f:\n",
    "    data =f.readlines()"
   ]
  },
  {
   "cell_type": "code",
   "execution_count": 6,
   "id": "34caba58",
   "metadata": {},
   "outputs": [],
   "source": [
    "arr = [d[:-1].split(\",\") for d in data]"
   ]
  },
  {
   "cell_type": "code",
   "execution_count": 7,
   "id": "bd104ce6",
   "metadata": {},
   "outputs": [],
   "source": [
    "#[arr[i] for i in np.argsort([-1*(float(a[-2])-float(a[-1])) for a in arr])][:15]"
   ]
  },
  {
   "cell_type": "code",
   "execution_count": 9,
   "id": "5d692b20",
   "metadata": {},
   "outputs": [],
   "source": [
    "with open(f\"5_9_0figures_percentile_ticker_buynfee/collected_data5_9.data\",\"r\") as f:\n",
    "    data =f.readlines()"
   ]
  },
  {
   "cell_type": "code",
   "execution_count": 11,
   "id": "782dfd40",
   "metadata": {},
   "outputs": [],
   "source": [
    "#strr = \"\".join([data[i] for i in np.argsort([-1*(float(a[-2])-float(a[-1])) for a in arr])])\n",
    "strr=\"\"\n",
    "for counter,i in enumerate(np.argsort([-1*(float(a[-2])-float(a[-1])) for a in arr])):\n",
    "    strr+='{\"id'+f'\":{counter},'+data[i][:-1]+\"},\\n\""
   ]
  },
  {
   "cell_type": "code",
   "execution_count": 12,
   "id": "84480227",
   "metadata": {},
   "outputs": [],
   "source": [
    "with open(f\"5_9_0figures_percentile_ticker_buynfee/collected_data5_9_others_sorted.data\",\"w\") as f:\n",
    "    f.writelines(strr)"
   ]
  },
  {
   "cell_type": "code",
   "execution_count": null,
   "id": "0a933875",
   "metadata": {},
   "outputs": [],
   "source": []
  },
  {
   "cell_type": "code",
   "execution_count": null,
   "id": "4aa60646",
   "metadata": {},
   "outputs": [],
   "source": []
  },
  {
   "cell_type": "code",
   "execution_count": 5,
   "id": "5916cfb4",
   "metadata": {},
   "outputs": [
    {
     "name": "stdout",
     "output_type": "stream",
     "text": [
      "CPU times: total: 0 ns\n",
      "Wall time: 0 ns\n"
     ]
    }
   ],
   "source": [
    "%%time\n",
    "if False:\n",
    "    fig,(ax1,ax2,ax3)=plt.subplots(1,3,figsize=(12,4))\n",
    "    ax1.plot(r_high_sm,alpha=0.6)\n",
    "    ax1.plot(r_low_sm,alpha=0.6)\n",
    "    ax1.plot(r_sm,alpha=0.6)\n",
    "    ax1.set_xticks(ax1.get_xticks())\n",
    "    ax1.set_xticklabels(ax1.get_xticks(), rotation = 45)\n",
    "    n,bins,_ = ax2.hist(r_sm,bins=100)\n",
    "    thres = np.percentile(r_sm.values[np.where(~np.isnan(r_sm.values))],25)\n",
    "    ax2.axvline(thres,c=\"r\",label=f\"threshold={thres:.4g}\")\n",
    "    ax2.legend()\n",
    "    ax3.hist(r_sm_diff,bins=100)\n",
    "    ax3.axvline(thres_diff,c=\"r\",label=f\"thres_diff={thres_diff:.4g}\")\n",
    "    ax3.legend()\n",
    "    plt.show()  \n",
    "if False:\n",
    "    upto=20\n",
    "    concated_df = pd.concat([(i-i.iloc[0].Open)/i.iloc[0].Open for i in df0[:upto]])\n",
    "    l_ = 0\n",
    "    scatter_=[]\n",
    "    scatter_color_up=[]\n",
    "    scatter_color_dn=[]\n",
    "    my_vlines = [ ]\n",
    "    for i,buy in zip( df0[:upto], df0_signal):\n",
    "        my_vlines.append(l_)\n",
    "        for ii in range(len(i)):\n",
    "            l_ +=1\n",
    "            scatter_.append(np.nan)\n",
    "            scatter_color_up.append(np.nan)\n",
    "            scatter_color_dn.append(np.nan)\n",
    "        scatter_.pop()\n",
    "        scatter_.append(concated_df.iloc[l_-1].Close)\n",
    "        if buy>0:\n",
    "            scatter_color_up.pop()\n",
    "            scatter_color_up.append(concated_df.iloc[l_-1].Close)\n",
    "        else:\n",
    "            scatter_color_dn.pop()\n",
    "            scatter_color_dn.append(concated_df.iloc[l_-1].Close)\n",
    "    apds = [\n",
    "        mpf.make_addplot(scatter_color_up,color='g',type='scatter',marker=\"x\",secondary_y=False),\n",
    "        mpf.make_addplot(scatter_color_dn,color='r',type='scatter',marker=\"x\",secondary_y=False),\n",
    "           ]\n",
    "    fig, axlist =mpf.plot(concated_df,addplot=apds, returnfig=True,ylabel=\"fraction change\")\n",
    "    for ax in axlist[:]:\n",
    "        for vline in my_vlines:\n",
    "            ax.axvline(x=vline, linestyle='--',linewidth=1,alpha=0.3)\n",
    "    plt.show()\n",
    "    import matplotlib\n",
    "    matplotlib.rcParams.update(matplotlib.rcParamsDefault)"
   ]
  },
  {
   "cell_type": "code",
   "execution_count": null,
   "id": "ec5506cb",
   "metadata": {},
   "outputs": [],
   "source": []
  },
  {
   "cell_type": "code",
   "execution_count": null,
   "id": "c82a82e7",
   "metadata": {},
   "outputs": [],
   "source": []
  }
 ],
 "metadata": {
  "kernelspec": {
   "display_name": "Python 3 (ipykernel)",
   "language": "python",
   "name": "python3"
  },
  "language_info": {
   "codemirror_mode": {
    "name": "ipython",
    "version": 3
   },
   "file_extension": ".py",
   "mimetype": "text/x-python",
   "name": "python",
   "nbconvert_exporter": "python",
   "pygments_lexer": "ipython3",
   "version": "3.10.11"
  }
 },
 "nbformat": 4,
 "nbformat_minor": 5
}
