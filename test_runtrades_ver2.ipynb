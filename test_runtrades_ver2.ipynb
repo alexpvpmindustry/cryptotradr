{
 "cells": [
  {
   "cell_type": "code",
   "execution_count": 1,
   "id": "cee460be",
   "metadata": {},
   "outputs": [],
   "source": [
    "import subprocess\n",
    "import sys\n",
    "import time\n",
    "from itertools import zip_longest\n",
    "import json,datetime,schedule\n",
    "\n",
    "from trader import write_signal\n",
    "from funcs import get_data,get_entrys_exits,get_entry_signals, validate_dfmpl"
   ]
  },
  {
   "cell_type": "code",
   "execution_count": 2,
   "id": "b473a3bc",
   "metadata": {},
   "outputs": [],
   "source": [
    "TZOFFSET=5*60*60 \n",
    "\n",
    "## input arguments\n",
    "param_choice = 15\n",
    "#if len(sys.argv)>1:\n",
    "#    param_choice = int(sys.argv[1])\n",
    "\n",
    "trade_params = json.load(open(\"trade_params.json\",\"r\"))\n",
    "trade_param = trade_params[\"ver2\"][\"params\"][param_choice]\n",
    "thres_diff = float(trade_param[\"thres_diff\"])\n",
    "tickerpair = trade_param[\"tickerpair\"]\n",
    "interval = trade_param[\"interval\"]\n",
    "sl = float(trade_param[\"sl\"])\n",
    "tp = float(trade_param[\"tp\"])\n",
    "percentile = float(trade_param[\"percentile\"])"
   ]
  },
  {
   "cell_type": "code",
   "execution_count": 3,
   "id": "1f1383f9",
   "metadata": {},
   "outputs": [
    {
     "name": "stdout",
     "output_type": "stream",
     "text": [
      "CPU times: total: 0 ns\n",
      "Wall time: 996 µs\n"
     ]
    }
   ],
   "source": [
    "%%time\n",
    "#dfmpl2 = get_data(tickerpair,interval,limit=100,type=\"live\")\n",
    "import pickle\n",
    "# with open(\"test_dfmpldata.pkl\",\"wb\") as f:\n",
    "#     pickle.dump(dfmpl2,f)\n",
    "with open(\"test_dfmpldata.pkl\",\"rb\") as f:\n",
    "    dfmpl2 = pickle.load(f)"
   ]
  },
  {
   "cell_type": "code",
   "execution_count": 67,
   "id": "f5b40ff1",
   "metadata": {
    "scrolled": true
   },
   "outputs": [
    {
     "name": "stdout",
     "output_type": "stream",
     "text": [
      "55\n",
      "[19 22]\n",
      "[21 23]\n",
      "56\n",
      "[19 22]\n",
      "[21 23]\n",
      "57\n",
      "[19 22 56]\n",
      "[21 23]\n"
     ]
    }
   ],
   "source": [
    "for i in range(55,58):\n",
    "    print(i)\n",
    "    dfmpl=dfmpl2.iloc[:i]\n",
    "    #dfmpl\n",
    "    entrys,exits,_,_,_,_,_,_,thres_diff = get_entrys_exits(dfmpl,percentile,thres_diff)\n",
    "    #print(len(entrys),len(exits),entrys,exits)\n",
    "    print(entrys+1)\n",
    "    print(exits+1)"
   ]
  },
  {
   "cell_type": "code",
   "execution_count": 69,
   "id": "cc66e140",
   "metadata": {},
   "outputs": [
    {
     "data": {
      "text/html": [
       "<div>\n",
       "<style scoped>\n",
       "    .dataframe tbody tr th:only-of-type {\n",
       "        vertical-align: middle;\n",
       "    }\n",
       "\n",
       "    .dataframe tbody tr th {\n",
       "        vertical-align: top;\n",
       "    }\n",
       "\n",
       "    .dataframe thead th {\n",
       "        text-align: right;\n",
       "    }\n",
       "</style>\n",
       "<table border=\"1\" class=\"dataframe\">\n",
       "  <thead>\n",
       "    <tr style=\"text-align: right;\">\n",
       "      <th></th>\n",
       "      <th>Open</th>\n",
       "      <th>High</th>\n",
       "      <th>Low</th>\n",
       "      <th>Close</th>\n",
       "      <th>Volume</th>\n",
       "    </tr>\n",
       "    <tr>\n",
       "      <th>Date</th>\n",
       "      <th></th>\n",
       "      <th></th>\n",
       "      <th></th>\n",
       "      <th></th>\n",
       "      <th></th>\n",
       "    </tr>\n",
       "  </thead>\n",
       "  <tbody>\n",
       "    <tr>\n",
       "      <th>2023-07-16 11:40:00</th>\n",
       "      <td>27.85</td>\n",
       "      <td>27.90</td>\n",
       "      <td>27.77</td>\n",
       "      <td>27.80</td>\n",
       "      <td>15508.20</td>\n",
       "    </tr>\n",
       "    <tr>\n",
       "      <th>2023-07-16 11:45:00</th>\n",
       "      <td>27.80</td>\n",
       "      <td>27.86</td>\n",
       "      <td>27.79</td>\n",
       "      <td>27.82</td>\n",
       "      <td>8530.92</td>\n",
       "    </tr>\n",
       "    <tr>\n",
       "      <th>2023-07-16 11:50:00</th>\n",
       "      <td>27.81</td>\n",
       "      <td>27.83</td>\n",
       "      <td>27.74</td>\n",
       "      <td>27.77</td>\n",
       "      <td>11226.53</td>\n",
       "    </tr>\n",
       "    <tr>\n",
       "      <th>2023-07-16 11:55:00</th>\n",
       "      <td>27.76</td>\n",
       "      <td>27.86</td>\n",
       "      <td>27.75</td>\n",
       "      <td>27.85</td>\n",
       "      <td>12788.93</td>\n",
       "    </tr>\n",
       "    <tr>\n",
       "      <th>2023-07-16 12:00:00</th>\n",
       "      <td>27.85</td>\n",
       "      <td>28.18</td>\n",
       "      <td>27.85</td>\n",
       "      <td>28.08</td>\n",
       "      <td>85446.23</td>\n",
       "    </tr>\n",
       "  </tbody>\n",
       "</table>\n",
       "</div>"
      ],
      "text/plain": [
       "                      Open   High    Low  Close    Volume\n",
       "Date                                                     \n",
       "2023-07-16 11:40:00  27.85  27.90  27.77  27.80  15508.20\n",
       "2023-07-16 11:45:00  27.80  27.86  27.79  27.82   8530.92\n",
       "2023-07-16 11:50:00  27.81  27.83  27.74  27.77  11226.53\n",
       "2023-07-16 11:55:00  27.76  27.86  27.75  27.85  12788.93\n",
       "2023-07-16 12:00:00  27.85  28.18  27.85  28.08  85446.23"
      ]
     },
     "execution_count": 69,
     "metadata": {},
     "output_type": "execute_result"
    }
   ],
   "source": [
    "dfmpl.iloc[-5:]"
   ]
  },
  {
   "cell_type": "code",
   "execution_count": 6,
   "id": "4bb571fb",
   "metadata": {},
   "outputs": [],
   "source": [
    "#get all entry signal\n",
    "entry_signals = get_entry_signals(entrys,dfmpl,onlybuy=True) \n",
    "new_entry=False\n",
    "entry_df= None;buy=None\n",
    "# todo , this will still report pervious entries as new entry on start\n",
    "# todo redo run trades (possibly fixed)\n",
    "for entry,exit in zip_longest(entrys,exits,fillvalue=None):\n",
    "    if exit is None: # missing exit signal, so its a new enter signal\n",
    "        buy_list = [ buy for ( entry_, buy, _ ) in entry_signals if entry_==entry]\n",
    "        if len(buy_list)==1: \n",
    "            new_entry=True\n",
    "            entry_df=dfmpl.iloc[entry]\n",
    "            buy=buy_list[0]"
   ]
  },
  {
   "cell_type": "code",
   "execution_count": null,
   "id": "a21aa36e",
   "metadata": {},
   "outputs": [],
   "source": []
  }
 ],
 "metadata": {
  "kernelspec": {
   "display_name": "Python 3 (ipykernel)",
   "language": "python",
   "name": "python3"
  },
  "language_info": {
   "codemirror_mode": {
    "name": "ipython",
    "version": 3
   },
   "file_extension": ".py",
   "mimetype": "text/x-python",
   "name": "python",
   "nbconvert_exporter": "python",
   "pygments_lexer": "ipython3",
   "version": "3.10.11"
  }
 },
 "nbformat": 4,
 "nbformat_minor": 5
}
