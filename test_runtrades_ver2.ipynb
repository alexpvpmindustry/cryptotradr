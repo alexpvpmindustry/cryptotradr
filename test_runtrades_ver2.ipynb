{
 "cells": [
  {
   "cell_type": "code",
   "execution_count": 1,
   "id": "ee47c652",
   "metadata": {},
   "outputs": [],
   "source": [
    "import subprocess\n",
    "import sys\n",
    "import time\n",
    "from itertools import zip_longest\n",
    "import json,datetime,schedule\n",
    "\n",
    "from trader import write_signal\n",
    "from funcs import get_data,get_entrys_exits,get_entry_signals, validate_dfmpl"
   ]
  },
  {
   "cell_type": "code",
   "execution_count": 2,
   "id": "848bce9c",
   "metadata": {},
   "outputs": [],
   "source": [
    "TZOFFSET=5*60*60 \n",
    "\n",
    "## input arguments\n",
    "param_choice = 15\n",
    "#if len(sys.argv)>1:\n",
    "#    param_choice = int(sys.argv[1])\n",
    "\n",
    "trade_params = json.load(open(\"trade_params.json\",\"r\"))\n",
    "trade_param = trade_params[\"ver2\"][\"params\"][param_choice]\n",
    "thres_diff = float(trade_param[\"thres_diff\"])\n",
    "tickerpair = trade_param[\"tickerpair\"]\n",
    "interval = trade_param[\"interval\"]\n",
    "sl = float(trade_param[\"sl\"])\n",
    "tp = float(trade_param[\"tp\"])\n",
    "percentile = float(trade_param[\"percentile\"])"
   ]
  },
  {
   "cell_type": "code",
   "execution_count": 3,
   "id": "afd3b13b",
   "metadata": {},
   "outputs": [
    {
     "name": "stdout",
     "output_type": "stream",
     "text": [
      "CPU times: total: 0 ns\n",
      "Wall time: 996 µs\n"
     ]
    }
   ],
   "source": [
    "%%time\n",
    "#dfmpl2 = get_data(tickerpair,interval,limit=100,type=\"live\")\n",
    "import pickle\n",
    "# with open(\"test_dfmpldata.pkl\",\"wb\") as f:\n",
    "#     pickle.dump(dfmpl2,f)\n",
    "with open(\"test_dfmpldata.pkl\",\"rb\") as f:\n",
    "    dfmpl2 = pickle.load(f)"
   ]
  },
  {
   "cell_type": "code",
   "execution_count": 67,
   "id": "ac6eccfc",
   "metadata": {
    "scrolled": true
   },
   "outputs": [
    {
     "name": "stdout",
     "output_type": "stream",
     "text": [
      "55\n",
      "[19 22]\n",
      "[21 23]\n",
      "56\n",
      "[19 22]\n",
      "[21 23]\n",
      "57\n",
      "[19 22 56]\n",
      "[21 23]\n"
     ]
    }
   ],
   "source": [
    "for i in range(55,58):\n",
    "    print(i)\n",
    "    dfmpl=dfmpl2.iloc[:i]\n",
    "    #dfmpl\n",
    "    entrys,exits,_,_,_,_,_,_,thres_diff = get_entrys_exits(dfmpl,percentile,thres_diff)\n",
    "    #print(len(entrys),len(exits),entrys,exits)\n",
    "    print(entrys+1)\n",
    "    print(exits+1)"
   ]
  },
  {
   "cell_type": "code",
   "execution_count": 69,
   "id": "cb5863f1",
   "metadata": {},
   "outputs": [
    {
     "data": {
      "text/html": [
       "<div>\n",
       "<style scoped>\n",
       "    .dataframe tbody tr th:only-of-type {\n",
       "        vertical-align: middle;\n",
       "    }\n",
       "\n",
       "    .dataframe tbody tr th {\n",
       "        vertical-align: top;\n",
       "    }\n",
       "\n",
       "    .dataframe thead th {\n",
       "        text-align: right;\n",
       "    }\n",
       "</style>\n",
       "<table border=\"1\" class=\"dataframe\">\n",
       "  <thead>\n",
       "    <tr style=\"text-align: right;\">\n",
       "      <th></th>\n",
       "      <th>Open</th>\n",
       "      <th>High</th>\n",
       "      <th>Low</th>\n",
       "      <th>Close</th>\n",
       "      <th>Volume</th>\n",
       "    </tr>\n",
       "    <tr>\n",
       "      <th>Date</th>\n",
       "      <th></th>\n",
       "      <th></th>\n",
       "      <th></th>\n",
       "      <th></th>\n",
       "      <th></th>\n",
       "    </tr>\n",
       "  </thead>\n",
       "  <tbody>\n",
       "    <tr>\n",
       "      <th>2023-07-16 11:40:00</th>\n",
       "      <td>27.85</td>\n",
       "      <td>27.90</td>\n",
       "      <td>27.77</td>\n",
       "      <td>27.80</td>\n",
       "      <td>15508.20</td>\n",
       "    </tr>\n",
       "    <tr>\n",
       "      <th>2023-07-16 11:45:00</th>\n",
       "      <td>27.80</td>\n",
       "      <td>27.86</td>\n",
       "      <td>27.79</td>\n",
       "      <td>27.82</td>\n",
       "      <td>8530.92</td>\n",
       "    </tr>\n",
       "    <tr>\n",
       "      <th>2023-07-16 11:50:00</th>\n",
       "      <td>27.81</td>\n",
       "      <td>27.83</td>\n",
       "      <td>27.74</td>\n",
       "      <td>27.77</td>\n",
       "      <td>11226.53</td>\n",
       "    </tr>\n",
       "    <tr>\n",
       "      <th>2023-07-16 11:55:00</th>\n",
       "      <td>27.76</td>\n",
       "      <td>27.86</td>\n",
       "      <td>27.75</td>\n",
       "      <td>27.85</td>\n",
       "      <td>12788.93</td>\n",
       "    </tr>\n",
       "    <tr>\n",
       "      <th>2023-07-16 12:00:00</th>\n",
       "      <td>27.85</td>\n",
       "      <td>28.18</td>\n",
       "      <td>27.85</td>\n",
       "      <td>28.08</td>\n",
       "      <td>85446.23</td>\n",
       "    </tr>\n",
       "  </tbody>\n",
       "</table>\n",
       "</div>"
      ],
      "text/plain": [
       "                      Open   High    Low  Close    Volume\n",
       "Date                                                     \n",
       "2023-07-16 11:40:00  27.85  27.90  27.77  27.80  15508.20\n",
       "2023-07-16 11:45:00  27.80  27.86  27.79  27.82   8530.92\n",
       "2023-07-16 11:50:00  27.81  27.83  27.74  27.77  11226.53\n",
       "2023-07-16 11:55:00  27.76  27.86  27.75  27.85  12788.93\n",
       "2023-07-16 12:00:00  27.85  28.18  27.85  28.08  85446.23"
      ]
     },
     "execution_count": 69,
     "metadata": {},
     "output_type": "execute_result"
    }
   ],
   "source": [
    "dfmpl.iloc[-5:]"
   ]
  },
  {
   "cell_type": "code",
   "execution_count": 72,
   "id": "f7d68744",
   "metadata": {},
   "outputs": [
    {
     "data": {
      "text/plain": [
       "Open         27.85\n",
       "High         28.18\n",
       "Low          27.85\n",
       "Close        28.08\n",
       "Volume    85446.23\n",
       "Name: 2023-07-16 12:00:00, dtype: float64"
      ]
     },
     "execution_count": 72,
     "metadata": {},
     "output_type": "execute_result"
    }
   ],
   "source": [
    "dfmpl.iloc[56]"
   ]
  },
  {
   "cell_type": "code",
   "execution_count": 6,
   "id": "989fc6af",
   "metadata": {},
   "outputs": [],
   "source": [
    "#get all entry signal\n",
    "entry_signals = get_entry_signals(entrys,dfmpl,onlybuy=True) \n",
    "new_entry=False\n",
    "entry_df= None;buy=None\n",
    "# todo , this will still report pervious entries as new entry on start\n",
    "# todo redo run trades (possibly fixed)\n",
    "for entry,exit in zip_longest(entrys,exits,fillvalue=None):\n",
    "    if exit is None: # missing exit signal, so its a new enter signal\n",
    "        buy_list = [ buy for ( entry_, buy, _ ) in entry_signals if entry_==entry]\n",
    "        if len(buy_list)==1: \n",
    "            new_entry=True\n",
    "            entry_df=dfmpl.iloc[entry]\n",
    "            buy=buy_list[0]"
   ]
  },
  {
   "cell_type": "code",
   "execution_count": 74,
   "id": "ce258cb2",
   "metadata": {},
   "outputs": [
    {
     "name": "stdout",
     "output_type": "stream",
     "text": [
      "{'erth': 234, 'hert': 341} {'erth': 234, 'hert': 341, '42r': 2331}\n"
     ]
    }
   ],
   "source": [
    "hehe={\"erth\":234,\"hert\":341}\n",
    "hehe2=hehe.copy()\n",
    "hehe2[\"42r\"]=2331\n",
    "print(hehe,hehe2)"
   ]
  },
  {
   "cell_type": "code",
   "execution_count": 76,
   "id": "0f6b1871",
   "metadata": {},
   "outputs": [
    {
     "name": "stdout",
     "output_type": "stream",
     "text": [
      "f342f#5tg34f f342f\n"
     ]
    }
   ],
   "source": [
    "eth234r=\"f342f\"\n",
    "eth234r2 = eth234r\n",
    "eth234r+=\"#5tg34f\"\n",
    "print(eth234r,eth234r2)"
   ]
  },
  {
   "cell_type": "code",
   "execution_count": 155,
   "id": "07a4dad7",
   "metadata": {},
   "outputs": [],
   "source": [
    "import datetime\n",
    "from trader import price_action_signal\n",
    "sl=-0.21\n",
    "tp=0.1\n",
    "dfname=\"\"\n",
    "hl_pairs=\"\"\n",
    "cur_price=100\n",
    "ent_time=str(datetime.datetime.now())[:-4].replace(\" \",\"_\")\n",
    "enter_data = {\"price\":cur_price,\"sl\":sl,\"tp\":tp,\"dfname\":dfname,\"ent_time\":ent_time,\n",
    "            \"hl_pairs\":hl_pairs,\"strat\":\"strat_tpsl1\"}\n",
    "strat_data = {\"cur_sl\":sl,\"cur_tp\":tp,\"slip\":-0.002,\"ent_sl\":sl,\"ent_tp\":tp,\"strat\":\"strat_tpsl1\"}\n",
    "\n",
    "stdmean_status=\"HOLD\"\n",
    "stdmean_status_exited=False\n",
    "pas_status=\"HOLD\"\n",
    "pas_strr=\"\"\n"
   ]
  },
  {
   "cell_type": "code",
   "execution_count": 156,
   "id": "9ccdeb97",
   "metadata": {},
   "outputs": [
    {
     "name": "stdout",
     "output_type": "stream",
     "text": [
      "**start UpMedi LP `85.2000`,`125.5000` (`-14.80`,`25.50`)%\n",
      "Next levels: `94.5000`,`103.8000`,`113.1000`(`-5.50`,`3.80`,`13.10`)%, width=31.00%\n",
      "\n",
      "**update UpMedi LP `91.4000`,`141.0000` (`-8.60`,`41.00`)%\n",
      "Next levels: `100.7000`,`110.0000`,`119.3000`(`0.70`,`10.00`,`19.30`)%, width=31.00%\n",
      "**update UpSlow LP `94.5000`,`144.1000` (`-5.50`,`44.10`)%\n",
      "Next levels: `103.8000`,`113.1000`,`122.4000`(`3.80`,`13.10`,`22.40`)%, width=31.00%\n",
      "**update UpSlow LP `97.6000`,`147.2000` (`-2.40`,`47.20`)%\n",
      "Next levels: `106.9000`,`116.2000`,`125.5000`(`6.90`,`16.20`,`25.50`)%, width=31.00%\n",
      "\n",
      "**final UpMedi UpMedi UpSlow UpSlow LP `97.6000`,`147.2000` (`-2.40`,`47.20`)%\n",
      "Next levels: `106.9000`,`116.2000`,`125.5000`(`6.90`,`16.20`,`25.50`)%, width=31.00%\n"
     ]
    }
   ],
   "source": [
    "#while status==\"HOLD\":\n",
    "if True:\n",
    "    # get current price\n",
    "    cur_price = 104#get_current_price(symbol)\n",
    "    # get price_action_signal\n",
    "    pas_status,strat_data,pas_strr = price_action_signal(enter_data,strat_data,cur_price)\n",
    "    updated=False;update_list=[]\n",
    "    print(\"**start\",pas_strr)\n",
    "    print(\"\")\n",
    "    update_list.append(pas_strr[:6])\n",
    "    while (pas_strr[:2]==\"Up\"):\n",
    "        # repeat until its not up anymore, then take the prev sl and tp\n",
    "        prev_strat_data = strat_data.copy()\n",
    "        prev_pas_status = pas_status\n",
    "        prev_pas_strr = pas_strr\n",
    "        pas_status,strat_data,pas_strr = price_action_signal(enter_data,strat_data,cur_price)\n",
    "        if pas_strr[:2]==\"Up\":\n",
    "            updated=True\n",
    "            update_list.append(pas_strr[:6])\n",
    "            print(\"**update\",pas_strr)\n",
    "    \n",
    "    if updated:\n",
    "        pas_status,strat_data,pas_strr = prev_pas_status,prev_strat_data.copy(),prev_pas_strr\n",
    "        pas_strr = \" \".join(update_list[:-1])+\" \"+pas_strr\n",
    "    print(\"\")\n",
    "    print(\"**final\",pas_strr)"
   ]
  },
  {
   "cell_type": "code",
   "execution_count": 157,
   "id": "44eff458",
   "metadata": {},
   "outputs": [
    {
     "name": "stdout",
     "output_type": "stream",
     "text": [
      "**start In SLTP LP `97.6000`,`147.2000` (`-2.40`,`47.20`)%\n",
      "Next levels: `106.9000`,`116.2000`,`125.5000`(`6.90`,`16.20`,`25.50`)%, width=31.00%\n",
      "\n",
      "\n",
      "**final In SLTP LP `97.6000`,`147.2000` (`-2.40`,`47.20`)%\n",
      "Next levels: `106.9000`,`116.2000`,`125.5000`(`6.90`,`16.20`,`25.50`)%, width=31.00%\n"
     ]
    }
   ],
   "source": [
    "#while status==\"HOLD\":\n",
    "if True:\n",
    "    # get current price\n",
    "    cur_price = 98#get_current_price(symbol)\n",
    "    # get price_action_signal\n",
    "    pas_status,strat_data,pas_strr = price_action_signal(enter_data,strat_data,cur_price)\n",
    "    updated=False;update_list=[]\n",
    "    print(\"**start\",pas_strr)\n",
    "    print(\"\")\n",
    "    update_list.append(pas_strr[:6])\n",
    "    while (pas_strr[:2]==\"Up\"):\n",
    "        # repeat until its not up anymore, then take the prev sl and tp\n",
    "        prev_strat_data = strat_data.copy()\n",
    "        prev_pas_status = pas_status\n",
    "        prev_pas_strr = pas_strr\n",
    "        pas_status,strat_data,pas_strr = price_action_signal(enter_data,strat_data,cur_price)\n",
    "        if pas_strr[:2]==\"Up\":\n",
    "            updated=True\n",
    "            update_list.append(pas_strr[:6])\n",
    "            print(\"**update\",pas_strr)\n",
    "    \n",
    "    if updated:\n",
    "        pas_status,strat_data,pas_strr = prev_pas_status,prev_strat_data.copy(),prev_pas_strr\n",
    "        pas_strr = \" \".join(update_list[:-1])+\" \"+pas_strr\n",
    "    print(\"\")\n",
    "    print(\"**final\",pas_strr)"
   ]
  },
  {
   "cell_type": "code",
   "execution_count": 158,
   "id": "f449f9d4",
   "metadata": {},
   "outputs": [
    {
     "name": "stdout",
     "output_type": "stream",
     "text": [
      "**start UpMedi LP `103.8000`,`162.7000` (`3.80`,`62.70`)%\n",
      "Next levels: `113.1000`,`122.4000`,`131.7000`(`13.10`,`22.40`,`31.70`)%, width=31.00%\n",
      "\n",
      "**update UpMedi LP `110.0000`,`178.2000` (`10.00`,`78.20`)%\n",
      "Next levels: `119.3000`,`128.6000`,`137.9000`(`19.30`,`28.60`,`37.90`)%, width=31.00%\n",
      "**update UpSlow LP `113.1000`,`181.3000` (`13.10`,`81.30`)%\n",
      "Next levels: `122.4000`,`131.7000`,`141.0000`(`22.40`,`31.70`,`41.00`)%, width=31.00%\n",
      "**update UpSlow LP `116.2000`,`184.4000` (`16.20`,`84.40`)%\n",
      "Next levels: `125.5000`,`134.8000`,`144.1000`(`25.50`,`34.80`,`44.10`)%, width=31.00%\n",
      "\n",
      "**final UpMedi UpMedi UpSlow UpSlow LP `116.2000`,`184.4000` (`16.20`,`84.40`)%\n",
      "Next levels: `125.5000`,`134.8000`,`144.1000`(`25.50`,`34.80`,`44.10`)%, width=31.00%\n"
     ]
    }
   ],
   "source": [
    "#while status==\"HOLD\":\n",
    "if True:\n",
    "    # get current price\n",
    "    cur_price = 125#get_current_price(symbol)\n",
    "    # get price_action_signal\n",
    "    pas_status,strat_data,pas_strr = price_action_signal(enter_data,strat_data,cur_price)\n",
    "    updated=False;update_list=[]\n",
    "    print(\"**start\",pas_strr)\n",
    "    print(\"\")\n",
    "    update_list.append(pas_strr[:6])\n",
    "    while (pas_strr[:2]==\"Up\"):\n",
    "        # repeat until its not up anymore, then take the prev sl and tp\n",
    "        prev_strat_data = strat_data.copy()\n",
    "        prev_pas_status = pas_status\n",
    "        prev_pas_strr = pas_strr\n",
    "        pas_status,strat_data,pas_strr = price_action_signal(enter_data,strat_data,cur_price)\n",
    "        if pas_strr[:2]==\"Up\":\n",
    "            updated=True\n",
    "            update_list.append(pas_strr[:6])\n",
    "            print(\"**update\",pas_strr)\n",
    "    \n",
    "    if updated:\n",
    "        pas_status,strat_data,pas_strr = prev_pas_status,prev_strat_data.copy(),prev_pas_strr\n",
    "        pas_strr = \" \".join(update_list[:-1])+\" \"+pas_strr\n",
    "    print(\"\")\n",
    "    print(\"**final\",pas_strr)"
   ]
  },
  {
   "cell_type": "code",
   "execution_count": 159,
   "id": "ba7da0aa",
   "metadata": {},
   "outputs": [
    {
     "name": "stdout",
     "output_type": "stream",
     "text": [
      "**start UpMedi LP `122.4000`,`199.9000` (`22.40`,`99.90`)%\n",
      "Next levels: `131.7000`,`141.0000`,`150.3000`(`31.70`,`41.00`,`50.30`)%, width=31.00%\n",
      "\n",
      "**update UpMedi LP `128.6000`,`215.4000` (`28.60`,`115.40`)%\n",
      "Next levels: `137.9000`,`147.2000`,`156.5000`(`37.90`,`47.20`,`56.50`)%, width=31.00%\n",
      "**update UpSlow LP `131.7000`,`218.5000` (`31.70`,`118.50`)%\n",
      "Next levels: `141.0000`,`150.3000`,`159.6000`(`41.00`,`50.30`,`59.60`)%, width=31.00%\n",
      "**update UpSlow LP `134.8000`,`221.6000` (`34.80`,`121.60`)%\n",
      "Next levels: `144.1000`,`153.4000`,`162.7000`(`44.10`,`53.40`,`62.70`)%, width=31.00%\n",
      "\n",
      "**final UpMedi UpMedi UpSlow UpSlow LP `134.8000`,`221.6000` (`34.80`,`121.60`)%\n",
      "Next levels: `144.1000`,`153.4000`,`162.7000`(`44.10`,`53.40`,`62.70`)%, width=31.00%\n"
     ]
    }
   ],
   "source": [
    "#while status==\"HOLD\":\n",
    "if True:\n",
    "    # get current price\n",
    "    cur_price = 144#get_current_price(symbol)\n",
    "    # get price_action_signal\n",
    "    pas_status,strat_data,pas_strr = price_action_signal(enter_data,strat_data,cur_price)\n",
    "    updated=False;update_list=[]\n",
    "    print(\"**start\",pas_strr)\n",
    "    print(\"\")\n",
    "    update_list.append(pas_strr[:6])\n",
    "    while (pas_strr[:2]==\"Up\"):\n",
    "        # repeat until its not up anymore, then take the prev sl and tp\n",
    "        prev_strat_data = strat_data.copy()\n",
    "        prev_pas_status = pas_status\n",
    "        prev_pas_strr = pas_strr\n",
    "        pas_status,strat_data,pas_strr = price_action_signal(enter_data,strat_data,cur_price)\n",
    "        if pas_strr[:2]==\"Up\":\n",
    "            updated=True\n",
    "            update_list.append(pas_strr[:6])\n",
    "            print(\"**update\",pas_strr)\n",
    "    \n",
    "    if updated:\n",
    "        pas_status,strat_data,pas_strr = prev_pas_status,prev_strat_data.copy(),prev_pas_strr\n",
    "        pas_strr = \" \".join(update_list[:-1])+\" \"+pas_strr\n",
    "    print(\"\")\n",
    "    print(\"**final\",pas_strr)"
   ]
  },
  {
   "cell_type": "code",
   "execution_count": 160,
   "id": "97d31f69",
   "metadata": {},
   "outputs": [
    {
     "name": "stdout",
     "output_type": "stream",
     "text": [
      "**start In SLTP LP `134.8000`,`221.6000` (`34.80`,`121.60`)%\n",
      "Next levels: `144.1000`,`153.4000`,`162.7000`(`44.10`,`53.40`,`62.70`)%, width=31.00%\n",
      "\n",
      "\n",
      "**final In SLTP LP `134.8000`,`221.6000` (`34.80`,`121.60`)%\n",
      "Next levels: `144.1000`,`153.4000`,`162.7000`(`44.10`,`53.40`,`62.70`)%, width=31.00%\n"
     ]
    }
   ],
   "source": [
    "#while status==\"HOLD\":\n",
    "if True:\n",
    "    # get current price\n",
    "    cur_price = 136#get_current_price(symbol)\n",
    "    # get price_action_signal\n",
    "    pas_status,strat_data,pas_strr = price_action_signal(enter_data,strat_data,cur_price)\n",
    "    updated=False;update_list=[]\n",
    "    print(\"**start\",pas_strr)\n",
    "    print(\"\")\n",
    "    update_list.append(pas_strr[:6])\n",
    "    while (pas_strr[:2]==\"Up\"):\n",
    "        # repeat until its not up anymore, then take the prev sl and tp\n",
    "        prev_strat_data = strat_data.copy()\n",
    "        prev_pas_status = pas_status\n",
    "        prev_pas_strr = pas_strr\n",
    "        pas_status,strat_data,pas_strr = price_action_signal(enter_data,strat_data,cur_price)\n",
    "        if pas_strr[:2]==\"Up\":\n",
    "            updated=True\n",
    "            update_list.append(pas_strr[:6])\n",
    "            print(\"**update\",pas_strr)\n",
    "    \n",
    "    if updated:\n",
    "        pas_status,strat_data,pas_strr = prev_pas_status,prev_strat_data.copy(),prev_pas_strr\n",
    "        pas_strr = \" \".join(update_list[:-1])+\" \"+pas_strr\n",
    "    print(\"\")\n",
    "    print(\"**final\",pas_strr)"
   ]
  },
  {
   "cell_type": "code",
   "execution_count": null,
   "id": "ab9e3962",
   "metadata": {},
   "outputs": [],
   "source": []
  }
 ],
 "metadata": {
  "kernelspec": {
   "display_name": "Python 3 (ipykernel)",
   "language": "python",
   "name": "python3"
  },
  "language_info": {
   "codemirror_mode": {
    "name": "ipython",
    "version": 3
   },
   "file_extension": ".py",
   "mimetype": "text/x-python",
   "name": "python",
   "nbconvert_exporter": "python",
   "pygments_lexer": "ipython3",
   "version": "3.10.11"
  }
 },
 "nbformat": 4,
 "nbformat_minor": 5
}
