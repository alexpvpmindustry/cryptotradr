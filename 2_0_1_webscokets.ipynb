{
 "cells": [
  {
   "cell_type": "code",
   "execution_count": 2,
   "id": "24f0524a",
   "metadata": {},
   "outputs": [],
   "source": [
    "import numpy as np\n",
    "import pandas as pd\n",
    "import mplfinance as mpf\n",
    "import os\n",
    "from glob import glob\n",
    "import matplotlib.pyplot as plt\n",
    "\n",
    "%matplotlib inline\n",
    "\n",
    "#import talib as ta # conda activate cryt310\n",
    "from matplotlib.ticker import AutoMinorLocator\n",
    "import time\n",
    "from itertools import zip_longest\n",
    "from IPython.display import Javascript\n",
    "import datetime\n",
    "import schedule\n",
    "import json,requests \n",
    "\n",
    "%load_ext autoreload\n",
    "%autoreload 2\n",
    "\n",
    "tickerpair=\"ETCUSDT\" #GBPUSDT #LTCUSDT #ETHUSDT #BTCUSDT\n",
    "#tickerpair=\"BNBUSDT\" #BNBUSDT #AUDUSDT #XMRUSDT\n",
    "intervals=['1m','3m','5m','15m','30m','1h','2h','3h','4h','6h','8h','12h','1d','3d','1w','1Month']\n",
    "\n",
    "# define constants\n",
    "tickerpair=\"ETCUSDT\"\n",
    "interval=\"1m\"\n",
    "from aver6_funcs import get_data\n",
    "import pickle,tqdm"
   ]
  },
  {
   "cell_type": "code",
   "execution_count": 3,
   "id": "32fb6e5c",
   "metadata": {},
   "outputs": [],
   "source": [
    "with open(\"9_0_subset_symbols_24hrchange.pkl\",\"rb\") as f:\n",
    "    subset_symbols = pickle.load(f)"
   ]
  },
  {
   "cell_type": "code",
   "execution_count": 4,
   "id": "d331fa4d",
   "metadata": {},
   "outputs": [
    {
     "data": {
      "text/plain": [
       "'AGLD'"
      ]
     },
     "execution_count": 4,
     "metadata": {},
     "output_type": "execute_result"
    }
   ],
   "source": [
    "subset_symbols[50]"
   ]
  },
  {
   "cell_type": "code",
   "execution_count": 5,
   "id": "346e81ff",
   "metadata": {},
   "outputs": [],
   "source": [
    "from concurrent.futures import ThreadPoolExecutor\n",
    "import concurrent\n",
    "import tqdm\n",
    "\n",
    "def worker(ss, ii):\n",
    "    try:\n",
    "        tickerpair = ss + \"USDT\"\n",
    "        if \"USD\" in ss:\n",
    "            return None\n",
    "        dfmpl = get_data(tickerpair, interval, limit=55000, type=\"data\")\n",
    "        print(ss,end=\" \")\n",
    "        return (dfmpl.copy(), tickerpair, ii)\n",
    "    except ValueError:\n",
    "        return None"
   ]
  },
  {
   "cell_type": "code",
   "execution_count": 6,
   "id": "ff0d6374",
   "metadata": {},
   "outputs": [
    {
     "name": "stdout",
     "output_type": "stream",
     "text": [
      "XLM XRP ETH BTC SOL ARB DOGE LINK BNB OP ADA MATIC SNX BCH LTC HBAR EUR DAR 1INCH AVAX DYDX USTC MKR SHIB COMP LDO INJ FTM DOT GALA ACA LQTY NEAR MASK APE XEC TRX APT UNI RNDR FIL ATOM CFX AGIX LUNC AGLD LUNA AAVE EOS XMR ALGO FET GMT SAND ETC RDNT MANA TOMO WAVES AXS XTZ FLOW MAGIC STX ACH LINA CRV CELO BAND ONE VET ROSE ID CAKE EDU ICP OCEAN ARPA ANKR SUSHI RUNE GRT DASH ASTR GAL CHZ MINA FXS EGLD PAXG DUSK AR HIGH QNT KAVA STMX STG SSV ZEN IMX IOTX NEO ZIL THETA MC JASMY XVS SXP MOB ENJ ZEC MDT LPT AUDIO LRC GMX SKL TWT ENS HOOK CKB API3 WOO GBP KLAY VOXEL BNX RSR LIT UNFI JOE VGX UMA LOKA POLYX BEL ADX FIDA SYN KSM IOTA HFT T C98 PHB BAT RAD OMG ALICE REEF ICX VIDT QTUM ONT KEY IOST CHR XEM HOT RPL YFI AMB TRU PEOPLE KDA PYR ALPHA CTSI GLMR REN RVN BSW FLUX BLZ LEVER YGG BAKE TLM BURGER OG IDEX SLP BETH COTI DENT DODO OGN CTK ATA GTC LOOM BETA GNS POND CELR VIB KNC PLA CLV GHST OSMO CITY AMP ALPINE SANTOS CHESS BOND SPELL ILV RIF SFP TVK PORTO RARE BICO BTTC WAXP PHA KMD OAX MBL QI ERN KP3R ORN LAZIO WIN UTK SYS AKRO VTHO JUV ASR HIFI MDX DEGO UFT NULS SC DF STPT POLS QUICK SUPER CPU times: total: 29min 41s\n",
      "Wall time: 9min 43s\n"
     ]
    }
   ],
   "source": [
    "%%time\n",
    "assert False\n",
    "dfmpl_list = []\n",
    "\n",
    "with ThreadPoolExecutor(max_workers=4) as executor:\n",
    "    futures = {executor.submit(worker, ss, ii): (ss, ii) for ii, ss in enumerate(subset_symbols[:])}\n",
    "    for future in concurrent.futures.as_completed(futures):\n",
    "        result = future.result()\n",
    "        if result:\n",
    "            dfmpl_list.append(result)"
   ]
  },
  {
   "cell_type": "code",
   "execution_count": null,
   "id": "80e24c6e",
   "metadata": {
    "scrolled": true
   },
   "outputs": [],
   "source": [
    "%%time\n",
    "assert False\n",
    "dfmpl_list=[]\n",
    "#for ii,ss in enumerate(subset_symbols):\n",
    "for ii,ss in tqdm.tqdm(enumerate(subset_symbols)):\n",
    "    try:\n",
    "        tickerpair=ss+\"USDT\"\n",
    "        dfmpl = get_data(tickerpair,interval,limit=55000,type=\"data\")\n",
    "        #dfmpl.shape,tickerpair\n",
    "        dfmpl_list.append((dfmpl.copy(),tickerpair,ii))\n",
    "    except ValueError:\n",
    "        pass"
   ]
  },
  {
   "cell_type": "code",
   "execution_count": 6,
   "id": "6a8323e7",
   "metadata": {},
   "outputs": [
    {
     "name": "stdout",
     "output_type": "stream",
     "text": [
      "CPU times: total: 109 ms\n",
      "Wall time: 1.38 s\n"
     ]
    }
   ],
   "source": [
    "%%time\n",
    "#with open(\"2_0_0dfmpl_list.pkl\",\"wb\")as f:\n",
    "#    pickle.dump(dfmpl_list,f)\n",
    "with open(\"2_0_0_analysisdata/2_0_0dfmpl_list.pkl\",\"rb\")as f:\n",
    "    dfmpl_list = pickle.load(f)"
   ]
  },
  {
   "cell_type": "code",
   "execution_count": 7,
   "id": "5a74a492",
   "metadata": {},
   "outputs": [],
   "source": [
    "dfmpl,_,_ = dfmpl_list[0]"
   ]
  },
  {
   "cell_type": "code",
   "execution_count": 8,
   "id": "c4d725a4",
   "metadata": {},
   "outputs": [],
   "source": [
    "v = ((dfmpl.Close-dfmpl.Open)/dfmpl.Open).values"
   ]
  },
  {
   "cell_type": "code",
   "execution_count": 9,
   "id": "10bc67d6",
   "metadata": {},
   "outputs": [
    {
     "data": {
      "image/png": "[encoded data removed]",
      "text/plain": [
       "<Figure size 640x480 with 1 Axes>"
      ]
     },
     "metadata": {},
     "output_type": "display_data"
    }
   ],
   "source": [
    "percentile_threshold = np.percentile(v,99.9)\n",
    "plt.hist(v,bins=200);\n",
    "plt.axvline(percentile_threshold,ls=\"--\",c=\"r\")\n",
    "plt.title(percentile_threshold)\n",
    "plt.yscale(\"log\")"
   ]
  },
  {
   "cell_type": "markdown",
   "id": "e5a38c7d",
   "metadata": {},
   "source": [
    "# when price falls twice in a row, "
   ]
  },
  {
   "cell_type": "code",
   "execution_count": 179,
   "id": "ab03d458",
   "metadata": {},
   "outputs": [
    {
     "name": "stdout",
     "output_type": "stream",
     "text": [
      "CPU times: total: 31.2 ms\n",
      "Wall time: 72.5 ms\n"
     ]
    }
   ],
   "source": [
    "%%time\n",
    "def validate_df(loc, dfmpl_values):\n",
    "    v0 = dfmpl_values[loc, 0] * dfmpl_values[loc, 4]\n",
    "    v1 = dfmpl_values[loc + 1, 0] * dfmpl_values[loc + 1, 4]\n",
    "    return v0 > v0_thres and v1 > v1_thres\n",
    "threshold1 = -0.004\n",
    "threshold2 = -0.004\n",
    "v0_thres = 3e6\n",
    "v1_thres = 3e6\n",
    "ans = []\n",
    "collated_data_list = []\n",
    "\n",
    "for dfmpl, tickerpair, _ in dfmpl_list:\n",
    "    df_v = dfmpl.values\n",
    "    changes = (df_v[:, 3] - df_v[:, 0]) / df_v[:, 0]\n",
    "    a4_1 = np.logical_and(changes[1:] < threshold1, changes[:-1] < threshold2)\n",
    "    locs = np.where(a4_1)[0]\n",
    "    if len(locs) > 0:\n",
    "        chosen_locs = [loc for loc in locs if validate_df(loc, df_v)]\n",
    "        if chosen_locs:\n",
    "            collated_data = np.asarray([changes[loc:loc + 5] for loc in chosen_locs])\n",
    "            collated_data_list.append(collated_data)\n",
    "\n",
    "collated_data = np.vstack(collated_data_list)\n",
    "mean_val = collated_data[:, 2].mean()\n",
    "ans.append(mean_val)"
   ]
  },
  {
   "cell_type": "markdown",
   "id": "55bed6c7",
   "metadata": {},
   "source": [
    "# attempts to optimize the parameters"
   ]
  },
  {
   "cell_type": "code",
   "execution_count": 184,
   "id": "62a75e49",
   "metadata": {},
   "outputs": [],
   "source": [
    "from scipy.optimize import minimize\n",
    "\n",
    "def objective(params):\n",
    "    threshold1, threshold2, v0_thres, v1_thres = params\n",
    "    collated_data_list = []\n",
    "\n",
    "    for dfmpl, _, _ in dfmpl_list:\n",
    "        df_v = dfmpl.values\n",
    "        changes = (df_v[:, 3] - df_v[:, 0]) / df_v[:, 0]\n",
    "        a4_1 = np.logical_and(changes[1:] < threshold1, changes[:-1] < threshold2)\n",
    "        locs = np.where(a4_1)[0]\n",
    "        if locs.size > 0:\n",
    "            chosen_locs = [loc for loc in locs if validate_df(loc, df_v)]\n",
    "            if chosen_locs:\n",
    "                collated_data = np.asarray([changes[loc:loc + 5] for loc in chosen_locs])\n",
    "                collated_data_list.append(collated_data)\n",
    "    print(\"1\")\n",
    "    collated_data = np.vstack(collated_data_list)\n",
    "    mean_val = collated_data[:, 2].mean()\n",
    "    return -mean_val # Since we want to maximize mean_val, we return its negative\n",
    "\n",
    "def validate_df(loc, df_v):\n",
    "    v0 = df_v[loc, 0] * df_v[loc, 4]\n",
    "    v1 = df_v[loc + 1, 0] * df_v[loc + 1, 4]\n",
    "    return v0 > v0_thres and v1 > v1_thres"
   ]
  },
  {
   "cell_type": "code",
   "execution_count": 185,
   "id": "6bf713c9",
   "metadata": {
    "scrolled": true
   },
   "outputs": [
    {
     "name": "stdout",
     "output_type": "stream",
     "text": [
      "1\n",
      "1\n",
      "1\n",
      "1\n",
      "1\n",
      "Optimized parameters: [-4.e-03 -4.e-03  3.e+06  3.e+06]\n",
      "Maximized mean_val: 0.0030963492110224556\n",
      "CPU times: total: 250 ms\n",
      "Wall time: 406 ms\n"
     ]
    }
   ],
   "source": [
    "%%time\n",
    "# Set initial guesses and bounds for the parameters\n",
    "initial_guess = [-0.004, -0.004, 3e6, 3e6]\n",
    "bounds = [(-0.01, 0), (-0.01, 0), (1e6, 5e6), (1e6, 5e6)]\n",
    "\n",
    "# Run the optimizer\n",
    "result = minimize(objective, initial_guess, bounds=bounds)#, method='L-BFGS-B')\n",
    "\n",
    "# Print the result\n",
    "print('Optimized parameters:', result.x)\n",
    "print('Maximized mean_val:', -result.fun)"
   ]
  },
  {
   "cell_type": "code",
   "execution_count": 4,
   "id": "4eb0b840",
   "metadata": {},
   "outputs": [
    {
     "name": "stdout",
     "output_type": "stream",
     "text": [
      "Best parameters: (-0.01, -0.01, 5000000.0, 3666666.6666666665)\n",
      "Best mean value: 0.013019511805619324\n",
      "CPU times: total: 40.2 s\n",
      "Wall time: 1min 3s\n"
     ]
    }
   ],
   "source": [
    "%%time\n",
    "import numpy as np\n",
    "import pickle\n",
    "with open(\"2_0_0_analysisdata/2_0_0dfmpl_list.pkl\",\"rb\")as f:\n",
    "    dfmpl_list = pickle.load(f)\n",
    "def objective(threshold1, threshold2, v0_thres, v1_thres):\n",
    "    collated_data_list = []\n",
    "\n",
    "    for dfmpl, _, _ in dfmpl_list:\n",
    "        df_v = dfmpl.values\n",
    "        changes = (df_v[:, 3] - df_v[:, 0]) / df_v[:, 0]\n",
    "        a4_1 = np.logical_and(changes[1:] < threshold1, changes[:-1] < threshold2)\n",
    "        locs = np.where(a4_1)[0]\n",
    "        if locs.size > 0:\n",
    "            chosen_locs = [loc for loc in locs if validate_df(loc, df_v, v0_thres, v1_thres)]\n",
    "            if chosen_locs:\n",
    "                collated_data = np.asarray([changes[loc:loc + 5] for loc in chosen_locs])\n",
    "                collated_data_list.append(collated_data)\n",
    "\n",
    "    collated_data = np.vstack(collated_data_list)\n",
    "    mean_val = collated_data[:, 2].mean()\n",
    "    return mean_val,collated_data[:, 2].size\n",
    "\n",
    "def validate_df(loc, df_v, v0_thres, v1_thres):\n",
    "    v0 = df_v[loc, 0] * df_v[loc, 4]\n",
    "    v1 = df_v[loc + 1, 0] * df_v[loc + 1, 4]\n",
    "    return v0 > v0_thres and v1 > v1_thres\n",
    "size=4\n",
    "threshold1_values = np.linspace(-0.01, 0, size)\n",
    "threshold2_values = np.linspace(-0.01, 0, size)\n",
    "v0_thres_values = np.linspace(1e6, 5e6, size)\n",
    "v1_thres_values = np.linspace(1e6, 5e6, size)\n",
    "\n",
    "best_parameters = None\n",
    "best_mean_val = float('-inf')\n",
    "ans_mean_array = []\n",
    "ans_coun_array = []\n",
    "for threshold1 in threshold1_values:\n",
    "    for threshold2 in threshold2_values:\n",
    "        for v0_thres in v0_thres_values:\n",
    "            for v1_thres in v1_thres_values:\n",
    "                mean_val,counts = objective(threshold1, threshold2, v0_thres, v1_thres)\n",
    "                ans_mean_array.append(mean_val);ans_coun_array.append(counts)\n",
    "                if mean_val > best_mean_val:\n",
    "                    best_mean_val = mean_val\n",
    "                    best_parameters = (threshold1, threshold2, v0_thres, v1_thres)\n",
    "\n",
    "print('Best parameters:', best_parameters)\n",
    "print('Best mean value:', best_mean_val)"
   ]
  },
  {
   "cell_type": "code",
   "execution_count": 191,
   "id": "91fe07f6",
   "metadata": {},
   "outputs": [],
   "source": [
    "import numpy as np\n",
    "from multiprocessing import Pool, cpu_count\n",
    "with open(\"2_0_0_analysisdata/2_0_0dfmpl_list.pkl\",\"rb\")as f:\n",
    "    dfmpl_list = pickle.load(f)\n",
    "def objective(params):\n",
    "    threshold1, threshold2, v0_thres, v1_thres = params\n",
    "    collated_data_list = []\n",
    "\n",
    "    for dfmpl, _, _ in dfmpl_list:\n",
    "        df_v = dfmpl.values\n",
    "        changes = (df_v[:, 3] - df_v[:, 0]) / df_v[:, 0]\n",
    "        a4_1 = np.logical_and(changes[1:] < threshold1, changes[:-1] < threshold2)\n",
    "        locs = np.where(a4_1)[0]\n",
    "        if locs.size > 0:\n",
    "            chosen_locs = [loc for loc in locs if validate_df(loc, df_v, v0_thres, v1_thres)]\n",
    "            if chosen_locs:\n",
    "                collated_data = np.asarray([changes[loc:loc + 5] for loc in chosen_locs])\n",
    "                collated_data_list.append(collated_data)\n",
    "\n",
    "    collated_data = np.vstack(collated_data_list)\n",
    "    mean_val = collated_data[:, 2].mean()\n",
    "    return mean_val, params\n",
    "\n",
    "def validate_df(loc, df_v, v0_thres, v1_thres):\n",
    "    v0 = df_v[loc, 0] * df_v[loc, 4]\n",
    "    v1 = df_v[loc + 1, 0] * df_v[loc + 1, 4]\n",
    "    return v0 > v0_thres and v1 > v1_thres\n",
    "size=2\n",
    "threshold1_values = np.linspace(-0.01, 0, size)\n",
    "threshold2_values = np.linspace(-0.01, 0, size)\n",
    "v0_thres_values = np.linspace(1e6, 5e6, size)\n",
    "v1_thres_values = np.linspace(1e6, 5e6, size)\n",
    "\n",
    "parameter_grid = [(threshold1, threshold2, v0_thres, v1_thres) \n",
    "                  for threshold1 in threshold1_values \n",
    "                  for threshold2 in threshold2_values \n",
    "                  for v0_thres in v0_thres_values \n",
    "                  for v1_thres in v1_thres_values]"
   ]
  },
  {
   "cell_type": "code",
   "execution_count": 1,
   "id": "2100b6cd",
   "metadata": {},
   "outputs": [],
   "source": [
    "import time"
   ]
  },
  {
   "cell_type": "code",
   "execution_count": 2,
   "id": "6d1a23c1",
   "metadata": {},
   "outputs": [
    {
     "data": {
      "text/plain": [
       "1691168320.0828521"
      ]
     },
     "execution_count": 2,
     "metadata": {},
     "output_type": "execute_result"
    }
   ],
   "source": [
    "time.time()"
   ]
  },
  {
   "cell_type": "code",
   "execution_count": null,
   "id": "a1a7c88e",
   "metadata": {},
   "outputs": [],
   "source": [
    "            \n",
    "%%time\n",
    "# Create a pool of workers\n",
    "pool = Pool(cpu_count())\n",
    "\n",
    "# Evaluate the objective function in parallel over the parameter grid\n",
    "results = pool.map(objective, parameter_grid)\n",
    "\n",
    "# Find the best parameters\n",
    "best_parameters = max(results, key=lambda x: x[0])[1]\n",
    "best_mean_val = max(results, key=lambda x: x[0])[0]\n",
    "\n",
    "print('Best parameters:', best_parameters)\n",
    "print('Best mean value:', best_mean_val)"
   ]
  },
  {
   "cell_type": "markdown",
   "id": "049057ec",
   "metadata": {},
   "source": [
    "# reading results from optimisation"
   ]
  },
  {
   "cell_type": "code",
   "execution_count": 5,
   "id": "f4559ed8",
   "metadata": {},
   "outputs": [],
   "source": [
    "with open(\"2_0_0_analysisdata/2_0_0mpi_run_results.pkl\",\"rb\") as f:\n",
    "    results = pickle.load(f)"
   ]
  },
  {
   "cell_type": "code",
   "execution_count": 8,
   "id": "e535cd7f",
   "metadata": {},
   "outputs": [
    {
     "data": {
      "text/plain": [
       "256"
      ]
     },
     "execution_count": 8,
     "metadata": {},
     "output_type": "execute_result"
    }
   ],
   "source": [
    "results"
   ]
  },
  {
   "cell_type": "code",
   "execution_count": 13,
   "id": "7812f19b",
   "metadata": {},
   "outputs": [
    {
     "data": {
      "text/plain": [
       "(0.010431226803769452, (-0.01, -0.01, 5000000.0, 5000000.0), 4)"
      ]
     },
     "execution_count": 13,
     "metadata": {},
     "output_type": "execute_result"
    }
   ],
   "source": [
    "max(results, key=lambda x: x[0]/x[2])"
   ]
  },
  {
   "cell_type": "code",
   "execution_count": null,
   "id": "c542593d",
   "metadata": {},
   "outputs": [],
   "source": []
  },
  {
   "cell_type": "code",
   "execution_count": 132,
   "id": "c536e05d",
   "metadata": {},
   "outputs": [
    {
     "data": {
      "text/plain": [
       "Text(0.5, 1.0, 'avg = +0.31%($\\\\pm$0.78%)')"
      ]
     },
     "execution_count": 132,
     "metadata": {},
     "output_type": "execute_result"
    },
    {
     "data": {
      "image/png": "[encoded data removed]",
      "text/plain": [
       "<Figure size 1000x500 with 2 Axes>"
      ]
     },
     "metadata": {},
     "output_type": "display_data"
    }
   ],
   "source": [
    "fig,axx=plt.subplots(1,2,figsize=(10,5))\n",
    "ax=axx[0]\n",
    "ax.plot(collated_data.T)\n",
    "ax.axhline(0.002,ls=\"--\",c=\"r\")\n",
    "ax=axx[1]\n",
    "ax.hist(collated_data[:,2],bins=100);\n",
    "ax.axvline(0.002,ls=\"--\",c=\"r\")\n",
    "ax.set_title(f\"avg = {np.mean(collated_data[:,2]):+.2%}($\\pm${np.std(collated_data[:,2]):.2%})\")"
   ]
  },
  {
   "cell_type": "code",
   "execution_count": 133,
   "id": "23756477",
   "metadata": {},
   "outputs": [
    {
     "data": {
      "text/plain": [
       "1.0024526562869625"
      ]
     },
     "execution_count": 133,
     "metadata": {},
     "output_type": "execute_result"
    }
   ],
   "source": [
    "np.product(collated_data[:,2]+1-0.003)"
   ]
  },
  {
   "cell_type": "code",
   "execution_count": 134,
   "id": "dc212049",
   "metadata": {},
   "outputs": [
    {
     "data": {
      "text/plain": [
       "38.19444444444444"
      ]
     },
     "execution_count": 134,
     "metadata": {},
     "output_type": "execute_result"
    }
   ],
   "source": [
    "55000/60/24"
   ]
  },
  {
   "cell_type": "code",
   "execution_count": 18,
   "id": "83437a82",
   "metadata": {},
   "outputs": [],
   "source": [
    "listt_of_dfs = [1,2,3]"
   ]
  },
  {
   "cell_type": "code",
   "execution_count": 19,
   "id": "d6aa09cd",
   "metadata": {},
   "outputs": [
    {
     "data": {
      "text/plain": [
       "1"
      ]
     },
     "execution_count": 19,
     "metadata": {},
     "output_type": "execute_result"
    }
   ],
   "source": [
    "listt_of_dfs.pop(0)"
   ]
  },
  {
   "cell_type": "code",
   "execution_count": 20,
   "id": "a8025502",
   "metadata": {},
   "outputs": [
    {
     "data": {
      "text/plain": [
       "[2, 3]"
      ]
     },
     "execution_count": 20,
     "metadata": {},
     "output_type": "execute_result"
    }
   ],
   "source": [
    "listt_of_dfs"
   ]
  },
  {
   "cell_type": "code",
   "execution_count": 21,
   "id": "a6c20528",
   "metadata": {},
   "outputs": [],
   "source": [
    "listt_of_dfs.append(4)"
   ]
  },
  {
   "cell_type": "code",
   "execution_count": 22,
   "id": "09086d98",
   "metadata": {},
   "outputs": [
    {
     "data": {
      "text/plain": [
       "[2, 3, 4]"
      ]
     },
     "execution_count": 22,
     "metadata": {},
     "output_type": "execute_result"
    }
   ],
   "source": [
    "listt_of_dfs"
   ]
  },
  {
   "cell_type": "markdown",
   "id": "0330da15",
   "metadata": {},
   "source": [
    "# trading implementation / algo\n",
    "\n",
    "- subscribe to all data using websockets\n",
    "- within each websocket instance, fetch data\n",
    "- maintain a list of previous 2 candles\n",
    "- once the current candle is determined to be changed, pop the list and append the new candle\n",
    "    - then apply algorithm onto this list,\n",
    "    - if criteria passed, send to master_trader."
   ]
  },
  {
   "cell_type": "code",
   "execution_count": 1,
   "id": "56161889",
   "metadata": {},
   "outputs": [],
   "source": [
    "import asyncio\n",
    "from binance import AsyncClient, BinanceSocketManager\n",
    "from binance.enums import *\n",
    "import time\n",
    "import datetime\n",
    "from collections import Counter\n",
    "import pickle\n",
    "with open(\"9_0_subset_symbols_24hrchange.pkl\",\"rb\") as f:\n",
    "    subset_symbols = pickle.load(f)"
   ]
  },
  {
   "cell_type": "code",
   "execution_count": null,
   "id": "1f61b100",
   "metadata": {},
   "outputs": [],
   "source": [
    "import subprocess\n"
   ]
  },
  {
   "cell_type": "code",
   "execution_count": 2,
   "id": "e6100752",
   "metadata": {},
   "outputs": [],
   "source": [
    "master_list=[[None] for _ in subset_symbols[:5]]\n",
    "async def main(symbol='BNBBTC',idd=0):\n",
    "    global master_list \n",
    "    await asyncio.sleep(idd*0.25)\n",
    "    client = await AsyncClient.create()\n",
    "    bm = BinanceSocketManager(client) \n",
    "    ts = bm.kline_socket(symbol, interval=KLINE_INTERVAL_1MINUTE) \n",
    "    print(f\"sub{idd}\",end=\" \")\n",
    "    prev=\"0000\";prev_df=[None]\n",
    "    async with ts as tscm:\n",
    "        while True:\n",
    "            try:\n",
    "                res = await tscm.recv() \n",
    "                if res[\"e\"]==\"error\":\n",
    "                    print(str(datetime.datetime.now())[11:-4],res)\n",
    "                    raise Exception(res) \n",
    "                if prev != str(res[\"k\"][\"T\"])[6:-3]: # a new change, so append the prev_df into the master_list\n",
    "                    prev = str(res[\"k\"][\"T\"])[6:-3]\n",
    "                    ress=res[\"k\"]\n",
    "                    df = [ress[\"t\"],float(ress[\"o\"]),float(ress[\"c\"]),float(ress[\"v\"])] \n",
    "                    master_list[idd].append(prev_df.copy())\n",
    "                    prev_df = df.copy()\n",
    "                    if len(master_list[idd])>2:\n",
    "                        master_list[idd].pop(0)\n",
    "                        if master_list[idd][0] is not None:\n",
    "                            # work on master_list since it has the latest dataset\n",
    "                            dfloc0 = master_list[idd][0];dfloc1=master_list[idd][1]\n",
    "                            v0 = dfloc0[1]*dfloc0[3];v1 = dfloc1[1]*dfloc1[3];\n",
    "                            g0 = (dfloc0[2]-dfloc0[1])/dfloc0[1]\n",
    "                            g1 = (dfloc1[2]-dfloc1[1])/dfloc1[1]\n",
    "                            if v0>3e6 and v1>3e6 and g0<-0.008 and g1<-0.008:\n",
    "                                #BUY signal!\n",
    "                                cmd = [\"python\",\"aver6_master_trades.py\",symbol,\"15\",str(datetime.datetime.now())[:-4],\n",
    "                                       \"TEST\",f\"{dfloc1[2]:.6g}\",\"-0.008\",\"-0.008\",\"MOMENTUM\",\"6969\"]\n",
    "                                cmd = \" \".join(cmd)\n",
    "                                subprocess.Popen( cmd , shell=True)\n",
    "            except Exception as e:\n",
    "                print(symbol,e,str(e))\n",
    "                break\n",
    "    await client.close_connection()\n",
    "    print(f\"ended {symbol}\")"
   ]
  },
  {
   "cell_type": "code",
   "execution_count": 4,
   "id": "f1fe5393",
   "metadata": {},
   "outputs": [
    {
     "name": "stdout",
     "output_type": "stream",
     "text": [
      "CPU times: total: 0 ns\n",
      "Wall time: 997 µs\n",
      "sub0 sub1 sub2 sub3 sub4 some error at BTCUSDT\n",
      "ended BTCUSDT\n",
      "some error at XRPUSDT\n",
      "some error at SOLUSDT\n",
      "ended XRPUSDT\n",
      "ended SOLUSDT\n",
      "some error at XLMUSDT\n",
      "ended XLMUSDT\n",
      "some error at ETHUSDT\n",
      "ended ETHUSDT\n"
     ]
    }
   ],
   "source": [
    "%%time\n",
    "loop = asyncio.get_event_loop()\n",
    "#loop.run_until_complete(main())\n",
    "for idd,s in enumerate(subset_symbols[:5]):\n",
    "    asyncio.run_coroutine_threadsafe(main(s+\"USDT\",idd), loop)\n",
    "    #time.sleep(0.4)"
   ]
  },
  {
   "cell_type": "code",
   "execution_count": 3,
   "id": "26c70265",
   "metadata": {},
   "outputs": [
    {
     "data": {
      "text/plain": [
       "{'e': 'kline',\n",
       " 'E': 1690906998648,\n",
       " 's': 'BNBBTC',\n",
       " 'k': {'t': 1690906980000,\n",
       "  'T': 1690907039999,\n",
       "  's': 'BNBBTC',\n",
       "  'i': '1m',\n",
       "  'f': 225658046,\n",
       "  'L': 225658048,\n",
       "  'o': '0.00845600',\n",
       "  'c': '0.00845600',\n",
       "  'h': '0.00845600',\n",
       "  'l': '0.00845600',\n",
       "  'v': '0.27500000',\n",
       "  'n': 3,\n",
       "  'x': False,\n",
       "  'q': '0.00232539',\n",
       "  'V': '0.27500000',\n",
       "  'Q': '0.00232539',\n",
       "  'B': '0'}}"
      ]
     },
     "execution_count": 3,
     "metadata": {},
     "output_type": "execute_result"
    }
   ],
   "source": [
    "res={'e': 'kline',\n",
    " 'E': 1690906998648,\n",
    " 's': 'BNBBTC',\n",
    " 'k': {'t': 1690906980000,\n",
    "  'T': 1690907039999,\n",
    "  's': 'BNBBTC',\n",
    "  'i': '1m',\n",
    "  'f': 225658046,\n",
    "  'L': 225658048,\n",
    "  'o': '0.00845600',\n",
    "  'c': '0.00845600',\n",
    "  'h': '0.00845600',\n",
    "  'l': '0.00845600',\n",
    "  'v': '0.27500000',\n",
    "  'n': 3,\n",
    "  'x': False,\n",
    "  'q': '0.00232539',\n",
    "  'V': '0.27500000',\n",
    "  'Q': '0.00232539',\n",
    "  'B': '0'}}\n",
    "res"
   ]
  },
  {
   "cell_type": "code",
   "execution_count": 4,
   "id": "47a5772f",
   "metadata": {},
   "outputs": [
    {
     "data": {
      "text/plain": [
       "(1690906980000, 0.008456, 0.008456, 0.275)"
      ]
     },
     "execution_count": 4,
     "metadata": {},
     "output_type": "execute_result"
    }
   ],
   "source": [
    "ress=res[\"k\"]\n",
    "ress[\"t\"],float(ress[\"o\"]),float(ress[\"c\"]),float(ress[\"v\"])"
   ]
  },
  {
   "cell_type": "code",
   "execution_count": 8,
   "id": "7e99ef90",
   "metadata": {},
   "outputs": [],
   "source": [
    "hehe=[23,4,1,5]"
   ]
  },
  {
   "cell_type": "code",
   "execution_count": 9,
   "id": "5b1d5cec",
   "metadata": {},
   "outputs": [],
   "source": [
    "hehe2=hehe.copy()"
   ]
  },
  {
   "cell_type": "code",
   "execution_count": 10,
   "id": "8bf7f155",
   "metadata": {},
   "outputs": [
    {
     "data": {
      "text/plain": [
       "([23, 4, 1, 5], [23, 4, 1, 123])"
      ]
     },
     "execution_count": 10,
     "metadata": {},
     "output_type": "execute_result"
    }
   ],
   "source": [
    "hehe2[3]=123\n",
    "hehe,hehe2"
   ]
  },
  {
   "cell_type": "code",
   "execution_count": 27,
   "id": "c2b5e239",
   "metadata": {},
   "outputs": [
    {
     "name": "stdout",
     "output_type": "stream",
     "text": [
      "hehe Traceback (most recent call last):\n",
      "  File \"C:\\Users\\aatan\\AppData\\Local\\Temp\\ipykernel_12056\\263919594.py\", line 3, in <module>\n",
      "    assert False\n",
      "AssertionError\n",
      "\n"
     ]
    }
   ],
   "source": [
    "import traceback\n",
    "try:\n",
    "    assert False\n",
    "except Exception as e:\n",
    "    #traceback.print_stack()#(e.__traceback__)\n",
    "    strr=traceback.format_exc()\n",
    "    print(\"hehe\",strr)\n",
    "    "
   ]
  },
  {
   "cell_type": "code",
   "execution_count": 28,
   "id": "a8b876ce",
   "metadata": {},
   "outputs": [
    {
     "data": {
      "text/plain": [
       "'Traceback (most recent call last):\\n  File \"C:\\\\Users\\\\aatan\\\\AppData\\\\Local\\\\Temp\\\\ipykernel_12056\\\\263919594.py\", line 3, in <module>\\n    assert False\\nAssertionError\\n'"
      ]
     },
     "execution_count": 28,
     "metadata": {},
     "output_type": "execute_result"
    }
   ],
   "source": [
    "strr"
   ]
  },
  {
   "cell_type": "code",
   "execution_count": null,
   "id": "400def7b",
   "metadata": {},
   "outputs": [],
   "source": []
  }
 ],
 "metadata": {
  "kernelspec": {
   "display_name": "Python 3 (ipykernel)",
   "language": "python",
   "name": "python3"
  },
  "language_info": {
   "codemirror_mode": {
    "name": "ipython",
    "version": 3
   },
   "file_extension": ".py",
   "mimetype": "text/x-python",
   "name": "python",
   "nbconvert_exporter": "python",
   "pygments_lexer": "ipython3",
   "version": "3.10.11"
  }
 },
 "nbformat": 4,
 "nbformat_minor": 5
}
