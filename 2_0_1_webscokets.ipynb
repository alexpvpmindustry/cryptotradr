{
 "cells": [
  {
   "cell_type": "code",
   "execution_count": 1,
   "id": "cd39f3cb",
   "metadata": {},
   "outputs": [],
   "source": [
    "import numpy as np\n",
    "import pandas as pd\n",
    "import mplfinance as mpf\n",
    "import os\n",
    "from glob import glob\n",
    "import matplotlib.pyplot as plt\n",
    "\n",
    "%matplotlib inline\n",
    "\n",
    "#import talib as ta # conda activate cryt310\n",
    "from matplotlib.ticker import AutoMinorLocator\n",
    "import time\n",
    "from itertools import zip_longest\n",
    "from IPython.display import Javascript\n",
    "import datetime\n",
    "import schedule\n",
    "import json,requests \n",
    "\n",
    "%load_ext autoreload\n",
    "%autoreload 2\n",
    "\n",
    "tickerpair=\"ETCUSDT\" #GBPUSDT #LTCUSDT #ETHUSDT #BTCUSDT\n",
    "#tickerpair=\"BNBUSDT\" #BNBUSDT #AUDUSDT #XMRUSDT\n",
    "intervals=['1m','3m','5m','15m','30m','1h','2h','3h','4h','6h','8h','12h','1d','3d','1w','1Month']\n",
    "\n",
    "# define constants\n",
    "tickerpair=\"ETCUSDT\"\n",
    "interval=\"1m\"\n",
    "from aver6_funcs import get_data\n",
    "import pickle,tqdm"
   ]
  },
  {
   "cell_type": "code",
   "execution_count": 2,
   "id": "46374311",
   "metadata": {},
   "outputs": [],
   "source": [
    "with open(\"9_0_subset_symbols_24hrchange.pkl\",\"rb\") as f:\n",
    "    subset_symbols = pickle.load(f)"
   ]
  },
  {
   "cell_type": "code",
   "execution_count": 3,
   "id": "6f66a8ec",
   "metadata": {},
   "outputs": [
    {
     "data": {
      "text/plain": [
       "'AGLD'"
      ]
     },
     "execution_count": 3,
     "metadata": {},
     "output_type": "execute_result"
    }
   ],
   "source": [
    "subset_symbols[50]"
   ]
  },
  {
   "cell_type": "code",
   "execution_count": 4,
   "id": "8eac6f5e",
   "metadata": {},
   "outputs": [],
   "source": [
    "from concurrent.futures import ThreadPoolExecutor\n",
    "import concurrent\n",
    "import tqdm\n",
    "\n",
    "def worker(ss, ii):\n",
    "    try:\n",
    "        tickerpair = ss + \"USDT\"\n",
    "        if \"USD\" in ss:\n",
    "            return None\n",
    "        dfmpl = get_data(tickerpair, interval, limit=55000, type=\"data\")\n",
    "        print(ss,end=\" \")\n",
    "        return (dfmpl.copy(), tickerpair, ii)\n",
    "    except ValueError:\n",
    "        return None"
   ]
  },
  {
   "cell_type": "code",
   "execution_count": 6,
   "id": "db3118d1",
   "metadata": {},
   "outputs": [
    {
     "name": "stdout",
     "output_type": "stream",
     "text": [
      "XLM XRP ETH BTC SOL ARB DOGE LINK BNB OP ADA MATIC SNX BCH LTC HBAR EUR DAR 1INCH AVAX DYDX USTC MKR SHIB COMP LDO INJ FTM DOT GALA ACA LQTY NEAR MASK APE XEC TRX APT UNI RNDR FIL ATOM CFX AGIX LUNC AGLD LUNA AAVE EOS XMR ALGO FET GMT SAND ETC RDNT MANA TOMO WAVES AXS XTZ FLOW MAGIC STX ACH LINA CRV CELO BAND ONE VET ROSE ID CAKE EDU ICP OCEAN ARPA ANKR SUSHI RUNE GRT DASH ASTR GAL CHZ MINA FXS EGLD PAXG DUSK AR HIGH QNT KAVA STMX STG SSV ZEN IMX IOTX NEO ZIL THETA MC JASMY XVS SXP MOB ENJ ZEC MDT LPT AUDIO LRC GMX SKL TWT ENS HOOK CKB API3 WOO GBP KLAY VOXEL BNX RSR LIT UNFI JOE VGX UMA LOKA POLYX BEL ADX FIDA SYN KSM IOTA HFT T C98 PHB BAT RAD OMG ALICE REEF ICX VIDT QTUM ONT KEY IOST CHR XEM HOT RPL YFI AMB TRU PEOPLE KDA PYR ALPHA CTSI GLMR REN RVN BSW FLUX BLZ LEVER YGG BAKE TLM BURGER OG IDEX SLP BETH COTI DENT DODO OGN CTK ATA GTC LOOM BETA GNS POND CELR VIB KNC PLA CLV GHST OSMO CITY AMP ALPINE SANTOS CHESS BOND SPELL ILV RIF SFP TVK PORTO RARE BICO BTTC WAXP PHA KMD OAX MBL QI ERN KP3R ORN LAZIO WIN UTK SYS AKRO VTHO JUV ASR HIFI MDX DEGO UFT NULS SC DF STPT POLS QUICK SUPER CPU times: total: 29min 41s\n",
      "Wall time: 9min 43s\n"
     ]
    }
   ],
   "source": [
    "%%time\n",
    "assert False\n",
    "dfmpl_list = []\n",
    "\n",
    "with ThreadPoolExecutor(max_workers=4) as executor:\n",
    "    futures = {executor.submit(worker, ss, ii): (ss, ii) for ii, ss in enumerate(subset_symbols[:])}\n",
    "    for future in concurrent.futures.as_completed(futures):\n",
    "        result = future.result()\n",
    "        if result:\n",
    "            dfmpl_list.append(result)"
   ]
  },
  {
   "cell_type": "code",
   "execution_count": null,
   "id": "5d87b0fc",
   "metadata": {
    "scrolled": true
   },
   "outputs": [],
   "source": [
    "%%time\n",
    "assert False\n",
    "dfmpl_list=[]\n",
    "#for ii,ss in enumerate(subset_symbols):\n",
    "for ii,ss in tqdm.tqdm(enumerate(subset_symbols)):\n",
    "    try:\n",
    "        tickerpair=ss+\"USDT\"\n",
    "        dfmpl = get_data(tickerpair,interval,limit=55000,type=\"data\")\n",
    "        #dfmpl.shape,tickerpair\n",
    "        dfmpl_list.append((dfmpl.copy(),tickerpair,ii))\n",
    "    except ValueError:\n",
    "        pass"
   ]
  },
  {
   "cell_type": "code",
   "execution_count": 5,
   "id": "1ecc47d0",
   "metadata": {},
   "outputs": [
    {
     "name": "stdout",
     "output_type": "stream",
     "text": [
      "CPU times: total: 266 ms\n",
      "Wall time: 392 ms\n"
     ]
    }
   ],
   "source": [
    "%%time\n",
    "#with open(\"2_0_0dfmpl_list.pkl\",\"wb\")as f:\n",
    "#    pickle.dump(dfmpl_list,f)\n",
    "with open(\"2_0_0_analysisdata/2_0_0dfmpl_list.pkl\",\"rb\")as f:\n",
    "    dfmpl_list = pickle.load(f)"
   ]
  },
  {
   "cell_type": "code",
   "execution_count": 6,
   "id": "1bc4a9f9",
   "metadata": {},
   "outputs": [],
   "source": [
    "dfmpl,_,_ = dfmpl_list[0]"
   ]
  },
  {
   "cell_type": "code",
   "execution_count": 7,
   "id": "8c709784",
   "metadata": {},
   "outputs": [],
   "source": [
    "v = ((dfmpl.Close-dfmpl.Open)/dfmpl.Open).values"
   ]
  },
  {
   "cell_type": "code",
   "execution_count": 8,
   "id": "bc5a92ff",
   "metadata": {},
   "outputs": [
    {
     "data": {
      "image/png": "[encoded data removed]",
      "text/plain": [
       "<Figure size 640x480 with 1 Axes>"
      ]
     },
     "metadata": {},
     "output_type": "display_data"
    }
   ],
   "source": [
    "percentile_threshold = np.percentile(v,99.9)\n",
    "plt.hist(v,bins=200);\n",
    "plt.axvline(percentile_threshold,ls=\"--\",c=\"r\")\n",
    "plt.title(percentile_threshold)\n",
    "plt.yscale(\"log\")"
   ]
  },
  {
   "cell_type": "markdown",
   "id": "dda8c8aa",
   "metadata": {},
   "source": [
    "# when price falls twice in a row, "
   ]
  },
  {
   "cell_type": "code",
   "execution_count": 9,
   "id": "0cfdd063",
   "metadata": {},
   "outputs": [
    {
     "name": "stdout",
     "output_type": "stream",
     "text": [
      "XRPUSDT 2 [37812, 37823]\n",
      "ETHUSDT 1 [48686]\n",
      "BTCUSDT 1 [48724]\n",
      "SOLUSDT 2 [37793, 37804]\n",
      "ARBUSDT 3 [857, 37756, 43944]\n",
      "DOGEUSDT 7 [15191, 15202, 15244, 15321, 19674, 37648, 39403]\n",
      "EDUUSDT 2 [101, 102]\n",
      "CPU times: total: 969 ms\n",
      "Wall time: 1.39 s\n"
     ]
    },
    {
     "data": {
      "text/plain": [
       "(18, 5)"
      ]
     },
     "execution_count": 9,
     "metadata": {},
     "output_type": "execute_result"
    }
   ],
   "source": [
    "%%time\n",
    "threshold=-0.008\n",
    "dfmpl,tickerpair,indd = dfmpl_list[0]\n",
    "collated_data_list = []\n",
    "all_locs = []\n",
    "for dfmpl,tickerpair,_ in dfmpl_list:\n",
    "    v = ((dfmpl.Close-dfmpl.Open)/dfmpl.Open).values\n",
    "    a1=np.where(v<threshold)[0]\n",
    "    a2=np.diff(a1)\n",
    "    a3=np.where(a2==1)\n",
    "    def validate_df(loc):\n",
    "        df_ = dfmpl.iloc[loc:loc+2]\n",
    "        v0,v1 = (df_.Open*df_.Volume).values\n",
    "        if v0>3e6 and v1>3e6:\n",
    "            return True\n",
    "        return False\n",
    "    if len(a3)>0:\n",
    "        locs=a1[a3]\n",
    "        if len(locs)>0:\n",
    "            collated_data = np.asarray([v[loc:loc+5] for loc in locs if validate_df(loc)])\n",
    "            if len(collated_data)>0:\n",
    "                print(tickerpair,len(collated_data),[loc for loc in locs if validate_df(loc)])\n",
    "                [all_locs.append(loc)for loc in locs if validate_df(loc)]\n",
    "                collated_data_list.append(collated_data)\n",
    "    #len(locs)\n",
    "collated_data = np.vstack(collated_data_list)\n",
    "collated_data.shape"
   ]
  },
  {
   "cell_type": "code",
   "execution_count": 10,
   "id": "e4f27281",
   "metadata": {},
   "outputs": [
    {
     "data": {
      "text/plain": [
       "[101,\n",
       " 102,\n",
       " 857,\n",
       " 15191,\n",
       " 15202,\n",
       " 15244,\n",
       " 15321,\n",
       " 19674,\n",
       " 37648,\n",
       " 37756,\n",
       " 37793,\n",
       " 37804,\n",
       " 37812,\n",
       " 37823,\n",
       " 39403,\n",
       " 43944,\n",
       " 48686,\n",
       " 48724]"
      ]
     },
     "execution_count": 10,
     "metadata": {},
     "output_type": "execute_result"
    }
   ],
   "source": [
    "sorted(all_locs)"
   ]
  },
  {
   "cell_type": "code",
   "execution_count": 11,
   "id": "cc21317f",
   "metadata": {},
   "outputs": [
    {
     "data": {
      "text/plain": [
       "Text(0.5, 1.0, 'avg = +0.63%($\\\\pm$0.94%)')"
      ]
     },
     "execution_count": 11,
     "metadata": {},
     "output_type": "execute_result"
    },
    {
     "data": {
      "image/png": "[encoded data removed]",
      "text/plain": [
       "<Figure size 1000x500 with 2 Axes>"
      ]
     },
     "metadata": {},
     "output_type": "display_data"
    }
   ],
   "source": [
    "fig,axx=plt.subplots(1,2,figsize=(10,5))\n",
    "ax=axx[0]\n",
    "ax.plot(collated_data.T)\n",
    "ax.axhline(0.002,ls=\"--\",c=\"r\")\n",
    "ax=axx[1]\n",
    "ax.hist(collated_data[:,2],bins=100);\n",
    "ax.axvline(0.002,ls=\"--\",c=\"r\")\n",
    "ax.set_title(f\"avg = {np.mean(collated_data[:,2]):+.2%}($\\pm${np.std(collated_data[:,2]):.2%})\")"
   ]
  },
  {
   "cell_type": "code",
   "execution_count": 12,
   "id": "a5363194",
   "metadata": {},
   "outputs": [
    {
     "data": {
      "text/plain": [
       "1.0595611220946755"
      ]
     },
     "execution_count": 12,
     "metadata": {},
     "output_type": "execute_result"
    }
   ],
   "source": [
    "np.product(collated_data[:,2]+1-0.003)"
   ]
  },
  {
   "cell_type": "code",
   "execution_count": 13,
   "id": "4e6a0e37",
   "metadata": {},
   "outputs": [
    {
     "data": {
      "text/plain": [
       "38.19444444444444"
      ]
     },
     "execution_count": 13,
     "metadata": {},
     "output_type": "execute_result"
    }
   ],
   "source": [
    "55000/60/24"
   ]
  },
  {
   "cell_type": "code",
   "execution_count": 18,
   "id": "b8fdaf58",
   "metadata": {},
   "outputs": [],
   "source": [
    "listt_of_dfs = [1,2,3]"
   ]
  },
  {
   "cell_type": "code",
   "execution_count": 19,
   "id": "5e0e9b3e",
   "metadata": {},
   "outputs": [
    {
     "data": {
      "text/plain": [
       "1"
      ]
     },
     "execution_count": 19,
     "metadata": {},
     "output_type": "execute_result"
    }
   ],
   "source": [
    "listt_of_dfs.pop(0)"
   ]
  },
  {
   "cell_type": "code",
   "execution_count": 20,
   "id": "6ea5c93d",
   "metadata": {},
   "outputs": [
    {
     "data": {
      "text/plain": [
       "[2, 3]"
      ]
     },
     "execution_count": 20,
     "metadata": {},
     "output_type": "execute_result"
    }
   ],
   "source": [
    "listt_of_dfs"
   ]
  },
  {
   "cell_type": "code",
   "execution_count": 21,
   "id": "baad1c2c",
   "metadata": {},
   "outputs": [],
   "source": [
    "listt_of_dfs.append(4)"
   ]
  },
  {
   "cell_type": "code",
   "execution_count": 22,
   "id": "a762d521",
   "metadata": {},
   "outputs": [
    {
     "data": {
      "text/plain": [
       "[2, 3, 4]"
      ]
     },
     "execution_count": 22,
     "metadata": {},
     "output_type": "execute_result"
    }
   ],
   "source": [
    "listt_of_dfs"
   ]
  },
  {
   "cell_type": "markdown",
   "id": "340a1e05",
   "metadata": {},
   "source": [
    "# trading implementation / algo\n",
    "\n",
    "- subscribe to all data using websockets\n",
    "- within each websocket instance, fetch data\n",
    "- maintain a list of previous 2 candles\n",
    "- once the current candle is determined to be changed, pop the list and append the new candle\n",
    "    - then apply algorithm onto this list,\n",
    "    - if criteria passed, send to master_trader."
   ]
  },
  {
   "cell_type": "code",
   "execution_count": 1,
   "id": "e6ce8969",
   "metadata": {},
   "outputs": [],
   "source": [
    "import asyncio\n",
    "from binance import AsyncClient, BinanceSocketManager\n",
    "from binance.enums import *\n",
    "import time\n",
    "import datetime\n",
    "from collections import Counter\n",
    "import pickle\n",
    "with open(\"9_0_subset_symbols_24hrchange.pkl\",\"rb\") as f:\n",
    "    subset_symbols = pickle.load(f)"
   ]
  },
  {
   "cell_type": "code",
   "execution_count": null,
   "id": "74eb90eb",
   "metadata": {},
   "outputs": [],
   "source": [
    "import subprocess\n"
   ]
  },
  {
   "cell_type": "code",
   "execution_count": 2,
   "id": "3e2d6d6a",
   "metadata": {},
   "outputs": [],
   "source": [
    "master_list=[[None] for _ in subset_symbols[:5]]\n",
    "async def main(symbol='BNBBTC',idd=0):\n",
    "    global master_list \n",
    "    await asyncio.sleep(idd*0.25)\n",
    "    client = await AsyncClient.create()\n",
    "    bm = BinanceSocketManager(client) \n",
    "    ts = bm.kline_socket(symbol, interval=KLINE_INTERVAL_1MINUTE) \n",
    "    print(f\"sub{idd}\",end=\" \")\n",
    "    prev=\"0000\";prev_df=[None]\n",
    "    async with ts as tscm:\n",
    "        while True:\n",
    "            try:\n",
    "                res = await tscm.recv() \n",
    "                if res[\"e\"]==\"error\":\n",
    "                    print(str(datetime.datetime.now())[11:-4],res)\n",
    "                    raise Exception(res) \n",
    "                if prev != str(res[\"k\"][\"T\"])[6:-3]: # a new change, so append the prev_df into the master_list\n",
    "                    prev = str(res[\"k\"][\"T\"])[6:-3]\n",
    "                    ress=res[\"k\"]\n",
    "                    df = [ress[\"t\"],float(ress[\"o\"]),float(ress[\"c\"]),float(ress[\"v\"])] \n",
    "                    master_list[idd].append(prev_df.copy())\n",
    "                    prev_df = df.copy()\n",
    "                    if len(master_list[idd])>2:\n",
    "                        master_list[idd].pop(0)\n",
    "                        if master_list[idd][0] is not None:\n",
    "                            # work on master_list since it has the latest dataset\n",
    "                            dfloc0 = master_list[idd][0];dfloc1=master_list[idd][1]\n",
    "                            v0 = dfloc0[1]*dfloc0[3];v1 = dfloc1[1]*dfloc1[3];\n",
    "                            g0 = (dfloc0[2]-dfloc0[1])/dfloc0[1]\n",
    "                            g1 = (dfloc1[2]-dfloc1[1])/dfloc1[1]\n",
    "                            if v0>3e6 and v1>3e6 and g0<-0.008 and g1<-0.008:\n",
    "                                #BUY signal!\n",
    "                                cmd = [\"python\",\"aver6_master_trades.py\",symbol,\"15\",str(datetime.datetime.now())[:-4],\n",
    "                                       \"TEST\",f\"{dfloc1[2]:.6g}\",\"-0.008\",\"-0.008\",\"MOMENTUM\",\"6969\"]\n",
    "                                cmd = \" \".join(cmd)\n",
    "                                subprocess.Popen( cmd , shell=True)\n",
    "            except Exception as e:\n",
    "                print(symbol,e,str(e))\n",
    "                break\n",
    "    await client.close_connection()\n",
    "    print(f\"ended {symbol}\")"
   ]
  },
  {
   "cell_type": "code",
   "execution_count": 4,
   "id": "fe0dc856",
   "metadata": {},
   "outputs": [
    {
     "name": "stdout",
     "output_type": "stream",
     "text": [
      "CPU times: total: 0 ns\n",
      "Wall time: 997 µs\n",
      "sub0 sub1 sub2 sub3 sub4 some error at BTCUSDT\n",
      "ended BTCUSDT\n",
      "some error at XRPUSDT\n",
      "some error at SOLUSDT\n",
      "ended XRPUSDT\n",
      "ended SOLUSDT\n",
      "some error at XLMUSDT\n",
      "ended XLMUSDT\n",
      "some error at ETHUSDT\n",
      "ended ETHUSDT\n"
     ]
    }
   ],
   "source": [
    "%%time\n",
    "loop = asyncio.get_event_loop()\n",
    "#loop.run_until_complete(main())\n",
    "for idd,s in enumerate(subset_symbols[:5]):\n",
    "    asyncio.run_coroutine_threadsafe(main(s+\"USDT\",idd), loop)\n",
    "    #time.sleep(0.4)"
   ]
  },
  {
   "cell_type": "code",
   "execution_count": 3,
   "id": "8aa9220c",
   "metadata": {},
   "outputs": [
    {
     "data": {
      "text/plain": [
       "{'e': 'kline',\n",
       " 'E': 1690906998648,\n",
       " 's': 'BNBBTC',\n",
       " 'k': {'t': 1690906980000,\n",
       "  'T': 1690907039999,\n",
       "  's': 'BNBBTC',\n",
       "  'i': '1m',\n",
       "  'f': 225658046,\n",
       "  'L': 225658048,\n",
       "  'o': '0.00845600',\n",
       "  'c': '0.00845600',\n",
       "  'h': '0.00845600',\n",
       "  'l': '0.00845600',\n",
       "  'v': '0.27500000',\n",
       "  'n': 3,\n",
       "  'x': False,\n",
       "  'q': '0.00232539',\n",
       "  'V': '0.27500000',\n",
       "  'Q': '0.00232539',\n",
       "  'B': '0'}}"
      ]
     },
     "execution_count": 3,
     "metadata": {},
     "output_type": "execute_result"
    }
   ],
   "source": [
    "res={'e': 'kline',\n",
    " 'E': 1690906998648,\n",
    " 's': 'BNBBTC',\n",
    " 'k': {'t': 1690906980000,\n",
    "  'T': 1690907039999,\n",
    "  's': 'BNBBTC',\n",
    "  'i': '1m',\n",
    "  'f': 225658046,\n",
    "  'L': 225658048,\n",
    "  'o': '0.00845600',\n",
    "  'c': '0.00845600',\n",
    "  'h': '0.00845600',\n",
    "  'l': '0.00845600',\n",
    "  'v': '0.27500000',\n",
    "  'n': 3,\n",
    "  'x': False,\n",
    "  'q': '0.00232539',\n",
    "  'V': '0.27500000',\n",
    "  'Q': '0.00232539',\n",
    "  'B': '0'}}\n",
    "res"
   ]
  },
  {
   "cell_type": "code",
   "execution_count": 4,
   "id": "86689870",
   "metadata": {},
   "outputs": [
    {
     "data": {
      "text/plain": [
       "(1690906980000, 0.008456, 0.008456, 0.275)"
      ]
     },
     "execution_count": 4,
     "metadata": {},
     "output_type": "execute_result"
    }
   ],
   "source": [
    "ress=res[\"k\"]\n",
    "ress[\"t\"],float(ress[\"o\"]),float(ress[\"c\"]),float(ress[\"v\"])"
   ]
  },
  {
   "cell_type": "code",
   "execution_count": 8,
   "id": "9f9a7329",
   "metadata": {},
   "outputs": [],
   "source": [
    "hehe=[23,4,1,5]"
   ]
  },
  {
   "cell_type": "code",
   "execution_count": 9,
   "id": "80dad35d",
   "metadata": {},
   "outputs": [],
   "source": [
    "hehe2=hehe.copy()"
   ]
  },
  {
   "cell_type": "code",
   "execution_count": 10,
   "id": "d3211759",
   "metadata": {},
   "outputs": [
    {
     "data": {
      "text/plain": [
       "([23, 4, 1, 5], [23, 4, 1, 123])"
      ]
     },
     "execution_count": 10,
     "metadata": {},
     "output_type": "execute_result"
    }
   ],
   "source": [
    "hehe2[3]=123\n",
    "hehe,hehe2"
   ]
  },
  {
   "cell_type": "code",
   "execution_count": null,
   "id": "66f8fa79",
   "metadata": {},
   "outputs": [],
   "source": []
  }
 ],
 "metadata": {
  "kernelspec": {
   "display_name": "Python 3 (ipykernel)",
   "language": "python",
   "name": "python3"
  },
  "language_info": {
   "codemirror_mode": {
    "name": "ipython",
    "version": 3
   },
   "file_extension": ".py",
   "mimetype": "text/x-python",
   "name": "python",
   "nbconvert_exporter": "python",
   "pygments_lexer": "ipython3",
   "version": "3.10.11"
  }
 },
 "nbformat": 4,
 "nbformat_minor": 5
}
