{
 "cells": [
  {
   "cell_type": "code",
   "execution_count": null,
   "id": "c3a341ee-ba05-41a7-834d-715e0d15b7bb",
   "metadata": {},
   "outputs": [],
   "source": []
  }
 ],
 "metadata": {
  "kernelspec": {
   "display_name": "",
   "name": ""
  },
  "language_info": {
   "name": ""
  }
 },
 "nbformat": 4,
 "nbformat_minor": 5
}
