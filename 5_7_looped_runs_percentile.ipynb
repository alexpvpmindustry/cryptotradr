{
 "cells": [
  {
   "cell_type": "markdown",
   "id": "2742ed43",
   "metadata": {},
   "source": [
    "# get signal"
   ]
  },
  {
   "cell_type": "code",
   "execution_count": 1,
   "id": "5047c8d6",
   "metadata": {},
   "outputs": [],
   "source": [
    "import numpy as np\n",
    "import pandas as pd\n",
    "import mplfinance as mpf\n",
    "import os\n",
    "from glob import glob\n",
    "import matplotlib.pyplot as plt\n",
    "\n",
    "%matplotlib inline\n",
    "\n",
    "import talib as ta # conda activate cryt310\n",
    "from matplotlib.ticker import AutoMinorLocator\n",
    "import time\n",
    "from itertools import zip_longest\n",
    "from IPython.display import Javascript\n",
    "import datetime\n",
    "import schedule\n",
    "import json,requests\n",
    "from funcs import *\n",
    "\n",
    "%load_ext autoreload\n",
    "%autoreload 2\n",
    "\n",
    "tickerpair=\"ETCUSDT\" #GBPUSDT #LTCUSDT #ETHUSDT #BTCUSDT\n",
    "#tickerpair=\"BNBUSDT\" #BNBUSDT #AUDUSDT #XMRUSDT\n",
    "intervals=['1m','3m','5m','15m','30m','1h','2h','3h','4h','6h','8h','12h','1d','3d','1w','1Month']\n",
    "\n",
    "\n",
    "\n",
    "# define constants\n",
    "tickerpair=\"ETCUSDT\"\n",
    "interval=\"5m\"\n",
    "percentile=98\n",
    "thres_diff=None\n",
    "#thres_diff = 0.003489\n",
    "#thres_diff=0.004225 #ETCUSDT 30m 98%\n",
    "#thres_diff=0.002227 #ETCUSDT 15m 98%\n",
    "#thres_diff=0.0009295 *0.95 #ETCUSDT 5m 98%\n",
    "entered=False\n",
    "\n",
    "# for each tickerpair,interval: find precentile,thres_diff,tp_buy,sl_buy,tp_sell,sl_sell,"
   ]
  },
  {
   "cell_type": "code",
   "execution_count": 2,
   "id": "81ab6256",
   "metadata": {
    "scrolled": true
   },
   "outputs": [
    {
     "name": "stdout",
     "output_type": "stream",
     "text": [
      "CPU times: total: 1.62 s\n",
      "Wall time: 1.8 s\n"
     ]
    },
    {
     "data": {
      "text/plain": [
       "55000"
      ]
     },
     "execution_count": 2,
     "metadata": {},
     "output_type": "execute_result"
    }
   ],
   "source": [
    "%%time\n",
    "dfmpl = get_data(tickerpair,interval,limit=55000,type=\"sampledata\")\n",
    "len(dfmpl)"
   ]
  },
  {
   "cell_type": "code",
   "execution_count": 6,
   "id": "6b2dbf5a",
   "metadata": {},
   "outputs": [],
   "source": [
    "percentiles = np.arange(55,100,1)"
   ]
  },
  {
   "cell_type": "code",
   "execution_count": 7,
   "id": "5e905c4c",
   "metadata": {},
   "outputs": [
    {
     "name": "stdout",
     "output_type": "stream",
     "text": [
      "CPU times: total: 6min 9s\n",
      "Wall time: 7min 1s\n"
     ]
    }
   ],
   "source": [
    "%%time\n",
    "for percentile in percentiles:\n",
    "    thres_diff=None\n",
    "    entered=False\n",
    "    entrys,exits,dfmpl,sc_up,sc_dn,r_high_sm,r_low_sm,r_sm,r_sm_diff,thres_diff = get_entrys_exits(dfmpl,percentile,thres_diff)\n",
    "    entry_signals = get_entry_signals(entrys,dfmpl)\n",
    "\n",
    "    predict,result,predict_seq,predicted_result = get_predictions(entrys,exits,dfmpl)\n",
    "    lastNsamples = int(len(result)*0.1)\n",
    "    #print(\"total results=\",len(result) ,\"lastN\",lastNsamples) \n",
    "    profit,trade_dur, df0, df0_signal,hl_pair = get_profit_highlows_of_predictions(entrys,exits,predicted_result,dfmpl)\n",
    "    final_profit,equity = get_all_equity(profit)\n",
    "\n",
    "    fig,(ax1,ax2)=plt.subplots(2,1,figsize=(8,5),sharex=True,dpi=100)\n",
    "    ax1.plot(equity,\"-x\")\n",
    "    ax1.set_ylabel(\"equity (start with $1)\")\n",
    "    ax1.set_title(f\"{tickerpair} {interval} {percentile}%\")\n",
    "    str1,gains__,trading_days = get_stats(dfmpl,sc_up,profit,trade_dur,0)\n",
    "    gs = get_stats(dfmpl,sc_up,profit,trade_dur,lastNsamples)[0]\n",
    "    ax1.text(0.02,0.99, \"overall\\n\"+str1,transform=ax1.transAxes,va=\"top\",ha=\"left\")\n",
    "    ax1.text(0.02,0.56, f\"last {lastNsamples} trades\\n\"+gs,transform=ax1.transAxes,va=\"top\",ha=\"left\")\n",
    "    ax1.text(0.87,0.0, \"seq,n\\n\"+\"\\n\".join([p[0]+\",\"+str(p[1]) for p in predict_seq]),transform=ax1.transAxes,va=\"bottom\",ha=\"left\")\n",
    "    ax1.axvline(len(profit)-lastNsamples,c=\"r\",ls=\"--\")\n",
    "    ax2.plot(profit,\"x\")\n",
    "    ax2.axhline(0,c=\"r\",alpha=0.3)\n",
    "    ax2.set_ylabel(\"profit per trade\")\n",
    "    ax2.text(0.02,0.99,f\"full len={len(dfmpl)}, thres_diff={thres_diff:.4g}\",transform=ax2.transAxes,va=\"top\",ha=\"left\")\n",
    "    #ax2.text(0.02,0.99,f\"thres_diff={thres_diff:.4g}\",transform=ax2.transAxes,va=\"top\",ha=\"left\")\n",
    "    for ax in (ax1,ax2):\n",
    "        ax.set_xlabel(\"trades\")\n",
    "        ax.tick_params(\"both\",direction=\"in\")\n",
    "    ax2.yaxis.set_minor_locator(AutoMinorLocator())\n",
    "    ax2.tick_params(\"y\",which='minor',color=\"r\")\n",
    "    ax2.grid(which='minor',axis=\"y\",alpha=0.5)\n",
    "    ax2.grid(which='major',axis=\"y\",color=\"r\",alpha=0.5)\n",
    "    #lt.tight_layout(h_pad=-1.08)\n",
    "\n",
    "    ax3 = ax2.inset_axes((1.05,0.1,0.3,0.3)) \n",
    "    ax3.text(0,1,\"pf hist\",transform=ax3.transAxes,va=\"top\",ha=\"left\")\n",
    "    ax3.hist(profit,bins=100)\n",
    "    ax3.axvline(0,c=\"r\",alpha=0.3)\n",
    "    ax3.tick_params(\"both\",direction=\"in\",rotation=25,color=\"r\") \n",
    "    ax3.set_yticks([])\n",
    "    ax4 = ax2.inset_axes((1.05,0.65,0.3,0.3))\n",
    "    ax4.hist(r_sm_diff,bins=100)\n",
    "    ax4.text(0,1,\"thres_diff\",transform=ax4.transAxes,va=\"top\",ha=\"left\")\n",
    "    ax4.axvline(thres_diff,c=\"r\")\n",
    "    ax4.tick_params(\"both\",direction=\"in\",rotation=25,color=\"r\")\n",
    "    ax4.set_yticks([])\n",
    "\n",
    "    ax5 = ax1.inset_axes((1.05,0.0,0.4,0.99))\n",
    "    hl_data = get_hl_data(hl_pair)\n",
    "    plot_hl_ax(ax5,hl_pair,hl_data,bres=0.1) \n",
    "    plt.tight_layout(h_pad=-1.08)\n",
    "    plt.savefig(f\"5_7figures_percentile/{tickerpair}_{interval}_pcent{int(percentile):05d}.png\")\n",
    "    plt.close(\"all\")\n"
   ]
  },
  {
   "cell_type": "code",
   "execution_count": null,
   "id": "c907ec64",
   "metadata": {},
   "outputs": [],
   "source": []
  },
  {
   "cell_type": "code",
   "execution_count": null,
   "id": "986926de",
   "metadata": {},
   "outputs": [],
   "source": []
  },
  {
   "cell_type": "code",
   "execution_count": 5,
   "id": "5916cfb4",
   "metadata": {},
   "outputs": [
    {
     "name": "stdout",
     "output_type": "stream",
     "text": [
      "CPU times: total: 0 ns\n",
      "Wall time: 0 ns\n"
     ]
    }
   ],
   "source": [
    "%%time\n",
    "if False:\n",
    "    fig,(ax1,ax2,ax3)=plt.subplots(1,3,figsize=(12,4))\n",
    "    ax1.plot(r_high_sm,alpha=0.6)\n",
    "    ax1.plot(r_low_sm,alpha=0.6)\n",
    "    ax1.plot(r_sm,alpha=0.6)\n",
    "    ax1.set_xticks(ax1.get_xticks())\n",
    "    ax1.set_xticklabels(ax1.get_xticks(), rotation = 45)\n",
    "    n,bins,_ = ax2.hist(r_sm,bins=100)\n",
    "    thres = np.percentile(r_sm.values[np.where(~np.isnan(r_sm.values))],25)\n",
    "    ax2.axvline(thres,c=\"r\",label=f\"threshold={thres:.4g}\")\n",
    "    ax2.legend()\n",
    "    ax3.hist(r_sm_diff,bins=100)\n",
    "    ax3.axvline(thres_diff,c=\"r\",label=f\"thres_diff={thres_diff:.4g}\")\n",
    "    ax3.legend()\n",
    "    plt.show()  \n",
    "if False:\n",
    "    upto=20\n",
    "    concated_df = pd.concat([(i-i.iloc[0].Open)/i.iloc[0].Open for i in df0[:upto]])\n",
    "    l_ = 0\n",
    "    scatter_=[]\n",
    "    scatter_color_up=[]\n",
    "    scatter_color_dn=[]\n",
    "    my_vlines = [ ]\n",
    "    for i,buy in zip( df0[:upto], df0_signal):\n",
    "        my_vlines.append(l_)\n",
    "        for ii in range(len(i)):\n",
    "            l_ +=1\n",
    "            scatter_.append(np.nan)\n",
    "            scatter_color_up.append(np.nan)\n",
    "            scatter_color_dn.append(np.nan)\n",
    "        scatter_.pop()\n",
    "        scatter_.append(concated_df.iloc[l_-1].Close)\n",
    "        if buy>0:\n",
    "            scatter_color_up.pop()\n",
    "            scatter_color_up.append(concated_df.iloc[l_-1].Close)\n",
    "        else:\n",
    "            scatter_color_dn.pop()\n",
    "            scatter_color_dn.append(concated_df.iloc[l_-1].Close)\n",
    "    apds = [\n",
    "        mpf.make_addplot(scatter_color_up,color='g',type='scatter',marker=\"x\",secondary_y=False),\n",
    "        mpf.make_addplot(scatter_color_dn,color='r',type='scatter',marker=\"x\",secondary_y=False),\n",
    "           ]\n",
    "    fig, axlist =mpf.plot(concated_df,addplot=apds, returnfig=True,ylabel=\"fraction change\")\n",
    "    for ax in axlist[:]:\n",
    "        for vline in my_vlines:\n",
    "            ax.axvline(x=vline, linestyle='--',linewidth=1,alpha=0.3)\n",
    "    plt.show()\n",
    "    import matplotlib\n",
    "    matplotlib.rcParams.update(matplotlib.rcParamsDefault)"
   ]
  }
 ],
 "metadata": {
  "kernelspec": {
   "display_name": "Python 3 (ipykernel)",
   "language": "python",
   "name": "python3"
  },
  "language_info": {
   "codemirror_mode": {
    "name": "ipython",
    "version": 3
   },
   "file_extension": ".py",
   "mimetype": "text/x-python",
   "name": "python",
   "nbconvert_exporter": "python",
   "pygments_lexer": "ipython3",
   "version": "3.10.11"
  }
 },
 "nbformat": 4,
 "nbformat_minor": 5
}
