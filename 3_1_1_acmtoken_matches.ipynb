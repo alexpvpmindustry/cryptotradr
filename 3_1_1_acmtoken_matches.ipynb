{
 "cells": [
  {
   "cell_type": "code",
   "execution_count": 1,
   "id": "07380999-a9f8-4c42-9b16-e6ae481df194",
   "metadata": {},
   "outputs": [
    {
     "name": "stdout",
     "output_type": "stream",
     "text": [
      "AC Milan's schedule has been saved to 'ac_milan_schedule.csv'.\n"
     ]
    }
   ],
   "source": [
    "import requests\n",
    "from bs4 import BeautifulSoup\n",
    "import pandas as pd\n",
    "\n",
    "# URL of AC Milan's complete schedule\n",
    "url = 'https://www.acmilan.com/it/stagione/attiva/calendario/completo'\n",
    "\n",
    "# Send a GET request to fetch the page content\n",
    "response = requests.get(url)\n",
    "response.raise_for_status()  # Raise an error for bad status codes\n",
    "\n",
    "# Parse the HTML content using BeautifulSoup\n",
    "soup = BeautifulSoup(response.text, 'html.parser')\n",
    "\n",
    "# Initialize a list to store match data\n",
    "matches = []\n",
    "\n",
    "# Find all match entries in the schedule\n",
    "for match in soup.find_all('div', class_='match-entry'):\n",
    "    date = match.find('div', class_='match-date').text.strip()\n",
    "    time = match.find('div', class_='match-time').text.strip()\n",
    "    teams = match.find_all('div', class_='match-team')\n",
    "    team_home = teams[0].text.strip()\n",
    "    team_away = teams[1].text.strip()\n",
    "    score = match.find('div', class_='match-score').text.strip() if match.find('div', class_='match-score') else 'N/A'\n",
    "    \n",
    "    # Append the extracted data to the matches list\n",
    "    matches.append({\n",
    "        'Date': date,\n",
    "        'Time': time,\n",
    "        'Home Team': team_home,\n",
    "        'Away Team': team_away,\n",
    "        'Score': score\n",
    "    })\n",
    "\n",
    "# Convert the list of matches to a DataFrame\n",
    "df = pd.DataFrame(matches)\n",
    "\n",
    "# Save the DataFrame to a CSV file\n",
    "df.to_csv('ac_milan_schedule.csv', index=False)\n",
    "\n",
    "print(\"AC Milan's schedule has been saved to 'ac_milan_schedule.csv'.\")\n"
   ]
  },
  {
   "cell_type": "code",
   "execution_count": 2,
   "id": "66d73caa-090e-4012-bdd9-9b266372f3f7",
   "metadata": {},
   "outputs": [
    {
     "data": {
      "text/html": [
       "<div>\n",
       "<style scoped>\n",
       "    .dataframe tbody tr th:only-of-type {\n",
       "        vertical-align: middle;\n",
       "    }\n",
       "\n",
       "    .dataframe tbody tr th {\n",
       "        vertical-align: top;\n",
       "    }\n",
       "\n",
       "    .dataframe thead th {\n",
       "        text-align: right;\n",
       "    }\n",
       "</style>\n",
       "<table border=\"1\" class=\"dataframe\">\n",
       "  <thead>\n",
       "    <tr style=\"text-align: right;\">\n",
       "      <th></th>\n",
       "    </tr>\n",
       "  </thead>\n",
       "  <tbody>\n",
       "  </tbody>\n",
       "</table>\n",
       "</div>"
      ],
      "text/plain": [
       "Empty DataFrame\n",
       "Columns: []\n",
       "Index: []"
      ]
     },
     "execution_count": 2,
     "metadata": {},
     "output_type": "execute_result"
    }
   ],
   "source": [
    "df"
   ]
  },
  {
   "cell_type": "code",
   "execution_count": 5,
   "id": "4d832c5a-f29a-458b-8cc4-f8ee977a8b6f",
   "metadata": {},
   "outputs": [
    {
     "data": {
      "text/html": [
       "<div>\n",
       "<style scoped>\n",
       "    .dataframe tbody tr th:only-of-type {\n",
       "        vertical-align: middle;\n",
       "    }\n",
       "\n",
       "    .dataframe tbody tr th {\n",
       "        vertical-align: top;\n",
       "    }\n",
       "\n",
       "    .dataframe thead th {\n",
       "        text-align: right;\n",
       "    }\n",
       "</style>\n",
       "<table border=\"1\" class=\"dataframe\">\n",
       "  <thead>\n",
       "    <tr style=\"text-align: right;\">\n",
       "      <th></th>\n",
       "      <th>Datetime</th>\n",
       "      <th>Result</th>\n",
       "    </tr>\n",
       "  </thead>\n",
       "  <tbody>\n",
       "    <tr>\n",
       "      <th>0</th>\n",
       "      <td>2024-08-18 02:45:00</td>\n",
       "      <td>Draw</td>\n",
       "    </tr>\n",
       "    <tr>\n",
       "      <th>1</th>\n",
       "      <td>2024-08-25 00:30:00</td>\n",
       "      <td>Loss</td>\n",
       "    </tr>\n",
       "    <tr>\n",
       "      <th>2</th>\n",
       "      <td>2024-09-01 02:45:00</td>\n",
       "      <td>Draw</td>\n",
       "    </tr>\n",
       "    <tr>\n",
       "      <th>3</th>\n",
       "      <td>2024-09-15 02:45:00</td>\n",
       "      <td>Win</td>\n",
       "    </tr>\n",
       "    <tr>\n",
       "      <th>4</th>\n",
       "      <td>2024-09-18 03:00:00</td>\n",
       "      <td>Loss</td>\n",
       "    </tr>\n",
       "  </tbody>\n",
       "</table>\n",
       "</div>"
      ],
      "text/plain": [
       "             Datetime Result\n",
       "0 2024-08-18 02:45:00   Draw\n",
       "1 2024-08-25 00:30:00   Loss\n",
       "2 2024-09-01 02:45:00   Draw\n",
       "3 2024-09-15 02:45:00    Win\n",
       "4 2024-09-18 03:00:00   Loss"
      ]
     },
     "execution_count": 5,
     "metadata": {},
     "output_type": "execute_result"
    }
   ],
   "source": [
    "from bs4 import BeautifulSoup\n",
    "import pandas as pd\n",
    "\n",
    "# Load and parse the new HTML content from the uploaded file\n",
    "with open(\"acm4.txt\", \"r\", encoding=\"utf-8\") as f:\n",
    "    html = f.read()\n",
    "\n",
    "soup = BeautifulSoup(html, \"html.parser\")\n",
    "\n",
    "# Extract relevant match data\n",
    "matches = []\n",
    "for match in soup.find_all(\"div\", class_=\"MatchDay__Grid-ll646f-0\"):\n",
    "    try:\n",
    "        date = match.select_one(\"span.LocalizedDate__Date-sc-1pba2xb-0\").text.strip()\n",
    "        time = match.select(\"div.MatchDay__MatchDateContainer-ll646f-13 span\")[1].text.strip()\n",
    "\n",
    "        teams = match.select(\"span.MatchDay__TeamFullName-ll646f-14\")\n",
    "        team1 = teams[0].text.strip()\n",
    "        team2 = teams[1].text.strip()\n",
    "\n",
    "        score = match.select_one(\"span.MatchDay__Score-ll646f-6\").text.strip()\n",
    "        g1, g2 = map(int, score.split('-'))\n",
    "\n",
    "        match_time = pd.to_datetime(f\"{date} {time}\")\n",
    "\n",
    "        if \"Milan\" in team1:\n",
    "            result = \"Win\" if g1 > g2 else \"Loss\" if g1 < g2 else \"Draw\"\n",
    "        else:\n",
    "            result = \"Win\" if g2 > g1 else \"Loss\" if g2 < g1 else \"Draw\"\n",
    "\n",
    "        matches.append({\n",
    "            \"Datetime\": match_time,\n",
    "            \"Result\": result\n",
    "        })\n",
    "\n",
    "    except Exception:\n",
    "        continue\n",
    "\n",
    "match_df = pd.DataFrame(matches)\n",
    "match_df.head()\n"
   ]
  },
  {
   "cell_type": "code",
   "execution_count": null,
   "id": "6ef95588-6561-40ef-a63b-349a95b9c323",
   "metadata": {},
   "outputs": [],
   "source": []
  }
 ],
 "metadata": {
  "kernelspec": {
   "display_name": "Python 3 (ipykernel)",
   "language": "python",
   "name": "python3"
  },
  "language_info": {
   "codemirror_mode": {
    "name": "ipython",
    "version": 3
   },
   "file_extension": ".py",
   "mimetype": "text/x-python",
   "name": "python",
   "nbconvert_exporter": "python",
   "pygments_lexer": "ipython3",
   "version": "3.10.13"
  }
 },
 "nbformat": 4,
 "nbformat_minor": 5
}
