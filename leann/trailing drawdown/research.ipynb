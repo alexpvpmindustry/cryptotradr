{
 "cells": [
  {
   "cell_type": "markdown",
   "metadata": {},
   "source": [
    "![QuantConnect Logo](https://cdn.quantconnect.com/web/i/icon.png)\n",
    "<hr>"
   ]
  },
  {
   "cell_type": "code",
   "execution_count": 1,
   "metadata": {},
   "outputs": [
    {
     "ename": "NameError",
     "evalue": "name 'QuantBook' is not defined",
     "output_type": "error",
     "traceback": [
      "\u001b[1;31m---------------------------------------------------------------------------\u001b[0m",
      "\u001b[1;31mNameError\u001b[0m                                 Traceback (most recent call last)",
      "Cell \u001b[1;32mIn[1], line 3\u001b[0m\n\u001b[0;32m      1\u001b[0m \u001b[38;5;66;03m# QuantBook Analysis Tool \u001b[39;00m\n\u001b[0;32m      2\u001b[0m \u001b[38;5;66;03m# For more information see [https://www.quantconnect.com/docs/v2/our-platform/research/getting-started]\u001b[39;00m\n\u001b[1;32m----> 3\u001b[0m qb \u001b[38;5;241m=\u001b[39m \u001b[43mQuantBook\u001b[49m()\n\u001b[0;32m      4\u001b[0m spy \u001b[38;5;241m=\u001b[39m qb\u001b[38;5;241m.\u001b[39mAddEquity(\u001b[38;5;124m\"\u001b[39m\u001b[38;5;124mSPY\u001b[39m\u001b[38;5;124m\"\u001b[39m)\n\u001b[0;32m      5\u001b[0m \u001b[38;5;66;03m# Locally Lean installs free sample data, to download more data please visit https://www.quantconnect.com/docs/v2/lean-cli/datasets/downloading-data \u001b[39;00m\n",
      "\u001b[1;31mNameError\u001b[0m: name 'QuantBook' is not defined"
     ]
    }
   ],
   "source": [
    "# QuantBook Analysis Tool \n",
    "# For more information see [https://www.quantconnect.com/docs/v2/our-platform/research/getting-started]\n",
    "qb = QuantBook()\n",
    "spy = qb.AddEquity(\"SPY\")\n",
    "# Locally Lean installs free sample data, to download more data please visit https://www.quantconnect.com/docs/v2/lean-cli/datasets/downloading-data \n",
    "qb.SetStartDate(2013, 10, 11)\n",
    "history = qb.History(qb.Securities.Keys, 360, Resolution.Daily)\n",
    "\n",
    "# Indicator Analysis\n",
    "bbdf = qb.Indicator(BollingerBands(30, 2), spy.Symbol, 360, Resolution.Daily)\n",
    "bbdf.drop('standarddeviation', axis=1).plot()"
   ]
  },
  {
   "cell_type": "code",
   "execution_count": 3,
   "metadata": {},
   "outputs": [
    {
     "ename": "ModuleNotFoundError",
     "evalue": "No module named 'QuantConnect'",
     "output_type": "error",
     "traceback": [
      "\u001b[1;31m---------------------------------------------------------------------------\u001b[0m",
      "\u001b[1;31mModuleNotFoundError\u001b[0m                       Traceback (most recent call last)",
      "Cell \u001b[1;32mIn[3], line 2\u001b[0m\n\u001b[0;32m      1\u001b[0m \u001b[38;5;28;01mfrom\u001b[39;00m \u001b[38;5;21;01mdatetime\u001b[39;00m \u001b[38;5;28;01mimport\u001b[39;00m timedelta\n\u001b[1;32m----> 2\u001b[0m \u001b[38;5;28;01mfrom\u001b[39;00m \u001b[38;5;21;01mQuantConnect\u001b[39;00m\u001b[38;5;21;01m.\u001b[39;00m\u001b[38;5;21;01mData\u001b[39;00m\u001b[38;5;21;01m.\u001b[39;00m\u001b[38;5;21;01mConsolidators\u001b[39;00m \u001b[38;5;28;01mimport\u001b[39;00m TradeBarConsolidator\n\u001b[0;32m      3\u001b[0m \u001b[38;5;28;01mfrom\u001b[39;00m \u001b[38;5;21;01mQuantConnect\u001b[39;00m\u001b[38;5;21;01m.\u001b[39;00m\u001b[38;5;21;01mIndicators\u001b[39;00m \u001b[38;5;28;01mimport\u001b[39;00m Maximum\n\u001b[0;32m      5\u001b[0m \u001b[38;5;28;01mclass\u001b[39;00m \u001b[38;5;21;01mStockTrackingAlgorithm\u001b[39;00m(QCAlgorithm):\n",
      "\u001b[1;31mModuleNotFoundError\u001b[0m: No module named 'QuantConnect'"
     ]
    }
   ],
   "source": [
    "from datetime import timedelta\n",
    "from QuantConnect.Data.Consolidators import TradeBarConsolidator\n",
    "from QuantConnect.Indicators import Maximum\n",
    "\n",
    "class StockTrackingAlgorithm(QCAlgorithm):\n",
    "    def Initialize(self):\n",
    "        self.SetStartDate(2023, 1, 1)\n",
    "        self.SetCash(100000)\n",
    "        self.symbols = [\"TSLA\", \"MSFT\", \"NVDA\", \"AAPL\", \"GOOGL\"]\n",
    "        self.max_10_day_high = {}\n",
    "        self.entry_prices = {}\n",
    "        \n",
    "        # Create a 10-day maximum indicator for each stock\n",
    "        for symbol in self.symbols:\n",
    "            equity = self.AddEquity(symbol, Resolution.Daily)\n",
    "            self.max_10_day_high[symbol] = Maximum(10)\n",
    "            consolidator = TradeBarConsolidator(timedelta(days=1))\n",
    "            consolidator.DataConsolidated += self.OnDataConsolidated\n",
    "            self.RegisterIndicator(symbol, self.max_10_day_high[symbol], consolidator)\n",
    "            self.entry_prices[symbol] = None\n",
    "\n",
    "    def OnDataConsolidated(self, sender, bar):\n",
    "        symbol = bar.Symbol.Value\n",
    "        max_10_day_high = self.max_10_day_high[symbol]\n",
    "\n",
    "        # Entry condition: stock falls by 10% from its 10-day high\n",
    "        if self.entry_prices[symbol] is None and bar.Close < max_10_day_high.Current.Value * 0.9:\n",
    "            self.SetHoldings(symbol, 0.2)\n",
    "            self.entry_prices[symbol] = bar.Close\n",
    "\n",
    "        # Exit condition: 5% trailing take profit\n",
    "        elif self.entry_prices[symbol] and bar.Close >= self.entry_prices[symbol] * 1.05:\n",
    "            self.Liquidate(symbol)\n",
    "            self.entry_prices[symbol] = None\n",
    "\n",
    "    def OnData(self, data):\n",
    "        pass"
   ]
  },
  {
   "cell_type": "code",
   "execution_count": null,
   "metadata": {},
   "outputs": [],
   "source": []
  }
 ],
 "metadata": {
  "kernelspec": {
   "display_name": "Python 3 (ipykernel)",
   "language": "python",
   "name": "python3"
  },
  "language_info": {
   "codemirror_mode": {
    "name": "ipython",
    "version": 3
   },
   "file_extension": ".py",
   "mimetype": "text/x-python",
   "name": "python",
   "nbconvert_exporter": "python",
   "pygments_lexer": "ipython3",
   "version": "3.8.8"
  }
 },
 "nbformat": 4,
 "nbformat_minor": 4
}
