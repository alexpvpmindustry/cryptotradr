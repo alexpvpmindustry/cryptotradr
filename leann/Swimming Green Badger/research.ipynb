{
 "cells": [
  {
   "cell_type": "markdown",
   "metadata": {
    "pycharm": {
     "name": "#%% md\n"
    }
   },
   "source": [
    "![QuantConnect Logo](https://cdn.quantconnect.com/web/i/icon.png)\n",
    "<hr>"
   ]
  },
  {
   "cell_type": "code",
   "execution_count": 1,
   "metadata": {
    "pycharm": {
     "name": "#%%\n"
    }
   },
   "outputs": [
    {
     "ename": "NameError",
     "evalue": "name 'QuantBook' is not defined",
     "output_type": "error",
     "traceback": [
      "\u001b[1;31m---------------------------------------------------------------------------\u001b[0m",
      "\u001b[1;31mNameError\u001b[0m                                 Traceback (most recent call last)",
      "Cell \u001b[1;32mIn[1], line 3\u001b[0m\n\u001b[0;32m      1\u001b[0m \u001b[38;5;66;03m# QuantBook Analysis Tool \u001b[39;00m\n\u001b[0;32m      2\u001b[0m \u001b[38;5;66;03m# For more information see [https://www.quantconnect.com/docs/v2/our-platform/research/getting-started]\u001b[39;00m\n\u001b[1;32m----> 3\u001b[0m qb \u001b[38;5;241m=\u001b[39m \u001b[43mQuantBook\u001b[49m()\n\u001b[0;32m      4\u001b[0m spy \u001b[38;5;241m=\u001b[39m qb\u001b[38;5;241m.\u001b[39mAddEquity(\u001b[38;5;124m\"\u001b[39m\u001b[38;5;124mSPY\u001b[39m\u001b[38;5;124m\"\u001b[39m)\n\u001b[0;32m      5\u001b[0m history \u001b[38;5;241m=\u001b[39m qb\u001b[38;5;241m.\u001b[39mHistory(qb\u001b[38;5;241m.\u001b[39mSecurities\u001b[38;5;241m.\u001b[39mKeys, \u001b[38;5;241m360\u001b[39m, Resolution\u001b[38;5;241m.\u001b[39mDaily)\n",
      "\u001b[1;31mNameError\u001b[0m: name 'QuantBook' is not defined"
     ]
    }
   ],
   "source": [
    "# QuantBook Analysis Tool \n",
    "# For more information see [https://www.quantconnect.com/docs/v2/our-platform/research/getting-started]\n",
    "qb = QuantBook()\n",
    "spy = qb.AddEquity(\"SPY\")\n",
    "history = qb.History(qb.Securities.Keys, 360, Resolution.Daily)\n",
    "\n",
    "# Indicator Analysis\n",
    "bbdf = qb.Indicator(BollingerBands(30, 2), spy.Symbol, 360, Resolution.Daily)\n",
    "bbdf.drop('standarddeviation', axis=1).plot()"
   ]
  },
  {
   "cell_type": "code",
   "execution_count": 2,
   "metadata": {
    "pycharm": {
     "name": "#%%\n"
    }
   },
   "outputs": [
    {
     "ename": "ModuleNotFoundError",
     "evalue": "No module named 'clr'",
     "output_type": "error",
     "traceback": [
      "\u001b[1;31m---------------------------------------------------------------------------\u001b[0m",
      "\u001b[1;31mModuleNotFoundError\u001b[0m                       Traceback (most recent call last)",
      "Cell \u001b[1;32mIn[2], line 1\u001b[0m\n\u001b[1;32m----> 1\u001b[0m \u001b[38;5;28;01mfrom\u001b[39;00m \u001b[38;5;21;01mQuantConnect\u001b[39;00m\u001b[38;5;21;01m.\u001b[39;00m\u001b[38;5;21;01mResearch\u001b[39;00m \u001b[38;5;28;01mimport\u001b[39;00m QuantBook\n\u001b[0;32m      2\u001b[0m qb \u001b[38;5;241m=\u001b[39m QuantBook() \n",
      "File \u001b[1;32mc:\\Users\\aatan\\Documents\\Github\\cryptotradr_py38\\cryptotradr\\.venv\\lib\\site-packages\\QuantConnect\\__init__.py:27\u001b[0m\n\u001b[0;32m     25\u001b[0m \u001b[38;5;66;03m# Import the C# version of the current namespace\u001b[39;00m\n\u001b[0;32m     26\u001b[0m \u001b[38;5;28;01mdel\u001b[39;00m sys\u001b[38;5;241m.\u001b[39mmodules[\u001b[38;5;124m\"\u001b[39m\u001b[38;5;124mQuantConnect\u001b[39m\u001b[38;5;124m\"\u001b[39m]\n\u001b[1;32m---> 27\u001b[0m \u001b[38;5;28;01mfrom\u001b[39;00m \u001b[38;5;21;01mclr\u001b[39;00m \u001b[38;5;28;01mimport\u001b[39;00m AddReference\n\u001b[0;32m     28\u001b[0m AddReference(\u001b[38;5;124m\"\u001b[39m\u001b[38;5;124mQuantConnect.Common\u001b[39m\u001b[38;5;124m\"\u001b[39m)\n\u001b[0;32m     29\u001b[0m \u001b[38;5;28;01mfrom\u001b[39;00m \u001b[38;5;21;01mQuantConnect\u001b[39;00m \u001b[38;5;28;01mimport\u001b[39;00m \u001b[38;5;241m*\u001b[39m\n",
      "\u001b[1;31mModuleNotFoundError\u001b[0m: No module named 'clr'"
     ]
    }
   ],
   "source": [
    "from QuantConnect.Research import QuantBook\n",
    "qb = QuantBook() "
   ]
  },
  {
   "cell_type": "code",
   "execution_count": null,
   "metadata": {},
   "outputs": [],
   "source": []
  }
 ],
 "metadata": {
  "kernelspec": {
   "display_name": "Python 3",
   "language": "python",
   "name": "python3"
  },
  "language_info": {
   "codemirror_mode": {
    "name": "ipython",
    "version": 3
   },
   "file_extension": ".py",
   "mimetype": "text/x-python",
   "name": "python",
   "nbconvert_exporter": "python",
   "pygments_lexer": "ipython3",
   "version": "3.8.8rc1"
  }
 },
 "nbformat": 4,
 "nbformat_minor": 2
}
