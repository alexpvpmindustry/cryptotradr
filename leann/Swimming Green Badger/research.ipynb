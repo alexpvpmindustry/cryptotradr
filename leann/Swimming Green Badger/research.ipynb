{
 "cells": [
  {
   "cell_type": "markdown",
   "metadata": {
    "pycharm": {
     "name": "#%% md\n"
    }
   },
   "source": [
    "![QuantConnect Logo](https://cdn.quantconnect.com/web/i/icon.png)\n",
    "<hr>"
   ]
  },
  {
   "cell_type": "code",
   "execution_count": 1,
   "metadata": {
    "pycharm": {
     "name": "#%%\n"
    }
   },
   "outputs": [
    {
     "ename": "NameError",
     "evalue": "name 'QuantBook' is not defined",
     "output_type": "error",
     "traceback": [
      "\u001b[1;31m---------------------------------------------------------------------------\u001b[0m",
      "\u001b[1;31mNameError\u001b[0m                                 Traceback (most recent call last)",
      "Cell \u001b[1;32mIn[1], line 3\u001b[0m\n\u001b[0;32m      1\u001b[0m \u001b[38;5;66;03m# QuantBook Analysis Tool \u001b[39;00m\n\u001b[0;32m      2\u001b[0m \u001b[38;5;66;03m# For more information see [https://www.quantconnect.com/docs/v2/our-platform/research/getting-started]\u001b[39;00m\n\u001b[1;32m----> 3\u001b[0m qb \u001b[38;5;241m=\u001b[39m \u001b[43mQuantBook\u001b[49m()\n\u001b[0;32m      4\u001b[0m spy \u001b[38;5;241m=\u001b[39m qb\u001b[38;5;241m.\u001b[39mAddEquity(\u001b[38;5;124m\"\u001b[39m\u001b[38;5;124mSPY\u001b[39m\u001b[38;5;124m\"\u001b[39m)\n\u001b[0;32m      5\u001b[0m history \u001b[38;5;241m=\u001b[39m qb\u001b[38;5;241m.\u001b[39mHistory(qb\u001b[38;5;241m.\u001b[39mSecurities\u001b[38;5;241m.\u001b[39mKeys, \u001b[38;5;241m360\u001b[39m, Resolution\u001b[38;5;241m.\u001b[39mDaily)\n",
      "\u001b[1;31mNameError\u001b[0m: name 'QuantBook' is not defined"
     ]
    }
   ],
   "source": [
    "# QuantBook Analysis Tool \n",
    "# For more information see [https://www.quantconnect.com/docs/v2/our-platform/research/getting-started]\n",
    "qb = QuantBook()\n",
    "spy = qb.AddEquity(\"SPY\")\n",
    "history = qb.History(qb.Securities.Keys, 360, Resolution.Daily)\n",
    "\n",
    "# Indicator Analysis\n",
    "bbdf = qb.Indicator(BollingerBands(30, 2), spy.Symbol, 360, Resolution.Daily)\n",
    "bbdf.drop('standarddeviation', axis=1).plot()"
   ]
  },
  {
   "cell_type": "code",
   "execution_count": 2,
   "metadata": {
    "pycharm": {
     "name": "#%%\n"
    }
   },
   "outputs": [
    {
     "ename": "ModuleNotFoundError",
     "evalue": "No module named 'QuantConnect'",
     "output_type": "error",
     "traceback": [
      "\u001b[1;31m---------------------------------------------------------------------------\u001b[0m",
      "\u001b[1;31mModuleNotFoundError\u001b[0m                       Traceback (most recent call last)",
      "Cell \u001b[1;32mIn[2], line 1\u001b[0m\n\u001b[1;32m----> 1\u001b[0m \u001b[38;5;28;01mfrom\u001b[39;00m \u001b[38;5;21;01mQuantConnect\u001b[39;00m\u001b[38;5;21;01m.\u001b[39;00m\u001b[38;5;21;01mResearch\u001b[39;00m \u001b[38;5;28;01mimport\u001b[39;00m QuantBook\n\u001b[0;32m      2\u001b[0m qb \u001b[38;5;241m=\u001b[39m QuantBook() \n",
      "\u001b[1;31mModuleNotFoundError\u001b[0m: No module named 'QuantConnect'"
     ]
    }
   ],
   "source": [
    "from QuantConnect.Research import QuantBook\n",
    "qb = QuantBook() "
   ]
  },
  {
   "cell_type": "code",
   "execution_count": 4,
   "metadata": {},
   "outputs": [
    {
     "name": "stdout",
     "output_type": "stream",
     "text": [
      "annotated-types==0.6.0\n",
      "anyio==4.2.0\n",
      "appdirs==1.4.4\n",
      "argon2-cffi==23.1.0\n",
      "argon2-cffi-bindings==21.2.0\n",
      "arrow==1.3.0\n",
      "asttokens==2.4.1\n",
      "async-lru==2.0.4\n",
      "attrs==23.2.0\n",
      "Babel==2.14.0\n",
      "backcall==0.2.0\n",
      "beautifulsoup4==4.12.2\n",
      "bleach==6.1.0\n",
      "certifi==2022.12.7\n",
      "cffi==1.16.0\n",
      "charset-normalizer==2.1.1\n",
      "click==8.1.7\n",
      "colorama==0.4.6\n",
      "comm==0.2.1\n",
      "contourpy==1.1.1\n",
      "cryptography==41.0.7\n",
      "cycler==0.12.1\n",
      "debugpy==1.8.0\n",
      "decorator==5.1.1\n",
      "defusedxml==0.7.1\n",
      "docker==7.0.0\n",
      "exceptiongroup==1.2.0\n",
      "executing==2.0.1\n",
      "fastjsonschema==2.19.1\n",
      "filelock==3.9.0\n",
      "fonttools==4.47.0\n",
      "fqdn==1.5.1\n",
      "frozendict==2.4.0\n",
      "fsspec==2023.4.0\n",
      "html5lib==1.1\n",
      "idna==3.4\n",
      "importlib-metadata==7.0.1\n",
      "importlib-resources==6.1.1\n",
      "ipykernel==6.28.0\n",
      "ipython==8.12.3\n",
      "isoduration==20.11.0\n",
      "jedi==0.19.1\n",
      "Jinja2==3.1.2\n",
      "joblib==1.3.2\n",
      "json5==0.9.14\n",
      "jsonpointer==2.4\n",
      "jsonschema==4.20.0\n",
      "jsonschema-specifications==2023.12.1\n",
      "jupyter-events==0.9.0\n",
      "jupyter-lsp==2.2.1\n",
      "jupyter_client==8.6.0\n",
      "jupyter_core==5.6.1\n",
      "jupyter_server==2.12.1\n",
      "jupyter_server_terminals==0.5.1\n",
      "jupyterlab==4.0.10\n",
      "jupyterlab_pygments==0.3.0\n",
      "jupyterlab_server==2.25.2\n",
      "kiwisolver==1.4.5\n",
      "lean==1.0.177\n",
      "lxml==5.0.0\n",
      "markdown-it-py==3.0.0\n",
      "MarkupSafe==2.1.3\n",
      "maskpass==0.3.7\n",
      "matplotlib==3.7.4\n",
      "matplotlib-inline==0.1.6\n",
      "mdurl==0.1.2\n",
      "mistune==3.0.2\n",
      "mpmath==1.3.0\n",
      "multitasking==0.0.11\n",
      "nbclient==0.9.0\n",
      "nbconvert==7.14.0\n",
      "nbformat==5.9.2\n",
      "nest-asyncio==1.5.8\n",
      "networkx==3.0\n",
      "notebook==7.0.6\n",
      "notebook_shim==0.2.3\n",
      "numpy==1.24.1\n",
      "overrides==7.4.0\n",
      "packaging==23.2\n",
      "pandas==2.0.3\n",
      "pandas_ta==0.3.14b0\n",
      "pandocfilters==1.5.0\n",
      "parso==0.8.3\n",
      "peewee==3.17.0\n",
      "pickleshare==0.7.5\n",
      "Pillow==9.3.0\n",
      "pkgutil_resolve_name==1.3.10\n",
      "platformdirs==4.1.0\n",
      "prometheus-client==0.19.0\n",
      "prompt-toolkit==3.0.43\n",
      "psutil==5.9.7\n",
      "pure-eval==0.2.2\n",
      "pycparser==2.21\n",
      "pydantic==2.5.3\n",
      "pydantic_core==2.14.6\n",
      "Pygments==2.17.2\n",
      "pynput==1.7.6\n",
      "pyparsing==3.1.1\n",
      "python-dateutil==2.8.2\n",
      "python-json-logger==2.0.7\n",
      "pytz==2023.3.post1\n",
      "pywin32==306\n",
      "pywinpty==2.0.12\n",
      "PyYAML==6.0.1\n",
      "pyzmq==25.1.2\n",
      "quantconnect-stubs==16138\n",
      "referencing==0.32.0\n",
      "requests==2.31.0\n",
      "rfc3339-validator==0.1.4\n",
      "rfc3986-validator==0.1.1\n",
      "rich==13.7.0\n",
      "rpds-py==0.16.2\n",
      "scikit-learn==1.2.2\n",
      "scipy==1.10.1\n",
      "Send2Trash==1.8.2\n",
      "six==1.16.0\n",
      "sklearn-json==0.1.0\n",
      "sniffio==1.3.0\n",
      "soupsieve==2.5\n",
      "stack-data==0.6.3\n",
      "sympy==1.12\n",
      "terminado==0.18.0\n",
      "threadpoolctl==3.2.0\n",
      "tinycss2==1.2.1\n",
      "tomli==2.0.1\n",
      "torch==2.1.2+cu118\n",
      "torchaudio==2.1.2+cu118\n",
      "torchvision==0.16.2+cu118\n",
      "tornado==6.4\n",
      "traitlets==5.14.1\n",
      "types-python-dateutil==2.8.19.14\n",
      "typing_extensions==4.9.0\n",
      "tzdata==2023.4\n",
      "uri-template==1.3.0\n",
      "urllib3==1.26.13\n",
      "wcwidth==0.2.12\n",
      "webcolors==1.13\n",
      "webencodings==0.5.1\n",
      "websocket-client==1.7.0\n",
      "wrapt==1.14.1\n",
      "yfinance==0.2.33\n",
      "zipp==3.17.0\n"
     ]
    }
   ],
   "source": [
    "!pip freeze"
   ]
  },
  {
   "cell_type": "code",
   "execution_count": null,
   "metadata": {},
   "outputs": [],
   "source": []
  }
 ],
 "metadata": {
  "kernelspec": {
   "display_name": "Python 3",
   "language": "python",
   "name": "python3"
  },
  "language_info": {
   "codemirror_mode": {
    "name": "ipython",
    "version": 3
   },
   "file_extension": ".py",
   "mimetype": "text/x-python",
   "name": "python",
   "nbconvert_exporter": "python",
   "pygments_lexer": "ipython3",
   "version": "3.8.8"
  }
 },
 "nbformat": 4,
 "nbformat_minor": 2
}
