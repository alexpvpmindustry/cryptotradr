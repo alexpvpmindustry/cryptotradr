{
 "cells": [
  {
   "cell_type": "code",
   "execution_count": 1,
   "id": "5efe5ca7",
   "metadata": {},
   "outputs": [
    {
     "name": "stdout",
     "output_type": "stream",
     "text": [
      "Requirement already satisfied: torchvision in c:\\users\\aatan\\anaconda3\\envs\\crytrad\\lib\\site-packages (0.15.2+cu118)\n",
      "Requirement already satisfied: numpy in c:\\users\\aatan\\anaconda3\\envs\\crytrad\\lib\\site-packages (from torchvision) (1.24.3)\n",
      "Requirement already satisfied: requests in c:\\users\\aatan\\anaconda3\\envs\\crytrad\\lib\\site-packages (from torchvision) (2.29.0)\n",
      "Requirement already satisfied: torch==2.0.1 in c:\\users\\aatan\\anaconda3\\envs\\crytrad\\lib\\site-packages (from torchvision) (2.0.1+cu118)\n",
      "Requirement already satisfied: pillow!=8.3.*,>=5.3.0 in c:\\users\\aatan\\anaconda3\\envs\\crytrad\\lib\\site-packages (from torchvision) (9.5.0)\n",
      "Requirement already satisfied: filelock in c:\\users\\aatan\\anaconda3\\envs\\crytrad\\lib\\site-packages (from torch==2.0.1->torchvision) (3.9.0)\n",
      "Requirement already satisfied: typing-extensions in c:\\users\\aatan\\anaconda3\\envs\\crytrad\\lib\\site-packages (from torch==2.0.1->torchvision) (4.5.0)\n",
      "Requirement already satisfied: sympy in c:\\users\\aatan\\anaconda3\\envs\\crytrad\\lib\\site-packages (from torch==2.0.1->torchvision) (1.11.1)\n",
      "Requirement already satisfied: networkx in c:\\users\\aatan\\anaconda3\\envs\\crytrad\\lib\\site-packages (from torch==2.0.1->torchvision) (3.0)\n",
      "Requirement already satisfied: jinja2 in c:\\users\\aatan\\anaconda3\\envs\\crytrad\\lib\\site-packages (from torch==2.0.1->torchvision) (3.1.2)\n",
      "Requirement already satisfied: charset-normalizer<4,>=2 in c:\\users\\aatan\\anaconda3\\envs\\crytrad\\lib\\site-packages (from requests->torchvision) (3.1.0)\n",
      "Requirement already satisfied: idna<4,>=2.5 in c:\\users\\aatan\\anaconda3\\envs\\crytrad\\lib\\site-packages (from requests->torchvision) (3.4)\n",
      "Requirement already satisfied: urllib3<1.27,>=1.21.1 in c:\\users\\aatan\\anaconda3\\envs\\crytrad\\lib\\site-packages (from requests->torchvision) (1.26.15)\n",
      "Requirement already satisfied: certifi>=2017.4.17 in c:\\users\\aatan\\anaconda3\\envs\\crytrad\\lib\\site-packages (from requests->torchvision) (2022.12.7)\n",
      "Requirement already satisfied: MarkupSafe>=2.0 in c:\\users\\aatan\\anaconda3\\envs\\crytrad\\lib\\site-packages (from jinja2->torch==2.0.1->torchvision) (2.1.2)\n",
      "Requirement already satisfied: mpmath>=0.19 in c:\\users\\aatan\\anaconda3\\envs\\crytrad\\lib\\site-packages (from sympy->torch==2.0.1->torchvision) (1.2.1)\n"
     ]
    }
   ],
   "source": [
    "!pip install torchvision"
   ]
  },
  {
   "cell_type": "code",
   "execution_count": null,
   "id": "8dafddfa",
   "metadata": {},
   "outputs": [],
   "source": []
  }
 ],
 "metadata": {
  "kernelspec": {
   "display_name": "Python 3 (ipykernel)",
   "language": "python",
   "name": "python3"
  },
  "language_info": {
   "codemirror_mode": {
    "name": "ipython",
    "version": 3
   },
   "file_extension": ".py",
   "mimetype": "text/x-python",
   "name": "python",
   "nbconvert_exporter": "python",
   "pygments_lexer": "ipython3",
   "version": "3.11.3"
  }
 },
 "nbformat": 4,
 "nbformat_minor": 5
}
