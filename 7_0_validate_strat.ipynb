{
 "cells": [
  {
   "cell_type": "code",
   "execution_count": 1,
   "id": "62c4aae7",
   "metadata": {},
   "outputs": [],
   "source": [
    "%load_ext autoreload\n",
    "%autoreload 2"
   ]
  },
  {
   "cell_type": "markdown",
   "id": "c578fdb8",
   "metadata": {},
   "source": [
    "### trading features\n",
    "\n",
    "within each entered trade, i should have:\n",
    "\n",
    "- enter_price,rolling_price, sl, tp, strat, enter_dfname, enter_time, current_price, highs,lows,hl_pairs\n",
    "\n",
    "first strat:\n",
    "\n",
    "- rolling_price=enter_price\n",
    "- if current_price < ((1+sl)*rolling_price ):\n",
    "    - exit\n",
    "- elif current_price > ((1+tp)*rolling_price ):\n",
    "    - exit\n",
    "- elif current_price > ((1+tp*0.9)*rolling_price ):\n",
    "    - sl = max(sl,tp*0.8)\n",
    "    - tp = tp*1.5 # possible to optimise this with STD instead\n",
    "- elif current_price > ((1+tp*0.5)*rolling_price ):\n",
    "    - sl = max(sl,tp*0.2)\n",
    "    - tp = tp*1.5\n",
    "\n",
    "hold"
   ]
  },
  {
   "cell_type": "code",
   "execution_count": 61,
   "id": "8c010098",
   "metadata": {},
   "outputs": [],
   "source": [
    "def strat_rollingtpsl1(enter_data,strat_data,cur_price):# only HOLD or SELL \n",
    "    if cur_price < ((1+strat_data[\"cur_sl\"])*enter_data[\"price\"] ):\n",
    "        return \"SELL\",strat_data,f\"Stop L{strat_data['cur_sl']*100:.2f}%\"\n",
    "    elif cur_price > ((1+strat_data[\"cur_tp\"])*enter_data[\"price\"]  ):\n",
    "        return \"SELL\",strat_data,f\"Take P{strat_data['cur_tp']*100:.2f}%\"\n",
    "    # strats to shrink tp and sl\n",
    "    elif cur_price > ((1+strat_data[\"cur_tp\"]*0.9)*enter_data[\"price\"]  ):\n",
    "        strat_data[\"cur_sl\"] = max(strat_data[\"cur_sl\"],strat_data[\"cur_tp\"]*0.8+strat_data[\"slip\"])\n",
    "        strat_data[\"cur_tp\"] = strat_data[\"cur_tp\"]*1.5\n",
    "        return \"HOLD\",strat_data,f\"UpFast L{strat_data['cur_sl']*100:.2f}% P{strat_data['cur_tp']*100:.2f}%\"\n",
    "    elif cur_price > ((1+strat_data[\"cur_tp\"]*0.5)*enter_data[\"price\"]  ):\n",
    "        strat_data[\"cur_sl\"] = max(strat_data[\"cur_sl\"],strat_data[\"cur_tp\"]*0.2+strat_data[\"slip\"])\n",
    "        strat_data[\"cur_tp\"] = strat_data[\"cur_tp\"]*1.4\n",
    "        return \"HOLD\",strat_data,f\"UpMedm L{strat_data['cur_sl']*100:.2f}% P{strat_data['cur_tp']*100:.2f}%\"\n",
    "    elif cur_price > ((1+strat_data[\"cur_tp\"]*0.3)*enter_data[\"price\"]  ):\n",
    "        strat_data[\"cur_sl\"] = max(strat_data[\"cur_sl\"],strat_data[\"cur_tp\"]*0.1+strat_data[\"slip\"])\n",
    "        strat_data[\"cur_tp\"] = strat_data[\"cur_tp\"]*1.3\n",
    "        return \"HOLD\",strat_data,f\"UpSlow L{strat_data['cur_sl']*100:.2f}% P{strat_data['cur_tp']*100:.2f}%\"\n",
    "    return \"HOLD\",strat_data,f\"In SLTP L{strat_data['cur_sl']*100:.2f}% P{strat_data['cur_tp']*100:.2f}%\""
   ]
  },
  {
   "cell_type": "code",
   "execution_count": 15,
   "id": "0157ea17",
   "metadata": {},
   "outputs": [],
   "source": [
    "cur_price=100\n",
    "sl=-0.01\n",
    "tp=0.1\n",
    "dfname=\"\"\n",
    "ent_time=\"\"\n",
    "hl_pairs=\"\"\n",
    "enter_data = {\"price\":cur_price,\"sl\":sl,\"tp\":tp,\"dfname\":dfname,\"ent_time\":ent_time,\n",
    "              \"hl_pairs\":hl_pairs,\"strat\":\"strat_tpsl1\"}\n",
    "strat_data = {\"cur_sl\":sl,\"cur_tp\":tp,\"slip\":-0.002,\"prev_price\":cur_price,\"ent_sl\":sl,\"ent_tp\":tp,\"strat\":\"strat_rollingtpsl1\"}\n",
    "strat_data = {\"cur_sl\":sl,\"cur_tp\":tp,\"slip\":-0.002,\"ent_sl\":sl,\"ent_tp\":tp,\"strat\":\"strat_tpsl1\"}\n",
    "# sl tp are in fractions, they are initalised once\n",
    "# cur_sl cur_tp are in fractions, they are relative to enter price\n",
    "# \"slip\" is the margin of error to account for slippage\n",
    "def strat_tpsl1(enter_data,strat_data,cur_price):# only HOLD or SELL\n",
    "    enter_price = enter_data[\"price\"]\n",
    "    if cur_price < ((1+strat_data[\"cur_sl\"])*enter_price ): \n",
    "        return \"SELL\",strat_data,f\"Stop L{strat_data['cur_sl']*100:.2f}%\"\n",
    "    elif cur_price > ((1+strat_data[\"cur_tp\"])*enter_price ): \n",
    "        return \"SELL\",strat_data,f\"Take P{strat_data['cur_tp']*100:.2f}%\"\n",
    "    # strats to shrink tp and sl\n",
    "    width=enter_data[\"tp\"]-enter_data[\"sl\"]\n",
    "    #print(\"width\",width)\n",
    "    strat_status=\"In SLTP\"\n",
    "    if cur_price > ( (1+strat_data[\"cur_sl\"]+width*0.9)*enter_price):\n",
    "        strat_data[\"cur_sl\"] = strat_data[\"cur_sl\"]+width*0.8\n",
    "        strat_data[\"cur_tp\"] = strat_data[\"cur_tp\"]+width*0.8\n",
    "        strat_status = \"UpFast\"\n",
    "    elif cur_price > ( (1+strat_data[\"cur_sl\"]+width*0.6)*enter_price ):\n",
    "        strat_data[\"cur_sl\"] = strat_data[\"cur_sl\"]+width*0.2\n",
    "        strat_data[\"cur_tp\"] = strat_data[\"cur_tp\"]+width*0.5\n",
    "        strat_status = \"UpMedi\"\n",
    "    elif cur_price > ( (1+strat_data[\"cur_sl\"]+width*0.3)*enter_price ):\n",
    "        strat_data[\"cur_sl\"] = strat_data[\"cur_sl\"]+width*0.1\n",
    "        strat_data[\"cur_tp\"] = strat_data[\"cur_tp\"]+width*0.1\n",
    "        strat_status = \"UpSlow\"\n",
    "    str1=f\"LP `{enter_price*(1+strat_data['cur_sl']):.4f}`,`{enter_price*(1+strat_data['cur_tp']):.4f}`\"\n",
    "    str2=f\"(`{strat_data['cur_sl']*100:.2f}`,`{strat_data['cur_tp']*100:.2f}`)%\"\n",
    "    str3=f\"\\nNext levels: `{(1+strat_data['cur_sl']+width*0.3)*enter_price:.4f}`,\"\\\n",
    "         f\"`{(1+strat_data['cur_sl']+width*0.6)*enter_price:.4f}`,\"\\\n",
    "         f\"`{(1+strat_data['cur_sl']+width*0.9)*enter_price:.4f}`\"\n",
    "    str4=f\"(`{(strat_data['cur_sl']+width*0.3)*100:.2f}`,\"\\\n",
    "         f\"`{(strat_data['cur_sl']+width*0.6)*100:.2f}`,\"\\\n",
    "         f\"`{(strat_data['cur_sl']+width*0.9)*100:.2f}`)%\"\n",
    "    str5=f\"width={width:.4f}\"\n",
    "    return \"HOLD\",strat_data,f\"{strat_status} {str1} {str2}{str3}{str4}, {str5}\"\n",
    "def price_action_signal(enter_data,strat_data,cur_price):\n",
    "    if enter_data[\"strat\"]==\"strat_rollingtpsl1\":\n",
    "        return strat_rollingtpsl1(enter_data,strat_data,cur_price)\n",
    "    elif enter_data[\"strat\"]==\"strat_tpsl1\":\n",
    "        return strat_tpsl1(enter_data,strat_data,cur_price)\n",
    "    else:\n",
    "        raise NotImplementedError(\"todo strat :(\")"
   ]
  },
  {
   "cell_type": "markdown",
   "id": "01814c8e",
   "metadata": {},
   "source": [
    "# validate strat"
   ]
  },
  {
   "cell_type": "code",
   "execution_count": 16,
   "id": "31493d44",
   "metadata": {},
   "outputs": [],
   "source": [
    "cur_price=100; sl=-0.01; tp=0.05; dfname=\"\";ent_time=\"\";hl_pairs=\"\"\n",
    "enter_data = {\"price\":cur_price,\"sl\":sl,\"tp\":tp,\"dfname\":dfname,\"ent_time\":ent_time,\n",
    "              \"hl_pairs\":hl_pairs,\"strat\":\"strat_tpsl1\"}\n",
    "strat_data = {\"cur_sl\":sl,\"cur_tp\":tp,\"slip\":-0.002,\"ent_sl\":sl,\"ent_tp\":tp,\"strat\":\"strat_tpsl1\"}"
   ]
  },
  {
   "cell_type": "code",
   "execution_count": 17,
   "id": "38d542e1",
   "metadata": {},
   "outputs": [
    {
     "name": "stdout",
     "output_type": "stream",
     "text": [
      "start cur_price 100\n",
      "********\n",
      "cur_price 105\n",
      "('HOLD', {'cur_sl': 0.038000000000000006, 'cur_tp': 0.098, 'slip': -0.002, 'ent_sl': -0.01, 'ent_tp': 0.05, 'strat': 'strat_tpsl1'}, 'UpFast LP `103.8000`,`109.8000` (`3.80`,`9.80`)%\\nNext levels: `105.6000`,`107.4000`,`109.2000`(`5.60`,`7.40`,`9.20`)%, width=0.0600')\n",
      "cur_price 105.0000\n",
      "SL 103.8000, TP 109.8000\n",
      "********\n",
      "cur_price 109\n",
      "('HOLD', {'cur_sl': 0.05000000000000001, 'cur_tp': 0.128, 'slip': -0.002, 'ent_sl': -0.01, 'ent_tp': 0.05, 'strat': 'strat_tpsl1'}, 'UpMedi LP `105.0000`,`112.8000` (`5.00`,`12.80`)%\\nNext levels: `106.8000`,`108.6000`,`110.4000`(`6.80`,`8.60`,`10.40`)%, width=0.0600')\n",
      "cur_price 109.0000\n",
      "SL 105.0000, TP 112.8000\n",
      "********\n",
      "cur_price 101\n",
      "('SELL', {'cur_sl': 0.05000000000000001, 'cur_tp': 0.128, 'slip': -0.002, 'ent_sl': -0.01, 'ent_tp': 0.05, 'strat': 'strat_tpsl1'}, 'Stop L5.00%')\n",
      "cur_price 101.0000\n",
      "********\n"
     ]
    }
   ],
   "source": [
    "print( \"start cur_price\",cur_price)\n",
    "print(\"*\"*8)\n",
    "for cur_price in [105,109,101]:\n",
    "    print( \"cur_price\",cur_price)\n",
    "    data = price_action_signal(enter_data,strat_data,cur_price)\n",
    "    print(data)\n",
    "    print(f\"cur_price {cur_price:.4f}\")\n",
    "    if data[0]==\"HOLD\":\n",
    "        print(f\"SL {enter_data['price']*(1+data[1]['cur_sl']):.4f}, TP {enter_data['price']*(1+data[1]['cur_tp']):.4f}\") \n",
    "    strat_data = data[1]\n",
    "    print(\"*\"*8)"
   ]
  },
  {
   "cell_type": "code",
   "execution_count": 21,
   "id": "d6ce6668",
   "metadata": {},
   "outputs": [],
   "source": [
    "from trader import price_action_signal as pas"
   ]
  },
  {
   "cell_type": "code",
   "execution_count": 27,
   "id": "392d4fc3",
   "metadata": {},
   "outputs": [
    {
     "name": "stdout",
     "output_type": "stream",
     "text": [
      "start cur_price 100\n",
      "********\n",
      "cur_price 105\n",
      "('HOLD', {'cur_sl': 0.038000000000000006, 'cur_tp': 0.098, 'slip': -0.002, 'ent_sl': -0.01, 'ent_tp': 0.05, 'strat': 'strat_tpsl1'})\n",
      "UpFast LP `103.8000`,`109.8000` (`3.80`,`9.80`)%\n",
      "Next levels: `105.6000`,`107.4000`,`109.2000`(`5.60`,`7.40`,`9.20`)%, width=0.0600\n",
      "cur_price 105.0000\n",
      "SL 103.8000, TP 109.8000\n",
      "********\n",
      "cur_price 109\n",
      "('HOLD', {'cur_sl': 0.05000000000000001, 'cur_tp': 0.128, 'slip': -0.002, 'ent_sl': -0.01, 'ent_tp': 0.05, 'strat': 'strat_tpsl1'})\n",
      "UpMedi LP `105.0000`,`112.8000` (`5.00`,`12.80`)%\n",
      "Next levels: `106.8000`,`108.6000`,`110.4000`(`6.80`,`8.60`,`10.40`)%, width=0.0600\n",
      "cur_price 109.0000\n",
      "SL 105.0000, TP 112.8000\n",
      "********\n",
      "cur_price 101\n",
      "('SELL', {'cur_sl': 0.05000000000000001, 'cur_tp': 0.128, 'slip': -0.002, 'ent_sl': -0.01, 'ent_tp': 0.05, 'strat': 'strat_tpsl1'})\n",
      "Stop L5.00%\n",
      "cur_price 101.0000\n",
      "********\n"
     ]
    }
   ],
   "source": [
    "cur_price=100; sl=-0.01; tp=0.05; dfname=\"\";ent_time=\"\";hl_pairs=\"\"\n",
    "enter_data = {\"price\":cur_price,\"sl\":sl,\"tp\":tp,\"dfname\":dfname,\"ent_time\":ent_time,\n",
    "              \"hl_pairs\":hl_pairs,\"strat\":\"strat_tpsl1\"}\n",
    "strat_data = {\"cur_sl\":sl,\"cur_tp\":tp,\"slip\":-0.002,\"ent_sl\":sl,\"ent_tp\":tp,\"strat\":\"strat_tpsl1\"}\n",
    "print( \"start cur_price\",cur_price)\n",
    "print(\"*\"*8)\n",
    "for cur_price in [105,109,101]:\n",
    "    print( \"cur_price\",cur_price)\n",
    "    data = pas(enter_data,strat_data,cur_price)\n",
    "    print(data[:2])\n",
    "    print(data[2])\n",
    "    print(f\"cur_price {cur_price:.4f}\")\n",
    "    if data[0]==\"HOLD\":\n",
    "        print(f\"SL {enter_data['price']*(1+data[1]['cur_sl']):.4f}, TP {enter_data['price']*(1+data[1]['cur_tp']):.4f}\") \n",
    "    strat_data = data[1]\n",
    "    print(\"*\"*8)"
   ]
  },
  {
   "cell_type": "code",
   "execution_count": 28,
   "id": "7e6cbf54",
   "metadata": {},
   "outputs": [
    {
     "name": "stdout",
     "output_type": "stream",
     "text": [
      "start cur_price 100\n",
      "********\n",
      "cur_price 105\n",
      "('HOLD', {'cur_sl': 0.038000000000000006, 'cur_tp': 0.098, 'slip': -0.002, 'ent_sl': -0.01, 'ent_tp': 0.05, 'strat': 'strat_tpsl1'})\n",
      "UpFast LP `103.8000`,`109.8000` (`3.80`,`9.80`)%\n",
      "Next levels: `105.6000`,`107.4000`,`109.2000`(`5.60`,`7.40`,`9.20`)%, width=0.0600\n",
      "cur_price 105.0000\n",
      "SL 103.8000, TP 109.8000\n",
      "********\n",
      "cur_price 109\n",
      "('HOLD', {'cur_sl': 0.05000000000000001, 'cur_tp': 0.128, 'slip': -0.002, 'ent_sl': -0.01, 'ent_tp': 0.05, 'strat': 'strat_tpsl1'})\n",
      "UpMedi LP `105.0000`,`112.8000` (`5.00`,`12.80`)%\n",
      "Next levels: `106.8000`,`108.6000`,`110.4000`(`6.80`,`8.60`,`10.40`)%, width=0.0600\n",
      "cur_price 109.0000\n",
      "SL 105.0000, TP 112.8000\n",
      "********\n",
      "cur_price 122\n",
      "('SELL', {'cur_sl': 0.05000000000000001, 'cur_tp': 0.128, 'slip': -0.002, 'ent_sl': -0.01, 'ent_tp': 0.05, 'strat': 'strat_tpsl1'})\n",
      "Take P12.80%\n",
      "cur_price 122.0000\n",
      "********\n"
     ]
    }
   ],
   "source": [
    "cur_price=100; sl=-0.01; tp=0.05; dfname=\"\";ent_time=\"\";hl_pairs=\"\"\n",
    "enter_data = {\"price\":cur_price,\"sl\":sl,\"tp\":tp,\"dfname\":dfname,\"ent_time\":ent_time,\n",
    "              \"hl_pairs\":hl_pairs,\"strat\":\"strat_tpsl1\"}\n",
    "strat_data = {\"cur_sl\":sl,\"cur_tp\":tp,\"slip\":-0.002,\"ent_sl\":sl,\"ent_tp\":tp,\"strat\":\"strat_tpsl1\"}\n",
    "print( \"start cur_price\",cur_price)\n",
    "print(\"*\"*8)\n",
    "for cur_price in [105,109,122]:\n",
    "    print( \"cur_price\",cur_price)\n",
    "    data = pas(enter_data,strat_data,cur_price)\n",
    "    print(data[:2])\n",
    "    print(data[2])\n",
    "    print(f\"cur_price {cur_price:.4f}\")\n",
    "    if data[0]==\"HOLD\":\n",
    "        print(f\"SL {enter_data['price']*(1+data[1]['cur_sl']):.4f}, TP {enter_data['price']*(1+data[1]['cur_tp']):.4f}\") \n",
    "    strat_data = data[1]\n",
    "    print(\"*\"*8)"
   ]
  },
  {
   "cell_type": "code",
   "execution_count": 29,
   "id": "986c6e75",
   "metadata": {},
   "outputs": [
    {
     "name": "stdout",
     "output_type": "stream",
     "text": [
      "start cur_price 100\n",
      "********\n",
      "cur_price 98.99\n",
      "('SELL', {'cur_sl': -0.01, 'cur_tp': 0.05, 'slip': -0.002, 'ent_sl': -0.01, 'ent_tp': 0.05, 'strat': 'strat_tpsl1'})\n",
      "Stop L-1.00%\n",
      "cur_price 98.9900\n",
      "********\n"
     ]
    }
   ],
   "source": [
    "cur_price=100; sl=-0.01; tp=0.05; dfname=\"\";ent_time=\"\";hl_pairs=\"\"\n",
    "enter_data = {\"price\":cur_price,\"sl\":sl,\"tp\":tp,\"dfname\":dfname,\"ent_time\":ent_time,\n",
    "              \"hl_pairs\":hl_pairs,\"strat\":\"strat_tpsl1\"}\n",
    "strat_data = {\"cur_sl\":sl,\"cur_tp\":tp,\"slip\":-0.002,\"ent_sl\":sl,\"ent_tp\":tp,\"strat\":\"strat_tpsl1\"}\n",
    "print( \"start cur_price\",cur_price)\n",
    "print(\"*\"*8)\n",
    "for cur_price in [98.99]:\n",
    "    print( \"cur_price\",cur_price)\n",
    "    data = pas(enter_data,strat_data,cur_price)\n",
    "    print(data[:2])\n",
    "    print(data[2])\n",
    "    print(f\"cur_price {cur_price:.4f}\")\n",
    "    if data[0]==\"HOLD\":\n",
    "        print(f\"SL {enter_data['price']*(1+data[1]['cur_sl']):.4f}, TP {enter_data['price']*(1+data[1]['cur_tp']):.4f}\") \n",
    "    strat_data = data[1]\n",
    "    print(\"*\"*8)"
   ]
  },
  {
   "cell_type": "markdown",
   "id": "76e156cd",
   "metadata": {},
   "source": [
    "# testing popen"
   ]
  },
  {
   "cell_type": "code",
   "execution_count": 1,
   "id": "138b788b",
   "metadata": {},
   "outputs": [],
   "source": [
    "import json"
   ]
  },
  {
   "cell_type": "code",
   "execution_count": 2,
   "id": "c2b4a6bc",
   "metadata": {},
   "outputs": [
    {
     "data": {
      "text/plain": [
       "{'symbol': 'ETCUSDT', 'interval': '5m', 'sl': -0.1, 'tp': 0.1}"
      ]
     },
     "execution_count": 2,
     "metadata": {},
     "output_type": "execute_result"
    }
   ],
   "source": [
    "trade_params = json.load(open(\"trade_params.json\",\"r\"))\n",
    "trade_params[\"ver1\"][\"params\"][0]"
   ]
  },
  {
   "cell_type": "code",
   "execution_count": 3,
   "id": "13431154",
   "metadata": {},
   "outputs": [
    {
     "data": {
      "text/plain": [
       "0"
      ]
     },
     "execution_count": 3,
     "metadata": {},
     "output_type": "execute_result"
    }
   ],
   "source": [
    "int(\"0\")"
   ]
  },
  {
   "cell_type": "code",
   "execution_count": 4,
   "id": "1c24a431",
   "metadata": {},
   "outputs": [],
   "source": [
    "import trader"
   ]
  },
  {
   "cell_type": "code",
   "execution_count": 9,
   "id": "121e5b54",
   "metadata": {},
   "outputs": [
    {
     "name": "stdout",
     "output_type": "stream",
     "text": [
      "CPU times: total: 0 ns\n",
      "Wall time: 91.1 ms\n"
     ]
    }
   ],
   "source": [
    "%%time\n",
    "val = trader.get_current_price(\"ETCUSDT\")"
   ]
  },
  {
   "cell_type": "code",
   "execution_count": 12,
   "id": "46e658a5",
   "metadata": {},
   "outputs": [
    {
     "name": "stdout",
     "output_type": "stream",
     "text": [
      "called\n"
     ]
    }
   ],
   "source": [
    "import subprocess\n",
    "import time\n",
    "\n",
    "proc = subprocess.Popen('python test_task.py', shell=True)\n",
    "print(\"called\")\n",
    "#time.sleep(3)"
   ]
  },
  {
   "cell_type": "code",
   "execution_count": 12,
   "id": "a3b4d415",
   "metadata": {},
   "outputs": [],
   "source": [
    "import time"
   ]
  },
  {
   "cell_type": "code",
   "execution_count": 13,
   "id": "be67a64b",
   "metadata": {},
   "outputs": [],
   "source": [
    "time.sleep(2)"
   ]
  },
  {
   "cell_type": "code",
   "execution_count": 16,
   "id": "9eebcf38",
   "metadata": {},
   "outputs": [
    {
     "name": "stdout",
     "output_type": "stream",
     "text": [
      "called\n",
      "sleep10 sec\n",
      "done sleep\n"
     ]
    }
   ],
   "source": [
    "!python test_runtask2.py"
   ]
  },
  {
   "cell_type": "markdown",
   "id": "959b957c",
   "metadata": {},
   "source": [
    "# writing status files"
   ]
  },
  {
   "cell_type": "code",
   "execution_count": 10,
   "id": "192ef794",
   "metadata": {},
   "outputs": [
    {
     "data": {
      "text/plain": [
       "'2023-07-10_17:38:20.304221'"
      ]
     },
     "execution_count": 10,
     "metadata": {},
     "output_type": "execute_result"
    }
   ],
   "source": [
    "import datetime\n",
    "str(datetime.datetime.now()).replace(\" \",\"_\")"
   ]
  },
  {
   "cell_type": "code",
   "execution_count": 5,
   "id": "a2a397d3",
   "metadata": {},
   "outputs": [],
   "source": [
    "from funcs import get_data\n",
    "ticker,interval=\"ETCUSDT\",\"30m\"\n",
    "dfmpl = get_data(ticker,interval,limit=500,type=\"data\")"
   ]
  },
  {
   "cell_type": "code",
   "execution_count": 7,
   "id": "53f1dd46",
   "metadata": {},
   "outputs": [
    {
     "data": {
      "text/plain": [
       "'2023-04-24_15:30:00'"
      ]
     },
     "execution_count": 7,
     "metadata": {},
     "output_type": "execute_result"
    }
   ],
   "source": [
    "str(dfmpl.iloc[4].name).replace(\" \",\"_\")"
   ]
  },
  {
   "cell_type": "code",
   "execution_count": 41,
   "id": "fa4d70d1",
   "metadata": {},
   "outputs": [],
   "source": [
    "signal=\"ENTER\"\n",
    "closeprice=12.133\n",
    "dfname=dfmpl.iloc[4].name\n",
    "with open(f\"trade_signals/{ticker}{interval}.status\",\"a\") as f:\n",
    "    f.writelines(f\"{signal},{closeprice},{dfname},{datetime.datetime.now()}\\n\")"
   ]
  },
  {
   "cell_type": "code",
   "execution_count": 13,
   "id": "1d31681e",
   "metadata": {},
   "outputs": [],
   "source": [
    "with open(f\"trade_signals/{ticker}{interval}.status\",\"r\") as f:\n",
    "    signal_raw = f.readlines()\n",
    "signal=signal_raw[-1].split(\",\")[0]"
   ]
  },
  {
   "cell_type": "code",
   "execution_count": 14,
   "id": "b7b94268",
   "metadata": {},
   "outputs": [
    {
     "data": {
      "text/plain": [
       "'ENTER'"
      ]
     },
     "execution_count": 14,
     "metadata": {},
     "output_type": "execute_result"
    }
   ],
   "source": [
    "signal"
   ]
  },
  {
   "cell_type": "markdown",
   "id": "fd93103b",
   "metadata": {},
   "source": [
    "# test binance api"
   ]
  },
  {
   "cell_type": "code",
   "execution_count": 2,
   "id": "292d83c0",
   "metadata": {},
   "outputs": [],
   "source": [
    "from trader import market_trade\n",
    "from trader import get_current_price"
   ]
  },
  {
   "cell_type": "code",
   "execution_count": 4,
   "id": "ed6fbc42",
   "metadata": {},
   "outputs": [
    {
     "data": {
      "text/plain": [
       "0.2132423499306962"
      ]
     },
     "execution_count": 4,
     "metadata": {},
     "output_type": "execute_result"
    }
   ],
   "source": [
    "20/get_current_price(\"LTCUSDT\")"
   ]
  },
  {
   "cell_type": "code",
   "execution_count": 2,
   "id": "c86d43a0",
   "metadata": {},
   "outputs": [
    {
     "name": "stdout",
     "output_type": "stream",
     "text": [
      "CPU times: total: 15.6 ms\n",
      "Wall time: 118 ms\n"
     ]
    }
   ],
   "source": [
    "%%time\n",
    "a1,a2,a3 = market_trade(\"LTCUSDT\",0.15,buy=True,test=False)"
   ]
  },
  {
   "cell_type": "code",
   "execution_count": 3,
   "id": "5e9b86dd",
   "metadata": {},
   "outputs": [
    {
     "data": {
      "text/plain": [
       "('FILLED',\n",
       " [{'price': '93.20000000',\n",
       "   'qty': '0.15000000',\n",
       "   'commission': '0.00015000',\n",
       "   'commissionAsset': 'LTC',\n",
       "   'tradeId': 1143099}],\n",
       " {'symbol': 'LTCTUSD',\n",
       "  'orderId': 101055581,\n",
       "  'orderListId': -1,\n",
       "  'clientOrderId': 'hxDCFy7Mvh5XsrURYCYOWu',\n",
       "  'transactTime': 1688979930654,\n",
       "  'price': '0.00000000',\n",
       "  'origQty': '0.15000000',\n",
       "  'executedQty': '0.15000000',\n",
       "  'cummulativeQuoteQty': '13.98000000',\n",
       "  'status': 'FILLED',\n",
       "  'timeInForce': 'GTC',\n",
       "  'type': 'MARKET',\n",
       "  'side': 'BUY',\n",
       "  'workingTime': 1688979930654,\n",
       "  'fills': [{'price': '93.20000000',\n",
       "    'qty': '0.15000000',\n",
       "    'commission': '0.00015000',\n",
       "    'commissionAsset': 'LTC',\n",
       "    'tradeId': 1143099}],\n",
       "  'selfTradePreventionMode': 'NONE'})"
      ]
     },
     "execution_count": 3,
     "metadata": {},
     "output_type": "execute_result"
    }
   ],
   "source": [
    "a1,a2,a3"
   ]
  },
  {
   "cell_type": "code",
   "execution_count": 11,
   "id": "c30a3524",
   "metadata": {},
   "outputs": [
    {
     "data": {
      "text/plain": [
       "0.015"
      ]
     },
     "execution_count": 11,
     "metadata": {},
     "output_type": "execute_result"
    }
   ],
   "source": [
    "0.0001500*100"
   ]
  },
  {
   "cell_type": "code",
   "execution_count": 1,
   "id": "9dc059d9",
   "metadata": {},
   "outputs": [],
   "source": [
    "from disc_api import ping,STATUS_PING2,SIGNALROLE,CRYPTO_SIGNALS2"
   ]
  },
  {
   "cell_type": "code",
   "execution_count": 5,
   "id": "16f7a551",
   "metadata": {},
   "outputs": [],
   "source": [
    "ping(STATUS_PING2,\"hello\")"
   ]
  },
  {
   "cell_type": "code",
   "execution_count": null,
   "id": "94641a83",
   "metadata": {},
   "outputs": [],
   "source": []
  }
 ],
 "metadata": {
  "kernelspec": {
   "display_name": "Python 3 (ipykernel)",
   "language": "python",
   "name": "python3"
  },
  "language_info": {
   "codemirror_mode": {
    "name": "ipython",
    "version": 3
   },
   "file_extension": ".py",
   "mimetype": "text/x-python",
   "name": "python",
   "nbconvert_exporter": "python",
   "pygments_lexer": "ipython3",
   "version": "3.10.11"
  }
 },
 "nbformat": 4,
 "nbformat_minor": 5
}
