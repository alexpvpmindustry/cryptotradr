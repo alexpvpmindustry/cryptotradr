{
 "cells": [
  {
   "cell_type": "code",
   "execution_count": 1,
   "id": "16a8ebfa",
   "metadata": {},
   "outputs": [],
   "source": [
    "import numpy as np\n",
    "import pandas as pd\n",
    "import mplfinance as mpf\n",
    "import os\n",
    "from glob import glob\n",
    "import matplotlib.pyplot as plt\n",
    "\n",
    "%matplotlib inline\n",
    "\n",
    "#import talib as ta # conda activate cryt310\n",
    "from matplotlib.ticker import AutoMinorLocator\n",
    "import time\n",
    "from itertools import zip_longest\n",
    "from IPython.display import Javascript\n",
    "import datetime\n",
    "import schedule\n",
    "import json,requests \n",
    "\n",
    "%load_ext autoreload\n",
    "%autoreload 2\n",
    "\n",
    "tickerpair=\"ETCUSDT\" #GBPUSDT #LTCUSDT #ETHUSDT #BTCUSDT\n",
    "#tickerpair=\"BNBUSDT\" #BNBUSDT #AUDUSDT #XMRUSDT\n",
    "intervals=['1m','3m','5m','15m','30m','1h','2h','3h','4h','6h','8h','12h','1d','3d','1w','1Month']\n",
    "\n",
    "# define constants\n",
    "tickerpair=\"ETCUSDT\"\n",
    "interval=\"1m\"\n",
    "from aver6_funcs import get_data\n",
    "import pickle,tqdm\n",
    "from concurrent.futures import ThreadPoolExecutor\n",
    "import concurrent"
   ]
  },
  {
   "cell_type": "code",
   "execution_count": 2,
   "id": "8407653c",
   "metadata": {},
   "outputs": [
    {
     "data": {
      "text/plain": [
       "352"
      ]
     },
     "execution_count": 2,
     "metadata": {},
     "output_type": "execute_result"
    }
   ],
   "source": [
    "with open(\"9_0_subset_symbols_24hrchange.pkl\",\"rb\") as f:\n",
    "    subset_symbols = pickle.load(f)\n",
    "len(subset_symbols)"
   ]
  },
  {
   "cell_type": "code",
   "execution_count": 7,
   "id": "5dbf3131",
   "metadata": {},
   "outputs": [],
   "source": [
    "dfmpl = get_data(\"BTCUSDT\", interval, limit=20, start_time=int(time.time())*1000-60*10*1000,type=\"live\",offset=60*8000*60) "
   ]
  },
  {
   "cell_type": "code",
   "execution_count": 8,
   "id": "df332ef9",
   "metadata": {},
   "outputs": [
    {
     "data": {
      "text/html": [
       "<div>\n",
       "<style scoped>\n",
       "    .dataframe tbody tr th:only-of-type {\n",
       "        vertical-align: middle;\n",
       "    }\n",
       "\n",
       "    .dataframe tbody tr th {\n",
       "        vertical-align: top;\n",
       "    }\n",
       "\n",
       "    .dataframe thead th {\n",
       "        text-align: right;\n",
       "    }\n",
       "</style>\n",
       "<table border=\"1\" class=\"dataframe\">\n",
       "  <thead>\n",
       "    <tr style=\"text-align: right;\">\n",
       "      <th></th>\n",
       "      <th>Open</th>\n",
       "      <th>High</th>\n",
       "      <th>Low</th>\n",
       "      <th>Close</th>\n",
       "      <th>Volume</th>\n",
       "    </tr>\n",
       "    <tr>\n",
       "      <th>Date</th>\n",
       "      <th></th>\n",
       "      <th></th>\n",
       "      <th></th>\n",
       "      <th></th>\n",
       "      <th></th>\n",
       "    </tr>\n",
       "  </thead>\n",
       "  <tbody>\n",
       "    <tr>\n",
       "      <th>2023-08-25 11:09:00</th>\n",
       "      <td>26131.26</td>\n",
       "      <td>26131.27</td>\n",
       "      <td>26128.00</td>\n",
       "      <td>26128.01</td>\n",
       "      <td>5.08226</td>\n",
       "    </tr>\n",
       "    <tr>\n",
       "      <th>2023-08-25 11:10:00</th>\n",
       "      <td>26128.01</td>\n",
       "      <td>26128.34</td>\n",
       "      <td>26128.00</td>\n",
       "      <td>26128.33</td>\n",
       "      <td>30.64181</td>\n",
       "    </tr>\n",
       "    <tr>\n",
       "      <th>2023-08-25 11:11:00</th>\n",
       "      <td>26128.34</td>\n",
       "      <td>26128.34</td>\n",
       "      <td>26123.43</td>\n",
       "      <td>26123.43</td>\n",
       "      <td>34.78978</td>\n",
       "    </tr>\n",
       "    <tr>\n",
       "      <th>2023-08-25 11:12:00</th>\n",
       "      <td>26123.43</td>\n",
       "      <td>26123.91</td>\n",
       "      <td>26121.66</td>\n",
       "      <td>26123.91</td>\n",
       "      <td>28.13572</td>\n",
       "    </tr>\n",
       "    <tr>\n",
       "      <th>2023-08-25 11:13:00</th>\n",
       "      <td>26123.91</td>\n",
       "      <td>26126.00</td>\n",
       "      <td>26105.00</td>\n",
       "      <td>26106.00</td>\n",
       "      <td>38.01315</td>\n",
       "    </tr>\n",
       "    <tr>\n",
       "      <th>2023-08-25 11:14:00</th>\n",
       "      <td>26106.00</td>\n",
       "      <td>26107.29</td>\n",
       "      <td>26105.99</td>\n",
       "      <td>26107.28</td>\n",
       "      <td>5.18371</td>\n",
       "    </tr>\n",
       "    <tr>\n",
       "      <th>2023-08-25 11:15:00</th>\n",
       "      <td>26107.28</td>\n",
       "      <td>26114.00</td>\n",
       "      <td>26107.11</td>\n",
       "      <td>26113.99</td>\n",
       "      <td>6.86220</td>\n",
       "    </tr>\n",
       "    <tr>\n",
       "      <th>2023-08-25 11:16:00</th>\n",
       "      <td>26114.00</td>\n",
       "      <td>26124.00</td>\n",
       "      <td>26113.99</td>\n",
       "      <td>26123.99</td>\n",
       "      <td>3.94458</td>\n",
       "    </tr>\n",
       "    <tr>\n",
       "      <th>2023-08-25 11:17:00</th>\n",
       "      <td>26123.99</td>\n",
       "      <td>26125.34</td>\n",
       "      <td>26123.99</td>\n",
       "      <td>26124.00</td>\n",
       "      <td>8.34249</td>\n",
       "    </tr>\n",
       "    <tr>\n",
       "      <th>2023-08-25 11:18:00</th>\n",
       "      <td>26124.01</td>\n",
       "      <td>26124.01</td>\n",
       "      <td>26120.14</td>\n",
       "      <td>26120.15</td>\n",
       "      <td>2.87767</td>\n",
       "    </tr>\n",
       "  </tbody>\n",
       "</table>\n",
       "</div>"
      ],
      "text/plain": [
       "                         Open      High       Low     Close    Volume\n",
       "Date                                                                 \n",
       "2023-08-25 11:09:00  26131.26  26131.27  26128.00  26128.01   5.08226\n",
       "2023-08-25 11:10:00  26128.01  26128.34  26128.00  26128.33  30.64181\n",
       "2023-08-25 11:11:00  26128.34  26128.34  26123.43  26123.43  34.78978\n",
       "2023-08-25 11:12:00  26123.43  26123.91  26121.66  26123.91  28.13572\n",
       "2023-08-25 11:13:00  26123.91  26126.00  26105.00  26106.00  38.01315\n",
       "2023-08-25 11:14:00  26106.00  26107.29  26105.99  26107.28   5.18371\n",
       "2023-08-25 11:15:00  26107.28  26114.00  26107.11  26113.99   6.86220\n",
       "2023-08-25 11:16:00  26114.00  26124.00  26113.99  26123.99   3.94458\n",
       "2023-08-25 11:17:00  26123.99  26125.34  26123.99  26124.00   8.34249\n",
       "2023-08-25 11:18:00  26124.01  26124.01  26120.14  26120.15   2.87767"
      ]
     },
     "execution_count": 8,
     "metadata": {},
     "output_type": "execute_result"
    }
   ],
   "source": [
    "dfmpl"
   ]
  },
  {
   "cell_type": "code",
   "execution_count": 14,
   "id": "438d78f5",
   "metadata": {},
   "outputs": [
    {
     "data": {
      "text/plain": [
       "300000.0"
      ]
     },
     "execution_count": 14,
     "metadata": {},
     "output_type": "execute_result"
    }
   ],
   "source": [
    "3e5"
   ]
  },
  {
   "cell_type": "code",
   "execution_count": 10,
   "id": "373427d4",
   "metadata": {},
   "outputs": [],
   "source": [
    "#2023-08-25 11:17:00 BTCUSDT  0.0000%, 0.0000%, 1910, 17060\n",
    "ress={'t': 1692933420000, 'T': 1692933479999, 's': 'BTCUSDT', 'i': '1m', 'f': 3198727474, 'L': 3198727492, 'o': '26123.99000000', 'c': '26124.00000000', 'h': '26124.00000000', 'l': '26123.99000000', 'v': '0.08061000', 'n': 19, 'x': False, 'q': '2105.85531220', 'V': '0.04783000', 'Q': '1249.51092000', 'B': '0'}"
   ]
  },
  {
   "cell_type": "code",
   "execution_count": 11,
   "id": "5dba89e6",
   "metadata": {},
   "outputs": [],
   "source": [
    "df = [ress[\"t\"],float(ress[\"o\"]),float(ress[\"c\"]),float(ress[\"v\"])] "
   ]
  },
  {
   "cell_type": "code",
   "execution_count": 12,
   "id": "1d230cf5",
   "metadata": {},
   "outputs": [
    {
     "data": {
      "text/plain": [
       "[1692933420000, 26123.99, 26124.0, 0.08061]"
      ]
     },
     "execution_count": 12,
     "metadata": {},
     "output_type": "execute_result"
    }
   ],
   "source": [
    "df"
   ]
  },
  {
   "cell_type": "code",
   "execution_count": 13,
   "id": "8659da9f",
   "metadata": {},
   "outputs": [
    {
     "data": {
      "text/plain": [
       "2105.8548339000004"
      ]
     },
     "execution_count": 13,
     "metadata": {},
     "output_type": "execute_result"
    }
   ],
   "source": [
    "df[1]*df[3]"
   ]
  },
  {
   "cell_type": "code",
   "execution_count": 10,
   "id": "019208aa",
   "metadata": {},
   "outputs": [
    {
     "data": {
      "text/plain": [
       "1692336345000"
      ]
     },
     "execution_count": 10,
     "metadata": {},
     "output_type": "execute_result"
    }
   ],
   "source": [
    "hr25_ago = int(time.time())*1000-3600_000*17\n",
    "#hr25_ago = 1691460047000 # used for current dataset\n",
    "hr25_ago"
   ]
  },
  {
   "cell_type": "code",
   "execution_count": 11,
   "id": "2e4da12d",
   "metadata": {},
   "outputs": [
    {
     "name": "stdout",
     "output_type": "stream",
     "text": [
      "CPU times: total: 62.5 ms\n",
      "Wall time: 278 ms\n"
     ]
    },
    {
     "data": {
      "text/plain": [
       "(1000, 5)"
      ]
     },
     "execution_count": 11,
     "metadata": {},
     "output_type": "execute_result"
    }
   ],
   "source": [
    "%%time\n",
    "dfmpl = get_data(tickerpair, interval, limit=1000, start_time=hr25_ago,type=\"live\",offset=60*8000*60) \n",
    "dfmpl2 = get_data(tickerpair, interval, limit=1000, start_time=hr25_ago-60*1000*1000,type=\"live\",offset=60*8000*60) \n",
    "dfmpl.shape"
   ]
  },
  {
   "cell_type": "code",
   "execution_count": 12,
   "id": "e214dd2b",
   "metadata": {
    "collapsed": true
   },
   "outputs": [
    {
     "data": {
      "text/html": [
       "<div>\n",
       "<style scoped>\n",
       "    .dataframe tbody tr th:only-of-type {\n",
       "        vertical-align: middle;\n",
       "    }\n",
       "\n",
       "    .dataframe tbody tr th {\n",
       "        vertical-align: top;\n",
       "    }\n",
       "\n",
       "    .dataframe thead th {\n",
       "        text-align: right;\n",
       "    }\n",
       "</style>\n",
       "<table border=\"1\" class=\"dataframe\">\n",
       "  <thead>\n",
       "    <tr style=\"text-align: right;\">\n",
       "      <th></th>\n",
       "      <th>Open</th>\n",
       "      <th>High</th>\n",
       "      <th>Low</th>\n",
       "      <th>Close</th>\n",
       "      <th>Volume</th>\n",
       "    </tr>\n",
       "    <tr>\n",
       "      <th>Date</th>\n",
       "      <th></th>\n",
       "      <th></th>\n",
       "      <th></th>\n",
       "      <th></th>\n",
       "      <th></th>\n",
       "    </tr>\n",
       "  </thead>\n",
       "  <tbody>\n",
       "    <tr>\n",
       "      <th>2023-08-18 13:26:00</th>\n",
       "      <td>15.22</td>\n",
       "      <td>15.25</td>\n",
       "      <td>15.22</td>\n",
       "      <td>15.25</td>\n",
       "      <td>154.29</td>\n",
       "    </tr>\n",
       "    <tr>\n",
       "      <th>2023-08-18 13:27:00</th>\n",
       "      <td>15.25</td>\n",
       "      <td>15.26</td>\n",
       "      <td>15.24</td>\n",
       "      <td>15.24</td>\n",
       "      <td>150.79</td>\n",
       "    </tr>\n",
       "    <tr>\n",
       "      <th>2023-08-18 13:28:00</th>\n",
       "      <td>15.25</td>\n",
       "      <td>15.25</td>\n",
       "      <td>15.23</td>\n",
       "      <td>15.24</td>\n",
       "      <td>141.67</td>\n",
       "    </tr>\n",
       "    <tr>\n",
       "      <th>2023-08-18 13:29:00</th>\n",
       "      <td>15.23</td>\n",
       "      <td>15.23</td>\n",
       "      <td>15.22</td>\n",
       "      <td>15.23</td>\n",
       "      <td>989.91</td>\n",
       "    </tr>\n",
       "    <tr>\n",
       "      <th>2023-08-18 13:30:00</th>\n",
       "      <td>15.24</td>\n",
       "      <td>15.24</td>\n",
       "      <td>15.24</td>\n",
       "      <td>15.24</td>\n",
       "      <td>23.00</td>\n",
       "    </tr>\n",
       "    <tr>\n",
       "      <th>...</th>\n",
       "      <td>...</td>\n",
       "      <td>...</td>\n",
       "      <td>...</td>\n",
       "      <td>...</td>\n",
       "      <td>...</td>\n",
       "    </tr>\n",
       "    <tr>\n",
       "      <th>2023-08-19 06:01:00</th>\n",
       "      <td>15.42</td>\n",
       "      <td>15.42</td>\n",
       "      <td>15.41</td>\n",
       "      <td>15.41</td>\n",
       "      <td>465.14</td>\n",
       "    </tr>\n",
       "    <tr>\n",
       "      <th>2023-08-19 06:02:00</th>\n",
       "      <td>15.41</td>\n",
       "      <td>15.42</td>\n",
       "      <td>15.41</td>\n",
       "      <td>15.42</td>\n",
       "      <td>11.83</td>\n",
       "    </tr>\n",
       "    <tr>\n",
       "      <th>2023-08-19 06:03:00</th>\n",
       "      <td>15.42</td>\n",
       "      <td>15.44</td>\n",
       "      <td>15.42</td>\n",
       "      <td>15.44</td>\n",
       "      <td>67.10</td>\n",
       "    </tr>\n",
       "    <tr>\n",
       "      <th>2023-08-19 06:04:00</th>\n",
       "      <td>15.44</td>\n",
       "      <td>15.44</td>\n",
       "      <td>15.44</td>\n",
       "      <td>15.44</td>\n",
       "      <td>206.58</td>\n",
       "    </tr>\n",
       "    <tr>\n",
       "      <th>2023-08-19 06:05:00</th>\n",
       "      <td>15.44</td>\n",
       "      <td>15.45</td>\n",
       "      <td>15.44</td>\n",
       "      <td>15.45</td>\n",
       "      <td>58.22</td>\n",
       "    </tr>\n",
       "  </tbody>\n",
       "</table>\n",
       "<p>1000 rows × 5 columns</p>\n",
       "</div>"
      ],
      "text/plain": [
       "                      Open   High    Low  Close  Volume\n",
       "Date                                                   \n",
       "2023-08-18 13:26:00  15.22  15.25  15.22  15.25  154.29\n",
       "2023-08-18 13:27:00  15.25  15.26  15.24  15.24  150.79\n",
       "2023-08-18 13:28:00  15.25  15.25  15.23  15.24  141.67\n",
       "2023-08-18 13:29:00  15.23  15.23  15.22  15.23  989.91\n",
       "2023-08-18 13:30:00  15.24  15.24  15.24  15.24   23.00\n",
       "...                    ...    ...    ...    ...     ...\n",
       "2023-08-19 06:01:00  15.42  15.42  15.41  15.41  465.14\n",
       "2023-08-19 06:02:00  15.41  15.42  15.41  15.42   11.83\n",
       "2023-08-19 06:03:00  15.42  15.44  15.42  15.44   67.10\n",
       "2023-08-19 06:04:00  15.44  15.44  15.44  15.44  206.58\n",
       "2023-08-19 06:05:00  15.44  15.45  15.44  15.45   58.22\n",
       "\n",
       "[1000 rows x 5 columns]"
      ]
     },
     "execution_count": 12,
     "metadata": {},
     "output_type": "execute_result"
    }
   ],
   "source": [
    "dfmpl"
   ]
  },
  {
   "cell_type": "code",
   "execution_count": 13,
   "id": "17c5b451",
   "metadata": {},
   "outputs": [
    {
     "name": "stderr",
     "output_type": "stream",
     "text": [
      "100%|██████████████████████████████████████████████████████████████████████████████████| 50/50 [17:48<00:00, 21.36s/it]"
     ]
    },
    {
     "name": "stdout",
     "output_type": "stream",
     "text": [
      "CPU times: total: 4min 34s\n",
      "Wall time: 17min 48s\n"
     ]
    },
    {
     "name": "stderr",
     "output_type": "stream",
     "text": [
      "\n"
     ]
    }
   ],
   "source": [
    "%%time \n",
    "for iterr in tqdm.tqdm(range(0,50)):\n",
    "    def worker(ss, ii):\n",
    "        try:\n",
    "            tickerpair = ss + \"USDT\"\n",
    "            if \"USD\" in ss:\n",
    "                return None\n",
    "            dfmpl = get_data(tickerpair, interval, limit=1000, start_time=hr25_ago-iterr*60*1000*1000,type=\"live\",offset=60*8000*60)\n",
    "            #print(ss,end=\" \")\n",
    "            return (dfmpl.copy(), tickerpair, ii)\n",
    "        except ValueError:\n",
    "            return (None, tickerpair, ii)\n",
    "\n",
    "    dfmpl_list = []\n",
    "    with ThreadPoolExecutor(max_workers=4) as executor:\n",
    "        futures = {executor.submit(worker, ss, ii): (ss, ii) for ii, ss in enumerate(subset_symbols[:])}\n",
    "        for future in concurrent.futures.as_completed(futures):\n",
    "            result = future.result()\n",
    "            if result:\n",
    "                dfmpl_list.append(result)\n",
    "    with open(f\"2_0_0_analysisdata/2_0_5_dfmpl_list_{iterr:05d}.pkl\",\"wb\")as f:\n",
    "        pickle.dump(dfmpl_list,f)\n",
    "    time.sleep(5) # should take 25sec per iterr"
   ]
  },
  {
   "cell_type": "code",
   "execution_count": 5,
   "id": "be9a50fd",
   "metadata": {},
   "outputs": [
    {
     "name": "stdout",
     "output_type": "stream",
     "text": [
      "CPU times: total: 266 ms\n",
      "Wall time: 392 ms\n"
     ]
    }
   ],
   "source": [
    "%%time\n",
    "#with open(\"2_0_0dfmpl_list.pkl\",\"wb\")as f:\n",
    "#    pickle.dump(dfmpl_list,f)\n",
    "with open(\"2_0_0_analysisdata/2_0_0dfmpl_list.pkl\",\"rb\")as f:\n",
    "    dfmpl_list = pickle.load(f)"
   ]
  },
  {
   "cell_type": "code",
   "execution_count": 9,
   "id": "d67810b7",
   "metadata": {},
   "outputs": [
    {
     "name": "stderr",
     "output_type": "stream",
     "text": [
      "100%|██████████████████████████████████████████████████████████████████████████████████| 10/10 [00:00<00:00, 12.92it/s]\n"
     ]
    }
   ],
   "source": [
    "dfmpl_list_list = []\n",
    "for iterr in tqdm.tqdm(range(10)):\n",
    "    with open(f\"2_0_0_analysisdata/2_0_3_dfmpl_list_{iterr:05d}.pkl\",\"rb\")as f:\n",
    "        dfmpl_list = pickle.load(f)\n",
    "    dfmpl_list_list.append( dfmpl_list.copy())"
   ]
  },
  {
   "cell_type": "code",
   "execution_count": 33,
   "id": "d04228ff",
   "metadata": {},
   "outputs": [
    {
     "data": {
      "text/plain": [
       "347"
      ]
     },
     "execution_count": 33,
     "metadata": {},
     "output_type": "execute_result"
    }
   ],
   "source": [
    "len(dfmpl_list_list[-1])"
   ]
  },
  {
   "cell_type": "code",
   "execution_count": null,
   "id": "73cc317e",
   "metadata": {},
   "outputs": [],
   "source": []
  },
  {
   "cell_type": "code",
   "execution_count": null,
   "id": "4cb94d49",
   "metadata": {},
   "outputs": [],
   "source": []
  },
  {
   "cell_type": "code",
   "execution_count": null,
   "id": "8b3c08f6",
   "metadata": {},
   "outputs": [],
   "source": []
  },
  {
   "cell_type": "code",
   "execution_count": null,
   "id": "856acf4a",
   "metadata": {},
   "outputs": [],
   "source": []
  },
  {
   "cell_type": "code",
   "execution_count": 12,
   "id": "8ef52f3f",
   "metadata": {},
   "outputs": [],
   "source": [
    "dfmpl_list = dfmpl_list_list[0]\n",
    "dfmpl,_,_ = dfmpl_list[0]"
   ]
  },
  {
   "cell_type": "code",
   "execution_count": 13,
   "id": "d1b554e0",
   "metadata": {},
   "outputs": [],
   "source": [
    "v = ((dfmpl.Close-dfmpl.Open)/dfmpl.Open).values"
   ]
  },
  {
   "cell_type": "code",
   "execution_count": 14,
   "id": "11e14890",
   "metadata": {},
   "outputs": [
    {
     "data": {
      "image/png": "[encoded data removed]",
      "text/plain": [
       "<Figure size 640x480 with 1 Axes>"
      ]
     },
     "metadata": {},
     "output_type": "display_data"
    }
   ],
   "source": [
    "percentile_threshold = np.percentile(v,99.9)\n",
    "plt.hist(v,bins=200);\n",
    "plt.axvline(percentile_threshold,ls=\"--\",c=\"r\")\n",
    "plt.title(percentile_threshold)\n",
    "plt.yscale(\"log\")"
   ]
  },
  {
   "cell_type": "markdown",
   "id": "9db96300",
   "metadata": {},
   "source": [
    "# when price falls twice in a row, "
   ]
  },
  {
   "cell_type": "code",
   "execution_count": 9,
   "id": "6d5f3290",
   "metadata": {},
   "outputs": [
    {
     "name": "stdout",
     "output_type": "stream",
     "text": [
      "XRPUSDT 2 [37812, 37823]\n",
      "ETHUSDT 1 [48686]\n",
      "BTCUSDT 1 [48724]\n",
      "SOLUSDT 2 [37793, 37804]\n",
      "ARBUSDT 3 [857, 37756, 43944]\n",
      "DOGEUSDT 7 [15191, 15202, 15244, 15321, 19674, 37648, 39403]\n",
      "EDUUSDT 2 [101, 102]\n",
      "CPU times: total: 969 ms\n",
      "Wall time: 1.39 s\n"
     ]
    },
    {
     "data": {
      "text/plain": [
       "(18, 5)"
      ]
     },
     "execution_count": 9,
     "metadata": {},
     "output_type": "execute_result"
    }
   ],
   "source": [
    "%%time\n",
    "threshold=-0.008\n",
    "dfmpl,tickerpair,indd = dfmpl_list[0]\n",
    "collated_data_list = []\n",
    "all_locs = []\n",
    "for dfmpl,tickerpair,_ in dfmpl_list:\n",
    "    v = ((dfmpl.Close-dfmpl.Open)/dfmpl.Open).values\n",
    "    a1=np.where(v<threshold)[0]\n",
    "    a2=np.diff(a1)\n",
    "    a3=np.where(a2==1)\n",
    "    def validate_df(loc):\n",
    "        df_ = dfmpl.iloc[loc:loc+2]\n",
    "        v0,v1 = (df_.Open*df_.Volume).values\n",
    "        if v0>3e6 and v1>3e6:\n",
    "            return True\n",
    "        return False\n",
    "    if len(a3)>0:\n",
    "        locs=a1[a3]\n",
    "        if len(locs)>0:\n",
    "            collated_data = np.asarray([v[loc:loc+5] for loc in locs if validate_df(loc)])\n",
    "            if len(collated_data)>0:\n",
    "                print(tickerpair,len(collated_data),[loc for loc in locs if validate_df(loc)])\n",
    "                [all_locs.append(loc)for loc in locs if validate_df(loc)]\n",
    "                collated_data_list.append(collated_data)\n",
    "    #len(locs)\n",
    "collated_data = np.vstack(collated_data_list)\n",
    "collated_data.shape"
   ]
  },
  {
   "cell_type": "code",
   "execution_count": 10,
   "id": "9cc943f8",
   "metadata": {},
   "outputs": [
    {
     "data": {
      "text/plain": [
       "[101,\n",
       " 102,\n",
       " 857,\n",
       " 15191,\n",
       " 15202,\n",
       " 15244,\n",
       " 15321,\n",
       " 19674,\n",
       " 37648,\n",
       " 37756,\n",
       " 37793,\n",
       " 37804,\n",
       " 37812,\n",
       " 37823,\n",
       " 39403,\n",
       " 43944,\n",
       " 48686,\n",
       " 48724]"
      ]
     },
     "execution_count": 10,
     "metadata": {},
     "output_type": "execute_result"
    }
   ],
   "source": [
    "sorted(all_locs)"
   ]
  },
  {
   "cell_type": "code",
   "execution_count": 11,
   "id": "a066923c",
   "metadata": {},
   "outputs": [
    {
     "data": {
      "text/plain": [
       "Text(0.5, 1.0, 'avg = +0.63%($\\\\pm$0.94%)')"
      ]
     },
     "execution_count": 11,
     "metadata": {},
     "output_type": "execute_result"
    },
    {
     "data": {
      "image/png": "[encoded data removed]",
      "text/plain": [
       "<Figure size 1000x500 with 2 Axes>"
      ]
     },
     "metadata": {},
     "output_type": "display_data"
    }
   ],
   "source": [
    "fig,axx=plt.subplots(1,2,figsize=(10,5))\n",
    "ax=axx[0]\n",
    "ax.plot(collated_data.T)\n",
    "ax.axhline(0.002,ls=\"--\",c=\"r\")\n",
    "ax=axx[1]\n",
    "ax.hist(collated_data[:,2],bins=100);\n",
    "ax.axvline(0.002,ls=\"--\",c=\"r\")\n",
    "ax.set_title(f\"avg = {np.mean(collated_data[:,2]):+.2%}($\\pm${np.std(collated_data[:,2]):.2%})\")"
   ]
  },
  {
   "cell_type": "code",
   "execution_count": 12,
   "id": "4b3c67b5",
   "metadata": {},
   "outputs": [
    {
     "data": {
      "text/plain": [
       "1.0595611220946755"
      ]
     },
     "execution_count": 12,
     "metadata": {},
     "output_type": "execute_result"
    }
   ],
   "source": [
    "np.product(collated_data[:,2]+1-0.003)"
   ]
  },
  {
   "cell_type": "code",
   "execution_count": 13,
   "id": "3b83e8f3",
   "metadata": {},
   "outputs": [
    {
     "data": {
      "text/plain": [
       "38.19444444444444"
      ]
     },
     "execution_count": 13,
     "metadata": {},
     "output_type": "execute_result"
    }
   ],
   "source": [
    "55000/60/24"
   ]
  },
  {
   "cell_type": "code",
   "execution_count": 18,
   "id": "751bd569",
   "metadata": {},
   "outputs": [],
   "source": [
    "listt_of_dfs = [1,2,3]"
   ]
  },
  {
   "cell_type": "code",
   "execution_count": 19,
   "id": "04ac092e",
   "metadata": {},
   "outputs": [
    {
     "data": {
      "text/plain": [
       "1"
      ]
     },
     "execution_count": 19,
     "metadata": {},
     "output_type": "execute_result"
    }
   ],
   "source": [
    "listt_of_dfs.pop(0)"
   ]
  },
  {
   "cell_type": "code",
   "execution_count": 20,
   "id": "3e619299",
   "metadata": {},
   "outputs": [
    {
     "data": {
      "text/plain": [
       "[2, 3]"
      ]
     },
     "execution_count": 20,
     "metadata": {},
     "output_type": "execute_result"
    }
   ],
   "source": [
    "listt_of_dfs"
   ]
  },
  {
   "cell_type": "code",
   "execution_count": 21,
   "id": "9324a405",
   "metadata": {},
   "outputs": [],
   "source": [
    "listt_of_dfs.append(4)"
   ]
  },
  {
   "cell_type": "code",
   "execution_count": 22,
   "id": "fe415548",
   "metadata": {},
   "outputs": [
    {
     "data": {
      "text/plain": [
       "[2, 3, 4]"
      ]
     },
     "execution_count": 22,
     "metadata": {},
     "output_type": "execute_result"
    }
   ],
   "source": [
    "listt_of_dfs"
   ]
  },
  {
   "cell_type": "markdown",
   "id": "3e6b8081",
   "metadata": {},
   "source": [
    "# trading implementation / algo\n",
    "\n",
    "- subscribe to all data using websockets\n",
    "- within each websocket instance, fetch data\n",
    "- maintain a list of previous 2 candles\n",
    "- once the current candle is determined to be changed, pop the list and append the new candle\n",
    "    - then apply algorithm onto this list,\n",
    "    - if criteria passed, send to master_trader."
   ]
  },
  {
   "cell_type": "code",
   "execution_count": 23,
   "id": "e80d8e8c",
   "metadata": {},
   "outputs": [],
   "source": [
    "import asyncio\n",
    "from binance import AsyncClient, BinanceSocketManager\n",
    "from binance.enums import *\n",
    "import time\n",
    "import datetime\n",
    "from collections import Counter\n",
    "import pickle"
   ]
  },
  {
   "cell_type": "code",
   "execution_count": null,
   "id": "b9f7ad9e",
   "metadata": {},
   "outputs": [],
   "source": [
    "master_list=[0 for _ in subset_symbols[:]]\n",
    "async def main(symbol='BNBBTC',idd=0):\n",
    "    global master_list\n",
    "    #time.sleep(idd*)\n",
    "    await asyncio.sleep(idd*0.25)\n",
    "    client = await AsyncClient.create()\n",
    "    bm = BinanceSocketManager(client) \n",
    "    ts = bm.kline_socket(symbol, interval=KLINE_INTERVAL_1MINUTE) \n",
    "    print(f\"sub{idd}\",end=\" \")\n",
    "    prev=\"0000\"\n",
    "    async with ts as tscm:\n",
    "        while True:\n",
    "            res = await tscm.recv()\n",
    "            #print(res)\n",
    "            if res[\"e\"]==\"error\":\n",
    "                print(str(datetime.datetime.now())[11:-4],res)\n",
    "                raise Exception(res)\n",
    "            #print(res[\"k\"][\"s\"],str(res[\"E\"])[6:-3],str(res[\"k\"][\"T\"])[6:-3],end=\"  \")\n",
    "            master_list[idd]=str(res[\"k\"][\"T\"])[6:-3]\n",
    "            if idd==0:\n",
    "                if prev != str(res[\"k\"][\"T\"])[6:-3]:\n",
    "                    print(str(datetime.datetime.now())[11:-4],master_list[-3:],Counter(master_list))\n",
    "                    prev = str(res[\"k\"][\"T\"])[6:-3]\n",
    "    await client.close_connection()"
   ]
  },
  {
   "cell_type": "code",
   "execution_count": null,
   "id": "d1c557ae",
   "metadata": {},
   "outputs": [],
   "source": [
    "loop = asyncio.get_event_loop()\n",
    "#loop.run_until_complete(main())\n",
    "for idd,s in enumerate(subset_symbols[:]):\n",
    "    asyncio.run_coroutine_threadsafe(main(s+\"USDT\",idd), loop)\n",
    "    #time.sleep(0.4)"
   ]
  }
 ],
 "metadata": {
  "kernelspec": {
   "display_name": "Python 3 (ipykernel)",
   "language": "python",
   "name": "python3"
  },
  "language_info": {
   "codemirror_mode": {
    "name": "ipython",
    "version": 3
   },
   "file_extension": ".py",
   "mimetype": "text/x-python",
   "name": "python",
   "nbconvert_exporter": "python",
   "pygments_lexer": "ipython3",
   "version": "3.10.11"
  }
 },
 "nbformat": 4,
 "nbformat_minor": 5
}
