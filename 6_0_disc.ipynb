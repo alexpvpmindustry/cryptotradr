{
 "cells": [
  {
   "cell_type": "code",
   "execution_count": 1,
   "id": "f7f45b85",
   "metadata": {},
   "outputs": [],
   "source": [
    "import json,requests\n",
    "config = json.load(open(\"secrets.config\",\"r\")) "
   ]
  },
  {
   "cell_type": "code",
   "execution_count": 5,
   "id": "98307646",
   "metadata": {},
   "outputs": [
    {
     "data": {
      "text/plain": [
       "<Response [204]>"
      ]
     },
     "execution_count": 5,
     "metadata": {},
     "output_type": "execute_result"
    }
   ],
   "source": [
    "role=\"<@&1126499478342475807>\"\n",
    "text=f\"hello world2 {role}\"\n",
    "\n",
    "requests.post(config[\"crypto-signals2\"],data={\"content\":text})"
   ]
  },
  {
   "cell_type": "code",
   "execution_count": null,
   "id": "42ebe08c",
   "metadata": {},
   "outputs": [],
   "source": [
    "assert False\n",
    "def post_to_disc(valid_tickers):\n",
    "    text = f\"++++ HOT CRYPTOS ++++ {tsnow()}\\n\"\n",
    "    text += f'`{\"TICKER\":<12}, {\"Price\":<10}`\\n' \n",
    "    text += \"\\n\".join([ f\"`{ticker:<12}, {bw[-1][3]:<10}`\" for ticker,bw in valid_tickers if len(set(bw[-1][1:5]))>1])\n",
    "    try:\n",
    "        requests.post(config[\"bn_webhook\"],data={\"content\":text})\n",
    "    except Exception as e:\n",
    "        p2file(f\"webhook post error {e} {tsnow()}\",printt=True)\n",
    "def sell_disc(ticker,starting,ending,entry_time):\n",
    "    change = (ending-starting)/starting*100\n",
    "    text = f\"TICKER {ticker} \\n\"\n",
    "    text += f\"Entry Price: `{starting:.5g}`  {entry_time}\\n\"\n",
    "    text += f\"Exit Price: `{ending:.5g}`  {tsnow()}\\n\"\n",
    "    if change>0:\n",
    "        text += f\"Profit: `+{change:.2f}%`\"\n",
    "    else:\n",
    "        text += f\"Stop Loss `{change:.2f}%`\" \n",
    "    try:\n",
    "        requests.post(config[\"bn_webhook\"],data={\"content\":text})"
   ]
  },
  {
   "cell_type": "code",
   "execution_count": 2,
   "id": "6537930e",
   "metadata": {},
   "outputs": [],
   "source": [
    "import schedule\n",
    "import time\n",
    "import datetime"
   ]
  },
  {
   "cell_type": "code",
   "execution_count": 3,
   "id": "9c3ae50d",
   "metadata": {},
   "outputs": [
    {
     "data": {
      "text/plain": [
       "240"
      ]
     },
     "execution_count": 3,
     "metadata": {},
     "output_type": "execute_result"
    }
   ],
   "source": [
    "(4-datetime.datetime.now().minute%5)*60"
   ]
  },
  {
   "cell_type": "code",
   "execution_count": 4,
   "id": "f4dc0aff",
   "metadata": {},
   "outputs": [
    {
     "name": "stdout",
     "output_type": "stream",
     "text": [
      "done!! 2023-07-06 22:25:01.800522\n",
      "done!! 2023-07-06 22:30:01.014633\n",
      "done!! 2023-07-06 22:35:01.211215\n",
      "done!! 2023-07-06 22:40:01.304150\n",
      "done!! 2023-07-06 22:45:01.862255\n",
      "done!! 2023-07-06 22:50:01.387681\n",
      "done!! 2023-07-06 22:55:01.980470\n",
      "done!! 2023-07-06 23:00:01.487452\n",
      "done!! 2023-07-06 23:05:01.927900\n",
      "done!! 2023-07-06 23:10:01.174592\n",
      "done!! 2023-07-06 23:15:01.063938\n",
      "done!! 2023-07-06 23:20:01.220760\n",
      "done!! 2023-07-06 23:25:01.055698\n",
      "done!! 2023-07-06 23:30:01.811166\n",
      "done!! 2023-07-06 23:35:01.240688\n",
      "done!! 2023-07-06 23:40:01.579605\n",
      "done!! 2023-07-06 23:45:01.905684\n",
      "done!! 2023-07-06 23:50:01.221688\n",
      "done!! 2023-07-06 23:55:01.459417\n"
     ]
    },
    {
     "ename": "KeyboardInterrupt",
     "evalue": "",
     "output_type": "error",
     "traceback": [
      "\u001b[1;31m---------------------------------------------------------------------------\u001b[0m",
      "\u001b[1;31mKeyboardInterrupt\u001b[0m                         Traceback (most recent call last)",
      "Cell \u001b[1;32mIn[4], line 7\u001b[0m\n\u001b[0;32m      5\u001b[0m \u001b[38;5;28;01mwhile\u001b[39;00m \u001b[38;5;28;01mTrue\u001b[39;00m:\n\u001b[0;32m      6\u001b[0m     schedule\u001b[38;5;241m.\u001b[39mrun_pending()\n\u001b[1;32m----> 7\u001b[0m     \u001b[43mtime\u001b[49m\u001b[38;5;241;43m.\u001b[39;49m\u001b[43msleep\u001b[49m\u001b[43m(\u001b[49m\u001b[38;5;241;43m1\u001b[39;49m\u001b[43m)\u001b[49m\n",
      "\u001b[1;31mKeyboardInterrupt\u001b[0m: "
     ]
    }
   ],
   "source": [
    "def get_signal(): # ran this at 22:20:45 (works)\n",
    "    print(\"done!!\",datetime.datetime.now())\n",
    "schedule.every(5).minutes.at(\":01\").do(get_signal)\n",
    "#time.sleep((4-datetime.datetime.now().minute%5)*60)\n",
    "while True:\n",
    "    schedule.run_pending()\n",
    "    time.sleep(1)"
   ]
  },
  {
   "cell_type": "code",
   "execution_count": 1,
   "id": "bac2e38b",
   "metadata": {},
   "outputs": [],
   "source": [
    "from disc_api import CRYPTO_LOGS2,ping"
   ]
  },
  {
   "cell_type": "code",
   "execution_count": 2,
   "id": "45608bd9",
   "metadata": {},
   "outputs": [],
   "source": [
    "ping(CRYPTO_LOGS2,\"hello\")"
   ]
  },
  {
   "cell_type": "code",
   "execution_count": null,
   "id": "38b6b7cf",
   "metadata": {},
   "outputs": [],
   "source": []
  }
 ],
 "metadata": {
  "kernelspec": {
   "display_name": "Python 3 (ipykernel)",
   "language": "python",
   "name": "python3"
  },
  "language_info": {
   "codemirror_mode": {
    "name": "ipython",
    "version": 3
   },
   "file_extension": ".py",
   "mimetype": "text/x-python",
   "name": "python",
   "nbconvert_exporter": "python",
   "pygments_lexer": "ipython3",
   "version": "3.10.11"
  }
 },
 "nbformat": 4,
 "nbformat_minor": 5
}
